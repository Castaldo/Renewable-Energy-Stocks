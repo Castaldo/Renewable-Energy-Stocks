{
 "cells": [
  {
   "cell_type": "markdown",
   "metadata": {},
   "source": [
    "# Alternative Energy Data Preparation\n",
    "\n",
    "In this notebook we read in the ten renewable energy stocks, process them and combine them into a unifed h5 file to use for latter analysis"
   ]
  },
  {
   "cell_type": "code",
   "execution_count": 1,
   "metadata": {},
   "outputs": [],
   "source": [
    "import warnings\n",
    "warnings.filterwarnings('ignore')"
   ]
  },
  {
   "cell_type": "code",
   "execution_count": 2,
   "metadata": {},
   "outputs": [],
   "source": [
    "import pandas as pd\n",
    "from pathlib import Path\n",
    "from collections import OrderedDict\n",
    "import os"
   ]
  },
  {
   "cell_type": "code",
   "execution_count": 3,
   "metadata": {},
   "outputs": [],
   "source": [
    "DATA_STORE = Path('Data/H5/assets.h5')"
   ]
  },
  {
   "cell_type": "code",
   "execution_count": 4,
   "metadata": {},
   "outputs": [],
   "source": [
    "Stock_dict = {1: 'Enphase_Energy', 2: 'Solaredge_Technologies'}\n",
    "Ticker_dict ={1: 'ENPH', 2: 'SEDG'}"
   ]
  },
  {
   "cell_type": "code",
   "execution_count": 5,
   "metadata": {},
   "outputs": [],
   "source": [
    "def read_file(csv, stock):\n",
    "    stock = pd.read_csv('Data/Raw/' + csv + '.csv', thousands=',', decimal='.')\n",
    "    return stock"
   ]
  },
  {
   "cell_type": "markdown",
   "metadata": {},
   "source": [
    "### Read in all the files and create a columns for their ticker"
   ]
  },
  {
   "cell_type": "markdown",
   "metadata": {},
   "source": [
    "We read in all the files form the `Raw` folder in the `data` folder and create a ticker for each symbol"
   ]
  },
  {
   "cell_type": "code",
   "execution_count": 6,
   "metadata": {},
   "outputs": [],
   "source": [
    "def read_file(csv):\n",
    "    data = pd.read_csv('Data/Raw/' + csv + '.csv', thousands=',', decimal='.')\n",
    "    return data"
   ]
  },
  {
   "cell_type": "code",
   "execution_count": 7,
   "metadata": {},
   "outputs": [],
   "source": [
    "Enphase_Energy = read_file('ENPH')\n",
    "Solaredge_Technologies = read_file('SEDG')\n",
    "Sunrun = read_file('RUN')\n",
    "Canadian_Solar = read_file('CSIQ')\n",
    "First_Solar = read_file('FSLR')\n",
    "\n",
    "Oersted = read_file('DOGEF')\n",
    "Siemens = read_file('SIEGY')\n",
    "Vestas_Wind = read_file('VWSYF')\n",
    "Broadwind = read_file('BWEN')\n",
    "NextEra_Energy = read_file('NEE')\n",
    "\n",
    "Bloom = read_file('BE')"
   ]
  },
  {
   "cell_type": "code",
   "execution_count": 8,
   "metadata": {},
   "outputs": [
    {
     "data": {
      "text/html": [
       "<div>\n",
       "<style scoped>\n",
       "    .dataframe tbody tr th:only-of-type {\n",
       "        vertical-align: middle;\n",
       "    }\n",
       "\n",
       "    .dataframe tbody tr th {\n",
       "        vertical-align: top;\n",
       "    }\n",
       "\n",
       "    .dataframe thead th {\n",
       "        text-align: right;\n",
       "    }\n",
       "</style>\n",
       "<table border=\"1\" class=\"dataframe\">\n",
       "  <thead>\n",
       "    <tr style=\"text-align: right;\">\n",
       "      <th></th>\n",
       "      <th>Date</th>\n",
       "      <th>Open</th>\n",
       "      <th>High</th>\n",
       "      <th>Low</th>\n",
       "      <th>Close</th>\n",
       "      <th>Adj Close</th>\n",
       "      <th>Volume</th>\n",
       "    </tr>\n",
       "  </thead>\n",
       "  <tbody>\n",
       "    <tr>\n",
       "      <th>0</th>\n",
       "      <td>2019-01-07</td>\n",
       "      <td>5.12</td>\n",
       "      <td>5.39</td>\n",
       "      <td>4.90</td>\n",
       "      <td>5.26</td>\n",
       "      <td>5.26</td>\n",
       "      <td>1458700</td>\n",
       "    </tr>\n",
       "    <tr>\n",
       "      <th>1</th>\n",
       "      <td>2019-01-08</td>\n",
       "      <td>5.33</td>\n",
       "      <td>5.48</td>\n",
       "      <td>5.21</td>\n",
       "      <td>5.35</td>\n",
       "      <td>5.35</td>\n",
       "      <td>1222600</td>\n",
       "    </tr>\n",
       "    <tr>\n",
       "      <th>2</th>\n",
       "      <td>2019-01-09</td>\n",
       "      <td>5.41</td>\n",
       "      <td>5.77</td>\n",
       "      <td>5.41</td>\n",
       "      <td>5.63</td>\n",
       "      <td>5.63</td>\n",
       "      <td>1326300</td>\n",
       "    </tr>\n",
       "    <tr>\n",
       "      <th>3</th>\n",
       "      <td>2019-01-10</td>\n",
       "      <td>5.54</td>\n",
       "      <td>5.77</td>\n",
       "      <td>5.44</td>\n",
       "      <td>5.63</td>\n",
       "      <td>5.63</td>\n",
       "      <td>1056100</td>\n",
       "    </tr>\n",
       "    <tr>\n",
       "      <th>4</th>\n",
       "      <td>2019-01-11</td>\n",
       "      <td>5.60</td>\n",
       "      <td>5.70</td>\n",
       "      <td>5.57</td>\n",
       "      <td>5.68</td>\n",
       "      <td>5.68</td>\n",
       "      <td>812100</td>\n",
       "    </tr>\n",
       "  </tbody>\n",
       "</table>\n",
       "</div>"
      ],
      "text/plain": [
       "         Date  Open  High   Low  Close  Adj Close   Volume\n",
       "0  2019-01-07  5.12  5.39  4.90   5.26       5.26  1458700\n",
       "1  2019-01-08  5.33  5.48  5.21   5.35       5.35  1222600\n",
       "2  2019-01-09  5.41  5.77  5.41   5.63       5.63  1326300\n",
       "3  2019-01-10  5.54  5.77  5.44   5.63       5.63  1056100\n",
       "4  2019-01-11  5.60  5.70  5.57   5.68       5.68   812100"
      ]
     },
     "execution_count": 8,
     "metadata": {},
     "output_type": "execute_result"
    }
   ],
   "source": [
    "Enphase_Energy.head()"
   ]
  },
  {
   "cell_type": "code",
   "execution_count": 9,
   "metadata": {},
   "outputs": [],
   "source": [
    "def designate_ticker(stock, ticker): \n",
    "    stock['Ticker'] = ticker\n",
    "    return stock"
   ]
  },
  {
   "cell_type": "code",
   "execution_count": 10,
   "metadata": {},
   "outputs": [],
   "source": [
    "Enphase_Energy = designate_ticker(Enphase_Energy, 'ENPH')\n",
    "Solaredge_Technologies = designate_ticker(Solaredge_Technologies, 'SEDG')\n",
    "Sunrun = designate_ticker(Sunrun, 'RUN')\n",
    "Canadian_Solar = designate_ticker(Canadian_Solar, 'CSIQ')\n",
    "First_Solar = designate_ticker(First_Solar, 'FSLR')\n",
    "\n",
    "Oersted = designate_ticker(Oersted, 'DOGEF')\n",
    "Siemens = designate_ticker(Siemens, 'SIEGY')\n",
    "Vestas_Wind = designate_ticker(Vestas_Wind, 'VWSYF')\n",
    "Broadwind = designate_ticker(Broadwind, 'BWEN')\n",
    "NextEra_Energy = designate_ticker(NextEra_Energy, 'NEE')\n",
    "\n",
    "Bloom = designate_ticker(Bloom, 'BE')"
   ]
  },
  {
   "cell_type": "code",
   "execution_count": 11,
   "metadata": {},
   "outputs": [
    {
     "data": {
      "text/html": [
       "<div>\n",
       "<style scoped>\n",
       "    .dataframe tbody tr th:only-of-type {\n",
       "        vertical-align: middle;\n",
       "    }\n",
       "\n",
       "    .dataframe tbody tr th {\n",
       "        vertical-align: top;\n",
       "    }\n",
       "\n",
       "    .dataframe thead th {\n",
       "        text-align: right;\n",
       "    }\n",
       "</style>\n",
       "<table border=\"1\" class=\"dataframe\">\n",
       "  <thead>\n",
       "    <tr style=\"text-align: right;\">\n",
       "      <th></th>\n",
       "      <th>Date</th>\n",
       "      <th>Open</th>\n",
       "      <th>High</th>\n",
       "      <th>Low</th>\n",
       "      <th>Close</th>\n",
       "      <th>Adj Close</th>\n",
       "      <th>Volume</th>\n",
       "      <th>Ticker</th>\n",
       "    </tr>\n",
       "  </thead>\n",
       "  <tbody>\n",
       "    <tr>\n",
       "      <th>0</th>\n",
       "      <td>2019-01-07</td>\n",
       "      <td>5.12</td>\n",
       "      <td>5.39</td>\n",
       "      <td>4.90</td>\n",
       "      <td>5.26</td>\n",
       "      <td>5.26</td>\n",
       "      <td>1458700</td>\n",
       "      <td>ENPH</td>\n",
       "    </tr>\n",
       "    <tr>\n",
       "      <th>1</th>\n",
       "      <td>2019-01-08</td>\n",
       "      <td>5.33</td>\n",
       "      <td>5.48</td>\n",
       "      <td>5.21</td>\n",
       "      <td>5.35</td>\n",
       "      <td>5.35</td>\n",
       "      <td>1222600</td>\n",
       "      <td>ENPH</td>\n",
       "    </tr>\n",
       "    <tr>\n",
       "      <th>2</th>\n",
       "      <td>2019-01-09</td>\n",
       "      <td>5.41</td>\n",
       "      <td>5.77</td>\n",
       "      <td>5.41</td>\n",
       "      <td>5.63</td>\n",
       "      <td>5.63</td>\n",
       "      <td>1326300</td>\n",
       "      <td>ENPH</td>\n",
       "    </tr>\n",
       "    <tr>\n",
       "      <th>3</th>\n",
       "      <td>2019-01-10</td>\n",
       "      <td>5.54</td>\n",
       "      <td>5.77</td>\n",
       "      <td>5.44</td>\n",
       "      <td>5.63</td>\n",
       "      <td>5.63</td>\n",
       "      <td>1056100</td>\n",
       "      <td>ENPH</td>\n",
       "    </tr>\n",
       "    <tr>\n",
       "      <th>4</th>\n",
       "      <td>2019-01-11</td>\n",
       "      <td>5.60</td>\n",
       "      <td>5.70</td>\n",
       "      <td>5.57</td>\n",
       "      <td>5.68</td>\n",
       "      <td>5.68</td>\n",
       "      <td>812100</td>\n",
       "      <td>ENPH</td>\n",
       "    </tr>\n",
       "  </tbody>\n",
       "</table>\n",
       "</div>"
      ],
      "text/plain": [
       "         Date  Open  High   Low  Close  Adj Close   Volume Ticker\n",
       "0  2019-01-07  5.12  5.39  4.90   5.26       5.26  1458700   ENPH\n",
       "1  2019-01-08  5.33  5.48  5.21   5.35       5.35  1222600   ENPH\n",
       "2  2019-01-09  5.41  5.77  5.41   5.63       5.63  1326300   ENPH\n",
       "3  2019-01-10  5.54  5.77  5.44   5.63       5.63  1056100   ENPH\n",
       "4  2019-01-11  5.60  5.70  5.57   5.68       5.68   812100   ENPH"
      ]
     },
     "execution_count": 11,
     "metadata": {},
     "output_type": "execute_result"
    }
   ],
   "source": [
    "Enphase_Energy.head()"
   ]
  },
  {
   "cell_type": "markdown",
   "metadata": {},
   "source": [
    "### Scripts to format and concatenate files correctly. All the data was collected form Yahoo Finance."
   ]
  },
  {
   "cell_type": "code",
   "execution_count": 12,
   "metadata": {},
   "outputs": [],
   "source": [
    "def format_files(stock):\n",
    "    \n",
    "    del stock['Close']\n",
    "    stock['Date'] = pd.to_datetime(stock['Date'])\n",
    "    stock = stock.rename(columns = {\" Adj Close\": \"Close\"})\n",
    "    \n",
    "    return stock"
   ]
  },
  {
   "cell_type": "code",
   "execution_count": 13,
   "metadata": {},
   "outputs": [],
   "source": [
    "Enphase_Energy = format_files(Enphase_Energy)\n",
    "Solaredge_Technologies = format_files(Solaredge_Technologies)\n",
    "Sunrun = format_files(Sunrun)\n",
    "Canadian_Solar = format_files(Canadian_Solar)\n",
    "First_Solar = format_files(First_Solar)\n",
    "\n",
    "Oersted = format_files(Oersted)\n",
    "Siemens = format_files(Siemens)\n",
    "Vestas_Wind = format_files(Vestas_Wind)\n",
    "Broadwind = format_files(Broadwind)\n",
    "NextEra_Energy = format_files(NextEra_Energy)\n",
    "\n",
    "Bloom = format_files(Bloom)"
   ]
  },
  {
   "cell_type": "markdown",
   "metadata": {},
   "source": [
    "This script is meant for data that may come from another source rather than Yahoo. Some data I worked with used 'm' or 'b' as a short hand for million or billion - this simply converts them. Additoanlly, it removes any dollar signs that are sometimes presnt in stcok data."
   ]
  },
  {
   "cell_type": "code",
   "execution_count": 14,
   "metadata": {},
   "outputs": [],
   "source": [
    "def value_to_float(x):\n",
    "    if type(x) == float or type(x) == int:\n",
    "        return x\n",
    "    if 'K' in x:\n",
    "        if len(x) > 1:\n",
    "            return float(x.replace('K', '')) * 1000\n",
    "        return 1000.0\n",
    "    if 'M' in x:\n",
    "        if len(x) > 1:\n",
    "            return float(x.replace('M', '')) * 1000000\n",
    "        return 1000000.0\n",
    "    if 'B' in x:\n",
    "        return float(x.replace('B', '')) * 1000000000\n",
    "    if '$' in x:\n",
    "        return float(x.replace('$', ''))\n",
    "    return 0.0"
   ]
  },
  {
   "cell_type": "markdown",
   "metadata": {},
   "source": [
    "### Save the adjusted files to the `Adjusted` data folder"
   ]
  },
  {
   "cell_type": "code",
   "execution_count": 15,
   "metadata": {},
   "outputs": [],
   "source": [
    "Enphase_Energy.to_csv('Data/Adjusted/ENPH.csv', index = False, header=True)\n",
    "Solaredge_Technologies.to_csv('Data/Adjusted/SEDG.csv', index = False, header=True)\n",
    "Sunrun.to_csv('Data/Adjusted/RUN.csv', index = False, header=True)\n",
    "Canadian_Solar.to_csv('Data/Adjusted/CSIQ.csv', index = False, header=True)\n",
    "First_Solar.to_csv('Data/Adjusted/FSLR.csv', index = False, header=True)\n",
    "\n",
    "Oersted.to_csv('Data/Adjusted/DOGEF.csv', index = False, header=True)\n",
    "Siemens.to_csv('Data/Adjusted/SIEGY.csv', index = False, header=True)\n",
    "Vestas_Wind.to_csv('Data/Adjusted/VWSYF.csv', index = False, header=True)\n",
    "Broadwind.to_csv('Data/Adjusted/BWEN.csv', index = False, header=True)\n",
    "NextEra_Energy.to_csv('Data/Adjusted/NEE.csv', index = False, header=True)\n",
    "\n",
    "Bloom.to_csv('Data/Adjusted/BE.csv', index = False, header=True)"
   ]
  },
  {
   "cell_type": "markdown",
   "metadata": {},
   "source": [
    "### Concatenate"
   ]
  },
  {
   "cell_type": "markdown",
   "metadata": {},
   "source": [
    "The enxt step is to Concatenate all the tickers into a unifed `h5` file for later use. This will allow for more simplicty when we use the data in futrue notebooks "
   ]
  },
  {
   "cell_type": "code",
   "execution_count": 16,
   "metadata": {},
   "outputs": [
    {
     "data": {
      "text/html": [
       "<div>\n",
       "<style scoped>\n",
       "    .dataframe tbody tr th:only-of-type {\n",
       "        vertical-align: middle;\n",
       "    }\n",
       "\n",
       "    .dataframe tbody tr th {\n",
       "        vertical-align: top;\n",
       "    }\n",
       "\n",
       "    .dataframe thead th {\n",
       "        text-align: right;\n",
       "    }\n",
       "</style>\n",
       "<table border=\"1\" class=\"dataframe\">\n",
       "  <thead>\n",
       "    <tr style=\"text-align: right;\">\n",
       "      <th></th>\n",
       "      <th>Date</th>\n",
       "      <th>Open</th>\n",
       "      <th>High</th>\n",
       "      <th>Low</th>\n",
       "      <th>Adj Close</th>\n",
       "      <th>Volume</th>\n",
       "      <th>Ticker</th>\n",
       "    </tr>\n",
       "  </thead>\n",
       "  <tbody>\n",
       "    <tr>\n",
       "      <th>0</th>\n",
       "      <td>2019-01-07</td>\n",
       "      <td>5.12</td>\n",
       "      <td>5.39</td>\n",
       "      <td>4.90</td>\n",
       "      <td>5.26</td>\n",
       "      <td>1458700</td>\n",
       "      <td>ENPH</td>\n",
       "    </tr>\n",
       "    <tr>\n",
       "      <th>1</th>\n",
       "      <td>2019-01-08</td>\n",
       "      <td>5.33</td>\n",
       "      <td>5.48</td>\n",
       "      <td>5.21</td>\n",
       "      <td>5.35</td>\n",
       "      <td>1222600</td>\n",
       "      <td>ENPH</td>\n",
       "    </tr>\n",
       "    <tr>\n",
       "      <th>2</th>\n",
       "      <td>2019-01-09</td>\n",
       "      <td>5.41</td>\n",
       "      <td>5.77</td>\n",
       "      <td>5.41</td>\n",
       "      <td>5.63</td>\n",
       "      <td>1326300</td>\n",
       "      <td>ENPH</td>\n",
       "    </tr>\n",
       "    <tr>\n",
       "      <th>3</th>\n",
       "      <td>2019-01-10</td>\n",
       "      <td>5.54</td>\n",
       "      <td>5.77</td>\n",
       "      <td>5.44</td>\n",
       "      <td>5.63</td>\n",
       "      <td>1056100</td>\n",
       "      <td>ENPH</td>\n",
       "    </tr>\n",
       "    <tr>\n",
       "      <th>4</th>\n",
       "      <td>2019-01-11</td>\n",
       "      <td>5.60</td>\n",
       "      <td>5.70</td>\n",
       "      <td>5.57</td>\n",
       "      <td>5.68</td>\n",
       "      <td>812100</td>\n",
       "      <td>ENPH</td>\n",
       "    </tr>\n",
       "  </tbody>\n",
       "</table>\n",
       "</div>"
      ],
      "text/plain": [
       "        Date  Open  High   Low  Adj Close   Volume Ticker\n",
       "0 2019-01-07  5.12  5.39  4.90       5.26  1458700   ENPH\n",
       "1 2019-01-08  5.33  5.48  5.21       5.35  1222600   ENPH\n",
       "2 2019-01-09  5.41  5.77  5.41       5.63  1326300   ENPH\n",
       "3 2019-01-10  5.54  5.77  5.44       5.63  1056100   ENPH\n",
       "4 2019-01-11  5.60  5.70  5.57       5.68   812100   ENPH"
      ]
     },
     "execution_count": 16,
     "metadata": {},
     "output_type": "execute_result"
    }
   ],
   "source": [
    "frames = [Enphase_Energy, Solaredge_Technologies, Sunrun, Canadian_Solar, First_Solar, Oersted, Siemens, Vestas_Wind,\n",
    "          Broadwind, NextEra_Energy, Bloom]\n",
    "\n",
    "Alt_Energy_prices = pd.concat(frames)\n",
    "Alt_Energy_prices.head()"
   ]
  },
  {
   "cell_type": "code",
   "execution_count": 17,
   "metadata": {},
   "outputs": [
    {
     "name": "stdout",
     "output_type": "stream",
     "text": [
      "<class 'pandas.core.frame.DataFrame'>\n",
      "Int64Index: 5544 entries, 0 to 503\n",
      "Data columns (total 7 columns):\n",
      " #   Column     Non-Null Count  Dtype         \n",
      "---  ------     --------------  -----         \n",
      " 0   Date       5544 non-null   datetime64[ns]\n",
      " 1   Open       5544 non-null   float64       \n",
      " 2   High       5544 non-null   float64       \n",
      " 3   Low        5544 non-null   float64       \n",
      " 4   Adj Close  5544 non-null   float64       \n",
      " 5   Volume     5544 non-null   int64         \n",
      " 6   Ticker     5544 non-null   object        \n",
      "dtypes: datetime64[ns](1), float64(4), int64(1), object(1)\n",
      "memory usage: 346.5+ KB\n"
     ]
    }
   ],
   "source": [
    "Alt_Energy_prices.info()"
   ]
  },
  {
   "cell_type": "markdown",
   "metadata": {},
   "source": [
    "### Save dataset as `csv` and `h5`"
   ]
  },
  {
   "cell_type": "code",
   "execution_count": 18,
   "metadata": {},
   "outputs": [],
   "source": [
    "Alt_Energy_prices.to_csv('Data/Adjusted/Alt_Energy_prices.csv', index = False, header=True)"
   ]
  },
  {
   "cell_type": "code",
   "execution_count": 19,
   "metadata": {},
   "outputs": [],
   "source": [
    "df = (pd.read_csv('Data/Adjusted/Alt_Energy_prices.csv',\n",
    "                 parse_dates=['Date'],\n",
    "                 index_col=['Date', 'Ticker'],\n",
    "                 infer_datetime_format=True)\n",
    "     .sort_index())"
   ]
  },
  {
   "cell_type": "code",
   "execution_count": 20,
   "metadata": {},
   "outputs": [
    {
     "data": {
      "text/html": [
       "<div>\n",
       "<style scoped>\n",
       "    .dataframe tbody tr th:only-of-type {\n",
       "        vertical-align: middle;\n",
       "    }\n",
       "\n",
       "    .dataframe tbody tr th {\n",
       "        vertical-align: top;\n",
       "    }\n",
       "\n",
       "    .dataframe thead th {\n",
       "        text-align: right;\n",
       "    }\n",
       "</style>\n",
       "<table border=\"1\" class=\"dataframe\">\n",
       "  <thead>\n",
       "    <tr style=\"text-align: right;\">\n",
       "      <th></th>\n",
       "      <th></th>\n",
       "      <th>Open</th>\n",
       "      <th>High</th>\n",
       "      <th>Low</th>\n",
       "      <th>Adj Close</th>\n",
       "      <th>Volume</th>\n",
       "    </tr>\n",
       "    <tr>\n",
       "      <th>Date</th>\n",
       "      <th>Ticker</th>\n",
       "      <th></th>\n",
       "      <th></th>\n",
       "      <th></th>\n",
       "      <th></th>\n",
       "      <th></th>\n",
       "    </tr>\n",
       "  </thead>\n",
       "  <tbody>\n",
       "    <tr>\n",
       "      <th rowspan=\"10\" valign=\"top\">2019-01-07</th>\n",
       "      <th>BE</th>\n",
       "      <td>11.860000</td>\n",
       "      <td>13.240000</td>\n",
       "      <td>11.860000</td>\n",
       "      <td>12.410000</td>\n",
       "      <td>391600</td>\n",
       "    </tr>\n",
       "    <tr>\n",
       "      <th>BWEN</th>\n",
       "      <td>1.450000</td>\n",
       "      <td>1.630000</td>\n",
       "      <td>1.450000</td>\n",
       "      <td>1.610000</td>\n",
       "      <td>27100</td>\n",
       "    </tr>\n",
       "    <tr>\n",
       "      <th>CSIQ</th>\n",
       "      <td>16.059999</td>\n",
       "      <td>17.400000</td>\n",
       "      <td>15.960000</td>\n",
       "      <td>16.799999</td>\n",
       "      <td>855600</td>\n",
       "    </tr>\n",
       "    <tr>\n",
       "      <th>DOGEF</th>\n",
       "      <td>67.949997</td>\n",
       "      <td>67.949997</td>\n",
       "      <td>67.949997</td>\n",
       "      <td>58.250946</td>\n",
       "      <td>200</td>\n",
       "    </tr>\n",
       "    <tr>\n",
       "      <th>ENPH</th>\n",
       "      <td>5.120000</td>\n",
       "      <td>5.390000</td>\n",
       "      <td>4.900000</td>\n",
       "      <td>5.260000</td>\n",
       "      <td>1458700</td>\n",
       "    </tr>\n",
       "    <tr>\n",
       "      <th>FSLR</th>\n",
       "      <td>46.459999</td>\n",
       "      <td>47.740002</td>\n",
       "      <td>45.660000</td>\n",
       "      <td>45.790001</td>\n",
       "      <td>1784000</td>\n",
       "    </tr>\n",
       "    <tr>\n",
       "      <th>NEE</th>\n",
       "      <td>42.912498</td>\n",
       "      <td>43.235001</td>\n",
       "      <td>42.625000</td>\n",
       "      <td>40.522408</td>\n",
       "      <td>9478000</td>\n",
       "    </tr>\n",
       "    <tr>\n",
       "      <th>RUN</th>\n",
       "      <td>10.370000</td>\n",
       "      <td>10.800000</td>\n",
       "      <td>10.150000</td>\n",
       "      <td>10.560000</td>\n",
       "      <td>1209500</td>\n",
       "    </tr>\n",
       "    <tr>\n",
       "      <th>SEDG</th>\n",
       "      <td>37.200001</td>\n",
       "      <td>37.200001</td>\n",
       "      <td>34.919998</td>\n",
       "      <td>35.009998</td>\n",
       "      <td>1147600</td>\n",
       "    </tr>\n",
       "    <tr>\n",
       "      <th>SIEGY</th>\n",
       "      <td>55.700001</td>\n",
       "      <td>56.500000</td>\n",
       "      <td>55.369999</td>\n",
       "      <td>47.956219</td>\n",
       "      <td>303200</td>\n",
       "    </tr>\n",
       "  </tbody>\n",
       "</table>\n",
       "</div>"
      ],
      "text/plain": [
       "                        Open       High        Low  Adj Close   Volume\n",
       "Date       Ticker                                                     \n",
       "2019-01-07 BE      11.860000  13.240000  11.860000  12.410000   391600\n",
       "           BWEN     1.450000   1.630000   1.450000   1.610000    27100\n",
       "           CSIQ    16.059999  17.400000  15.960000  16.799999   855600\n",
       "           DOGEF   67.949997  67.949997  67.949997  58.250946      200\n",
       "           ENPH     5.120000   5.390000   4.900000   5.260000  1458700\n",
       "           FSLR    46.459999  47.740002  45.660000  45.790001  1784000\n",
       "           NEE     42.912498  43.235001  42.625000  40.522408  9478000\n",
       "           RUN     10.370000  10.800000  10.150000  10.560000  1209500\n",
       "           SEDG    37.200001  37.200001  34.919998  35.009998  1147600\n",
       "           SIEGY   55.700001  56.500000  55.369999  47.956219   303200"
      ]
     },
     "execution_count": 20,
     "metadata": {},
     "output_type": "execute_result"
    }
   ],
   "source": [
    "df.head(10)"
   ]
  },
  {
   "cell_type": "code",
   "execution_count": 21,
   "metadata": {},
   "outputs": [],
   "source": [
    "with pd.HDFStore(DATA_STORE) as store:\n",
    "    store.put('Alt_Energy/prices', df)"
   ]
  }
 ],
 "metadata": {
  "kernelspec": {
   "display_name": "Python 3",
   "language": "python",
   "name": "python3"
  },
  "language_info": {
   "codemirror_mode": {
    "name": "ipython",
    "version": 3
   },
   "file_extension": ".py",
   "mimetype": "text/x-python",
   "name": "python",
   "nbconvert_exporter": "python",
   "pygments_lexer": "ipython3",
   "version": "3.6.12"
  }
 },
 "nbformat": 4,
 "nbformat_minor": 4
}
