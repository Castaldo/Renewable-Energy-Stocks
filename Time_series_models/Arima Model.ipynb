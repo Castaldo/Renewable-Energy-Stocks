{
 "cells": [
  {
   "cell_type": "markdown",
   "metadata": {},
   "source": [
    "# Univariate ARIMA Models"
   ]
  },
  {
   "cell_type": "code",
   "execution_count": 1,
   "metadata": {
    "ExecuteTime": {
     "end_time": "2020-06-17T23:15:51.580636Z",
     "start_time": "2020-06-17T23:15:51.578425Z"
    }
   },
   "outputs": [],
   "source": [
    "import warnings\n",
    "warnings.filterwarnings('ignore')"
   ]
  },
  {
   "cell_type": "code",
   "execution_count": 2,
   "metadata": {
    "ExecuteTime": {
     "end_time": "2020-06-17T23:15:52.204222Z",
     "start_time": "2020-06-17T23:15:51.582401Z"
    }
   },
   "outputs": [],
   "source": [
    "%matplotlib inline\n",
    "\n",
    "import pandas as pd\n",
    "import pandas_datareader.data as web\n",
    "import numpy as np\n",
    "from numpy.linalg import LinAlgError\n",
    "\n",
    "import statsmodels.tsa.api as tsa\n",
    "from statsmodels.graphics.tsaplots import plot_acf, plot_pacf\n",
    "from statsmodels.tsa.stattools import acf, q_stat, adfuller\n",
    "from scipy.stats import probplot, moment\n",
    "from sklearn.metrics import mean_squared_error\n",
    "\n",
    "import matplotlib.pyplot as plt\n",
    "import seaborn as sns\n",
    "import pandas as pd"
   ]
  },
  {
   "cell_type": "code",
   "execution_count": 3,
   "metadata": {
    "ExecuteTime": {
     "end_time": "2020-06-17T23:15:52.207652Z",
     "start_time": "2020-06-17T23:15:52.205289Z"
    }
   },
   "outputs": [],
   "source": [
    "sns.set_style('whitegrid')\n",
    "idx = pd.IndexSlice"
   ]
  },
  {
   "cell_type": "code",
   "execution_count": 4,
   "metadata": {
    "ExecuteTime": {
     "end_time": "2020-06-17T23:15:52.222001Z",
     "start_time": "2020-06-17T23:15:52.208377Z"
    }
   },
   "outputs": [],
   "source": [
    "def plot_correlogram(x, lags=None, title=None):    \n",
    "    lags = min(10, int(len(x)/5)) if lags is None else lags\n",
    "    fig, axes = plt.subplots(nrows=2, ncols=2, figsize=(14, 8))\n",
    "    x.plot(ax=axes[0][0], title='Residuals')\n",
    "    x.rolling(21).mean().plot(ax=axes[0][0], c='k', lw=1)\n",
    "    q_p = np.max(q_stat(acf(x, nlags=lags), len(x))[1])\n",
    "    stats = f'Q-Stat: {np.max(q_p):>8.2f}\\nADF: {adfuller(x)[1]:>11.2f}'\n",
    "    axes[0][0].text(x=.02, y=.85, s=stats, transform=axes[0][0].transAxes)\n",
    "    probplot(x, plot=axes[0][1])\n",
    "    mean, var, skew, kurtosis = moment(x, moment=[1, 2, 3, 4])\n",
    "    s = f'Mean: {mean:>12.2f}\\nSD: {np.sqrt(var):>16.2f}\\nSkew: {skew:12.2f}\\nKurtosis:{kurtosis:9.2f}'\n",
    "    axes[0][1].text(x=.02, y=.75, s=s, transform=axes[0][1].transAxes)\n",
    "    plot_acf(x=x, lags=lags, zero=False, ax=axes[1][0])\n",
    "    plot_pacf(x, lags=lags, zero=False, ax=axes[1][1])\n",
    "    axes[1][0].set_xlabel('Lag')\n",
    "    axes[1][1].set_xlabel('Lag')\n",
    "    fig.suptitle(title, fontsize=14)\n",
    "    sns.despine()\n",
    "    fig.tight_layout()\n",
    "    fig.subplots_adjust(top=.9)"
   ]
  },
  {
   "cell_type": "markdown",
   "metadata": {},
   "source": [
    "## Download Series"
   ]
  },
  {
   "cell_type": "markdown",
   "metadata": {},
   "source": [
    "We use the data for the Vestas Wind stock and Next Era Energy stock. "
   ]
  },
  {
   "cell_type": "code",
   "execution_count": 5,
   "metadata": {
    "ExecuteTime": {
     "end_time": "2020-06-17T23:15:52.747278Z",
     "start_time": "2020-06-17T23:15:52.222803Z"
    }
   },
   "outputs": [],
   "source": [
    "DATA_STORE = '/Users/chris/Desktop/Stocks/Data_Gathering/Stocks/assets.h5'"
   ]
  },
  {
   "cell_type": "code",
   "execution_count": 6,
   "metadata": {},
   "outputs": [],
   "source": [
    "with pd.HDFStore(DATA_STORE) as store:\n",
    "    VWSYF = (store['Stocks/prices']\n",
    "              .loc[idx[:], 'Close',]\n",
    "              .unstack('Symbol')\n",
    "              .loc[idx[:], 'VWSYF',]\n",
    "              .squeeze().dropna())"
   ]
  },
  {
   "cell_type": "code",
   "execution_count": 7,
   "metadata": {},
   "outputs": [],
   "source": [
    "with pd.HDFStore(DATA_STORE) as store:\n",
    "    NEE = (store['Stocks/prices']\n",
    "              .loc[idx[:], 'Close',]\n",
    "              .unstack('Symbol')\n",
    "              .loc[idx[:], 'NEE',]\n",
    "              .squeeze().dropna())"
   ]
  },
  {
   "cell_type": "markdown",
   "metadata": {},
   "source": [
    "### Log Transformation"
   ]
  },
  {
   "cell_type": "code",
   "execution_count": 8,
   "metadata": {
    "ExecuteTime": {
     "end_time": "2020-06-17T23:15:52.750525Z",
     "start_time": "2020-06-17T23:15:52.748230Z"
    }
   },
   "outputs": [],
   "source": [
    "VWSYF_log = np.log(VWSYF)\n",
    "NEE_log = np.log(NEE)"
   ]
  },
  {
   "cell_type": "markdown",
   "metadata": {},
   "source": [
    "### Differencing"
   ]
  },
  {
   "cell_type": "code",
   "execution_count": 9,
   "metadata": {
    "ExecuteTime": {
     "end_time": "2020-06-17T23:15:52.768261Z",
     "start_time": "2020-06-17T23:15:52.752060Z"
    }
   },
   "outputs": [],
   "source": [
    "VWSYF_log_diff = VWSYF_log.diff().dropna()\n",
    "\n",
    "# seasonal differencing => yoy instantanteous returns\n",
    "NEE_log_diff = NEE_log.diff(12).dropna()"
   ]
  },
  {
   "cell_type": "markdown",
   "metadata": {},
   "source": [
    "## Univariate Time Series Models"
   ]
  },
  {
   "cell_type": "markdown",
   "metadata": {},
   "source": [
    "### Autoregressive (AR) Model"
   ]
  },
  {
   "cell_type": "markdown",
   "metadata": {},
   "source": [
    "Multiple linear-regression models expressed the variable of interest as a linear combination of predictors or input variables. Univariate time series models relate the value of the time series at the point in time of interest to a linear combination of lagged values of the series and possibly past disturbance terms.\n",
    "While exponential smoothing models are based on a description of the trend and seasonality in the data, ARIMA models aim to describe the autocorrelations in the data. ARIMA(p, d, q) models require stationarity and leverage two building blocks:\n",
    "- Autoregressive (AR) terms consisting of p-lagged values of the time series\n",
    "- Moving average (MA) terms that contain q-lagged disturbances\n"
   ]
  },
  {
   "cell_type": "markdown",
   "metadata": {},
   "source": [
    "## Finding the optimal ARMA lags"
   ]
  },
  {
   "cell_type": "markdown",
   "metadata": {},
   "source": [
    "### Run candidate models"
   ]
  },
  {
   "cell_type": "markdown",
   "metadata": {},
   "source": [
    "We iterate over various **(p, q)** lag combinations and collect diagnostic statistics to compare the result."
   ]
  },
  {
   "cell_type": "code",
   "execution_count": 14,
   "metadata": {
    "ExecuteTime": {
     "end_time": "2020-06-17T23:30:48.693736Z",
     "start_time": "2020-06-17T23:15:57.859707Z"
    },
    "scrolled": false
   },
   "outputs": [
    {
     "name": "stdout",
     "output_type": "stream",
     "text": [
      "0 1\n",
      "0 2\n",
      "0 3\n",
      "0 4\n",
      "1 0\n",
      "1 1\n",
      "1 2\n",
      "1 3\n",
      "1 4\n",
      "2 0\n",
      "2 1\n",
      "2 2\n",
      "2 3\n",
      "2 4\n",
      "3 0\n",
      "3 1\n",
      "3 2\n",
      "3 3\n",
      "3 4\n",
      "4 0\n",
      "4 1\n",
      "4 2\n",
      "4 3\n",
      "4 4\n"
     ]
    }
   ],
   "source": [
    "train_size = 60\n",
    "results = {}\n",
    "y_true = NEE_log_diff.iloc[train_size:]\n",
    "\n",
    "for p in range(5):\n",
    "    for q in range(5):\n",
    "        aic, bic = [], []\n",
    "        if p == 0 and q == 0:\n",
    "            continue\n",
    "        print(p, q)\n",
    "        \n",
    "        convergence_error = stationarity_error = 0\n",
    "        y_pred = []\n",
    "        \n",
    "        for T in range(train_size, len(NEE_log_diff)):\n",
    "            train_set = NEE_log_diff.iloc[T-train_size:T]\n",
    "            try:\n",
    "                model = tsa.ARMA(endog=train_set, order=(p, q)).fit()\n",
    "                \n",
    "            except LinAlgError:\n",
    "                convergence_error += 1\n",
    "                \n",
    "            except ValueError:\n",
    "                stationarity_error += 1\n",
    "\n",
    "            forecast, _, _ = model.forecast(steps=1)\n",
    "            y_pred.append(forecast[0])\n",
    "            aic.append(model.aic)\n",
    "            bic.append(model.bic)\n",
    "\n",
    "        result = (pd.DataFrame({'y_true': y_true, 'y_pred': y_pred})\n",
    "                  .replace(np.inf, np.nan)\n",
    "                  .dropna())\n",
    "\n",
    "        rmse = np.sqrt(mean_squared_error(\n",
    "            y_true=result.y_true, y_pred=result.y_pred))\n",
    "\n",
    "        results[(p, q)] = [rmse,\n",
    "                           np.mean(aic),\n",
    "                           np.mean(bic),\n",
    "                           convergence_error,\n",
    "                           stationarity_error]"
   ]
  },
  {
   "cell_type": "code",
   "execution_count": 15,
   "metadata": {
    "ExecuteTime": {
     "end_time": "2020-06-17T23:30:48.709179Z",
     "start_time": "2020-06-17T23:30:48.695228Z"
    },
    "scrolled": true
   },
   "outputs": [
    {
     "name": "stdout",
     "output_type": "stream",
     "text": [
      "<class 'pandas.core.frame.DataFrame'>\n",
      "MultiIndex: 24 entries, (0, 1) to (4, 4)\n",
      "Data columns (total 5 columns):\n",
      " #   Column        Non-Null Count  Dtype  \n",
      "---  ------        --------------  -----  \n",
      " 0   RMSE          24 non-null     float64\n",
      " 1   AIC           24 non-null     float64\n",
      " 2   BIC           24 non-null     float64\n",
      " 3   convergence   24 non-null     float64\n",
      " 4   stationarity  24 non-null     float64\n",
      "dtypes: float64(5)\n",
      "memory usage: 1.2 KB\n"
     ]
    }
   ],
   "source": [
    "arma_results = pd.DataFrame(results).T\n",
    "arma_results.columns = ['RMSE', 'AIC', 'BIC', 'convergence', 'stationarity']\n",
    "arma_results.index.names = ['p', 'q']\n",
    "arma_results.info()"
   ]
  },
  {
   "cell_type": "code",
   "execution_count": 16,
   "metadata": {
    "ExecuteTime": {
     "end_time": "2020-06-17T23:37:45.172738Z",
     "start_time": "2020-06-17T23:37:45.161965Z"
    }
   },
   "outputs": [],
   "source": [
    "with pd.HDFStore('arima.h5') as store:\n",
    "    store.put('arma', arma_results)"
   ]
  },
  {
   "cell_type": "markdown",
   "metadata": {},
   "source": [
    "We aim to minimize both RMSE and BIC:"
   ]
  },
  {
   "cell_type": "code",
   "execution_count": 17,
   "metadata": {
    "ExecuteTime": {
     "end_time": "2020-06-17T23:37:49.223766Z",
     "start_time": "2020-06-17T23:37:49.211572Z"
    },
    "scrolled": true
   },
   "outputs": [
    {
     "data": {
      "text/html": [
       "<div>\n",
       "<style scoped>\n",
       "    .dataframe tbody tr th:only-of-type {\n",
       "        vertical-align: middle;\n",
       "    }\n",
       "\n",
       "    .dataframe tbody tr th {\n",
       "        vertical-align: top;\n",
       "    }\n",
       "\n",
       "    .dataframe thead th {\n",
       "        text-align: right;\n",
       "    }\n",
       "</style>\n",
       "<table border=\"1\" class=\"dataframe\">\n",
       "  <thead>\n",
       "    <tr style=\"text-align: right;\">\n",
       "      <th></th>\n",
       "      <th></th>\n",
       "      <th>RMSE</th>\n",
       "      <th>AIC</th>\n",
       "      <th>BIC</th>\n",
       "      <th>convergence</th>\n",
       "      <th>stationarity</th>\n",
       "    </tr>\n",
       "    <tr>\n",
       "      <th>p</th>\n",
       "      <th>q</th>\n",
       "      <th></th>\n",
       "      <th></th>\n",
       "      <th></th>\n",
       "      <th></th>\n",
       "      <th></th>\n",
       "    </tr>\n",
       "  </thead>\n",
       "  <tbody>\n",
       "    <tr>\n",
       "      <th rowspan=\"2\" valign=\"top\">2</th>\n",
       "      <th>1</th>\n",
       "      <td>0.024696</td>\n",
       "      <td>-240.853007</td>\n",
       "      <td>-230.381285</td>\n",
       "      <td>0.0</td>\n",
       "      <td>0.0</td>\n",
       "    </tr>\n",
       "    <tr>\n",
       "      <th>0</th>\n",
       "      <td>0.024792</td>\n",
       "      <td>-241.824756</td>\n",
       "      <td>-233.447378</td>\n",
       "      <td>0.0</td>\n",
       "      <td>0.0</td>\n",
       "    </tr>\n",
       "    <tr>\n",
       "      <th rowspan=\"2\" valign=\"top\">1</th>\n",
       "      <th>0</th>\n",
       "      <td>0.024819</td>\n",
       "      <td>-242.862058</td>\n",
       "      <td>-236.579024</td>\n",
       "      <td>0.0</td>\n",
       "      <td>0.0</td>\n",
       "    </tr>\n",
       "    <tr>\n",
       "      <th>1</th>\n",
       "      <td>0.024869</td>\n",
       "      <td>-241.644694</td>\n",
       "      <td>-233.267315</td>\n",
       "      <td>0.0</td>\n",
       "      <td>0.0</td>\n",
       "    </tr>\n",
       "    <tr>\n",
       "      <th>3</th>\n",
       "      <th>1</th>\n",
       "      <td>0.025428</td>\n",
       "      <td>-244.796889</td>\n",
       "      <td>-232.230821</td>\n",
       "      <td>6.0</td>\n",
       "      <td>0.0</td>\n",
       "    </tr>\n",
       "  </tbody>\n",
       "</table>\n",
       "</div>"
      ],
      "text/plain": [
       "         RMSE         AIC         BIC  convergence  stationarity\n",
       "p q                                                             \n",
       "2 1  0.024696 -240.853007 -230.381285          0.0           0.0\n",
       "  0  0.024792 -241.824756 -233.447378          0.0           0.0\n",
       "1 0  0.024819 -242.862058 -236.579024          0.0           0.0\n",
       "  1  0.024869 -241.644694 -233.267315          0.0           0.0\n",
       "3 1  0.025428 -244.796889 -232.230821          6.0           0.0"
      ]
     },
     "execution_count": 17,
     "metadata": {},
     "output_type": "execute_result"
    }
   ],
   "source": [
    "arma_results.nsmallest(5, columns=['RMSE'])"
   ]
  },
  {
   "cell_type": "code",
   "execution_count": 18,
   "metadata": {
    "ExecuteTime": {
     "end_time": "2020-06-17T23:37:49.244626Z",
     "start_time": "2020-06-17T23:37:49.224896Z"
    },
    "scrolled": true
   },
   "outputs": [
    {
     "data": {
      "text/html": [
       "<div>\n",
       "<style scoped>\n",
       "    .dataframe tbody tr th:only-of-type {\n",
       "        vertical-align: middle;\n",
       "    }\n",
       "\n",
       "    .dataframe tbody tr th {\n",
       "        vertical-align: top;\n",
       "    }\n",
       "\n",
       "    .dataframe thead th {\n",
       "        text-align: right;\n",
       "    }\n",
       "</style>\n",
       "<table border=\"1\" class=\"dataframe\">\n",
       "  <thead>\n",
       "    <tr style=\"text-align: right;\">\n",
       "      <th></th>\n",
       "      <th></th>\n",
       "      <th>RMSE</th>\n",
       "      <th>AIC</th>\n",
       "      <th>BIC</th>\n",
       "      <th>convergence</th>\n",
       "      <th>stationarity</th>\n",
       "    </tr>\n",
       "    <tr>\n",
       "      <th>p</th>\n",
       "      <th>q</th>\n",
       "      <th></th>\n",
       "      <th></th>\n",
       "      <th></th>\n",
       "      <th></th>\n",
       "      <th></th>\n",
       "    </tr>\n",
       "  </thead>\n",
       "  <tbody>\n",
       "    <tr>\n",
       "      <th>0</th>\n",
       "      <th>3</th>\n",
       "      <td>0.036855</td>\n",
       "      <td>-253.027364</td>\n",
       "      <td>-242.965150</td>\n",
       "      <td>0.0</td>\n",
       "      <td>55.0</td>\n",
       "    </tr>\n",
       "    <tr>\n",
       "      <th>1</th>\n",
       "      <th>0</th>\n",
       "      <td>0.024819</td>\n",
       "      <td>-242.862058</td>\n",
       "      <td>-236.579024</td>\n",
       "      <td>0.0</td>\n",
       "      <td>0.0</td>\n",
       "    </tr>\n",
       "    <tr>\n",
       "      <th>2</th>\n",
       "      <th>0</th>\n",
       "      <td>0.024792</td>\n",
       "      <td>-241.824756</td>\n",
       "      <td>-233.447378</td>\n",
       "      <td>0.0</td>\n",
       "      <td>0.0</td>\n",
       "    </tr>\n",
       "    <tr>\n",
       "      <th>1</th>\n",
       "      <th>1</th>\n",
       "      <td>0.024869</td>\n",
       "      <td>-241.644694</td>\n",
       "      <td>-233.267315</td>\n",
       "      <td>0.0</td>\n",
       "      <td>0.0</td>\n",
       "    </tr>\n",
       "    <tr>\n",
       "      <th>2</th>\n",
       "      <th>2</th>\n",
       "      <td>0.027543</td>\n",
       "      <td>-245.833293</td>\n",
       "      <td>-233.267225</td>\n",
       "      <td>2.0</td>\n",
       "      <td>0.0</td>\n",
       "    </tr>\n",
       "  </tbody>\n",
       "</table>\n",
       "</div>"
      ],
      "text/plain": [
       "         RMSE         AIC         BIC  convergence  stationarity\n",
       "p q                                                             \n",
       "0 3  0.036855 -253.027364 -242.965150          0.0          55.0\n",
       "1 0  0.024819 -242.862058 -236.579024          0.0           0.0\n",
       "2 0  0.024792 -241.824756 -233.447378          0.0           0.0\n",
       "1 1  0.024869 -241.644694 -233.267315          0.0           0.0\n",
       "2 2  0.027543 -245.833293 -233.267225          2.0           0.0"
      ]
     },
     "execution_count": 18,
     "metadata": {},
     "output_type": "execute_result"
    }
   ],
   "source": [
    "arma_results.nsmallest(5, columns=['BIC'])"
   ]
  },
  {
   "cell_type": "code",
   "execution_count": 19,
   "metadata": {
    "ExecuteTime": {
     "end_time": "2020-06-17T23:37:49.692708Z",
     "start_time": "2020-06-17T23:37:49.246132Z"
    }
   },
   "outputs": [
    {
     "data": {
      "image/png": "[encoded data removed]",
      "text/plain": [
       "<Figure size 720x288 with 2 Axes>"
      ]
     },
     "metadata": {},
     "output_type": "display_data"
    }
   ],
   "source": [
    "fig, axes = plt.subplots(ncols=2, figsize=(10,4), sharex=True, sharey=True)\n",
    "sns.heatmap(arma_results[arma_results.RMSE<.5].RMSE.unstack().mul(10), fmt='.3f', annot=True, cmap='Blues', ax=axes[0], cbar=False);\n",
    "sns.heatmap(arma_results.BIC.unstack(), fmt='.2f', annot=True, cmap='Blues', ax=axes[1], cbar=False)\n",
    "axes[0].set_title('Root Mean Squared Error')\n",
    "axes[1].set_title('Bayesian Information Criterion')\n",
    "fig.tight_layout();"
   ]
  },
  {
   "cell_type": "code",
   "execution_count": 20,
   "metadata": {
    "ExecuteTime": {
     "end_time": "2020-06-17T23:37:49.699997Z",
     "start_time": "2020-06-17T23:37:49.693853Z"
    },
    "scrolled": true
   },
   "outputs": [
    {
     "data": {
      "text/plain": [
       "p  q\n",
       "1  0    2.5\n",
       "2  0    2.5\n",
       "1  1    4.0\n",
       "2  1    5.0\n",
       "1  2    6.0\n",
       "dtype: float64"
      ]
     },
     "execution_count": 20,
     "metadata": {},
     "output_type": "execute_result"
    }
   ],
   "source": [
    "arma_results.rank().loc[:, ['RMSE', 'BIC']].mean(1).nsmallest(5)"
   ]
  },
  {
   "cell_type": "markdown",
   "metadata": {},
   "source": [
    "### Estimating the best ARMA Model"
   ]
  },
  {
   "cell_type": "markdown",
   "metadata": {},
   "source": [
    "ARMA(4,0) and ARMA(4,1) are close, so we chose the more parsimonious (4,0) configuration:"
   ]
  },
  {
   "cell_type": "code",
   "execution_count": 21,
   "metadata": {
    "ExecuteTime": {
     "end_time": "2020-06-17T23:37:49.713073Z",
     "start_time": "2020-06-17T23:37:49.700893Z"
    }
   },
   "outputs": [],
   "source": [
    "best_p, best_q = arma_results.rank().loc[:, ['RMSE', 'BIC']].mean(1).idxmin()"
   ]
  },
  {
   "cell_type": "code",
   "execution_count": 22,
   "metadata": {
    "ExecuteTime": {
     "end_time": "2020-06-17T23:37:49.868757Z",
     "start_time": "2020-06-17T23:37:49.714519Z"
    },
    "scrolled": true
   },
   "outputs": [
    {
     "name": "stdout",
     "output_type": "stream",
     "text": [
      "                              ARMA Model Results                              \n",
      "==============================================================================\n",
      "Dep. Variable:                    NEE   No. Observations:                  239\n",
      "Model:                     ARMA(1, 0)   Log Likelihood                 452.271\n",
      "Method:                       css-mle   S.D. of innovations              0.036\n",
      "Date:                Tue, 05 Jan 2021   AIC                           -898.542\n",
      "Time:                        10:15:02   BIC                           -888.113\n",
      "Sample:                             0   HQIC                          -894.339\n",
      "                                                                              \n",
      "==============================================================================\n",
      "                 coef    std err          z      P>|z|      [0.025      0.975]\n",
      "------------------------------------------------------------------------------\n",
      "const          0.0128      0.021      0.620      0.535      -0.028       0.053\n",
      "ar.L1.NEE      0.8900      0.029     30.920      0.000       0.834       0.946\n",
      "                                    Roots                                    \n",
      "=============================================================================\n",
      "                  Real          Imaginary           Modulus         Frequency\n",
      "-----------------------------------------------------------------------------\n",
      "AR.1            1.1236           +0.0000j            1.1236            0.0000\n",
      "-----------------------------------------------------------------------------\n"
     ]
    }
   ],
   "source": [
    "best_arma_model = tsa.ARMA(endog=NEE_log_diff, order=(best_p, best_q)).fit()\n",
    "print(best_arma_model.summary())"
   ]
  },
  {
   "cell_type": "markdown",
   "metadata": {},
   "source": [
    "### Check Residual Correlogram"
   ]
  },
  {
   "cell_type": "code",
   "execution_count": 23,
   "metadata": {
    "ExecuteTime": {
     "end_time": "2020-06-17T23:37:50.897286Z",
     "start_time": "2020-06-17T23:37:49.873104Z"
    }
   },
   "outputs": [
    {
     "data": {
      "image/png": "[encoded data removed]",
      "text/plain": [
       "<Figure size 1008x576 with 4 Axes>"
      ]
     },
     "metadata": {},
     "output_type": "display_data"
    }
   ],
   "source": [
    "plot_correlogram(best_arma_model.resid)"
   ]
  },
  {
   "cell_type": "markdown",
   "metadata": {},
   "source": [
    "## SARIMAX"
   ]
  },
  {
   "cell_type": "code",
   "execution_count": 24,
   "metadata": {
    "ExecuteTime": {
     "end_time": "2020-06-17T23:37:51.915968Z",
     "start_time": "2020-06-17T23:37:50.899362Z"
    },
    "scrolled": false
   },
   "outputs": [],
   "source": [
    "sarimax_model = tsa.SARIMAX(endog=NEE_log_diff.dropna().values,\n",
    "                    order=(2, 0, 2),\n",
    "                    seasonal_order=(1, 0, 1, 12)).fit(start_params=[0, 0, 0, 0, 0, 0, 1])"
   ]
  },
  {
   "cell_type": "code",
   "execution_count": 25,
   "metadata": {},
   "outputs": [
    {
     "name": "stdout",
     "output_type": "stream",
     "text": [
      "                                      SARIMAX Results                                       \n",
      "============================================================================================\n",
      "Dep. Variable:                                    y   No. Observations:                  239\n",
      "Model:             SARIMAX(2, 0, 2)x(1, 0, [1], 12)   Log Likelihood                 525.447\n",
      "Date:                              Tue, 05 Jan 2021   AIC                          -1036.895\n",
      "Time:                                      10:15:06   BIC                          -1012.560\n",
      "Sample:                                           0   HQIC                         -1027.088\n",
      "                                              - 239                                         \n",
      "Covariance Type:                                opg                                         \n",
      "==============================================================================\n",
      "                 coef    std err          z      P>|z|      [0.025      0.975]\n",
      "------------------------------------------------------------------------------\n",
      "ar.L1          0.5882      0.179      3.280      0.001       0.237       0.940\n",
      "ar.L2          0.3821      0.180      2.117      0.034       0.028       0.736\n",
      "ma.L1          0.2618      0.187      1.399      0.162      -0.105       0.629\n",
      "ma.L2          0.2079      0.055      3.814      0.000       0.101       0.315\n",
      "ar.S.L12      -0.0191      0.061     -0.312      0.755      -0.139       0.101\n",
      "ma.S.L12      -0.9874      0.466     -2.118      0.034      -1.901      -0.074\n",
      "sigma2         0.0006      0.000      2.250      0.024    8.04e-05       0.001\n",
      "===================================================================================\n",
      "Ljung-Box (L1) (Q):                   0.02   Jarque-Bera (JB):               350.39\n",
      "Prob(Q):                              0.89   Prob(JB):                         0.00\n",
      "Heteroskedasticity (H):               0.25   Skew:                            -0.37\n",
      "Prob(H) (two-sided):                  0.00   Kurtosis:                         8.89\n",
      "===================================================================================\n",
      "\n",
      "Warnings:\n",
      "[1] Covariance matrix calculated using the outer product of gradients (complex-step).\n"
     ]
    }
   ],
   "source": [
    "print(sarimax_model.summary())"
   ]
  },
  {
   "cell_type": "markdown",
   "metadata": {},
   "source": [
    "### Finding the optimal number of lags"
   ]
  },
  {
   "cell_type": "code",
   "execution_count": 29,
   "metadata": {
    "ExecuteTime": {
     "end_time": "2020-06-18T04:12:42.332896Z",
     "start_time": "2020-06-17T23:42:14.616849Z"
    },
    "scrolled": true
   },
   "outputs": [
    {
     "name": "stdout",
     "output_type": "stream",
     "text": [
      "0 1 0 0\n",
      "0 1 0 1\n",
      "0 1 0 2\n",
      "0 1 1 0\n",
      "0 1 1 1\n",
      "0 1 1 2\n",
      "0 1 2 0\n",
      "0 1 2 1\n",
      "0 1 2 2\n",
      "0 2 0 0\n",
      "0 2 0 1\n",
      "0 2 0 2\n",
      "0 2 1 0\n",
      "0 2 1 1\n",
      "0 2 1 2\n",
      "0 2 2 0\n",
      "0 2 2 1\n",
      "0 2 2 2\n",
      "0 3 0 0\n",
      "0 3 0 1\n",
      "0 3 0 2\n",
      "0 3 1 0\n",
      "0 3 1 1\n",
      "0 3 1 2\n",
      "0 3 2 0\n",
      "0 3 2 1\n",
      "0 3 2 2\n",
      "1 0 0 0\n",
      "1 0 0 1\n",
      "1 0 0 2\n",
      "1 0 1 0\n",
      "1 0 1 1\n",
      "1 0 1 2\n",
      "1 0 2 0\n",
      "1 0 2 1\n",
      "1 0 2 2\n",
      "1 1 0 0\n",
      "1 1 0 1\n",
      "1 1 0 2\n",
      "1 1 1 0\n",
      "1 1 1 1\n",
      "1 1 1 2\n",
      "1 1 2 0\n",
      "1 1 2 1\n",
      "1 1 2 2\n",
      "1 2 0 0\n",
      "1 2 0 1\n",
      "1 2 0 2\n",
      "1 2 1 0\n",
      "1 2 1 1\n",
      "1 2 1 2\n",
      "1 2 2 0\n",
      "1 2 2 1\n",
      "1 2 2 2\n",
      "1 3 0 0\n",
      "1 3 0 1\n",
      "1 3 0 2\n",
      "1 3 1 0\n",
      "1 3 1 1\n",
      "1 3 1 2\n",
      "1 3 2 0\n",
      "1 3 2 1\n",
      "1 3 2 2\n",
      "2 0 0 0\n",
      "2 0 0 1\n",
      "2 0 0 2\n",
      "2 0 1 0\n",
      "2 0 1 1\n",
      "2 0 1 2\n",
      "2 0 2 0\n",
      "2 0 2 1\n",
      "2 0 2 2\n",
      "2 1 0 0\n",
      "2 1 0 1\n",
      "2 1 0 2\n",
      "2 1 1 0\n",
      "2 1 1 1\n",
      "2 1 1 2\n",
      "2 1 2 0\n",
      "2 1 2 1\n",
      "2 1 2 2\n",
      "2 2 0 0\n",
      "2 2 0 1\n",
      "2 2 0 2\n",
      "2 2 1 0\n",
      "2 2 1 1\n",
      "2 2 1 2\n",
      "2 2 2 0\n",
      "2 2 2 1\n",
      "2 2 2 2\n",
      "2 3 0 0\n",
      "2 3 0 1\n",
      "2 3 0 2\n",
      "2 3 1 0\n",
      "2 3 1 1\n",
      "2 3 1 2\n",
      "2 3 2 0\n",
      "2 3 2 1\n",
      "2 3 2 2\n",
      "3 0 0 0\n",
      "3 0 0 1\n",
      "3 0 0 2\n",
      "3 0 1 0\n",
      "3 0 1 1\n",
      "3 0 1 2\n",
      "3 0 2 0\n",
      "3 0 2 1\n",
      "3 0 2 2\n",
      "3 1 0 0\n",
      "3 1 0 1\n",
      "3 1 0 2\n",
      "3 1 1 0\n",
      "3 1 1 1\n",
      "3 1 1 2\n",
      "3 1 2 0\n",
      "3 1 2 1\n",
      "3 1 2 2\n",
      "3 2 0 0\n",
      "3 2 0 1\n",
      "3 2 0 2\n",
      "3 2 1 0\n",
      "3 2 1 1\n",
      "3 2 1 2\n",
      "3 2 2 0\n",
      "3 2 2 1\n",
      "3 2 2 2\n",
      "3 3 0 0\n",
      "3 3 0 1\n",
      "3 3 0 2\n",
      "3 3 1 0\n",
      "3 3 1 1\n",
      "3 3 1 2\n",
      "3 3 2 0\n",
      "3 3 2 1\n",
      "3 3 2 2\n"
     ]
    }
   ],
   "source": [
    "train_size = 60 # 5 years of training data\n",
    "results = {}\n",
    "test_set = NEE_log_diff.iloc[train_size:]\n",
    "\n",
    "for p1 in range(4):\n",
    "    for q1 in range(4):\n",
    "        for p2 in range(3):\n",
    "            for q2 in range(3):\n",
    "                preds = test_set.copy().to_frame('y_true').assign(y_pred=np.nan)\n",
    "                aic, bic = [], []\n",
    "                if p1 == 0 and q1 == 0:\n",
    "                    continue\n",
    "                print(p1, q1, p2, q2)\n",
    "                convergence_error = stationarity_error = 0\n",
    "                y_pred = []\n",
    "                for i, T in enumerate(range(train_size, len(NEE_log_diff))):\n",
    "                    train_set = NEE_log_diff.iloc[T-train_size:T]\n",
    "                    try:\n",
    "                        with warnings.catch_warnings():\n",
    "                            warnings.filterwarnings(\"ignore\")\n",
    "                            model = tsa.SARIMAX(endog=train_set.values,\n",
    "                                            order=(p1, 0, q1),\n",
    "                                            seasonal_order=(p2, 0, q2, 12)).fit(disp=0)\n",
    "                    except LinAlgError:\n",
    "                        convergence_error += 1\n",
    "                    except ValueError:\n",
    "                        stationarity_error += 1\n",
    "\n",
    "                    preds.iloc[i, 1] = model.forecast(steps=1)[0]\n",
    "                    aic.append(model.aic)\n",
    "                    bic.append(model.bic)\n",
    " \n",
    "                preds.dropna(inplace=True)\n",
    "                mse = mean_squared_error(preds.y_true, preds.y_pred)\n",
    "                results[(p1, q1, p2, q2)] = [np.sqrt(mse),\n",
    "                                                  preds.y_true.sub(preds.y_pred).pow(2).std(),\n",
    "                                                  np.mean(aic),\n",
    "                                                  np.std(aic),                                                  \n",
    "                                                  np.mean(bic),\n",
    "                                                  np.std(bic),                                                  \n",
    "                                                  convergence_error,\n",
    "                                                  stationarity_error]"
   ]
  },
  {
   "cell_type": "markdown",
   "metadata": {},
   "source": [
    "### Compare model metrics"
   ]
  },
  {
   "cell_type": "code",
   "execution_count": 30,
   "metadata": {
    "ExecuteTime": {
     "end_time": "2020-06-18T11:18:26.491741Z",
     "start_time": "2020-06-18T11:18:26.455028Z"
    }
   },
   "outputs": [
    {
     "name": "stdout",
     "output_type": "stream",
     "text": [
      "<class 'pandas.core.frame.DataFrame'>\n",
      "MultiIndex: 135 entries, (0, 1, 0, 0) to (3, 3, 2, 2)\n",
      "Data columns (total 9 columns):\n",
      " #   Column        Non-Null Count  Dtype  \n",
      "---  ------        --------------  -----  \n",
      " 0   RMSE          135 non-null    float64\n",
      " 1   RMSE_std      135 non-null    float64\n",
      " 2   AIC           135 non-null    float64\n",
      " 3   AIC_std       135 non-null    float64\n",
      " 4   BIC           135 non-null    float64\n",
      " 5   BIC_std       135 non-null    float64\n",
      " 6   convergence   135 non-null    float64\n",
      " 7   stationarity  135 non-null    float64\n",
      " 8   CV            135 non-null    float64\n",
      "dtypes: float64(9)\n",
      "memory usage: 10.3 KB\n"
     ]
    }
   ],
   "source": [
    "sarimax_results = pd.DataFrame(results).T\n",
    "sarimax_results.columns = ['RMSE', 'RMSE_std', 'AIC', 'AIC_std', 'BIC', 'BIC_std', 'convergence', 'stationarity']\n",
    "sarimax_results['CV'] = sarimax_results.RMSE_std.div(sarimax_results.RMSE)\n",
    "sarimax_results.index.names = ['p1', 'q1', 'p2', 'q2']\n",
    "sarimax_results.info()"
   ]
  },
  {
   "cell_type": "code",
   "execution_count": 31,
   "metadata": {
    "ExecuteTime": {
     "end_time": "2020-06-18T11:18:28.859023Z",
     "start_time": "2020-06-18T11:18:28.845388Z"
    }
   },
   "outputs": [],
   "source": [
    "with pd.HDFStore('arima.h5') as store:\n",
    "    store.put('sarimax', sarimax_results)"
   ]
  },
  {
   "cell_type": "code",
   "execution_count": 32,
   "metadata": {
    "ExecuteTime": {
     "end_time": "2020-06-17T23:40:42.940723Z",
     "start_time": "2020-06-17T23:37:49.314Z"
    }
   },
   "outputs": [],
   "source": [
    "with pd.HDFStore('arima.h5') as store:\n",
    "    sarimax_results = store.get('sarimax')"
   ]
  },
  {
   "cell_type": "code",
   "execution_count": 33,
   "metadata": {
    "ExecuteTime": {
     "end_time": "2020-06-18T11:18:29.984243Z",
     "start_time": "2020-06-18T11:18:29.968028Z"
    }
   },
   "outputs": [
    {
     "data": {
      "text/html": [
       "<div>\n",
       "<style scoped>\n",
       "    .dataframe tbody tr th:only-of-type {\n",
       "        vertical-align: middle;\n",
       "    }\n",
       "\n",
       "    .dataframe tbody tr th {\n",
       "        vertical-align: top;\n",
       "    }\n",
       "\n",
       "    .dataframe thead th {\n",
       "        text-align: right;\n",
       "    }\n",
       "</style>\n",
       "<table border=\"1\" class=\"dataframe\">\n",
       "  <thead>\n",
       "    <tr style=\"text-align: right;\">\n",
       "      <th></th>\n",
       "      <th></th>\n",
       "      <th></th>\n",
       "      <th></th>\n",
       "      <th>RMSE</th>\n",
       "      <th>RMSE_std</th>\n",
       "      <th>AIC</th>\n",
       "      <th>AIC_std</th>\n",
       "      <th>BIC</th>\n",
       "      <th>BIC_std</th>\n",
       "      <th>convergence</th>\n",
       "      <th>stationarity</th>\n",
       "      <th>CV</th>\n",
       "    </tr>\n",
       "    <tr>\n",
       "      <th>p1</th>\n",
       "      <th>q1</th>\n",
       "      <th>p2</th>\n",
       "      <th>q2</th>\n",
       "      <th></th>\n",
       "      <th></th>\n",
       "      <th></th>\n",
       "      <th></th>\n",
       "      <th></th>\n",
       "      <th></th>\n",
       "      <th></th>\n",
       "      <th></th>\n",
       "      <th></th>\n",
       "    </tr>\n",
       "  </thead>\n",
       "  <tbody>\n",
       "    <tr>\n",
       "      <th>2</th>\n",
       "      <th>1</th>\n",
       "      <th>0</th>\n",
       "      <th>1</th>\n",
       "      <td>0.019431</td>\n",
       "      <td>0.000678</td>\n",
       "      <td>-259.468207</td>\n",
       "      <td>49.519137</td>\n",
       "      <td>-248.996484</td>\n",
       "      <td>49.519137</td>\n",
       "      <td>0.0</td>\n",
       "      <td>0.0</td>\n",
       "      <td>0.034890</td>\n",
       "    </tr>\n",
       "    <tr>\n",
       "      <th>1</th>\n",
       "      <th>2</th>\n",
       "      <th>0</th>\n",
       "      <th>1</th>\n",
       "      <td>0.019578</td>\n",
       "      <td>0.000656</td>\n",
       "      <td>-261.976271</td>\n",
       "      <td>47.047061</td>\n",
       "      <td>-251.504548</td>\n",
       "      <td>47.047061</td>\n",
       "      <td>0.0</td>\n",
       "      <td>0.0</td>\n",
       "      <td>0.033510</td>\n",
       "    </tr>\n",
       "    <tr>\n",
       "      <th rowspan=\"3\" valign=\"top\">2</th>\n",
       "      <th>0</th>\n",
       "      <th>1</th>\n",
       "      <th>2</th>\n",
       "      <td>0.019752</td>\n",
       "      <td>0.000674</td>\n",
       "      <td>-258.657254</td>\n",
       "      <td>50.441390</td>\n",
       "      <td>-246.091187</td>\n",
       "      <td>50.441390</td>\n",
       "      <td>0.0</td>\n",
       "      <td>0.0</td>\n",
       "      <td>0.034144</td>\n",
       "    </tr>\n",
       "    <tr>\n",
       "      <th>1</th>\n",
       "      <th>1</th>\n",
       "      <th>1</th>\n",
       "      <td>0.019815</td>\n",
       "      <td>0.000648</td>\n",
       "      <td>-258.025348</td>\n",
       "      <td>49.304684</td>\n",
       "      <td>-245.459281</td>\n",
       "      <td>49.304684</td>\n",
       "      <td>0.0</td>\n",
       "      <td>0.0</td>\n",
       "      <td>0.032711</td>\n",
       "    </tr>\n",
       "    <tr>\n",
       "      <th>0</th>\n",
       "      <th>0</th>\n",
       "      <th>1</th>\n",
       "      <td>0.019815</td>\n",
       "      <td>0.000709</td>\n",
       "      <td>-261.002183</td>\n",
       "      <td>49.990448</td>\n",
       "      <td>-252.624805</td>\n",
       "      <td>49.990448</td>\n",
       "      <td>0.0</td>\n",
       "      <td>0.0</td>\n",
       "      <td>0.035782</td>\n",
       "    </tr>\n",
       "  </tbody>\n",
       "</table>\n",
       "</div>"
      ],
      "text/plain": [
       "                 RMSE  RMSE_std         AIC    AIC_std         BIC    BIC_std  \\\n",
       "p1 q1 p2 q2                                                                     \n",
       "2  1  0  1   0.019431  0.000678 -259.468207  49.519137 -248.996484  49.519137   \n",
       "1  2  0  1   0.019578  0.000656 -261.976271  47.047061 -251.504548  47.047061   \n",
       "2  0  1  2   0.019752  0.000674 -258.657254  50.441390 -246.091187  50.441390   \n",
       "   1  1  1   0.019815  0.000648 -258.025348  49.304684 -245.459281  49.304684   \n",
       "   0  0  1   0.019815  0.000709 -261.002183  49.990448 -252.624805  49.990448   \n",
       "\n",
       "             convergence  stationarity        CV  \n",
       "p1 q1 p2 q2                                       \n",
       "2  1  0  1           0.0           0.0  0.034890  \n",
       "1  2  0  1           0.0           0.0  0.033510  \n",
       "2  0  1  2           0.0           0.0  0.034144  \n",
       "   1  1  1           0.0           0.0  0.032711  \n",
       "   0  0  1           0.0           0.0  0.035782  "
      ]
     },
     "execution_count": 33,
     "metadata": {},
     "output_type": "execute_result"
    }
   ],
   "source": [
    "sarimax_results.nsmallest(5, columns='RMSE')"
   ]
  },
  {
   "cell_type": "markdown",
   "metadata": {},
   "source": [
    "We also collect the AIC and BIC criteria that show a very high rank correlation coefficient of 0.94, with BIC favoring models with slightly fewer parameters than AIC. The best five models by RMSE are:"
   ]
  },
  {
   "cell_type": "code",
   "execution_count": 34,
   "metadata": {
    "ExecuteTime": {
     "end_time": "2020-06-18T11:18:38.145646Z",
     "start_time": "2020-06-18T11:18:38.118958Z"
    }
   },
   "outputs": [
    {
     "data": {
      "text/html": [
       "<div>\n",
       "<style scoped>\n",
       "    .dataframe tbody tr th:only-of-type {\n",
       "        vertical-align: middle;\n",
       "    }\n",
       "\n",
       "    .dataframe tbody tr th {\n",
       "        vertical-align: top;\n",
       "    }\n",
       "\n",
       "    .dataframe thead th {\n",
       "        text-align: right;\n",
       "    }\n",
       "</style>\n",
       "<table border=\"1\" class=\"dataframe\">\n",
       "  <thead>\n",
       "    <tr style=\"text-align: right;\">\n",
       "      <th></th>\n",
       "      <th></th>\n",
       "      <th></th>\n",
       "      <th></th>\n",
       "      <th>RMSE</th>\n",
       "      <th>AIC</th>\n",
       "      <th>BIC</th>\n",
       "    </tr>\n",
       "    <tr>\n",
       "      <th>p1</th>\n",
       "      <th>q1</th>\n",
       "      <th>p2</th>\n",
       "      <th>q2</th>\n",
       "      <th></th>\n",
       "      <th></th>\n",
       "      <th></th>\n",
       "    </tr>\n",
       "  </thead>\n",
       "  <tbody>\n",
       "    <tr>\n",
       "      <th>2</th>\n",
       "      <th>1</th>\n",
       "      <th>0</th>\n",
       "      <th>1</th>\n",
       "      <td>0.019431</td>\n",
       "      <td>-259.468207</td>\n",
       "      <td>-248.996484</td>\n",
       "    </tr>\n",
       "    <tr>\n",
       "      <th>1</th>\n",
       "      <th>2</th>\n",
       "      <th>0</th>\n",
       "      <th>1</th>\n",
       "      <td>0.019578</td>\n",
       "      <td>-261.976271</td>\n",
       "      <td>-251.504548</td>\n",
       "    </tr>\n",
       "    <tr>\n",
       "      <th rowspan=\"3\" valign=\"top\">2</th>\n",
       "      <th>0</th>\n",
       "      <th>1</th>\n",
       "      <th>2</th>\n",
       "      <td>0.019752</td>\n",
       "      <td>-258.657254</td>\n",
       "      <td>-246.091187</td>\n",
       "    </tr>\n",
       "    <tr>\n",
       "      <th>1</th>\n",
       "      <th>1</th>\n",
       "      <th>1</th>\n",
       "      <td>0.019815</td>\n",
       "      <td>-258.025348</td>\n",
       "      <td>-245.459281</td>\n",
       "    </tr>\n",
       "    <tr>\n",
       "      <th>0</th>\n",
       "      <th>0</th>\n",
       "      <th>1</th>\n",
       "      <td>0.019815</td>\n",
       "      <td>-261.002183</td>\n",
       "      <td>-252.624805</td>\n",
       "    </tr>\n",
       "  </tbody>\n",
       "</table>\n",
       "</div>"
      ],
      "text/plain": [
       "                 RMSE         AIC         BIC\n",
       "p1 q1 p2 q2                                  \n",
       "2  1  0  1   0.019431 -259.468207 -248.996484\n",
       "1  2  0  1   0.019578 -261.976271 -251.504548\n",
       "2  0  1  2   0.019752 -258.657254 -246.091187\n",
       "   1  1  1   0.019815 -258.025348 -245.459281\n",
       "   0  0  1   0.019815 -261.002183 -252.624805"
      ]
     },
     "execution_count": 34,
     "metadata": {},
     "output_type": "execute_result"
    }
   ],
   "source": [
    "sarimax_results[['RMSE', 'AIC', 'BIC']].sort_values('RMSE').head()"
   ]
  },
  {
   "cell_type": "code",
   "execution_count": 35,
   "metadata": {
    "ExecuteTime": {
     "end_time": "2020-06-18T11:18:41.425134Z",
     "start_time": "2020-06-18T11:18:41.419040Z"
    }
   },
   "outputs": [
    {
     "data": {
      "text/html": [
       "<div>\n",
       "<style scoped>\n",
       "    .dataframe tbody tr th:only-of-type {\n",
       "        vertical-align: middle;\n",
       "    }\n",
       "\n",
       "    .dataframe tbody tr th {\n",
       "        vertical-align: top;\n",
       "    }\n",
       "\n",
       "    .dataframe thead th {\n",
       "        text-align: right;\n",
       "    }\n",
       "</style>\n",
       "<table border=\"1\" class=\"dataframe\">\n",
       "  <thead>\n",
       "    <tr style=\"text-align: right;\">\n",
       "      <th></th>\n",
       "      <th>RMSE</th>\n",
       "      <th>AIC</th>\n",
       "      <th>BIC</th>\n",
       "    </tr>\n",
       "  </thead>\n",
       "  <tbody>\n",
       "    <tr>\n",
       "      <th>RMSE</th>\n",
       "      <td>1.000000</td>\n",
       "      <td>0.902717</td>\n",
       "      <td>0.823276</td>\n",
       "    </tr>\n",
       "    <tr>\n",
       "      <th>AIC</th>\n",
       "      <td>0.902717</td>\n",
       "      <td>1.000000</td>\n",
       "      <td>0.928748</td>\n",
       "    </tr>\n",
       "    <tr>\n",
       "      <th>BIC</th>\n",
       "      <td>0.823276</td>\n",
       "      <td>0.928748</td>\n",
       "      <td>1.000000</td>\n",
       "    </tr>\n",
       "  </tbody>\n",
       "</table>\n",
       "</div>"
      ],
      "text/plain": [
       "          RMSE       AIC       BIC\n",
       "RMSE  1.000000  0.902717  0.823276\n",
       "AIC   0.902717  1.000000  0.928748\n",
       "BIC   0.823276  0.928748  1.000000"
      ]
     },
     "execution_count": 35,
     "metadata": {},
     "output_type": "execute_result"
    }
   ],
   "source": [
    "sarimax_results[['RMSE', 'AIC', 'BIC']].corr('spearman')"
   ]
  },
  {
   "cell_type": "code",
   "execution_count": 36,
   "metadata": {
    "ExecuteTime": {
     "end_time": "2020-06-18T11:18:49.857810Z",
     "start_time": "2020-06-18T11:18:49.397324Z"
    },
    "scrolled": true
   },
   "outputs": [
    {
     "data": {
      "image/png": "[encoded data removed]",
      "text/plain": [
       "<Figure size 432x432 with 3 Axes>"
      ]
     },
     "metadata": {},
     "output_type": "display_data"
    }
   ],
   "source": [
    "sns.jointplot(y='RMSE', x='BIC', data=sarimax_results[['RMSE', 'BIC']].rank());"
   ]
  },
  {
   "cell_type": "code",
   "execution_count": 37,
   "metadata": {
    "ExecuteTime": {
     "end_time": "2020-06-18T11:30:01.368046Z",
     "start_time": "2020-06-18T11:30:01.347266Z"
    }
   },
   "outputs": [
    {
     "data": {
      "text/html": [
       "<div>\n",
       "<style scoped>\n",
       "    .dataframe tbody tr th:only-of-type {\n",
       "        vertical-align: middle;\n",
       "    }\n",
       "\n",
       "    .dataframe tbody tr th {\n",
       "        vertical-align: top;\n",
       "    }\n",
       "\n",
       "    .dataframe thead th {\n",
       "        text-align: right;\n",
       "    }\n",
       "</style>\n",
       "<table border=\"1\" class=\"dataframe\">\n",
       "  <thead>\n",
       "    <tr style=\"text-align: right;\">\n",
       "      <th></th>\n",
       "      <th></th>\n",
       "      <th></th>\n",
       "      <th></th>\n",
       "      <th>RMSE</th>\n",
       "      <th>RMSE_std</th>\n",
       "      <th>AIC</th>\n",
       "      <th>AIC_std</th>\n",
       "      <th>BIC</th>\n",
       "      <th>BIC_std</th>\n",
       "      <th>convergence</th>\n",
       "      <th>stationarity</th>\n",
       "      <th>CV</th>\n",
       "    </tr>\n",
       "    <tr>\n",
       "      <th>p1</th>\n",
       "      <th>q1</th>\n",
       "      <th>p2</th>\n",
       "      <th>q2</th>\n",
       "      <th></th>\n",
       "      <th></th>\n",
       "      <th></th>\n",
       "      <th></th>\n",
       "      <th></th>\n",
       "      <th></th>\n",
       "      <th></th>\n",
       "      <th></th>\n",
       "      <th></th>\n",
       "    </tr>\n",
       "  </thead>\n",
       "  <tbody>\n",
       "    <tr>\n",
       "      <th>2</th>\n",
       "      <th>1</th>\n",
       "      <th>0</th>\n",
       "      <th>1</th>\n",
       "      <td>0.019431</td>\n",
       "      <td>0.000678</td>\n",
       "      <td>-259.468207</td>\n",
       "      <td>49.519137</td>\n",
       "      <td>-248.996484</td>\n",
       "      <td>49.519137</td>\n",
       "      <td>0.0</td>\n",
       "      <td>0.0</td>\n",
       "      <td>0.034890</td>\n",
       "    </tr>\n",
       "    <tr>\n",
       "      <th>1</th>\n",
       "      <th>2</th>\n",
       "      <th>0</th>\n",
       "      <th>1</th>\n",
       "      <td>0.019578</td>\n",
       "      <td>0.000656</td>\n",
       "      <td>-261.976271</td>\n",
       "      <td>47.047061</td>\n",
       "      <td>-251.504548</td>\n",
       "      <td>47.047061</td>\n",
       "      <td>0.0</td>\n",
       "      <td>0.0</td>\n",
       "      <td>0.033510</td>\n",
       "    </tr>\n",
       "    <tr>\n",
       "      <th>2</th>\n",
       "      <th>0</th>\n",
       "      <th>0</th>\n",
       "      <th>1</th>\n",
       "      <td>0.019815</td>\n",
       "      <td>0.000709</td>\n",
       "      <td>-261.002183</td>\n",
       "      <td>49.990448</td>\n",
       "      <td>-252.624805</td>\n",
       "      <td>49.990448</td>\n",
       "      <td>0.0</td>\n",
       "      <td>0.0</td>\n",
       "      <td>0.035782</td>\n",
       "    </tr>\n",
       "    <tr>\n",
       "      <th>1</th>\n",
       "      <th>1</th>\n",
       "      <th>1</th>\n",
       "      <th>1</th>\n",
       "      <td>0.019865</td>\n",
       "      <td>0.000703</td>\n",
       "      <td>-259.507325</td>\n",
       "      <td>50.117858</td>\n",
       "      <td>-249.035602</td>\n",
       "      <td>50.117858</td>\n",
       "      <td>0.0</td>\n",
       "      <td>0.0</td>\n",
       "      <td>0.035403</td>\n",
       "    </tr>\n",
       "  </tbody>\n",
       "</table>\n",
       "</div>"
      ],
      "text/plain": [
       "                 RMSE  RMSE_std         AIC    AIC_std         BIC    BIC_std  \\\n",
       "p1 q1 p2 q2                                                                     \n",
       "2  1  0  1   0.019431  0.000678 -259.468207  49.519137 -248.996484  49.519137   \n",
       "1  2  0  1   0.019578  0.000656 -261.976271  47.047061 -251.504548  47.047061   \n",
       "2  0  0  1   0.019815  0.000709 -261.002183  49.990448 -252.624805  49.990448   \n",
       "1  1  1  1   0.019865  0.000703 -259.507325  50.117858 -249.035602  50.117858   \n",
       "\n",
       "             convergence  stationarity        CV  \n",
       "p1 q1 p2 q2                                       \n",
       "2  1  0  1           0.0           0.0  0.034890  \n",
       "1  2  0  1           0.0           0.0  0.033510  \n",
       "2  0  0  1           0.0           0.0  0.035782  \n",
       "1  1  1  1           0.0           0.0  0.035403  "
      ]
     },
     "execution_count": 37,
     "metadata": {},
     "output_type": "execute_result"
    }
   ],
   "source": [
    "sarimax_results[(sarimax_results.RMSE < sarimax_results.RMSE.quantile(.05)) &\n",
    "                (sarimax_results.BIC < sarimax_results.BIC.quantile(.1))].sort_values('RMSE')"
   ]
  },
  {
   "cell_type": "markdown",
   "metadata": {},
   "source": [
    "### Train best model"
   ]
  },
  {
   "cell_type": "code",
   "execution_count": 38,
   "metadata": {
    "ExecuteTime": {
     "end_time": "2020-06-18T11:33:40.330159Z",
     "start_time": "2020-06-18T11:33:40.323531Z"
    }
   },
   "outputs": [],
   "source": [
    "p1, q1, p2, q2 = 2, 3, 1, 2"
   ]
  },
  {
   "cell_type": "code",
   "execution_count": 39,
   "metadata": {
    "ExecuteTime": {
     "end_time": "2020-06-18T11:34:07.381764Z",
     "start_time": "2020-06-18T11:34:06.198460Z"
    }
   },
   "outputs": [],
   "source": [
    "best_model = tsa.SARIMAX(endog=NEE_log_diff.values, order=(p1, 0, q1),\n",
    "                         seasonal_order=(p2, 0, q2, 12)).fit()"
   ]
  },
  {
   "cell_type": "code",
   "execution_count": 40,
   "metadata": {
    "ExecuteTime": {
     "end_time": "2020-06-18T11:34:14.024100Z",
     "start_time": "2020-06-18T11:34:14.013626Z"
    }
   },
   "outputs": [
    {
     "name": "stdout",
     "output_type": "stream",
     "text": [
      "                                        SARIMAX Results                                        \n",
      "===============================================================================================\n",
      "Dep. Variable:                                       y   No. Observations:                  239\n",
      "Model:             SARIMAX(2, 0, 3)x(1, 0, [1, 2], 12)   Log Likelihood                 525.795\n",
      "Date:                                 Tue, 05 Jan 2021   AIC                          -1033.590\n",
      "Time:                                         12:34:17   BIC                          -1002.302\n",
      "Sample:                                              0   HQIC                         -1020.982\n",
      "                                                 - 239                                         \n",
      "Covariance Type:                                   opg                                         \n",
      "==============================================================================\n",
      "                 coef    std err          z      P>|z|      [0.025      0.975]\n",
      "------------------------------------------------------------------------------\n",
      "ar.L1          0.1504      0.116      1.292      0.196      -0.078       0.379\n",
      "ar.L2          0.8244      0.115      7.154      0.000       0.599       1.050\n",
      "ma.L1          0.7627      0.135      5.645      0.000       0.498       1.028\n",
      "ma.L2          0.1385      0.055      2.511      0.012       0.030       0.247\n",
      "ma.L3          0.2575      0.047      5.481      0.000       0.165       0.350\n",
      "ar.S.L12      -0.9202      0.852     -1.080      0.280      -2.591       0.750\n",
      "ma.S.L12      -0.0794      1.011     -0.079      0.937      -2.060       1.901\n",
      "ma.S.L24      -0.9008      1.156     -0.780      0.436      -3.166       1.364\n",
      "sigma2         0.0006      0.000      1.542      0.123      -0.000       0.001\n",
      "===================================================================================\n",
      "Ljung-Box (L1) (Q):                   0.39   Jarque-Bera (JB):               285.52\n",
      "Prob(Q):                              0.53   Prob(JB):                         0.00\n",
      "Heteroskedasticity (H):               0.24   Skew:                            -0.18\n",
      "Prob(H) (two-sided):                  0.00   Kurtosis:                         8.34\n",
      "===================================================================================\n",
      "\n",
      "Warnings:\n",
      "[1] Covariance matrix calculated using the outer product of gradients (complex-step).\n"
     ]
    }
   ],
   "source": [
    "print(best_model.summary())"
   ]
  },
  {
   "cell_type": "markdown",
   "metadata": {},
   "source": [
    "### Check Residual Correlogram"
   ]
  },
  {
   "cell_type": "code",
   "execution_count": 41,
   "metadata": {
    "ExecuteTime": {
     "end_time": "2020-06-18T11:35:10.652262Z",
     "start_time": "2020-06-18T11:35:09.910897Z"
    },
    "scrolled": false
   },
   "outputs": [
    {
     "data": {
      "image/png": "[encoded data removed]",
      "text/plain": [
       "<Figure size 1008x576 with 4 Axes>"
      ]
     },
     "metadata": {},
     "output_type": "display_data"
    }
   ],
   "source": [
    "plot_correlogram(pd.Series(best_model.resid),\n",
    "                 lags=20,\n",
    "                 title=f'SARIMAX ({p1}, 0, {q1}) x ({p2}, 0, {q2}, 12) | Model Diagnostics')"
   ]
  },
  {
   "cell_type": "code",
   "execution_count": 42,
   "metadata": {},
   "outputs": [],
   "source": [
    "best_model.save('arima_model.pkl')"
   ]
  }
 ],
 "metadata": {
  "kernelspec": {
   "display_name": "Python 3",
   "language": "python",
   "name": "python3"
  },
  "language_info": {
   "codemirror_mode": {
    "name": "ipython",
    "version": 3
   },
   "file_extension": ".py",
   "mimetype": "text/x-python",
   "name": "python",
   "nbconvert_exporter": "python",
   "pygments_lexer": "ipython3",
   "version": "3.6.12"
  },
  "toc": {
   "base_numbering": 1,
   "nav_menu": {},
   "number_sections": true,
   "sideBar": true,
   "skip_h1_title": true,
   "title_cell": "Table of Contents",
   "title_sidebar": "Contents",
   "toc_cell": false,
   "toc_position": {},
   "toc_section_display": true,
   "toc_window_display": true
  }
 },
 "nbformat": 4,
 "nbformat_minor": 2
}
