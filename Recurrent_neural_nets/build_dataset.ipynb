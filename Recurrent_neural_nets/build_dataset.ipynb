{
 "cells": [
  {
   "cell_type": "markdown",
   "metadata": {},
   "source": [
    "# Train a Deep NN to predict Asset Price movements"
   ]
  },
  {
   "cell_type": "markdown",
   "metadata": {},
   "source": [
    "## Imports & Settings"
   ]
  },
  {
   "cell_type": "code",
   "execution_count": 1,
   "metadata": {
    "ExecuteTime": {
     "end_time": "2020-06-21T23:10:01.348839Z",
     "start_time": "2020-06-21T23:10:01.345834Z"
    }
   },
   "outputs": [],
   "source": [
    "import warnings\n",
    "warnings.filterwarnings('ignore')"
   ]
  },
  {
   "cell_type": "code",
   "execution_count": 2,
   "metadata": {
    "ExecuteTime": {
     "end_time": "2020-06-21T23:10:01.573078Z",
     "start_time": "2020-06-21T23:10:01.351361Z"
    }
   },
   "outputs": [],
   "source": [
    "from pathlib import Path\n",
    "\n",
    "import numpy as np\n",
    "import pandas as pd"
   ]
  },
  {
   "cell_type": "code",
   "execution_count": 3,
   "metadata": {
    "ExecuteTime": {
     "end_time": "2020-06-21T23:10:01.576526Z",
     "start_time": "2020-06-21T23:10:01.574420Z"
    }
   },
   "outputs": [],
   "source": [
    "np.random.seed(42)"
   ]
  },
  {
   "cell_type": "code",
   "execution_count": 4,
   "metadata": {
    "ExecuteTime": {
     "end_time": "2020-06-21T23:10:01.586396Z",
     "start_time": "2020-06-21T23:10:01.577729Z"
    }
   },
   "outputs": [],
   "source": [
    "idx = pd.IndexSlice"
   ]
  },
  {
   "cell_type": "markdown",
   "metadata": {},
   "source": [
    "## Build daily dataset"
   ]
  },
  {
   "cell_type": "code",
   "execution_count": 5,
   "metadata": {
    "ExecuteTime": {
     "end_time": "2020-06-21T23:10:04.005540Z",
     "start_time": "2020-06-21T23:10:01.595821Z"
    }
   },
   "outputs": [
    {
     "name": "stdout",
     "output_type": "stream",
     "text": [
      "<class 'pandas.core.frame.DataFrame'>\n",
      "MultiIndex: 5544 entries, (Timestamp('2019-01-07 00:00:00'), 'BE') to (Timestamp('2021-01-05 00:00:00'), 'VWSYF')\n",
      "Data columns (total 2 columns):\n",
      " #   Column  Non-Null Count  Dtype  \n",
      "---  ------  --------------  -----  \n",
      " 0   Close   5544 non-null   float64\n",
      " 1   Volume  5544 non-null   int64  \n",
      "dtypes: float64(1), int64(1)\n",
      "memory usage: 107.0+ KB\n"
     ]
    }
   ],
   "source": [
    "prices = (pd.read_hdf('../Data_Processing/Data/H5/assets.h5', 'Alt_Energy/prices')\n",
    "          .loc[idx['2019':'2021', :], ['Close', 'Volume']])\n",
    "prices.info()"
   ]
  },
  {
   "cell_type": "code",
   "execution_count": 6,
   "metadata": {},
   "outputs": [],
   "source": [
    "n_dates = len(prices.index.unique('Date'))\n",
    "dollar_vol = (prices.Close.mul(prices.Volume)\n",
    "              .unstack('Ticker')\n",
    "              .dropna(thresh=int(.95 * n_dates), axis=1)\n",
    "              .rank(ascending=False, axis=1)\n",
    "              .stack('Ticker'))"
   ]
  },
  {
   "cell_type": "code",
   "execution_count": 7,
   "metadata": {},
   "outputs": [
    {
     "name": "stdout",
     "output_type": "stream",
     "text": [
      "<class 'pandas.core.frame.DataFrame'>\n",
      "DatetimeIndex: 504 entries, 2021-01-05 to 2019-01-07\n",
      "Data columns (total 11 columns):\n",
      " #   Column  Non-Null Count  Dtype  \n",
      "---  ------  --------------  -----  \n",
      " 0   BE      503 non-null    float64\n",
      " 1   BWEN    503 non-null    float64\n",
      " 2   CSIQ    503 non-null    float64\n",
      " 3   DOGEF   503 non-null    float64\n",
      " 4   ENPH    503 non-null    float64\n",
      " 5   FSLR    503 non-null    float64\n",
      " 6   NEE     503 non-null    float64\n",
      " 7   RUN     503 non-null    float64\n",
      " 8   SEDG    503 non-null    float64\n",
      " 9   SIEGY   503 non-null    float64\n",
      " 10  VWSYF   503 non-null    float64\n",
      "dtypes: float64(11)\n",
      "memory usage: 47.2 KB\n"
     ]
    }
   ],
   "source": [
    "returns = (prices.loc[idx[:], 'Close']\n",
    "           .unstack('Ticker')\n",
    "           .pct_change()\n",
    "           .sort_index(ascending=False))\n",
    "returns.info()"
   ]
  },
  {
   "cell_type": "markdown",
   "metadata": {},
   "source": [
    "### Stack 21-day time series"
   ]
  },
  {
   "cell_type": "code",
   "execution_count": 8,
   "metadata": {
    "ExecuteTime": {
     "end_time": "2020-06-21T23:10:09.384456Z",
     "start_time": "2020-06-21T23:10:09.381276Z"
    }
   },
   "outputs": [],
   "source": [
    "n = len(prices)\n",
    "T = 21 # days\n",
    "tcols = list(range(T))\n",
    "tickers = returns.columns"
   ]
  },
  {
   "cell_type": "code",
   "execution_count": 9,
   "metadata": {
    "ExecuteTime": {
     "end_time": "2020-06-21T23:12:08.043887Z",
     "start_time": "2020-06-21T23:10:09.386218Z"
    }
   },
   "outputs": [
    {
     "name": "stdout",
     "output_type": "stream",
     "text": [
      "<class 'pandas.core.frame.DataFrame'>\n",
      "MultiIndex: 5302 entries, ('BE', Timestamp('2019-02-07 00:00:00')) to ('VWSYF', Timestamp('2021-01-05 00:00:00'))\n",
      "Data columns (total 22 columns):\n",
      " #   Column  Non-Null Count  Dtype  \n",
      "---  ------  --------------  -----  \n",
      " 0   label   5302 non-null   float64\n",
      " 1   1       5302 non-null   float64\n",
      " 2   2       5302 non-null   float64\n",
      " 3   3       5302 non-null   float64\n",
      " 4   4       5302 non-null   float64\n",
      " 5   5       5302 non-null   float64\n",
      " 6   6       5302 non-null   float64\n",
      " 7   7       5302 non-null   float64\n",
      " 8   8       5302 non-null   float64\n",
      " 9   9       5302 non-null   float64\n",
      " 10  10      5302 non-null   float64\n",
      " 11  11      5302 non-null   float64\n",
      " 12  12      5302 non-null   float64\n",
      " 13  13      5302 non-null   float64\n",
      " 14  14      5302 non-null   float64\n",
      " 15  15      5302 non-null   float64\n",
      " 16  16      5302 non-null   float64\n",
      " 17  17      5302 non-null   float64\n",
      " 18  18      5302 non-null   float64\n",
      " 19  19      5302 non-null   float64\n",
      " 20  20      5302 non-null   float64\n",
      " 21  21      5302 non-null   float64\n",
      "dtypes: float64(22)\n",
      "memory usage: 1.1+ MB\n"
     ]
    }
   ],
   "source": [
    "data = pd.DataFrame()\n",
    "for i in range(n-T-1):\n",
    "    df = returns.iloc[i:i+T+1]\n",
    "    date = df.index.max()\n",
    "    data = pd.concat([data, \n",
    "                      df.reset_index(drop=True).T\n",
    "                      .assign(date=date, ticker=tickers)\n",
    "                      .set_index(['ticker', 'date'])])\n",
    "data = data.rename(columns={0: 'label'}).sort_index().dropna()\n",
    "data.loc[:, tcols[1:]] = (data.loc[:, tcols[1:]].apply(lambda x: x.clip(lower=x.quantile(.01),\n",
    "                                                  upper=x.quantile(.99))))\n",
    "data.info()"
   ]
  },
  {
   "cell_type": "code",
   "execution_count": 10,
   "metadata": {
    "ExecuteTime": {
     "end_time": "2020-06-21T23:12:08.055150Z",
     "start_time": "2020-06-21T23:12:08.045482Z"
    }
   },
   "outputs": [
    {
     "data": {
      "text/plain": [
       "(5302, 22)"
      ]
     },
     "execution_count": 10,
     "metadata": {},
     "output_type": "execute_result"
    }
   ],
   "source": [
    "data.shape"
   ]
  },
  {
   "cell_type": "code",
   "execution_count": 11,
   "metadata": {
    "ExecuteTime": {
     "end_time": "2020-06-21T23:12:08.233063Z",
     "start_time": "2020-06-21T23:12:08.057261Z"
    }
   },
   "outputs": [],
   "source": [
    "data.to_hdf('data.h5', 'returns_daily')"
   ]
  },
  {
   "cell_type": "markdown",
   "metadata": {},
   "source": [
    "## Build weekly dataset"
   ]
  },
  {
   "cell_type": "markdown",
   "metadata": {},
   "source": [
    "We load the Quandl adjusted stock price data:"
   ]
  },
  {
   "cell_type": "code",
   "execution_count": 15,
   "metadata": {
    "ExecuteTime": {
     "end_time": "2020-06-21T23:12:12.958144Z",
     "start_time": "2020-06-21T23:12:08.234215Z"
    }
   },
   "outputs": [
    {
     "data": {
      "text/html": [
       "<div>\n",
       "<style scoped>\n",
       "    .dataframe tbody tr th:only-of-type {\n",
       "        vertical-align: middle;\n",
       "    }\n",
       "\n",
       "    .dataframe tbody tr th {\n",
       "        vertical-align: top;\n",
       "    }\n",
       "\n",
       "    .dataframe thead th {\n",
       "        text-align: right;\n",
       "    }\n",
       "</style>\n",
       "<table border=\"1\" class=\"dataframe\">\n",
       "  <thead>\n",
       "    <tr style=\"text-align: right;\">\n",
       "      <th>Ticker</th>\n",
       "      <th>BE</th>\n",
       "      <th>BWEN</th>\n",
       "      <th>CSIQ</th>\n",
       "      <th>DOGEF</th>\n",
       "      <th>ENPH</th>\n",
       "      <th>FSLR</th>\n",
       "      <th>NEE</th>\n",
       "      <th>RUN</th>\n",
       "      <th>SEDG</th>\n",
       "      <th>SIEGY</th>\n",
       "      <th>VWSYF</th>\n",
       "    </tr>\n",
       "    <tr>\n",
       "      <th>Date</th>\n",
       "      <th></th>\n",
       "      <th></th>\n",
       "      <th></th>\n",
       "      <th></th>\n",
       "      <th></th>\n",
       "      <th></th>\n",
       "      <th></th>\n",
       "      <th></th>\n",
       "      <th></th>\n",
       "      <th></th>\n",
       "      <th></th>\n",
       "    </tr>\n",
       "  </thead>\n",
       "  <tbody>\n",
       "    <tr>\n",
       "      <th>2019-01-07</th>\n",
       "      <td>12.41</td>\n",
       "      <td>1.61</td>\n",
       "      <td>16.799999</td>\n",
       "      <td>58.250946</td>\n",
       "      <td>5.26</td>\n",
       "      <td>45.790001</td>\n",
       "      <td>40.522408</td>\n",
       "      <td>10.56</td>\n",
       "      <td>35.009998</td>\n",
       "      <td>47.956219</td>\n",
       "      <td>74.181648</td>\n",
       "    </tr>\n",
       "    <tr>\n",
       "      <th>2019-01-08</th>\n",
       "      <td>12.73</td>\n",
       "      <td>1.60</td>\n",
       "      <td>17.129999</td>\n",
       "      <td>57.650864</td>\n",
       "      <td>5.35</td>\n",
       "      <td>46.230000</td>\n",
       "      <td>40.818771</td>\n",
       "      <td>10.71</td>\n",
       "      <td>35.000000</td>\n",
       "      <td>48.032772</td>\n",
       "      <td>74.181648</td>\n",
       "    </tr>\n",
       "    <tr>\n",
       "      <th>2019-01-09</th>\n",
       "      <td>12.14</td>\n",
       "      <td>1.60</td>\n",
       "      <td>17.209999</td>\n",
       "      <td>57.650864</td>\n",
       "      <td>5.63</td>\n",
       "      <td>46.959999</td>\n",
       "      <td>40.642365</td>\n",
       "      <td>11.47</td>\n",
       "      <td>35.459999</td>\n",
       "      <td>48.415531</td>\n",
       "      <td>77.006691</td>\n",
       "    </tr>\n",
       "    <tr>\n",
       "      <th>2019-01-10</th>\n",
       "      <td>12.02</td>\n",
       "      <td>1.53</td>\n",
       "      <td>17.620001</td>\n",
       "      <td>59.151073</td>\n",
       "      <td>5.63</td>\n",
       "      <td>47.740002</td>\n",
       "      <td>41.253918</td>\n",
       "      <td>11.51</td>\n",
       "      <td>35.990002</td>\n",
       "      <td>48.636688</td>\n",
       "      <td>75.818230</td>\n",
       "    </tr>\n",
       "    <tr>\n",
       "      <th>2019-01-11</th>\n",
       "      <td>12.24</td>\n",
       "      <td>1.73</td>\n",
       "      <td>17.660000</td>\n",
       "      <td>58.979622</td>\n",
       "      <td>5.68</td>\n",
       "      <td>47.500000</td>\n",
       "      <td>41.329189</td>\n",
       "      <td>11.65</td>\n",
       "      <td>36.400002</td>\n",
       "      <td>47.658508</td>\n",
       "      <td>75.233742</td>\n",
       "    </tr>\n",
       "  </tbody>\n",
       "</table>\n",
       "</div>"
      ],
      "text/plain": [
       "Ticker         BE  BWEN       CSIQ      DOGEF  ENPH       FSLR        NEE  \\\n",
       "Date                                                                        \n",
       "2019-01-07  12.41  1.61  16.799999  58.250946  5.26  45.790001  40.522408   \n",
       "2019-01-08  12.73  1.60  17.129999  57.650864  5.35  46.230000  40.818771   \n",
       "2019-01-09  12.14  1.60  17.209999  57.650864  5.63  46.959999  40.642365   \n",
       "2019-01-10  12.02  1.53  17.620001  59.151073  5.63  47.740002  41.253918   \n",
       "2019-01-11  12.24  1.73  17.660000  58.979622  5.68  47.500000  41.329189   \n",
       "\n",
       "Ticker        RUN       SEDG      SIEGY      VWSYF  \n",
       "Date                                                \n",
       "2019-01-07  10.56  35.009998  47.956219  74.181648  \n",
       "2019-01-08  10.71  35.000000  48.032772  74.181648  \n",
       "2019-01-09  11.47  35.459999  48.415531  77.006691  \n",
       "2019-01-10  11.51  35.990002  48.636688  75.818230  \n",
       "2019-01-11  11.65  36.400002  47.658508  75.233742  "
      ]
     },
     "execution_count": 15,
     "metadata": {},
     "output_type": "execute_result"
    }
   ],
   "source": [
    "prices = (pd.read_hdf('../Data_Processing/Data/H5/assets.h5', 'Alt_Energy/prices')\n",
    "              .Close\n",
    "          .unstack().loc['2019':])\n",
    "prices.head()"
   ]
  },
  {
   "cell_type": "markdown",
   "metadata": {},
   "source": [
    "### Resample to weekly frequency"
   ]
  },
  {
   "cell_type": "code",
   "execution_count": 20,
   "metadata": {
    "ExecuteTime": {
     "end_time": "2020-06-21T23:12:13.141240Z",
     "start_time": "2020-06-21T23:12:12.960275Z"
    }
   },
   "outputs": [
    {
     "name": "stdout",
     "output_type": "stream",
     "text": [
      "<class 'pandas.core.frame.DataFrame'>\n",
      "DatetimeIndex: 730 entries, 2019-01-07 to 2021-01-05\n",
      "Freq: D\n",
      "Data columns (total 11 columns):\n",
      " #   Column  Non-Null Count  Dtype  \n",
      "---  ------  --------------  -----  \n",
      " 0   BE      729 non-null    float64\n",
      " 1   BWEN    729 non-null    float64\n",
      " 2   CSIQ    729 non-null    float64\n",
      " 3   DOGEF   729 non-null    float64\n",
      " 4   ENPH    729 non-null    float64\n",
      " 5   FSLR    729 non-null    float64\n",
      " 6   NEE     729 non-null    float64\n",
      " 7   RUN     729 non-null    float64\n",
      " 8   SEDG    729 non-null    float64\n",
      " 9   SIEGY   729 non-null    float64\n",
      " 10  VWSYF   729 non-null    float64\n",
      "dtypes: float64(11)\n",
      "memory usage: 68.4 KB\n"
     ]
    }
   ],
   "source": [
    "returns = (prices\n",
    "           .resample('D')\n",
    "           .last()\n",
    "           .pct_change()\n",
    "           #.dropna(axis=1)\n",
    "           .sort_index(ascending=True))\n",
    "returns.info()"
   ]
  },
  {
   "cell_type": "code",
   "execution_count": 21,
   "metadata": {
    "ExecuteTime": {
     "end_time": "2020-06-21T23:12:13.168744Z",
     "start_time": "2020-06-21T23:12:13.142933Z"
    },
    "scrolled": true
   },
   "outputs": [
    {
     "data": {
      "text/html": [
       "<div>\n",
       "<style scoped>\n",
       "    .dataframe tbody tr th:only-of-type {\n",
       "        vertical-align: middle;\n",
       "    }\n",
       "\n",
       "    .dataframe tbody tr th {\n",
       "        vertical-align: top;\n",
       "    }\n",
       "\n",
       "    .dataframe thead th {\n",
       "        text-align: right;\n",
       "    }\n",
       "</style>\n",
       "<table border=\"1\" class=\"dataframe\">\n",
       "  <thead>\n",
       "    <tr style=\"text-align: right;\">\n",
       "      <th>Ticker</th>\n",
       "      <th>BE</th>\n",
       "      <th>BWEN</th>\n",
       "      <th>CSIQ</th>\n",
       "      <th>DOGEF</th>\n",
       "      <th>ENPH</th>\n",
       "      <th>FSLR</th>\n",
       "      <th>NEE</th>\n",
       "      <th>RUN</th>\n",
       "      <th>SEDG</th>\n",
       "      <th>SIEGY</th>\n",
       "      <th>VWSYF</th>\n",
       "    </tr>\n",
       "    <tr>\n",
       "      <th>Date</th>\n",
       "      <th></th>\n",
       "      <th></th>\n",
       "      <th></th>\n",
       "      <th></th>\n",
       "      <th></th>\n",
       "      <th></th>\n",
       "      <th></th>\n",
       "      <th></th>\n",
       "      <th></th>\n",
       "      <th></th>\n",
       "      <th></th>\n",
       "    </tr>\n",
       "  </thead>\n",
       "  <tbody>\n",
       "    <tr>\n",
       "      <th>2019-01-07</th>\n",
       "      <td>NaN</td>\n",
       "      <td>NaN</td>\n",
       "      <td>NaN</td>\n",
       "      <td>NaN</td>\n",
       "      <td>NaN</td>\n",
       "      <td>NaN</td>\n",
       "      <td>NaN</td>\n",
       "      <td>NaN</td>\n",
       "      <td>NaN</td>\n",
       "      <td>NaN</td>\n",
       "      <td>NaN</td>\n",
       "    </tr>\n",
       "    <tr>\n",
       "      <th>2019-01-08</th>\n",
       "      <td>0.025786</td>\n",
       "      <td>-0.006211</td>\n",
       "      <td>0.019643</td>\n",
       "      <td>-0.010302</td>\n",
       "      <td>0.017110</td>\n",
       "      <td>0.009609</td>\n",
       "      <td>0.007314</td>\n",
       "      <td>0.014205</td>\n",
       "      <td>-0.000286</td>\n",
       "      <td>0.001596</td>\n",
       "      <td>0.000000</td>\n",
       "    </tr>\n",
       "    <tr>\n",
       "      <th>2019-01-09</th>\n",
       "      <td>-0.046347</td>\n",
       "      <td>0.000000</td>\n",
       "      <td>0.004670</td>\n",
       "      <td>0.000000</td>\n",
       "      <td>0.052336</td>\n",
       "      <td>0.015791</td>\n",
       "      <td>-0.004322</td>\n",
       "      <td>0.070962</td>\n",
       "      <td>0.013143</td>\n",
       "      <td>0.007969</td>\n",
       "      <td>0.038083</td>\n",
       "    </tr>\n",
       "    <tr>\n",
       "      <th>2019-01-10</th>\n",
       "      <td>-0.009885</td>\n",
       "      <td>-0.043750</td>\n",
       "      <td>0.023823</td>\n",
       "      <td>0.026022</td>\n",
       "      <td>0.000000</td>\n",
       "      <td>0.016610</td>\n",
       "      <td>0.015047</td>\n",
       "      <td>0.003487</td>\n",
       "      <td>0.014947</td>\n",
       "      <td>0.004568</td>\n",
       "      <td>-0.015433</td>\n",
       "    </tr>\n",
       "    <tr>\n",
       "      <th>2019-01-11</th>\n",
       "      <td>0.018303</td>\n",
       "      <td>0.130719</td>\n",
       "      <td>0.002270</td>\n",
       "      <td>-0.002899</td>\n",
       "      <td>0.008881</td>\n",
       "      <td>-0.005027</td>\n",
       "      <td>0.001825</td>\n",
       "      <td>0.012163</td>\n",
       "      <td>0.011392</td>\n",
       "      <td>-0.020112</td>\n",
       "      <td>-0.007709</td>\n",
       "    </tr>\n",
       "    <tr>\n",
       "      <th>2021-01-01</th>\n",
       "      <td>0.000000</td>\n",
       "      <td>0.000000</td>\n",
       "      <td>0.000000</td>\n",
       "      <td>0.000000</td>\n",
       "      <td>0.000000</td>\n",
       "      <td>0.000000</td>\n",
       "      <td>0.000000</td>\n",
       "      <td>0.000000</td>\n",
       "      <td>0.000000</td>\n",
       "      <td>0.000000</td>\n",
       "      <td>0.000000</td>\n",
       "    </tr>\n",
       "    <tr>\n",
       "      <th>2021-01-02</th>\n",
       "      <td>0.000000</td>\n",
       "      <td>0.000000</td>\n",
       "      <td>0.000000</td>\n",
       "      <td>0.000000</td>\n",
       "      <td>0.000000</td>\n",
       "      <td>0.000000</td>\n",
       "      <td>0.000000</td>\n",
       "      <td>0.000000</td>\n",
       "      <td>0.000000</td>\n",
       "      <td>0.000000</td>\n",
       "      <td>0.000000</td>\n",
       "    </tr>\n",
       "    <tr>\n",
       "      <th>2021-01-03</th>\n",
       "      <td>0.000000</td>\n",
       "      <td>0.000000</td>\n",
       "      <td>0.000000</td>\n",
       "      <td>0.000000</td>\n",
       "      <td>0.000000</td>\n",
       "      <td>0.000000</td>\n",
       "      <td>0.000000</td>\n",
       "      <td>0.000000</td>\n",
       "      <td>0.000000</td>\n",
       "      <td>0.000000</td>\n",
       "      <td>0.000000</td>\n",
       "    </tr>\n",
       "    <tr>\n",
       "      <th>2021-01-04</th>\n",
       "      <td>-0.047802</td>\n",
       "      <td>-0.003783</td>\n",
       "      <td>0.027322</td>\n",
       "      <td>0.025043</td>\n",
       "      <td>-0.018408</td>\n",
       "      <td>0.023453</td>\n",
       "      <td>-0.037978</td>\n",
       "      <td>0.008648</td>\n",
       "      <td>-0.024348</td>\n",
       "      <td>0.000418</td>\n",
       "      <td>0.034137</td>\n",
       "    </tr>\n",
       "    <tr>\n",
       "      <th>2021-01-05</th>\n",
       "      <td>0.039208</td>\n",
       "      <td>-0.072152</td>\n",
       "      <td>-0.040274</td>\n",
       "      <td>-0.006038</td>\n",
       "      <td>0.053646</td>\n",
       "      <td>-0.089688</td>\n",
       "      <td>0.007410</td>\n",
       "      <td>0.044441</td>\n",
       "      <td>0.017537</td>\n",
       "      <td>0.009050</td>\n",
       "      <td>-0.005158</td>\n",
       "    </tr>\n",
       "  </tbody>\n",
       "</table>\n",
       "</div>"
      ],
      "text/plain": [
       "Ticker            BE      BWEN      CSIQ     DOGEF      ENPH      FSLR  \\\n",
       "Date                                                                     \n",
       "2019-01-07       NaN       NaN       NaN       NaN       NaN       NaN   \n",
       "2019-01-08  0.025786 -0.006211  0.019643 -0.010302  0.017110  0.009609   \n",
       "2019-01-09 -0.046347  0.000000  0.004670  0.000000  0.052336  0.015791   \n",
       "2019-01-10 -0.009885 -0.043750  0.023823  0.026022  0.000000  0.016610   \n",
       "2019-01-11  0.018303  0.130719  0.002270 -0.002899  0.008881 -0.005027   \n",
       "2021-01-01  0.000000  0.000000  0.000000  0.000000  0.000000  0.000000   \n",
       "2021-01-02  0.000000  0.000000  0.000000  0.000000  0.000000  0.000000   \n",
       "2021-01-03  0.000000  0.000000  0.000000  0.000000  0.000000  0.000000   \n",
       "2021-01-04 -0.047802 -0.003783  0.027322  0.025043 -0.018408  0.023453   \n",
       "2021-01-05  0.039208 -0.072152 -0.040274 -0.006038  0.053646 -0.089688   \n",
       "\n",
       "Ticker           NEE       RUN      SEDG     SIEGY     VWSYF  \n",
       "Date                                                          \n",
       "2019-01-07       NaN       NaN       NaN       NaN       NaN  \n",
       "2019-01-08  0.007314  0.014205 -0.000286  0.001596  0.000000  \n",
       "2019-01-09 -0.004322  0.070962  0.013143  0.007969  0.038083  \n",
       "2019-01-10  0.015047  0.003487  0.014947  0.004568 -0.015433  \n",
       "2019-01-11  0.001825  0.012163  0.011392 -0.020112 -0.007709  \n",
       "2021-01-01  0.000000  0.000000  0.000000  0.000000  0.000000  \n",
       "2021-01-02  0.000000  0.000000  0.000000  0.000000  0.000000  \n",
       "2021-01-03  0.000000  0.000000  0.000000  0.000000  0.000000  \n",
       "2021-01-04 -0.037978  0.008648 -0.024348  0.000418  0.034137  \n",
       "2021-01-05  0.007410  0.044441  0.017537  0.009050 -0.005158  "
      ]
     },
     "execution_count": 21,
     "metadata": {},
     "output_type": "execute_result"
    }
   ],
   "source": [
    "returns.head().append(returns.tail())"
   ]
  },
  {
   "cell_type": "markdown",
   "metadata": {},
   "source": [
    "### Create & stack 52-week sequences"
   ]
  },
  {
   "cell_type": "markdown",
   "metadata": {},
   "source": [
    "We'll use 52-week sequences, which we'll create in a stacked format:"
   ]
  },
  {
   "cell_type": "code",
   "execution_count": 22,
   "metadata": {
    "ExecuteTime": {
     "end_time": "2020-06-21T23:12:13.172574Z",
     "start_time": "2020-06-21T23:12:13.170195Z"
    }
   },
   "outputs": [],
   "source": [
    "n = len(returns)\n",
    "T = 52 # weeks\n",
    "tcols = list(range(T))\n",
    "tickers = returns.columns"
   ]
  },
  {
   "cell_type": "code",
   "execution_count": 23,
   "metadata": {
    "ExecuteTime": {
     "end_time": "2020-06-21T23:12:57.482592Z",
     "start_time": "2020-06-21T23:12:13.174386Z"
    },
    "scrolled": true
   },
   "outputs": [
    {
     "name": "stdout",
     "output_type": "stream",
     "text": [
      "<class 'pandas.core.frame.DataFrame'>\n",
      "MultiIndex: 7447 entries, ('BE', Timestamp('2019-02-28 00:00:00')) to ('VWSYF', Timestamp('2021-01-04 00:00:00'))\n",
      "Data columns (total 53 columns):\n",
      " #   Column  Non-Null Count  Dtype  \n",
      "---  ------  --------------  -----  \n",
      " 0   0       7436 non-null   float64\n",
      " 1   1       7447 non-null   float64\n",
      " 2   2       7447 non-null   float64\n",
      " 3   3       7447 non-null   float64\n",
      " 4   4       7447 non-null   float64\n",
      " 5   5       7447 non-null   float64\n",
      " 6   6       7447 non-null   float64\n",
      " 7   7       7447 non-null   float64\n",
      " 8   8       7447 non-null   float64\n",
      " 9   9       7447 non-null   float64\n",
      " 10  10      7447 non-null   float64\n",
      " 11  11      7447 non-null   float64\n",
      " 12  12      7447 non-null   float64\n",
      " 13  13      7447 non-null   float64\n",
      " 14  14      7447 non-null   float64\n",
      " 15  15      7447 non-null   float64\n",
      " 16  16      7447 non-null   float64\n",
      " 17  17      7447 non-null   float64\n",
      " 18  18      7447 non-null   float64\n",
      " 19  19      7447 non-null   float64\n",
      " 20  20      7447 non-null   float64\n",
      " 21  21      7447 non-null   float64\n",
      " 22  22      7447 non-null   float64\n",
      " 23  23      7447 non-null   float64\n",
      " 24  24      7447 non-null   float64\n",
      " 25  25      7447 non-null   float64\n",
      " 26  26      7447 non-null   float64\n",
      " 27  27      7447 non-null   float64\n",
      " 28  28      7447 non-null   float64\n",
      " 29  29      7447 non-null   float64\n",
      " 30  30      7447 non-null   float64\n",
      " 31  31      7447 non-null   float64\n",
      " 32  32      7447 non-null   float64\n",
      " 33  33      7447 non-null   float64\n",
      " 34  34      7447 non-null   float64\n",
      " 35  35      7447 non-null   float64\n",
      " 36  36      7447 non-null   float64\n",
      " 37  37      7447 non-null   float64\n",
      " 38  38      7447 non-null   float64\n",
      " 39  39      7447 non-null   float64\n",
      " 40  40      7447 non-null   float64\n",
      " 41  41      7447 non-null   float64\n",
      " 42  42      7447 non-null   float64\n",
      " 43  43      7447 non-null   float64\n",
      " 44  44      7447 non-null   float64\n",
      " 45  45      7447 non-null   float64\n",
      " 46  46      7447 non-null   float64\n",
      " 47  47      7447 non-null   float64\n",
      " 48  48      7447 non-null   float64\n",
      " 49  49      7447 non-null   float64\n",
      " 50  50      7447 non-null   float64\n",
      " 51  51      7447 non-null   float64\n",
      " 52  52      7447 non-null   float64\n",
      "dtypes: float64(53)\n",
      "memory usage: 3.0+ MB\n"
     ]
    }
   ],
   "source": [
    "data = pd.DataFrame()\n",
    "for i in range(n-T-1):\n",
    "    df = returns.iloc[i:i+T+1]\n",
    "    date = df.index.max()    \n",
    "    data = pd.concat([data, (df.reset_index(drop=True).T\n",
    "                             .assign(date=date, ticker=tickers)\n",
    "                             .set_index(['ticker', 'date']))])\n",
    "data.info()"
   ]
  },
  {
   "cell_type": "code",
   "execution_count": 24,
   "metadata": {
    "ExecuteTime": {
     "end_time": "2020-06-21T23:13:06.958893Z",
     "start_time": "2020-06-21T23:12:57.483953Z"
    }
   },
   "outputs": [],
   "source": [
    "data[tcols] = (data[tcols].apply(lambda x: x.clip(lower=x.quantile(.01),\n",
    "                                                  upper=x.quantile(.99))))"
   ]
  },
  {
   "cell_type": "code",
   "execution_count": 25,
   "metadata": {
    "ExecuteTime": {
     "end_time": "2020-06-21T23:13:07.140397Z",
     "start_time": "2020-06-21T23:13:06.960091Z"
    }
   },
   "outputs": [],
   "source": [
    "data = data.rename(columns={0: 'fwd_returns'})"
   ]
  },
  {
   "cell_type": "code",
   "execution_count": 26,
   "metadata": {
    "ExecuteTime": {
     "end_time": "2020-06-21T23:13:07.147259Z",
     "start_time": "2020-06-21T23:13:07.141452Z"
    }
   },
   "outputs": [],
   "source": [
    "data['label'] = (data['fwd_returns'] > 0).astype(int)"
   ]
  },
  {
   "cell_type": "code",
   "execution_count": 27,
   "metadata": {
    "ExecuteTime": {
     "end_time": "2020-06-21T23:13:07.154688Z",
     "start_time": "2020-06-21T23:13:07.149452Z"
    }
   },
   "outputs": [
    {
     "data": {
      "text/plain": [
       "(7447, 54)"
      ]
     },
     "execution_count": 27,
     "metadata": {},
     "output_type": "execute_result"
    }
   ],
   "source": [
    "data.shape"
   ]
  },
  {
   "cell_type": "code",
   "execution_count": 28,
   "metadata": {
    "ExecuteTime": {
     "end_time": "2020-06-21T23:13:08.172023Z",
     "start_time": "2020-06-21T23:13:07.155929Z"
    }
   },
   "outputs": [],
   "source": [
    "data.sort_index().to_hdf('data.h5', 'returns_weekly')"
   ]
  }
 ],
 "metadata": {
  "kernelspec": {
   "display_name": "Python 3",
   "language": "python",
   "name": "python3"
  },
  "language_info": {
   "codemirror_mode": {
    "name": "ipython",
    "version": 3
   },
   "file_extension": ".py",
   "mimetype": "text/x-python",
   "name": "python",
   "nbconvert_exporter": "python",
   "pygments_lexer": "ipython3",
   "version": "3.6.12"
  },
  "toc": {
   "base_numbering": 1,
   "nav_menu": {},
   "number_sections": true,
   "sideBar": true,
   "skip_h1_title": true,
   "title_cell": "Table of Contents",
   "title_sidebar": "Contents",
   "toc_cell": false,
   "toc_position": {
    "height": "calc(100% - 180px)",
    "left": "10px",
    "top": "150px",
    "width": "282.222px"
   },
   "toc_section_display": true,
   "toc_window_display": true
  }
 },
 "nbformat": 4,
 "nbformat_minor": 4
}
