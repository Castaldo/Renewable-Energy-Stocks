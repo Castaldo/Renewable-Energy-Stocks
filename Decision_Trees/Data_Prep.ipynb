{
 "cells": [
  {
   "cell_type": "markdown",
   "metadata": {},
   "source": [
    "# How to transform data into factors"
   ]
  },
  {
   "cell_type": "markdown",
   "metadata": {},
   "source": [
    "Based on a conceptual understanding of key factor categories, their rationale and popular metrics, a key task is to identify new factors that may better capture the risks embodied by the return drivers laid out previously, or to find new ones. \n",
    "\n",
    "In either case, it will be important to compare the performance of innovative factors to that of known factors to identify incremental signal gains."
   ]
  },
  {
   "cell_type": "markdown",
   "metadata": {},
   "source": [
    "## Imports & Settings"
   ]
  },
  {
   "cell_type": "code",
   "execution_count": 1,
   "metadata": {
    "ExecuteTime": {
     "end_time": "2020-12-10T21:23:34.524348Z",
     "start_time": "2020-12-10T21:23:34.522162Z"
    }
   },
   "outputs": [],
   "source": [
    "import warnings\n",
    "warnings.filterwarnings('ignore')"
   ]
  },
  {
   "cell_type": "code",
   "execution_count": 2,
   "metadata": {
    "ExecuteTime": {
     "end_time": "2020-12-10T21:23:42.851773Z",
     "start_time": "2020-12-10T21:23:41.852406Z"
    }
   },
   "outputs": [],
   "source": [
    "%matplotlib inline\n",
    "\n",
    "import numpy as np\n",
    "import pandas as pd\n",
    "import pandas_datareader.data as web\n",
    "\n",
    "from pyfinance.ols import PandasRollingOLS\n",
    "from talib import RSI, BBANDS, MACD, NATR, ATR\n",
    "\n",
    "from sklearn.feature_selection import mutual_info_classif, mutual_info_regression\n",
    "\n",
    "import matplotlib.pyplot as plt\n",
    "import seaborn as sns"
   ]
  },
  {
   "cell_type": "code",
   "execution_count": 3,
   "metadata": {
    "ExecuteTime": {
     "end_time": "2020-12-10T21:23:42.855663Z",
     "start_time": "2020-12-10T21:23:42.853226Z"
    }
   },
   "outputs": [],
   "source": [
    "sns.set_style('whitegrid')\n",
    "idx = pd.IndexSlice"
   ]
  },
  {
   "cell_type": "markdown",
   "metadata": {},
   "source": [
    "## Load Energy OHLCV data"
   ]
  },
  {
   "cell_type": "code",
   "execution_count": 4,
   "metadata": {
    "ExecuteTime": {
     "end_time": "2020-12-10T21:23:50.797556Z",
     "start_time": "2020-12-10T21:23:50.795057Z"
    }
   },
   "outputs": [],
   "source": [
    "DATA_STORE = '../Data_Processing/Data/h5/assets.h5'"
   ]
  },
  {
   "cell_type": "code",
   "execution_count": 5,
   "metadata": {
    "ExecuteTime": {
     "end_time": "2020-12-10T21:23:51.268470Z",
     "start_time": "2020-12-10T21:23:51.265417Z"
    }
   },
   "outputs": [],
   "source": [
    "YEAR = 12"
   ]
  },
  {
   "cell_type": "code",
   "execution_count": 6,
   "metadata": {
    "ExecuteTime": {
     "end_time": "2020-12-10T21:23:51.598126Z",
     "start_time": "2020-12-10T21:23:51.593626Z"
    }
   },
   "outputs": [],
   "source": [
    "START = 2018\n",
    "END = 2020"
   ]
  },
  {
   "cell_type": "code",
   "execution_count": 7,
   "metadata": {
    "ExecuteTime": {
     "end_time": "2020-12-10T21:24:02.034999Z",
     "start_time": "2020-12-10T21:23:51.953994Z"
    }
   },
   "outputs": [],
   "source": [
    "with pd.HDFStore(DATA_STORE) as store:\n",
    "    prices = (store['Alt_Energy/prices']\n",
    "              .loc[idx[str(START):str(END), :], :]\n",
    "              .dropna()\n",
    "              .swaplevel()\n",
    "              .dropna())"
   ]
  },
  {
   "cell_type": "code",
   "execution_count": 8,
   "metadata": {
    "ExecuteTime": {
     "end_time": "2020-12-10T21:24:02.722048Z",
     "start_time": "2020-12-10T21:24:02.036390Z"
    }
   },
   "outputs": [
    {
     "name": "stdout",
     "output_type": "stream",
     "text": [
      "<class 'pandas.core.frame.DataFrame'>\n",
      "MultiIndex: 5522 entries, ('BE', Timestamp('2019-01-07 00:00:00')) to ('VWSYF', Timestamp('2020-12-31 00:00:00'))\n",
      "Data columns (total 5 columns):\n",
      " #   Column  Non-Null Count  Dtype  \n",
      "---  ------  --------------  -----  \n",
      " 0   Open    5522 non-null   float64\n",
      " 1   High    5522 non-null   float64\n",
      " 2   Low     5522 non-null   float64\n",
      " 3   Close   5522 non-null   float64\n",
      " 4   Volume  5522 non-null   int64  \n",
      "dtypes: float64(4), int64(1)\n",
      "memory usage: 236.0+ KB\n"
     ]
    }
   ],
   "source": [
    "prices.info(null_counts=True)"
   ]
  },
  {
   "cell_type": "markdown",
   "metadata": {},
   "source": [
    "## Add some Basic Factors"
   ]
  },
  {
   "cell_type": "markdown",
   "metadata": {},
   "source": [
    "### Compute the Relative Strength Index"
   ]
  },
  {
   "cell_type": "code",
   "execution_count": 10,
   "metadata": {
    "ExecuteTime": {
     "end_time": "2020-06-19T13:30:52.470184Z",
     "start_time": "2020-06-19T13:30:41.634583Z"
    }
   },
   "outputs": [],
   "source": [
    "prices['rsi'] = prices.groupby(level='Ticker').Close.apply(RSI)"
   ]
  },
  {
   "cell_type": "code",
   "execution_count": 11,
   "metadata": {
    "ExecuteTime": {
     "end_time": "2020-06-19T13:30:55.642753Z",
     "start_time": "2020-06-19T13:30:52.471071Z"
    }
   },
   "outputs": [
    {
     "data": {
      "image/png": "[encoded data removed]",
      "text/plain": [
       "<Figure size 432x288 with 1 Axes>"
      ]
     },
     "metadata": {},
     "output_type": "display_data"
    }
   ],
   "source": [
    "sns.distplot(prices.rsi);"
   ]
  },
  {
   "cell_type": "markdown",
   "metadata": {},
   "source": [
    "### Compute Bollinger Bands"
   ]
  },
  {
   "cell_type": "code",
   "execution_count": 12,
   "metadata": {
    "ExecuteTime": {
     "end_time": "2020-06-19T13:30:55.646276Z",
     "start_time": "2020-06-19T13:30:55.643662Z"
    }
   },
   "outputs": [],
   "source": [
    "def compute_bb(close):\n",
    "    high, mid, low = BBANDS(np.log1p(close), timeperiod=20)\n",
    "    return pd.DataFrame({'bb_high': high,\n",
    "                         'bb_mid': mid,\n",
    "                         'bb_low': low}, index=close.index)"
   ]
  },
  {
   "cell_type": "code",
   "execution_count": 13,
   "metadata": {
    "ExecuteTime": {
     "end_time": "2020-06-19T13:31:07.243860Z",
     "start_time": "2020-06-19T13:30:55.647616Z"
    }
   },
   "outputs": [],
   "source": [
    "prices = (prices.join(prices\n",
    "                      .groupby(level='Ticker')\n",
    "                      .Close\n",
    "                      .apply(compute_bb)))"
   ]
  },
  {
   "cell_type": "code",
   "execution_count": 14,
   "metadata": {
    "ExecuteTime": {
     "end_time": "2020-06-19T13:31:07.813355Z",
     "start_time": "2020-06-19T13:31:07.244774Z"
    }
   },
   "outputs": [
    {
     "name": "stdout",
     "output_type": "stream",
     "text": [
      "<class 'pandas.core.frame.DataFrame'>\n",
      "MultiIndex: 5522 entries, ('BE', Timestamp('2019-01-07 00:00:00')) to ('VWSYF', Timestamp('2020-12-31 00:00:00'))\n",
      "Data columns (total 9 columns):\n",
      " #   Column   Non-Null Count  Dtype  \n",
      "---  ------   --------------  -----  \n",
      " 0   Open     5522 non-null   float64\n",
      " 1   High     5522 non-null   float64\n",
      " 2   Low      5522 non-null   float64\n",
      " 3   Close    5522 non-null   float64\n",
      " 4   Volume   5522 non-null   int64  \n",
      " 5   rsi      5368 non-null   float64\n",
      " 6   bb_high  5313 non-null   float64\n",
      " 7   bb_mid   5313 non-null   float64\n",
      " 8   bb_low   5313 non-null   float64\n",
      "dtypes: float64(8), int64(1)\n",
      "memory usage: 568.6+ KB\n"
     ]
    }
   ],
   "source": [
    "prices.info(null_counts=True)"
   ]
  },
  {
   "cell_type": "code",
   "execution_count": 15,
   "metadata": {
    "ExecuteTime": {
     "end_time": "2020-06-19T13:31:08.961375Z",
     "start_time": "2020-06-19T13:31:07.814282Z"
    }
   },
   "outputs": [
    {
     "data": {
      "text/html": [
       "<div>\n",
       "<style scoped>\n",
       "    .dataframe tbody tr th:only-of-type {\n",
       "        vertical-align: middle;\n",
       "    }\n",
       "\n",
       "    .dataframe tbody tr th {\n",
       "        vertical-align: top;\n",
       "    }\n",
       "\n",
       "    .dataframe thead th {\n",
       "        text-align: right;\n",
       "    }\n",
       "</style>\n",
       "<table border=\"1\" class=\"dataframe\">\n",
       "  <thead>\n",
       "    <tr style=\"text-align: right;\">\n",
       "      <th></th>\n",
       "      <th>bb_high</th>\n",
       "      <th>bb_mid</th>\n",
       "      <th>bb_low</th>\n",
       "    </tr>\n",
       "  </thead>\n",
       "  <tbody>\n",
       "    <tr>\n",
       "      <th>count</th>\n",
       "      <td>5313.000000</td>\n",
       "      <td>5313.000000</td>\n",
       "      <td>5313.000000</td>\n",
       "    </tr>\n",
       "    <tr>\n",
       "      <th>mean</th>\n",
       "      <td>3.681155</td>\n",
       "      <td>3.565432</td>\n",
       "      <td>3.449708</td>\n",
       "    </tr>\n",
       "    <tr>\n",
       "      <th>std</th>\n",
       "      <td>1.084951</td>\n",
       "      <td>1.100564</td>\n",
       "      <td>1.123592</td>\n",
       "    </tr>\n",
       "    <tr>\n",
       "      <th>min</th>\n",
       "      <td>0.926910</td>\n",
       "      <td>0.842384</td>\n",
       "      <td>0.673113</td>\n",
       "    </tr>\n",
       "    <tr>\n",
       "      <th>25%</th>\n",
       "      <td>3.022453</td>\n",
       "      <td>2.879058</td>\n",
       "      <td>2.747568</td>\n",
       "    </tr>\n",
       "    <tr>\n",
       "      <th>50%</th>\n",
       "      <td>4.007232</td>\n",
       "      <td>3.926280</td>\n",
       "      <td>3.850049</td>\n",
       "    </tr>\n",
       "    <tr>\n",
       "      <th>75%</th>\n",
       "      <td>4.436697</td>\n",
       "      <td>4.353777</td>\n",
       "      <td>4.289960</td>\n",
       "    </tr>\n",
       "    <tr>\n",
       "      <th>max</th>\n",
       "      <td>5.907444</td>\n",
       "      <td>5.710831</td>\n",
       "      <td>5.580956</td>\n",
       "    </tr>\n",
       "  </tbody>\n",
       "</table>\n",
       "</div>"
      ],
      "text/plain": [
       "           bb_high       bb_mid       bb_low\n",
       "count  5313.000000  5313.000000  5313.000000\n",
       "mean      3.681155     3.565432     3.449708\n",
       "std       1.084951     1.100564     1.123592\n",
       "min       0.926910     0.842384     0.673113\n",
       "25%       3.022453     2.879058     2.747568\n",
       "50%       4.007232     3.926280     3.850049\n",
       "75%       4.436697     4.353777     4.289960\n",
       "max       5.907444     5.710831     5.580956"
      ]
     },
     "execution_count": 15,
     "metadata": {},
     "output_type": "execute_result"
    }
   ],
   "source": [
    "prices.filter(like='bb_').describe()"
   ]
  },
  {
   "cell_type": "code",
   "execution_count": 16,
   "metadata": {
    "ExecuteTime": {
     "end_time": "2020-06-19T13:31:18.504726Z",
     "start_time": "2020-06-19T13:31:08.962582Z"
    }
   },
   "outputs": [
    {
     "data": {
      "image/png": "[encoded data removed]",
      "text/plain": [
       "<Figure size 1080x288 with 3 Axes>"
      ]
     },
     "metadata": {},
     "output_type": "display_data"
    }
   ],
   "source": [
    "fig, axes = plt.subplots(ncols=3, figsize=(15,4))\n",
    "for i, col in enumerate(['bb_low', 'bb_mid', 'bb_low']):\n",
    "    sns.distplot(prices[col], ax=axes[i])\n",
    "    axes[i].set_title(col);\n",
    "fig.tight_layout();"
   ]
  },
  {
   "cell_type": "code",
   "execution_count": 17,
   "metadata": {
    "ExecuteTime": {
     "end_time": "2020-06-19T13:31:18.806350Z",
     "start_time": "2020-06-19T13:31:18.505878Z"
    }
   },
   "outputs": [],
   "source": [
    "prices['bb_up'] = prices.bb_high.sub(np.log1p(prices.Close))\n",
    "prices['bb_down'] = np.log1p(prices.Close).sub(prices.bb_low)"
   ]
  },
  {
   "cell_type": "code",
   "execution_count": 18,
   "metadata": {
    "ExecuteTime": {
     "end_time": "2020-06-19T13:31:21.494970Z",
     "start_time": "2020-06-19T13:31:18.808865Z"
    }
   },
   "outputs": [
    {
     "data": {
      "image/png": "[encoded data removed]",
      "text/plain": [
       "<Figure size 720x288 with 2 Axes>"
      ]
     },
     "metadata": {},
     "output_type": "display_data"
    }
   ],
   "source": [
    "fig, axes = plt.subplots(ncols=2, figsize=(10,4))\n",
    "for i, col in enumerate(['bb_down', 'bb_up']):\n",
    "    sns.boxenplot(prices[col], ax=axes[i])\n",
    "    axes[i].set_title(col);\n",
    "fig.tight_layout();"
   ]
  },
  {
   "cell_type": "markdown",
   "metadata": {},
   "source": [
    "### Compute Average True Range"
   ]
  },
  {
   "cell_type": "markdown",
   "metadata": {},
   "source": [
    "Helper for indicators with multiple inputs:"
   ]
  },
  {
   "cell_type": "code",
   "execution_count": 19,
   "metadata": {
    "ExecuteTime": {
     "end_time": "2020-06-19T13:31:21.941026Z",
     "start_time": "2020-06-19T13:31:21.497351Z"
    }
   },
   "outputs": [],
   "source": [
    "by_ticker = prices.groupby('Ticker', group_keys=False)"
   ]
  },
  {
   "cell_type": "code",
   "execution_count": 20,
   "metadata": {
    "ExecuteTime": {
     "end_time": "2020-06-19T13:31:21.944082Z",
     "start_time": "2020-06-19T13:31:21.941871Z"
    }
   },
   "outputs": [],
   "source": [
    "def compute_atr(stock_data):\n",
    "    atr = ATR(stock_data.High, \n",
    "              stock_data.Low, \n",
    "              stock_data.Close, \n",
    "              timeperiod=14)\n",
    "    return atr.sub(atr.mean()).div(atr.std())"
   ]
  },
  {
   "cell_type": "code",
   "execution_count": 21,
   "metadata": {
    "ExecuteTime": {
     "end_time": "2020-06-19T13:31:34.815773Z",
     "start_time": "2020-06-19T13:31:21.945257Z"
    }
   },
   "outputs": [],
   "source": [
    "prices['atr'] = by_ticker.apply(compute_atr)"
   ]
  },
  {
   "cell_type": "code",
   "execution_count": 22,
   "metadata": {
    "ExecuteTime": {
     "end_time": "2020-06-19T13:31:37.930409Z",
     "start_time": "2020-06-19T13:31:34.816699Z"
    }
   },
   "outputs": [
    {
     "data": {
      "image/png": "[encoded data removed]",
      "text/plain": [
       "<Figure size 432x288 with 1 Axes>"
      ]
     },
     "metadata": {},
     "output_type": "display_data"
    }
   ],
   "source": [
    "sns.distplot(prices.atr);"
   ]
  },
  {
   "cell_type": "code",
   "execution_count": 23,
   "metadata": {
    "ExecuteTime": {
     "end_time": "2020-06-19T13:31:50.373966Z",
     "start_time": "2020-06-19T13:31:37.931543Z"
    }
   },
   "outputs": [],
   "source": [
    "prices['natr'] = by_ticker.apply(lambda x: NATR(high=x.High, low=x.Low, close=x.Close))"
   ]
  },
  {
   "cell_type": "code",
   "execution_count": 24,
   "metadata": {
    "ExecuteTime": {
     "end_time": "2020-06-19T13:31:53.452178Z",
     "start_time": "2020-06-19T13:31:50.375046Z"
    }
   },
   "outputs": [
    {
     "data": {
      "image/png": "[encoded data removed]",
      "text/plain": [
       "<Figure size 432x288 with 1 Axes>"
      ]
     },
     "metadata": {},
     "output_type": "display_data"
    }
   ],
   "source": [
    "sns.distplot(prices.natr[prices.natr<10]);"
   ]
  },
  {
   "cell_type": "markdown",
   "metadata": {},
   "source": [
    "### Compute Moving Average Convergence/Divergence"
   ]
  },
  {
   "cell_type": "code",
   "execution_count": 25,
   "metadata": {
    "ExecuteTime": {
     "end_time": "2020-06-19T13:32:03.999625Z",
     "start_time": "2020-06-19T13:31:53.453379Z"
    },
    "scrolled": false
   },
   "outputs": [],
   "source": [
    "def compute_macd(close):\n",
    "    macd = MACD(close)[0]\n",
    "    return macd.sub(macd.mean()).div(macd.std())\n",
    "\n",
    "prices['macd'] = prices.groupby(level='Ticker').Close.apply(compute_macd)"
   ]
  },
  {
   "cell_type": "code",
   "execution_count": 26,
   "metadata": {
    "ExecuteTime": {
     "end_time": "2020-06-19T13:32:07.164606Z",
     "start_time": "2020-06-19T13:32:04.000697Z"
    }
   },
   "outputs": [
    {
     "data": {
      "image/png": "[encoded data removed]",
      "text/plain": [
       "<Figure size 432x288 with 1 Axes>"
      ]
     },
     "metadata": {},
     "output_type": "display_data"
    }
   ],
   "source": [
    "sns.distplot(prices.macd);"
   ]
  },
  {
   "cell_type": "markdown",
   "metadata": {},
   "source": [
    "## Compute dollar volume to determine universe"
   ]
  },
  {
   "cell_type": "code",
   "execution_count": 27,
   "metadata": {
    "ExecuteTime": {
     "end_time": "2020-12-10T21:24:56.643158Z",
     "start_time": "2020-12-10T21:24:56.553739Z"
    }
   },
   "outputs": [],
   "source": [
    "prices['dollar_volume'] = (prices.loc[:, 'Close']\n",
    "                           .mul(prices.loc[:, 'Volume'], axis=0))\n",
    "\n",
    "prices.dollar_volume /= 1e6"
   ]
  },
  {
   "cell_type": "code",
   "execution_count": 28,
   "metadata": {
    "ExecuteTime": {
     "end_time": "2020-06-19T13:32:08.723777Z",
     "start_time": "2020-06-19T13:32:07.247380Z"
    }
   },
   "outputs": [],
   "source": [
    "prices.to_hdf('data.h5', 'us/Alt_Energy/prices')"
   ]
  },
  {
   "cell_type": "code",
   "execution_count": 29,
   "metadata": {
    "ExecuteTime": {
     "end_time": "2020-06-19T13:32:10.679075Z",
     "start_time": "2020-06-19T13:32:08.724691Z"
    }
   },
   "outputs": [
    {
     "name": "stdout",
     "output_type": "stream",
     "text": [
      "<class 'pandas.core.frame.DataFrame'>\n",
      "MultiIndex: 5522 entries, ('BE', Timestamp('2019-01-07 00:00:00')) to ('VWSYF', Timestamp('2020-12-31 00:00:00'))\n",
      "Data columns (total 15 columns):\n",
      " #   Column         Non-Null Count  Dtype  \n",
      "---  ------         --------------  -----  \n",
      " 0   Open           5522 non-null   float64\n",
      " 1   High           5522 non-null   float64\n",
      " 2   Low            5522 non-null   float64\n",
      " 3   Close          5522 non-null   float64\n",
      " 4   Volume         5522 non-null   int64  \n",
      " 5   rsi            5368 non-null   float64\n",
      " 6   bb_high        5313 non-null   float64\n",
      " 7   bb_mid         5313 non-null   float64\n",
      " 8   bb_low         5313 non-null   float64\n",
      " 9   bb_up          5313 non-null   float64\n",
      " 10  bb_down        5313 non-null   float64\n",
      " 11  atr            5368 non-null   float64\n",
      " 12  natr           5368 non-null   float64\n",
      " 13  macd           5159 non-null   float64\n",
      " 14  dollar_volume  5522 non-null   float64\n",
      "dtypes: float64(14), int64(1)\n",
      "memory usage: 667.4+ KB\n"
     ]
    }
   ],
   "source": [
    "prices = pd.read_hdf('data.h5', 'us/Alt_Energy/prices')\n",
    "prices.info(null_counts=True)"
   ]
  },
  {
   "cell_type": "markdown",
   "metadata": {},
   "source": [
    "## Resample OHLCV prices to monthly frequency"
   ]
  },
  {
   "cell_type": "markdown",
   "metadata": {},
   "source": [
    "To reduce training time and experiment with strategies for longer time horizons, we convert the business-daily data to month-end frequency using the available adjusted close price:"
   ]
  },
  {
   "cell_type": "code",
   "execution_count": 30,
   "metadata": {
    "ExecuteTime": {
     "end_time": "2020-12-10T21:25:00.394869Z",
     "start_time": "2020-12-10T21:25:00.392363Z"
    }
   },
   "outputs": [],
   "source": [
    "last_cols = [c for c in prices.columns.unique(0) if c not in ['dollar_volume', 'Volume',\n",
    "                                                              'Open', 'High', 'Low']]"
   ]
  },
  {
   "cell_type": "code",
   "execution_count": 31,
   "metadata": {
    "ExecuteTime": {
     "end_time": "2020-12-10T21:25:05.026732Z",
     "start_time": "2020-12-10T21:25:00.769772Z"
    }
   },
   "outputs": [],
   "source": [
    "prices = prices.unstack('Ticker')"
   ]
  },
  {
   "cell_type": "code",
   "execution_count": 32,
   "metadata": {
    "ExecuteTime": {
     "end_time": "2020-12-10T21:25:13.113316Z",
     "start_time": "2020-12-10T21:25:05.027800Z"
    }
   },
   "outputs": [],
   "source": [
    "data = (pd.concat([prices.dollar_volume.resample('D').mean().stack('Ticker').to_frame('dollar_volume'),\n",
    "                   prices[last_cols].resample('D').last().stack('Ticker')],\n",
    "                  axis=1)\n",
    "        .swaplevel()\n",
    "        .dropna())"
   ]
  },
  {
   "cell_type": "code",
   "execution_count": 33,
   "metadata": {
    "ExecuteTime": {
     "end_time": "2020-12-10T21:25:13.144767Z",
     "start_time": "2020-12-10T21:25:13.114850Z"
    }
   },
   "outputs": [
    {
     "name": "stdout",
     "output_type": "stream",
     "text": [
      "<class 'pandas.core.frame.DataFrame'>\n",
      "MultiIndex: 5159 entries, ('BE', Timestamp('2019-02-25 00:00:00', freq='D')) to ('VWSYF', Timestamp('2020-12-31 00:00:00', freq='D'))\n",
      "Data columns (total 11 columns):\n",
      " #   Column         Non-Null Count  Dtype  \n",
      "---  ------         --------------  -----  \n",
      " 0   dollar_volume  5159 non-null   float64\n",
      " 1   Close          5159 non-null   float64\n",
      " 2   atr            5159 non-null   float64\n",
      " 3   bb_down        5159 non-null   float64\n",
      " 4   bb_high        5159 non-null   float64\n",
      " 5   bb_low         5159 non-null   float64\n",
      " 6   bb_mid         5159 non-null   float64\n",
      " 7   bb_up          5159 non-null   float64\n",
      " 8   macd           5159 non-null   float64\n",
      " 9   natr           5159 non-null   float64\n",
      " 10  rsi            5159 non-null   float64\n",
      "dtypes: float64(11)\n",
      "memory usage: 464.3+ KB\n"
     ]
    }
   ],
   "source": [
    "data.info()"
   ]
  },
  {
   "cell_type": "markdown",
   "metadata": {},
   "source": [
    "## Create monthly return series"
   ]
  },
  {
   "cell_type": "markdown",
   "metadata": {},
   "source": [
    "To capture time series dynamics that reflect, for example, momentum patterns, we compute historical returns using the method `.pct_change(n_periods)`, that is, returns over various monthly periods as identified by lags.\n",
    "\n",
    "We then convert the wide result back to long format with the `.stack()` method, use `.pipe()` to apply the `.clip()` method to the resulting `DataFrame`, and winsorize returns at the [1%, 99%] levels; that is, we cap outliers at these percentiles.\n",
    "\n",
    "Finally, we normalize returns using the geometric average. After using `.swaplevel()` to change the order of the `MultiIndex` levels, we obtain compounded monthly returns for six periods ranging from 1 to 12 months:"
   ]
  },
  {
   "cell_type": "code",
   "execution_count": 34,
   "metadata": {
    "ExecuteTime": {
     "end_time": "2020-06-19T13:32:26.682644Z",
     "start_time": "2020-06-19T13:32:26.678247Z"
    }
   },
   "outputs": [],
   "source": [
    "outlier_cutoff = 0.01\n",
    "lags = [1, 3, 6, 12]\n",
    "returns = []"
   ]
  },
  {
   "cell_type": "code",
   "execution_count": 35,
   "metadata": {
    "ExecuteTime": {
     "end_time": "2020-06-19T13:32:30.075537Z",
     "start_time": "2020-06-19T13:32:26.684285Z"
    }
   },
   "outputs": [
    {
     "name": "stdout",
     "output_type": "stream",
     "text": [
      "<class 'pandas.core.frame.DataFrame'>\n",
      "MultiIndex: 5148 entries, ('BE', Timestamp('2019-02-26 00:00:00')) to ('VWSYF', Timestamp('2020-12-31 00:00:00'))\n",
      "Data columns (total 4 columns):\n",
      " #   Column      Non-Null Count  Dtype  \n",
      "---  ------      --------------  -----  \n",
      " 0   return_1m   5148 non-null   float64\n",
      " 1   return_3m   5126 non-null   float64\n",
      " 2   return_6m   5093 non-null   float64\n",
      " 3   return_12m  5027 non-null   float64\n",
      "dtypes: float64(4)\n",
      "memory usage: 179.8+ KB\n"
     ]
    }
   ],
   "source": [
    "for lag in lags:\n",
    "    returns.append(data\n",
    "                   .Close\n",
    "                   .unstack('Ticker')\n",
    "                   .sort_index()\n",
    "                   .pct_change(lag)\n",
    "                   .stack('Ticker')\n",
    "                   .pipe(lambda x: x.clip(lower=x.quantile(outlier_cutoff),\n",
    "                                          upper=x.quantile(1-outlier_cutoff)))\n",
    "                   .add(1)\n",
    "                   .pow(1/lag)\n",
    "                   .sub(1)\n",
    "                   .to_frame(f'return_{lag}m')\n",
    "                   )\n",
    "    \n",
    "returns = pd.concat(returns, axis=1).swaplevel()\n",
    "returns.info(null_counts=True)"
   ]
  },
  {
   "cell_type": "code",
   "execution_count": 36,
   "metadata": {
    "ExecuteTime": {
     "end_time": "2020-06-19T13:32:30.115742Z",
     "start_time": "2020-06-19T13:32:30.076409Z"
    }
   },
   "outputs": [
    {
     "data": {
      "text/html": [
       "<div>\n",
       "<style scoped>\n",
       "    .dataframe tbody tr th:only-of-type {\n",
       "        vertical-align: middle;\n",
       "    }\n",
       "\n",
       "    .dataframe tbody tr th {\n",
       "        vertical-align: top;\n",
       "    }\n",
       "\n",
       "    .dataframe thead th {\n",
       "        text-align: right;\n",
       "    }\n",
       "</style>\n",
       "<table border=\"1\" class=\"dataframe\">\n",
       "  <thead>\n",
       "    <tr style=\"text-align: right;\">\n",
       "      <th></th>\n",
       "      <th>return_1m</th>\n",
       "      <th>return_3m</th>\n",
       "      <th>return_6m</th>\n",
       "      <th>return_12m</th>\n",
       "    </tr>\n",
       "  </thead>\n",
       "  <tbody>\n",
       "    <tr>\n",
       "      <th>count</th>\n",
       "      <td>5148.000000</td>\n",
       "      <td>5126.000000</td>\n",
       "      <td>5093.000000</td>\n",
       "      <td>5027.000000</td>\n",
       "    </tr>\n",
       "    <tr>\n",
       "      <th>mean</th>\n",
       "      <td>0.003313</td>\n",
       "      <td>0.003010</td>\n",
       "      <td>0.002904</td>\n",
       "      <td>0.002666</td>\n",
       "    </tr>\n",
       "    <tr>\n",
       "      <th>std</th>\n",
       "      <td>0.037087</td>\n",
       "      <td>0.022714</td>\n",
       "      <td>0.016471</td>\n",
       "      <td>0.011868</td>\n",
       "    </tr>\n",
       "    <tr>\n",
       "      <th>min</th>\n",
       "      <td>-0.115599</td>\n",
       "      <td>-0.066615</td>\n",
       "      <td>-0.050863</td>\n",
       "      <td>-0.036434</td>\n",
       "    </tr>\n",
       "    <tr>\n",
       "      <th>25%</th>\n",
       "      <td>-0.013119</td>\n",
       "      <td>-0.007105</td>\n",
       "      <td>-0.004562</td>\n",
       "      <td>-0.002712</td>\n",
       "    </tr>\n",
       "    <tr>\n",
       "      <th>50%</th>\n",
       "      <td>0.001282</td>\n",
       "      <td>0.001937</td>\n",
       "      <td>0.001986</td>\n",
       "      <td>0.002161</td>\n",
       "    </tr>\n",
       "    <tr>\n",
       "      <th>75%</th>\n",
       "      <td>0.019083</td>\n",
       "      <td>0.012563</td>\n",
       "      <td>0.010137</td>\n",
       "      <td>0.008453</td>\n",
       "    </tr>\n",
       "    <tr>\n",
       "      <th>max</th>\n",
       "      <td>0.131982</td>\n",
       "      <td>0.087420</td>\n",
       "      <td>0.056554</td>\n",
       "      <td>0.037776</td>\n",
       "    </tr>\n",
       "  </tbody>\n",
       "</table>\n",
       "</div>"
      ],
      "text/plain": [
       "         return_1m    return_3m    return_6m   return_12m\n",
       "count  5148.000000  5126.000000  5093.000000  5027.000000\n",
       "mean      0.003313     0.003010     0.002904     0.002666\n",
       "std       0.037087     0.022714     0.016471     0.011868\n",
       "min      -0.115599    -0.066615    -0.050863    -0.036434\n",
       "25%      -0.013119    -0.007105    -0.004562    -0.002712\n",
       "50%       0.001282     0.001937     0.001986     0.002161\n",
       "75%       0.019083     0.012563     0.010137     0.008453\n",
       "max       0.131982     0.087420     0.056554     0.037776"
      ]
     },
     "execution_count": 36,
     "metadata": {},
     "output_type": "execute_result"
    }
   ],
   "source": [
    "returns.describe()"
   ]
  },
  {
   "cell_type": "code",
   "execution_count": 37,
   "metadata": {
    "ExecuteTime": {
     "end_time": "2020-06-19T13:32:30.625896Z",
     "start_time": "2020-06-19T13:32:30.117019Z"
    }
   },
   "outputs": [
    {
     "data": {
      "image/png": "[encoded data removed]",
      "text/plain": [
       "<Figure size 720x720 with 4 Axes>"
      ]
     },
     "metadata": {},
     "output_type": "display_data"
    }
   ],
   "source": [
    "cmap = sns.diverging_palette(10, 220, as_cmap=True)\n",
    "sns.clustermap(returns.corr('spearman'), annot=True, center=0, cmap=cmap);"
   ]
  },
  {
   "cell_type": "code",
   "execution_count": 38,
   "metadata": {
    "ExecuteTime": {
     "end_time": "2020-06-19T13:32:30.927986Z",
     "start_time": "2020-06-19T13:32:30.627078Z"
    }
   },
   "outputs": [
    {
     "name": "stdout",
     "output_type": "stream",
     "text": [
      "<class 'pandas.core.frame.DataFrame'>\n",
      "MultiIndex: 5027 entries, ('BE', Timestamp('2019-03-13 00:00:00', freq='D')) to ('VWSYF', Timestamp('2020-12-31 00:00:00', freq='D'))\n",
      "Data columns (total 14 columns):\n",
      " #   Column         Non-Null Count  Dtype  \n",
      "---  ------         --------------  -----  \n",
      " 0   dollar_volume  5027 non-null   float64\n",
      " 1   atr            5027 non-null   float64\n",
      " 2   bb_down        5027 non-null   float64\n",
      " 3   bb_high        5027 non-null   float64\n",
      " 4   bb_low         5027 non-null   float64\n",
      " 5   bb_mid         5027 non-null   float64\n",
      " 6   bb_up          5027 non-null   float64\n",
      " 7   macd           5027 non-null   float64\n",
      " 8   natr           5027 non-null   float64\n",
      " 9   rsi            5027 non-null   float64\n",
      " 10  return_1m      5027 non-null   float64\n",
      " 11  return_3m      5027 non-null   float64\n",
      " 12  return_6m      5027 non-null   float64\n",
      " 13  return_12m     5027 non-null   float64\n",
      "dtypes: float64(14)\n",
      "memory usage: 570.4+ KB\n"
     ]
    }
   ],
   "source": [
    "data = data.join(returns).drop('Close', axis=1).dropna()\n",
    "data.info(null_counts=True)"
   ]
  },
  {
   "cell_type": "markdown",
   "metadata": {},
   "source": [
    "## Momentum factors"
   ]
  },
  {
   "cell_type": "markdown",
   "metadata": {},
   "source": [
    "We can use these results to compute momentum factors based on the difference between returns over longer periods and the most recent monthly return, as well as for the difference between 3 and 12 month returns as follows:"
   ]
  },
  {
   "cell_type": "code",
   "execution_count": 39,
   "metadata": {
    "ExecuteTime": {
     "end_time": "2020-06-19T13:32:32.615652Z",
     "start_time": "2020-06-19T13:32:32.607879Z"
    }
   },
   "outputs": [],
   "source": [
    "for lag in [3, 6, 12]:\n",
    "    data[f'momentum_{lag}'] = data[f'return_{lag}m'].sub(data.return_1m)\n",
    "    if lag > 3:\n",
    "        data[f'momentum_3_{lag}'] = data[f'return_{lag}m'].sub(data.return_3m)    "
   ]
  },
  {
   "cell_type": "markdown",
   "metadata": {},
   "source": [
    "## Date Indicators"
   ]
  },
  {
   "cell_type": "code",
   "execution_count": 40,
   "metadata": {
    "ExecuteTime": {
     "end_time": "2020-06-19T13:32:32.629913Z",
     "start_time": "2020-06-19T13:32:32.616835Z"
    }
   },
   "outputs": [],
   "source": [
    "dates = data.index.get_level_values('Date')\n",
    "data['month'] = dates.month"
   ]
  },
  {
   "cell_type": "markdown",
   "metadata": {},
   "source": [
    "## Target: Holding Period Returns"
   ]
  },
  {
   "cell_type": "markdown",
   "metadata": {},
   "source": [
    "To compute returns for our one-month target holding period, we use the returns computed previously and shift them back to align them with the current financial features."
   ]
  },
  {
   "cell_type": "code",
   "execution_count": 41,
   "metadata": {
    "ExecuteTime": {
     "end_time": "2020-06-19T13:32:32.643323Z",
     "start_time": "2020-06-19T13:32:32.631304Z"
    }
   },
   "outputs": [],
   "source": [
    "data['target'] = data.groupby(level='Ticker')[f'return_1m'].shift(-1)"
   ]
  },
  {
   "cell_type": "code",
   "execution_count": 42,
   "metadata": {
    "ExecuteTime": {
     "end_time": "2020-06-19T13:32:32.659711Z",
     "start_time": "2020-06-19T13:32:32.644589Z"
    }
   },
   "outputs": [],
   "source": [
    "data = data.dropna()"
   ]
  },
  {
   "cell_type": "code",
   "execution_count": 43,
   "metadata": {
    "ExecuteTime": {
     "end_time": "2020-06-19T13:32:32.691249Z",
     "start_time": "2020-06-19T13:32:32.661171Z"
    },
    "scrolled": false
   },
   "outputs": [
    {
     "name": "stdout",
     "output_type": "stream",
     "text": [
      "<class 'pandas.core.frame.DataFrame'>\n",
      "MultiIndex: 5016 entries, ('BE', Timestamp('2019-03-13 00:00:00', freq='D')) to ('VWSYF', Timestamp('2020-12-30 00:00:00', freq='D'))\n",
      "Data columns (total 21 columns):\n",
      " #   Column         Non-Null Count  Dtype  \n",
      "---  ------         --------------  -----  \n",
      " 0   dollar_volume  5016 non-null   float64\n",
      " 1   atr            5016 non-null   float64\n",
      " 2   bb_down        5016 non-null   float64\n",
      " 3   bb_high        5016 non-null   float64\n",
      " 4   bb_low         5016 non-null   float64\n",
      " 5   bb_mid         5016 non-null   float64\n",
      " 6   bb_up          5016 non-null   float64\n",
      " 7   macd           5016 non-null   float64\n",
      " 8   natr           5016 non-null   float64\n",
      " 9   rsi            5016 non-null   float64\n",
      " 10  return_1m      5016 non-null   float64\n",
      " 11  return_3m      5016 non-null   float64\n",
      " 12  return_6m      5016 non-null   float64\n",
      " 13  return_12m     5016 non-null   float64\n",
      " 14  momentum_3     5016 non-null   float64\n",
      " 15  momentum_6     5016 non-null   float64\n",
      " 16  momentum_3_6   5016 non-null   float64\n",
      " 17  momentum_12    5016 non-null   float64\n",
      " 18  momentum_3_12  5016 non-null   float64\n",
      " 19  month          5016 non-null   int64  \n",
      " 20  target         5016 non-null   float64\n",
      "dtypes: float64(20), int64(1)\n",
      "memory usage: 843.5+ KB\n"
     ]
    }
   ],
   "source": [
    "data.sort_index().info(null_counts=True)"
   ]
  },
  {
   "cell_type": "markdown",
   "metadata": {},
   "source": [
    "## Store data"
   ]
  },
  {
   "cell_type": "code",
   "execution_count": 44,
   "metadata": {},
   "outputs": [
    {
     "data": {
      "text/plain": [
       "<bound method NDFrame.to_hdf of                    dollar_volume       atr   bb_down   bb_high    bb_low  \\\n",
       "Ticker Date                                                                \n",
       "BE     2019-03-13      19.570596  0.416073  0.182902  2.873029  2.475257   \n",
       "BWEN   2019-03-13       0.053295 -0.581117  0.152171  1.041694  0.822389   \n",
       "CSIQ   2019-03-13      24.365068 -0.270088  0.126628  3.290714  3.078555   \n",
       "DOGEF  2019-03-13       0.106636  2.331086  0.298246  4.352097  4.047742   \n",
       "ENPH   2019-03-13      16.462368 -1.073724  0.247639  2.364287  2.090313   \n",
       "...                          ...       ...       ...       ...       ...   \n",
       "NEE    2020-12-30     288.822383 -1.821301  0.044166  4.343698  4.298470   \n",
       "RUN    2020-12-30     220.290167  2.037334  0.210406  4.282505  4.014967   \n",
       "SEDG   2020-12-30     201.128734  1.929745  0.198906  5.836559  5.569727   \n",
       "SIEGY  2020-12-30       5.383500 -3.577563  0.069147  4.306229  4.218294   \n",
       "VWSYF  2020-12-30       0.761216  2.564471  0.235907  5.505946  5.240054   \n",
       "\n",
       "                     bb_mid     bb_up      macd       natr        rsi  ...  \\\n",
       "Ticker Date                                                            ...   \n",
       "BE     2019-03-13  2.674143  0.214869  0.413793   9.072782  50.304461  ...   \n",
       "BWEN   2019-03-13  0.932041  0.067134  0.022268   7.689712  55.906060  ...   \n",
       "CSIQ   2019-03-13  3.184634  0.085532  0.643142   4.392157  60.168149  ...   \n",
       "DOGEF  2019-03-13  4.199920  0.006110  0.852777  10.222203  90.396653  ...   \n",
       "ENPH   2019-03-13  2.227300  0.026335 -0.467674   4.746885  73.817298  ...   \n",
       "...                     ...       ...       ...        ...        ...  ...   \n",
       "NEE    2020-12-30  4.321084  0.001062 -0.253537   1.924625  58.601548  ...   \n",
       "RUN    2020-12-30  4.148736  0.057133  0.680364   6.371297  57.922137  ...   \n",
       "SEDG   2020-12-30  5.703143  0.067926  1.779721   5.315974  63.324585  ...   \n",
       "SIEGY  2020-12-30  4.262262  0.018788  0.778513   2.528479  60.935063  ...   \n",
       "VWSYF  2020-12-30  5.373000  0.029985  3.274823   1.967684  77.434958  ...   \n",
       "\n",
       "                   return_3m  return_6m  return_12m  momentum_3  momentum_6  \\\n",
       "Ticker Date                                                                   \n",
       "BE     2019-03-13  -0.005712  -0.023019   -0.004334    0.037547    0.020240   \n",
       "BWEN   2019-03-13  -0.011835  -0.003984    0.011996   -0.011835   -0.003984   \n",
       "CSIQ   2019-03-13   0.008453  -0.003823    0.000212    0.007184   -0.005092   \n",
       "DOGEF  2019-03-13   0.016024   0.028647    0.017092    0.012128    0.024751   \n",
       "ENPH   2019-03-13   0.034273   0.012262    0.012539   -0.005727   -0.027738   \n",
       "...                      ...        ...         ...         ...         ...   \n",
       "NEE    2020-12-30   0.004117   0.003354    0.002352   -0.003582   -0.004345   \n",
       "RUN    2020-12-30  -0.005962   0.003049    0.012189   -0.062885   -0.053874   \n",
       "SEDG   2020-12-30  -0.005159   0.000251    0.007564   -0.041299   -0.035889   \n",
       "SIEGY  2020-12-30   0.000791   0.003669    0.004113    0.000512    0.003390   \n",
       "VWSYF  2020-12-30   0.012762   0.009411    0.012886    0.023697    0.020346   \n",
       "\n",
       "                   momentum_3_6  momentum_12  momentum_3_12  month    target  \n",
       "Ticker Date                                                                   \n",
       "BE     2019-03-13     -0.017308     0.038925       0.001378      3 -0.055765  \n",
       "BWEN   2019-03-13      0.007851     0.011996       0.023832      3  0.000000  \n",
       "CSIQ   2019-03-13     -0.012276    -0.001058      -0.008242      3 -0.007608  \n",
       "DOGEF  2019-03-13      0.012623     0.013196       0.001068      3  0.010349  \n",
       "ENPH   2019-03-13     -0.022011    -0.027461      -0.021734      3  0.002137  \n",
       "...                         ...          ...            ...    ...       ...  \n",
       "NEE    2020-12-30     -0.000763    -0.005348      -0.001766     12  0.016335  \n",
       "RUN    2020-12-30      0.009011    -0.044734       0.018151     12  0.029377  \n",
       "SEDG   2020-12-30      0.005410    -0.028576       0.012723     12  0.000063  \n",
       "SIEGY  2020-12-30      0.002878     0.003835       0.003322     12  0.000139  \n",
       "VWSYF  2020-12-30     -0.003352     0.023821       0.000124     12 -0.014839  \n",
       "\n",
       "[5016 rows x 21 columns]>"
      ]
     },
     "execution_count": 44,
     "metadata": {},
     "output_type": "execute_result"
    }
   ],
   "source": [
    "data.to_hdf"
   ]
  },
  {
   "cell_type": "code",
   "execution_count": 45,
   "metadata": {
    "ExecuteTime": {
     "end_time": "2020-06-19T13:32:32.928544Z",
     "start_time": "2020-06-19T13:32:32.900828Z"
    },
    "scrolled": true
   },
   "outputs": [],
   "source": [
    "with pd.HDFStore('data.h5') as store:\n",
    "    store.put('us/Alt_Energy/daily', data)"
   ]
  },
  {
   "cell_type": "markdown",
   "metadata": {},
   "source": [
    "## Evaluate mutual information"
   ]
  },
  {
   "cell_type": "code",
   "execution_count": 46,
   "metadata": {
    "ExecuteTime": {
     "end_time": "2020-06-19T13:33:03.004457Z",
     "start_time": "2020-06-19T13:33:02.995372Z"
    },
    "scrolled": true
   },
   "outputs": [],
   "source": [
    "X = data.drop('target', axis=1)"
   ]
  },
  {
   "cell_type": "code",
   "execution_count": 47,
   "metadata": {
    "ExecuteTime": {
     "end_time": "2020-06-19T13:33:29.096296Z",
     "start_time": "2020-06-19T13:33:05.622448Z"
    }
   },
   "outputs": [],
   "source": [
    "mi = mutual_info_regression(X=X, y=data.target)"
   ]
  },
  {
   "cell_type": "code",
   "execution_count": 48,
   "metadata": {
    "ExecuteTime": {
     "end_time": "2020-06-19T13:33:33.068410Z",
     "start_time": "2020-06-19T13:33:33.056948Z"
    }
   },
   "outputs": [
    {
     "data": {
      "text/plain": [
       "bb_high          0.126642\n",
       "bb_low           0.106867\n",
       "bb_mid           0.105825\n",
       "natr             0.099955\n",
       "momentum_3       0.054345\n",
       "momentum_6       0.053566\n",
       "return_6m        0.051701\n",
       "dollar_volume    0.050391\n",
       "return_12m       0.047426\n",
       "return_3m        0.046286\n",
       "dtype: float64"
      ]
     },
     "execution_count": 48,
     "metadata": {},
     "output_type": "execute_result"
    }
   ],
   "source": [
    "mi_reg = pd.Series(mi, index=X.columns)\n",
    "mi_reg.nlargest(10)"
   ]
  },
  {
   "cell_type": "code",
   "execution_count": 49,
   "metadata": {
    "ExecuteTime": {
     "end_time": "2020-06-19T13:33:46.557205Z",
     "start_time": "2020-06-19T13:33:37.604336Z"
    }
   },
   "outputs": [],
   "source": [
    "mi = mutual_info_classif(X=X, y=(data.target>0).astype(int))"
   ]
  },
  {
   "cell_type": "code",
   "execution_count": 50,
   "metadata": {
    "ExecuteTime": {
     "end_time": "2020-06-19T13:33:46.562063Z",
     "start_time": "2020-06-19T13:33:46.558199Z"
    }
   },
   "outputs": [
    {
     "data": {
      "text/plain": [
       "bb_low         0.012162\n",
       "momentum_6     0.010063\n",
       "macd           0.009067\n",
       "rsi            0.008189\n",
       "bb_down        0.007661\n",
       "return_3m      0.007545\n",
       "bb_high        0.007460\n",
       "bb_up          0.006987\n",
       "month          0.006025\n",
       "momentum_12    0.004105\n",
       "dtype: float64"
      ]
     },
     "execution_count": 50,
     "metadata": {},
     "output_type": "execute_result"
    }
   ],
   "source": [
    "mi_class = pd.Series(mi, index=X.columns)\n",
    "mi_class.nlargest(10)"
   ]
  },
  {
   "cell_type": "code",
   "execution_count": 51,
   "metadata": {
    "ExecuteTime": {
     "end_time": "2020-06-19T13:33:46.574632Z",
     "start_time": "2020-06-19T13:33:46.563169Z"
    }
   },
   "outputs": [],
   "source": [
    "mi = mi_reg.to_frame('Regression').join(mi_class.to_frame('Classification'))"
   ]
  },
  {
   "cell_type": "code",
   "execution_count": 52,
   "metadata": {
    "ExecuteTime": {
     "end_time": "2020-06-19T13:33:51.010413Z",
     "start_time": "2020-06-19T13:33:51.008166Z"
    }
   },
   "outputs": [],
   "source": [
    "mi.index = [' '.join(c.upper().split('_')) for c in mi.index]"
   ]
  },
  {
   "cell_type": "code",
   "execution_count": 53,
   "metadata": {
    "ExecuteTime": {
     "end_time": "2020-06-19T13:33:54.249892Z",
     "start_time": "2020-06-19T13:33:53.746322Z"
    }
   },
   "outputs": [
    {
     "data": {
      "image/png": "[encoded data removed]",
      "text/plain": [
       "<Figure size 864x288 with 2 Axes>"
      ]
     },
     "metadata": {},
     "output_type": "display_data"
    }
   ],
   "source": [
    "fig, axes = plt.subplots(ncols=2, figsize=(12, 4))\n",
    "for i, t in enumerate(['Regression', 'Classification']):\n",
    "    mi[t].nlargest(20).sort_values().plot.barh(title=t, ax=axes[i])\n",
    "    axes[i].set_xlabel('Mutual Information')\n",
    "fig.suptitle('Mutual Information', fontsize=14)\n",
    "sns.despine()\n",
    "fig.tight_layout()\n",
    "fig.subplots_adjust(top=.9)"
   ]
  }
 ],
 "metadata": {
  "kernelspec": {
   "display_name": "Python 3",
   "language": "python",
   "name": "python3"
  },
  "language_info": {
   "codemirror_mode": {
    "name": "ipython",
    "version": 3
   },
   "file_extension": ".py",
   "mimetype": "text/x-python",
   "name": "python",
   "nbconvert_exporter": "python",
   "pygments_lexer": "ipython3",
   "version": "3.6.12"
  },
  "toc": {
   "base_numbering": 1,
   "nav_menu": {},
   "number_sections": true,
   "sideBar": true,
   "skip_h1_title": true,
   "title_cell": "Table of Contents",
   "title_sidebar": "Contents",
   "toc_cell": false,
   "toc_position": {
    "height": "calc(100% - 180px)",
    "left": "10px",
    "top": "150px",
    "width": "230.355px"
   },
   "toc_section_display": true,
   "toc_window_display": true
  }
 },
 "nbformat": 4,
 "nbformat_minor": 2
}
