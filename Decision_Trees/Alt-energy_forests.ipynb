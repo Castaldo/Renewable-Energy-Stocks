{
 "cells": [
  {
   "cell_type": "markdown",
   "metadata": {},
   "source": [
    "# Alt Energy Equity Data - Feature Engineering"
   ]
  },
  {
   "cell_type": "markdown",
   "metadata": {},
   "source": [
    "## Imports & Settings"
   ]
  },
  {
   "cell_type": "code",
   "execution_count": 1,
   "metadata": {
    "ExecuteTime": {
     "end_time": "2020-06-19T14:39:33.844626Z",
     "start_time": "2020-06-19T14:39:33.842485Z"
    }
   },
   "outputs": [],
   "source": [
    "import warnings\n",
    "warnings.filterwarnings('ignore')"
   ]
  },
  {
   "cell_type": "code",
   "execution_count": 2,
   "metadata": {
    "ExecuteTime": {
     "end_time": "2020-06-19T14:39:34.339252Z",
     "start_time": "2020-06-19T14:39:33.846340Z"
    }
   },
   "outputs": [],
   "source": [
    "%matplotlib inline\n",
    "\n",
    "from pathlib import Path\n",
    "\n",
    "import numpy as np\n",
    "import pandas as pd\n",
    "import talib\n",
    "\n",
    "import matplotlib.pyplot as plt\n",
    "import seaborn as sns"
   ]
  },
  {
   "cell_type": "code",
   "execution_count": 3,
   "metadata": {
    "ExecuteTime": {
     "end_time": "2020-06-19T14:39:34.342083Z",
     "start_time": "2020-06-19T14:39:34.340205Z"
    }
   },
   "outputs": [],
   "source": [
    "sns.set_style('white')"
   ]
  },
  {
   "cell_type": "code",
   "execution_count": 4,
   "metadata": {
    "ExecuteTime": {
     "end_time": "2020-06-19T14:39:34.352281Z",
     "start_time": "2020-06-19T14:39:34.342955Z"
    }
   },
   "outputs": [],
   "source": [
    "idx = pd.IndexSlice"
   ]
  },
  {
   "cell_type": "markdown",
   "metadata": {},
   "source": [
    "## Get Data"
   ]
  },
  {
   "cell_type": "code",
   "execution_count": 5,
   "metadata": {},
   "outputs": [],
   "source": [
    "START = '2019-01-06'\n",
    "END = '2021-01-06'"
   ]
  },
  {
   "cell_type": "code",
   "execution_count": 6,
   "metadata": {
    "ExecuteTime": {
     "end_time": "2020-06-19T14:39:34.360369Z",
     "start_time": "2020-06-19T14:39:34.353496Z"
    }
   },
   "outputs": [],
   "source": [
    "DATA_STORE = '../Data_Processing/Data/H5/assets.h5'\n",
    "ohlcv = ['Open', 'Close', 'Low', 'High', 'Volume']\n",
    "with pd.HDFStore(DATA_STORE) as store:\n",
    "    prices = (store['Alt_Energy/prices']\n",
    "              .loc[idx[START:END, :], ohlcv]\n",
    "              .swaplevel()\n",
    "              .sort_index())\n",
    "    prices.index.set_names([\"Ticker\", \"date\"], inplace=True)"
   ]
  },
  {
   "cell_type": "code",
   "execution_count": 7,
   "metadata": {
    "ExecuteTime": {
     "end_time": "2020-06-19T14:39:42.187446Z",
     "start_time": "2020-06-19T14:39:42.023680Z"
    }
   },
   "outputs": [
    {
     "name": "stdout",
     "output_type": "stream",
     "text": [
      "<class 'pandas.core.frame.DataFrame'>\n",
      "MultiIndex: 5544 entries, ('BE', Timestamp('2019-01-07 00:00:00')) to ('VWSYF', Timestamp('2021-01-05 00:00:00'))\n",
      "Data columns (total 5 columns):\n",
      " #   Column  Non-Null Count  Dtype  \n",
      "---  ------  --------------  -----  \n",
      " 0   Open    5544 non-null   float64\n",
      " 1   Close   5544 non-null   float64\n",
      " 2   Low     5544 non-null   float64\n",
      " 3   High    5544 non-null   float64\n",
      " 4   Volume  5544 non-null   int64  \n",
      "dtypes: float64(4), int64(1)\n",
      "memory usage: 236.9+ KB\n"
     ]
    }
   ],
   "source": [
    "prices.info(null_counts=True)    "
   ]
  },
  {
   "cell_type": "code",
   "execution_count": 8,
   "metadata": {
    "ExecuteTime": {
     "end_time": "2020-06-19T14:39:42.234602Z",
     "start_time": "2020-06-19T14:39:42.188791Z"
    }
   },
   "outputs": [],
   "source": [
    "before = len(prices.index.unique('Ticker').unique())"
   ]
  },
  {
   "cell_type": "markdown",
   "metadata": {},
   "source": [
    "### Remove symbols with missing values"
   ]
  },
  {
   "cell_type": "code",
   "execution_count": 9,
   "metadata": {
    "ExecuteTime": {
     "end_time": "2020-06-19T14:39:50.120002Z",
     "start_time": "2020-06-19T14:39:42.235799Z"
    }
   },
   "outputs": [
    {
     "name": "stdout",
     "output_type": "stream",
     "text": [
      "<class 'pandas.core.frame.DataFrame'>\n",
      "MultiIndex: 5544 entries, ('BE', Timestamp('2019-01-07 00:00:00')) to ('VWSYF', Timestamp('2021-01-05 00:00:00'))\n",
      "Data columns (total 5 columns):\n",
      " #   Column  Non-Null Count  Dtype  \n",
      "---  ------  --------------  -----  \n",
      " 0   Open    5544 non-null   float64\n",
      " 1   Close   5544 non-null   float64\n",
      " 2   Low     5544 non-null   float64\n",
      " 3   High    5544 non-null   float64\n",
      " 4   Volume  5544 non-null   int64  \n",
      "dtypes: float64(4), int64(1)\n",
      "memory usage: 236.9+ KB\n"
     ]
    }
   ],
   "source": [
    "prices = (prices.unstack('Ticker')\n",
    "        .sort_index()\n",
    "        .ffill(limit=5)\n",
    "        .dropna(axis=1)\n",
    "        .stack('Ticker')\n",
    "        .swaplevel())\n",
    "prices.info(null_counts=True)"
   ]
  },
  {
   "cell_type": "code",
   "execution_count": 10,
   "metadata": {
    "ExecuteTime": {
     "end_time": "2020-06-19T14:39:50.163888Z",
     "start_time": "2020-06-19T14:39:50.121474Z"
    }
   },
   "outputs": [
    {
     "name": "stdout",
     "output_type": "stream",
     "text": [
      "Before: 11 after: 11\n"
     ]
    }
   ],
   "source": [
    "after = len(prices.index.unique('Ticker').unique())\n",
    "print(f'Before: {before:,.0f} after: {after:,.0f}')"
   ]
  },
  {
   "cell_type": "markdown",
   "metadata": {},
   "source": [
    "### Keep most traded symbols"
   ]
  },
  {
   "cell_type": "code",
   "execution_count": 11,
   "metadata": {
    "ExecuteTime": {
     "end_time": "2020-06-19T14:39:50.465690Z",
     "start_time": "2020-06-19T14:39:50.164922Z"
    }
   },
   "outputs": [],
   "source": [
    "dv = prices.Close.mul(prices.Volume)\n",
    "keep = dv.groupby('Ticker').median().nlargest(1000).index.tolist()"
   ]
  },
  {
   "cell_type": "code",
   "execution_count": 12,
   "metadata": {
    "ExecuteTime": {
     "end_time": "2020-06-19T14:39:59.314932Z",
     "start_time": "2020-06-19T14:39:50.466674Z"
    }
   },
   "outputs": [
    {
     "name": "stdout",
     "output_type": "stream",
     "text": [
      "<class 'pandas.core.frame.DataFrame'>\n",
      "MultiIndex: 5544 entries, ('BE', Timestamp('2019-01-07 00:00:00')) to ('VWSYF', Timestamp('2021-01-05 00:00:00'))\n",
      "Data columns (total 5 columns):\n",
      " #   Column  Non-Null Count  Dtype  \n",
      "---  ------  --------------  -----  \n",
      " 0   Open    5544 non-null   float64\n",
      " 1   Close   5544 non-null   float64\n",
      " 2   Low     5544 non-null   float64\n",
      " 3   High    5544 non-null   float64\n",
      " 4   Volume  5544 non-null   int64  \n",
      "dtypes: float64(4), int64(1)\n",
      "memory usage: 236.9+ KB\n"
     ]
    }
   ],
   "source": [
    "prices = prices.loc[idx[keep, :], :]\n",
    "prices.info()"
   ]
  },
  {
   "cell_type": "markdown",
   "metadata": {},
   "source": [
    "## Feature Engineering"
   ]
  },
  {
   "cell_type": "markdown",
   "metadata": {},
   "source": [
    "### Compute period returns"
   ]
  },
  {
   "cell_type": "code",
   "execution_count": 13,
   "metadata": {
    "ExecuteTime": {
     "end_time": "2020-06-19T14:39:59.318570Z",
     "start_time": "2020-06-19T14:39:59.316759Z"
    }
   },
   "outputs": [],
   "source": [
    "intervals = [1, 5, 10, 21, 63]"
   ]
  },
  {
   "cell_type": "code",
   "execution_count": 14,
   "metadata": {
    "ExecuteTime": {
     "end_time": "2020-06-19T14:40:00.287052Z",
     "start_time": "2020-06-19T14:39:59.319643Z"
    }
   },
   "outputs": [],
   "source": [
    "returns = []\n",
    "by_ticker = prices.groupby(level='Ticker').Close\n",
    "for t in intervals:\n",
    "    returns.append(by_ticker.pct_change(t).to_frame(f'ret_{t}'))\n",
    "returns = pd.concat(returns, axis=1)"
   ]
  },
  {
   "cell_type": "code",
   "execution_count": 15,
   "metadata": {
    "ExecuteTime": {
     "end_time": "2020-06-19T14:40:00.319856Z",
     "start_time": "2020-06-19T14:40:00.287919Z"
    }
   },
   "outputs": [
    {
     "name": "stdout",
     "output_type": "stream",
     "text": [
      "<class 'pandas.core.frame.DataFrame'>\n",
      "MultiIndex: 5544 entries, ('BE', Timestamp('2019-01-07 00:00:00')) to ('VWSYF', Timestamp('2021-01-05 00:00:00'))\n",
      "Data columns (total 5 columns):\n",
      " #   Column  Non-Null Count  Dtype  \n",
      "---  ------  --------------  -----  \n",
      " 0   ret_1   5533 non-null   float64\n",
      " 1   ret_5   5489 non-null   float64\n",
      " 2   ret_10  5434 non-null   float64\n",
      " 3   ret_21  5313 non-null   float64\n",
      " 4   ret_63  4851 non-null   float64\n",
      "dtypes: float64(5)\n",
      "memory usage: 236.9+ KB\n"
     ]
    }
   ],
   "source": [
    "returns.info()"
   ]
  },
  {
   "cell_type": "markdown",
   "metadata": {},
   "source": [
    "### Remove outliers"
   ]
  },
  {
   "cell_type": "code",
   "execution_count": 16,
   "metadata": {
    "ExecuteTime": {
     "end_time": "2020-06-19T14:40:00.517451Z",
     "start_time": "2020-06-19T14:40:00.320709Z"
    }
   },
   "outputs": [],
   "source": [
    "max_ret_by_sym = returns.groupby(level='Ticker').max()"
   ]
  },
  {
   "cell_type": "code",
   "execution_count": 17,
   "metadata": {
    "ExecuteTime": {
     "end_time": "2020-06-19T14:40:00.536108Z",
     "start_time": "2020-06-19T14:40:00.518280Z"
    }
   },
   "outputs": [
    {
     "data": {
      "text/html": [
       "<div>\n",
       "<style scoped>\n",
       "    .dataframe tbody tr th:only-of-type {\n",
       "        vertical-align: middle;\n",
       "    }\n",
       "\n",
       "    .dataframe tbody tr th {\n",
       "        vertical-align: top;\n",
       "    }\n",
       "\n",
       "    .dataframe thead th {\n",
       "        text-align: right;\n",
       "    }\n",
       "</style>\n",
       "<table border=\"1\" class=\"dataframe\">\n",
       "  <thead>\n",
       "    <tr style=\"text-align: right;\">\n",
       "      <th></th>\n",
       "      <th>ret_1</th>\n",
       "      <th>ret_5</th>\n",
       "      <th>ret_10</th>\n",
       "      <th>ret_21</th>\n",
       "      <th>ret_63</th>\n",
       "    </tr>\n",
       "  </thead>\n",
       "  <tbody>\n",
       "    <tr>\n",
       "      <th>count</th>\n",
       "      <td>11.000000</td>\n",
       "      <td>11.000000</td>\n",
       "      <td>11.000000</td>\n",
       "      <td>11.000000</td>\n",
       "      <td>11.000000</td>\n",
       "    </tr>\n",
       "    <tr>\n",
       "      <th>mean</th>\n",
       "      <td>0.234957</td>\n",
       "      <td>0.428627</td>\n",
       "      <td>0.551158</td>\n",
       "      <td>0.668492</td>\n",
       "      <td>1.452919</td>\n",
       "    </tr>\n",
       "    <tr>\n",
       "      <th>std</th>\n",
       "      <td>0.140636</td>\n",
       "      <td>0.251580</td>\n",
       "      <td>0.363394</td>\n",
       "      <td>0.385731</td>\n",
       "      <td>1.000989</td>\n",
       "    </tr>\n",
       "    <tr>\n",
       "      <th>min</th>\n",
       "      <td>0.110989</td>\n",
       "      <td>0.184363</td>\n",
       "      <td>0.195967</td>\n",
       "      <td>0.263648</td>\n",
       "      <td>0.390370</td>\n",
       "    </tr>\n",
       "    <tr>\n",
       "      <th>50%</th>\n",
       "      <td>0.140817</td>\n",
       "      <td>0.354233</td>\n",
       "      <td>0.410338</td>\n",
       "      <td>0.505352</td>\n",
       "      <td>0.918261</td>\n",
       "    </tr>\n",
       "    <tr>\n",
       "      <th>90%</th>\n",
       "      <td>0.444730</td>\n",
       "      <td>0.736156</td>\n",
       "      <td>1.059259</td>\n",
       "      <td>1.177610</td>\n",
       "      <td>2.998500</td>\n",
       "    </tr>\n",
       "    <tr>\n",
       "      <th>95%</th>\n",
       "      <td>0.450318</td>\n",
       "      <td>0.878471</td>\n",
       "      <td>1.160121</td>\n",
       "      <td>1.275618</td>\n",
       "      <td>3.025765</td>\n",
       "    </tr>\n",
       "    <tr>\n",
       "      <th>97.5%</th>\n",
       "      <td>0.453113</td>\n",
       "      <td>0.949628</td>\n",
       "      <td>1.210551</td>\n",
       "      <td>1.324622</td>\n",
       "      <td>3.039398</td>\n",
       "    </tr>\n",
       "    <tr>\n",
       "      <th>99%</th>\n",
       "      <td>0.454789</td>\n",
       "      <td>0.992322</td>\n",
       "      <td>1.240810</td>\n",
       "      <td>1.354025</td>\n",
       "      <td>3.047577</td>\n",
       "    </tr>\n",
       "    <tr>\n",
       "      <th>99.5%</th>\n",
       "      <td>0.455348</td>\n",
       "      <td>1.006554</td>\n",
       "      <td>1.250896</td>\n",
       "      <td>1.363826</td>\n",
       "      <td>3.050304</td>\n",
       "    </tr>\n",
       "    <tr>\n",
       "      <th>99.9%</th>\n",
       "      <td>0.455795</td>\n",
       "      <td>1.017939</td>\n",
       "      <td>1.258965</td>\n",
       "      <td>1.371666</td>\n",
       "      <td>3.052485</td>\n",
       "    </tr>\n",
       "    <tr>\n",
       "      <th>max</th>\n",
       "      <td>0.455907</td>\n",
       "      <td>1.020785</td>\n",
       "      <td>1.260982</td>\n",
       "      <td>1.373626</td>\n",
       "      <td>3.053030</td>\n",
       "    </tr>\n",
       "  </tbody>\n",
       "</table>\n",
       "</div>"
      ],
      "text/plain": [
       "           ret_1      ret_5     ret_10     ret_21     ret_63\n",
       "count  11.000000  11.000000  11.000000  11.000000  11.000000\n",
       "mean    0.234957   0.428627   0.551158   0.668492   1.452919\n",
       "std     0.140636   0.251580   0.363394   0.385731   1.000989\n",
       "min     0.110989   0.184363   0.195967   0.263648   0.390370\n",
       "50%     0.140817   0.354233   0.410338   0.505352   0.918261\n",
       "90%     0.444730   0.736156   1.059259   1.177610   2.998500\n",
       "95%     0.450318   0.878471   1.160121   1.275618   3.025765\n",
       "97.5%   0.453113   0.949628   1.210551   1.324622   3.039398\n",
       "99%     0.454789   0.992322   1.240810   1.354025   3.047577\n",
       "99.5%   0.455348   1.006554   1.250896   1.363826   3.050304\n",
       "99.9%   0.455795   1.017939   1.258965   1.371666   3.052485\n",
       "max     0.455907   1.020785   1.260982   1.373626   3.053030"
      ]
     },
     "execution_count": 17,
     "metadata": {},
     "output_type": "execute_result"
    }
   ],
   "source": [
    "percentiles = [0.001, .005, .01, .025, .05, .1]\n",
    "percentiles += [1-p for p in percentiles]\n",
    "max_ret_by_sym.describe(percentiles=sorted(percentiles)[6:])"
   ]
  },
  {
   "cell_type": "code",
   "execution_count": 18,
   "metadata": {
    "ExecuteTime": {
     "end_time": "2020-06-19T14:40:00.544750Z",
     "start_time": "2020-06-19T14:40:00.537412Z"
    },
    "scrolled": false
   },
   "outputs": [],
   "source": [
    "quantiles = max_ret_by_sym.quantile(.95)\n",
    "to_drop = []\n",
    "for ret, q in quantiles.items():\n",
    "    to_drop.extend(max_ret_by_sym[max_ret_by_sym[ret]>q].index.tolist()) "
   ]
  },
  {
   "cell_type": "code",
   "execution_count": 19,
   "metadata": {
    "ExecuteTime": {
     "end_time": "2020-06-19T14:40:00.556831Z",
     "start_time": "2020-06-19T14:40:00.545961Z"
    }
   },
   "outputs": [
    {
     "data": {
      "text/plain": [
       "1"
      ]
     },
     "execution_count": 19,
     "metadata": {},
     "output_type": "execute_result"
    }
   ],
   "source": [
    "to_drop = pd.Series(to_drop).value_counts()\n",
    "to_drop = to_drop[to_drop > 1].index.tolist()\n",
    "len(to_drop)"
   ]
  },
  {
   "cell_type": "code",
   "execution_count": 20,
   "metadata": {
    "ExecuteTime": {
     "end_time": "2020-06-19T14:40:08.226960Z",
     "start_time": "2020-06-19T14:40:00.557700Z"
    }
   },
   "outputs": [
    {
     "name": "stdout",
     "output_type": "stream",
     "text": [
      "<class 'pandas.core.frame.DataFrame'>\n",
      "MultiIndex: 5040 entries, ('BE', Timestamp('2019-01-07 00:00:00')) to ('VWSYF', Timestamp('2021-01-05 00:00:00'))\n",
      "Data columns (total 5 columns):\n",
      " #   Column  Non-Null Count  Dtype  \n",
      "---  ------  --------------  -----  \n",
      " 0   Open    5040 non-null   float64\n",
      " 1   Close   5040 non-null   float64\n",
      " 2   Low     5040 non-null   float64\n",
      " 3   High    5040 non-null   float64\n",
      " 4   Volume  5040 non-null   int64  \n",
      "dtypes: float64(4), int64(1)\n",
      "memory usage: 215.8+ KB\n"
     ]
    }
   ],
   "source": [
    "prices = prices.drop(to_drop, level='Ticker')\n",
    "prices.info()"
   ]
  },
  {
   "cell_type": "markdown",
   "metadata": {},
   "source": [
    "### Calculate relative return percentiles"
   ]
  },
  {
   "cell_type": "code",
   "execution_count": 21,
   "metadata": {
    "ExecuteTime": {
     "end_time": "2020-06-19T14:40:21.999334Z",
     "start_time": "2020-06-19T14:40:08.227877Z"
    }
   },
   "outputs": [],
   "source": [
    "returns = []\n",
    "by_sym = prices.groupby(level='Ticker').Close\n",
    "for t in intervals:\n",
    "    ret = by_sym.pct_change(t)\n",
    "    rel_perc = (ret.groupby(level='date')\n",
    "             .apply(lambda x: pd.qcut(x, q=20, labels=False, duplicates='drop')))\n",
    "    returns.extend([ret.to_frame(f'ret_{t}'), rel_perc.to_frame(f'ret_rel_perc_{t}')])\n",
    "returns = pd.concat(returns, axis=1)"
   ]
  },
  {
   "cell_type": "markdown",
   "metadata": {},
   "source": [
    "### Technical Indicators"
   ]
  },
  {
   "cell_type": "markdown",
   "metadata": {},
   "source": [
    "#### Percentage Price Oscillator"
   ]
  },
  {
   "cell_type": "code",
   "execution_count": 22,
   "metadata": {
    "ExecuteTime": {
     "end_time": "2020-06-19T14:40:24.611981Z",
     "start_time": "2020-06-19T14:40:22.000211Z"
    }
   },
   "outputs": [],
   "source": [
    "ppo = prices.groupby(level='Ticker').Close.apply(talib.PPO).to_frame('PPO')"
   ]
  },
  {
   "cell_type": "markdown",
   "metadata": {},
   "source": [
    "#### Normalized Average True Range"
   ]
  },
  {
   "cell_type": "code",
   "execution_count": 23,
   "metadata": {
    "ExecuteTime": {
     "end_time": "2020-06-19T14:40:25.374786Z",
     "start_time": "2020-06-19T14:40:24.612787Z"
    }
   },
   "outputs": [],
   "source": [
    "natr = prices.groupby(level='Ticker', group_keys=False).apply(lambda x: talib.NATR(x.High, x.Low, x.Close)).to_frame('NATR')"
   ]
  },
  {
   "cell_type": "markdown",
   "metadata": {},
   "source": [
    "#### Relative Strength Indicator"
   ]
  },
  {
   "cell_type": "code",
   "execution_count": 24,
   "metadata": {
    "ExecuteTime": {
     "end_time": "2020-06-19T14:40:27.592598Z",
     "start_time": "2020-06-19T14:40:25.375661Z"
    }
   },
   "outputs": [],
   "source": [
    "rsi = prices.groupby(level='Ticker').Close.apply(talib.RSI).to_frame('RSI')"
   ]
  },
  {
   "cell_type": "markdown",
   "metadata": {},
   "source": [
    "#### Bollinger Bands"
   ]
  },
  {
   "cell_type": "code",
   "execution_count": 25,
   "metadata": {
    "ExecuteTime": {
     "end_time": "2020-06-19T14:40:27.596736Z",
     "start_time": "2020-06-19T14:40:27.593553Z"
    }
   },
   "outputs": [],
   "source": [
    "def get_bollinger(x):\n",
    "    u, m, l = talib.BBANDS(x)\n",
    "    return pd.DataFrame({'u': u, 'm': m, 'l': l})"
   ]
  },
  {
   "cell_type": "code",
   "execution_count": 26,
   "metadata": {
    "ExecuteTime": {
     "end_time": "2020-06-19T14:40:30.684867Z",
     "start_time": "2020-06-19T14:40:27.598142Z"
    }
   },
   "outputs": [],
   "source": [
    "bbands = prices.groupby(level='Ticker').Close.apply(get_bollinger)"
   ]
  },
  {
   "cell_type": "markdown",
   "metadata": {},
   "source": [
    "### Combine Features"
   ]
  },
  {
   "cell_type": "code",
   "execution_count": 27,
   "metadata": {
    "ExecuteTime": {
     "end_time": "2020-06-19T14:40:57.415055Z",
     "start_time": "2020-06-19T14:40:30.685785Z"
    }
   },
   "outputs": [],
   "source": [
    "data = pd.concat([prices, returns, ppo, natr, rsi, bbands], axis=1)"
   ]
  },
  {
   "cell_type": "code",
   "execution_count": 28,
   "metadata": {
    "ExecuteTime": {
     "end_time": "2020-06-19T14:40:57.621968Z",
     "start_time": "2020-06-19T14:40:57.415937Z"
    }
   },
   "outputs": [],
   "source": [
    "data['bbl'] = data.Close.div(data.l)\n",
    "data['bbu'] = data.u.div(data.Close)\n",
    "data = data.drop(['u', 'm', 'l'], axis=1)"
   ]
  },
  {
   "cell_type": "code",
   "execution_count": 29,
   "metadata": {
    "ExecuteTime": {
     "end_time": "2020-06-19T14:40:58.390223Z",
     "start_time": "2020-06-19T14:40:57.623026Z"
    }
   },
   "outputs": [
    {
     "data": {
      "text/plain": [
       "0.05339926831197073"
      ]
     },
     "execution_count": 29,
     "metadata": {},
     "output_type": "execute_result"
    }
   ],
   "source": [
    "data.bbu.corr(data.bbl, method='spearman')"
   ]
  },
  {
   "cell_type": "code",
   "execution_count": 30,
   "metadata": {
    "ExecuteTime": {
     "end_time": "2020-06-19T14:40:59.754295Z",
     "start_time": "2020-06-19T14:40:59.702880Z"
    }
   },
   "outputs": [],
   "source": [
    "data = data.drop(prices.columns, axis=1)"
   ]
  },
  {
   "cell_type": "markdown",
   "metadata": {},
   "source": [
    "### Create time period indicators"
   ]
  },
  {
   "cell_type": "code",
   "execution_count": 31,
   "metadata": {
    "ExecuteTime": {
     "end_time": "2020-06-19T14:41:00.165538Z",
     "start_time": "2020-06-19T14:40:59.755348Z"
    }
   },
   "outputs": [],
   "source": [
    "dates = data.index.get_level_values('date')\n",
    "data['weekday'] = dates.weekday\n",
    "data['month'] = dates.month\n",
    "data['year'] = dates.year"
   ]
  },
  {
   "cell_type": "markdown",
   "metadata": {},
   "source": [
    "## Compute forward returns"
   ]
  },
  {
   "cell_type": "code",
   "execution_count": 32,
   "metadata": {
    "ExecuteTime": {
     "end_time": "2020-06-19T14:41:00.342577Z",
     "start_time": "2020-06-19T14:41:00.166391Z"
    }
   },
   "outputs": [],
   "source": [
    "outcomes = []\n",
    "by_ticker = data.groupby('Ticker')\n",
    "for t in intervals:\n",
    "    k = f'fwd_ret_{t:02}'\n",
    "    outcomes.append(k)\n",
    "    data[k] = by_ticker[f'ret_{t}'].shift(-t)"
   ]
  },
  {
   "cell_type": "code",
   "execution_count": 33,
   "metadata": {
    "ExecuteTime": {
     "end_time": "2020-06-19T14:41:00.566393Z",
     "start_time": "2020-06-19T14:41:00.343372Z"
    }
   },
   "outputs": [
    {
     "name": "stdout",
     "output_type": "stream",
     "text": [
      "<class 'pandas.core.frame.DataFrame'>\n",
      "MultiIndex: 5040 entries, ('BE', Timestamp('2019-01-07 00:00:00')) to ('VWSYF', Timestamp('2021-01-05 00:00:00'))\n",
      "Data columns (total 23 columns):\n",
      " #   Column           Non-Null Count  Dtype  \n",
      "---  ------           --------------  -----  \n",
      " 0   ret_1            5030 non-null   float64\n",
      " 1   ret_rel_perc_1   5030 non-null   float64\n",
      " 2   ret_5            4990 non-null   float64\n",
      " 3   ret_rel_perc_5   4990 non-null   float64\n",
      " 4   ret_10           4940 non-null   float64\n",
      " 5   ret_rel_perc_10  4940 non-null   float64\n",
      " 6   ret_21           4830 non-null   float64\n",
      " 7   ret_rel_perc_21  4830 non-null   float64\n",
      " 8   ret_63           4410 non-null   float64\n",
      " 9   ret_rel_perc_63  4410 non-null   float64\n",
      " 10  PPO              4790 non-null   float64\n",
      " 11  NATR             4900 non-null   float64\n",
      " 12  RSI              4900 non-null   float64\n",
      " 13  bbl              5000 non-null   float64\n",
      " 14  bbu              5000 non-null   float64\n",
      " 15  weekday          5040 non-null   int64  \n",
      " 16  month            5040 non-null   int64  \n",
      " 17  year             5040 non-null   int64  \n",
      " 18  fwd_ret_01       5030 non-null   float64\n",
      " 19  fwd_ret_05       4990 non-null   float64\n",
      " 20  fwd_ret_10       4940 non-null   float64\n",
      " 21  fwd_ret_21       4830 non-null   float64\n",
      " 22  fwd_ret_63       4410 non-null   float64\n",
      "dtypes: float64(20), int64(3)\n",
      "memory usage: 924.5+ KB\n"
     ]
    }
   ],
   "source": [
    "data.info(null_counts=True)"
   ]
  },
  {
   "cell_type": "code",
   "execution_count": 34,
   "metadata": {
    "ExecuteTime": {
     "end_time": "2020-06-19T14:41:00.896955Z",
     "start_time": "2020-06-19T14:41:00.567387Z"
    }
   },
   "outputs": [],
   "source": [
    "data.to_hdf('data.h5', 'us/alt_energy_forest/equities')"
   ]
  }
 ],
 "metadata": {
  "kernelspec": {
   "display_name": "Python 3",
   "language": "python",
   "name": "python3"
  },
  "language_info": {
   "codemirror_mode": {
    "name": "ipython",
    "version": 3
   },
   "file_extension": ".py",
   "mimetype": "text/x-python",
   "name": "python",
   "nbconvert_exporter": "python",
   "pygments_lexer": "ipython3",
   "version": "3.6.12"
  },
  "toc": {
   "base_numbering": 1,
   "nav_menu": {},
   "number_sections": true,
   "sideBar": true,
   "skip_h1_title": true,
   "title_cell": "Table of Contents",
   "title_sidebar": "Contents",
   "toc_cell": false,
   "toc_position": {
    "height": "calc(100% - 180px)",
    "left": "10px",
    "top": "150px",
    "width": "271.165px"
   },
   "toc_section_display": true,
   "toc_window_display": true
  }
 },
 "nbformat": 4,
 "nbformat_minor": 2
}
