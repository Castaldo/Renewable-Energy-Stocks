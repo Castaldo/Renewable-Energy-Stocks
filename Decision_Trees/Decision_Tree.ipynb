{
 "cells": [
  {
   "cell_type": "markdown",
   "metadata": {},
   "source": [
    "# How to use decision trees to predict equity returns and price moves"
   ]
  },
  {
   "cell_type": "markdown",
   "metadata": {},
   "source": [
    "In this notebook, we illustrate how to use tree-based models to gain insight and make predictions. \n",
    "\n",
    "To demonstrate regression trees we predict returns, and for the classification case, we return to the example of positive and negative asset price moves."
   ]
  },
  {
   "cell_type": "markdown",
   "metadata": {},
   "source": [
    "## Imports & Settings"
   ]
  },
  {
   "cell_type": "code",
   "execution_count": 1,
   "metadata": {
    "ExecuteTime": {
     "end_time": "2020-06-22T15:34:25.073686Z",
     "start_time": "2020-06-22T15:34:25.071746Z"
    }
   },
   "outputs": [],
   "source": [
    "import warnings\n",
    "warnings.filterwarnings('ignore')"
   ]
  },
  {
   "cell_type": "code",
   "execution_count": 2,
   "metadata": {
    "ExecuteTime": {
     "end_time": "2020-06-22T15:34:29.765810Z",
     "start_time": "2020-06-22T15:34:28.944912Z"
    }
   },
   "outputs": [],
   "source": [
    "%matplotlib inline\n",
    "\n",
    "import os, sys\n",
    "from pathlib import Path\n",
    "\n",
    "import numpy as np\n",
    "from scipy.stats import spearmanr\n",
    "import pandas as pd\n",
    "\n",
    "import matplotlib.pyplot as plt\n",
    "from matplotlib.ticker import FuncFormatter\n",
    "from matplotlib import cm\n",
    "import seaborn as sns\n",
    "\n",
    "from sklearn.tree import DecisionTreeClassifier, DecisionTreeRegressor, export_graphviz, _tree\n",
    "from sklearn.linear_model import LinearRegression, LogisticRegression\n",
    "from sklearn.model_selection import train_test_split, GridSearchCV, learning_curve\n",
    "from sklearn.metrics import roc_auc_score, roc_curve, mean_squared_error, make_scorer\n",
    "import graphviz\n",
    "\n",
    "import statsmodels.api as sm"
   ]
  },
  {
   "cell_type": "code",
   "execution_count": 3,
   "metadata": {
    "ExecuteTime": {
     "end_time": "2020-06-22T15:34:29.769840Z",
     "start_time": "2020-06-22T15:34:29.766901Z"
    }
   },
   "outputs": [],
   "source": [
    "from utils import MultipleTimeSeriesCV"
   ]
  },
  {
   "cell_type": "code",
   "execution_count": 4,
   "metadata": {
    "ExecuteTime": {
     "end_time": "2020-06-22T15:34:30.949588Z",
     "start_time": "2020-06-22T15:34:30.947452Z"
    }
   },
   "outputs": [],
   "source": [
    "sns.set_style('white')"
   ]
  },
  {
   "cell_type": "code",
   "execution_count": 5,
   "metadata": {
    "ExecuteTime": {
     "end_time": "2020-06-22T15:34:36.597184Z",
     "start_time": "2020-06-22T15:34:36.594314Z"
    }
   },
   "outputs": [],
   "source": [
    "results_path = Path('results', 'decision_trees')\n",
    "if not results_path.exists():\n",
    "    results_path.mkdir(parents=True)"
   ]
  },
  {
   "cell_type": "markdown",
   "metadata": {},
   "source": [
    "## Load Model Data"
   ]
  },
  {
   "cell_type": "markdown",
   "metadata": {},
   "source": [
    "We use a simplified version of the data set constructed in Chapter 4, Alpha factor research. It consists of daily stock prices provided by Quandl for the 2010-2017 period and various engineered features. The details can be found in the notebook [data_prep](00_data_prep.ipynb) in the GitHub repo for this chapter."
   ]
  },
  {
   "cell_type": "markdown",
   "metadata": {},
   "source": [
    "The decision tree models in this chapter are not equipped to handle missing or categorical variables, so we will apply dummy encoding to the latter after dropping any of the former."
   ]
  },
  {
   "cell_type": "code",
   "execution_count": 6,
   "metadata": {
    "ExecuteTime": {
     "end_time": "2020-06-22T15:34:43.815743Z",
     "start_time": "2020-06-22T15:34:43.718590Z"
    },
    "scrolled": false
   },
   "outputs": [
    {
     "name": "stdout",
     "output_type": "stream",
     "text": [
      "<class 'pandas.core.frame.DataFrame'>\n",
      "MultiIndex: 5016 entries, ('BE', Timestamp('2019-03-13 00:00:00')) to ('VWSYF', Timestamp('2020-12-30 00:00:00'))\n",
      "Data columns (total 21 columns):\n",
      " #   Column         Non-Null Count  Dtype  \n",
      "---  ------         --------------  -----  \n",
      " 0   dollar_volume  5016 non-null   float64\n",
      " 1   atr            5016 non-null   float64\n",
      " 2   bb_down        5016 non-null   float64\n",
      " 3   bb_high        5016 non-null   float64\n",
      " 4   bb_low         5016 non-null   float64\n",
      " 5   bb_mid         5016 non-null   float64\n",
      " 6   bb_up          5016 non-null   float64\n",
      " 7   macd           5016 non-null   float64\n",
      " 8   natr           5016 non-null   float64\n",
      " 9   rsi            5016 non-null   float64\n",
      " 10  return_1m      5016 non-null   float64\n",
      " 11  return_3m      5016 non-null   float64\n",
      " 12  return_6m      5016 non-null   float64\n",
      " 13  return_12m     5016 non-null   float64\n",
      " 14  momentum_3     5016 non-null   float64\n",
      " 15  momentum_6     5016 non-null   float64\n",
      " 16  momentum_3_6   5016 non-null   float64\n",
      " 17  momentum_12    5016 non-null   float64\n",
      " 18  momentum_3_12  5016 non-null   float64\n",
      " 19  month          5016 non-null   int64  \n",
      " 20  target         5016 non-null   float64\n",
      "dtypes: float64(20), int64(1)\n",
      "memory usage: 843.5+ KB\n"
     ]
    }
   ],
   "source": [
    "with pd.HDFStore('data.h5') as store:\n",
    "    data = store['us/Alt_Energy/daily']\n",
    "\n",
    "    data.index.set_names([\"Ticker\", \"date\"], inplace=True)\n",
    "data.info()"
   ]
  },
  {
   "cell_type": "code",
   "execution_count": 7,
   "metadata": {},
   "outputs": [
    {
     "data": {
      "text/html": [
       "<div>\n",
       "<style scoped>\n",
       "    .dataframe tbody tr th:only-of-type {\n",
       "        vertical-align: middle;\n",
       "    }\n",
       "\n",
       "    .dataframe tbody tr th {\n",
       "        vertical-align: top;\n",
       "    }\n",
       "\n",
       "    .dataframe thead th {\n",
       "        text-align: right;\n",
       "    }\n",
       "</style>\n",
       "<table border=\"1\" class=\"dataframe\">\n",
       "  <thead>\n",
       "    <tr style=\"text-align: right;\">\n",
       "      <th></th>\n",
       "      <th></th>\n",
       "      <th>dollar_volume</th>\n",
       "      <th>atr</th>\n",
       "      <th>bb_down</th>\n",
       "      <th>bb_high</th>\n",
       "      <th>bb_low</th>\n",
       "      <th>bb_mid</th>\n",
       "      <th>bb_up</th>\n",
       "      <th>macd</th>\n",
       "      <th>natr</th>\n",
       "      <th>rsi</th>\n",
       "      <th>...</th>\n",
       "      <th>return_3m</th>\n",
       "      <th>return_6m</th>\n",
       "      <th>return_12m</th>\n",
       "      <th>momentum_3</th>\n",
       "      <th>momentum_6</th>\n",
       "      <th>momentum_3_6</th>\n",
       "      <th>momentum_12</th>\n",
       "      <th>momentum_3_12</th>\n",
       "      <th>month</th>\n",
       "      <th>target</th>\n",
       "    </tr>\n",
       "    <tr>\n",
       "      <th>Ticker</th>\n",
       "      <th>date</th>\n",
       "      <th></th>\n",
       "      <th></th>\n",
       "      <th></th>\n",
       "      <th></th>\n",
       "      <th></th>\n",
       "      <th></th>\n",
       "      <th></th>\n",
       "      <th></th>\n",
       "      <th></th>\n",
       "      <th></th>\n",
       "      <th></th>\n",
       "      <th></th>\n",
       "      <th></th>\n",
       "      <th></th>\n",
       "      <th></th>\n",
       "      <th></th>\n",
       "      <th></th>\n",
       "      <th></th>\n",
       "      <th></th>\n",
       "      <th></th>\n",
       "      <th></th>\n",
       "    </tr>\n",
       "  </thead>\n",
       "  <tbody>\n",
       "    <tr>\n",
       "      <th>BE</th>\n",
       "      <th>2019-03-13</th>\n",
       "      <td>19.570596</td>\n",
       "      <td>0.416073</td>\n",
       "      <td>0.182902</td>\n",
       "      <td>2.873029</td>\n",
       "      <td>2.475257</td>\n",
       "      <td>2.674143</td>\n",
       "      <td>0.214869</td>\n",
       "      <td>0.413793</td>\n",
       "      <td>9.072782</td>\n",
       "      <td>50.304461</td>\n",
       "      <td>...</td>\n",
       "      <td>-0.005712</td>\n",
       "      <td>-0.023019</td>\n",
       "      <td>-0.004334</td>\n",
       "      <td>0.037547</td>\n",
       "      <td>0.020240</td>\n",
       "      <td>-0.017308</td>\n",
       "      <td>0.038925</td>\n",
       "      <td>0.001378</td>\n",
       "      <td>3</td>\n",
       "      <td>-0.055765</td>\n",
       "    </tr>\n",
       "    <tr>\n",
       "      <th>BWEN</th>\n",
       "      <th>2019-03-13</th>\n",
       "      <td>0.053295</td>\n",
       "      <td>-0.581117</td>\n",
       "      <td>0.152171</td>\n",
       "      <td>1.041694</td>\n",
       "      <td>0.822389</td>\n",
       "      <td>0.932041</td>\n",
       "      <td>0.067134</td>\n",
       "      <td>0.022268</td>\n",
       "      <td>7.689712</td>\n",
       "      <td>55.906060</td>\n",
       "      <td>...</td>\n",
       "      <td>-0.011835</td>\n",
       "      <td>-0.003984</td>\n",
       "      <td>0.011996</td>\n",
       "      <td>-0.011835</td>\n",
       "      <td>-0.003984</td>\n",
       "      <td>0.007851</td>\n",
       "      <td>0.011996</td>\n",
       "      <td>0.023832</td>\n",
       "      <td>3</td>\n",
       "      <td>0.000000</td>\n",
       "    </tr>\n",
       "    <tr>\n",
       "      <th>CSIQ</th>\n",
       "      <th>2019-03-13</th>\n",
       "      <td>24.365068</td>\n",
       "      <td>-0.270088</td>\n",
       "      <td>0.126628</td>\n",
       "      <td>3.290714</td>\n",
       "      <td>3.078555</td>\n",
       "      <td>3.184634</td>\n",
       "      <td>0.085532</td>\n",
       "      <td>0.643142</td>\n",
       "      <td>4.392157</td>\n",
       "      <td>60.168149</td>\n",
       "      <td>...</td>\n",
       "      <td>0.008453</td>\n",
       "      <td>-0.003823</td>\n",
       "      <td>0.000212</td>\n",
       "      <td>0.007184</td>\n",
       "      <td>-0.005092</td>\n",
       "      <td>-0.012276</td>\n",
       "      <td>-0.001058</td>\n",
       "      <td>-0.008242</td>\n",
       "      <td>3</td>\n",
       "      <td>-0.007608</td>\n",
       "    </tr>\n",
       "    <tr>\n",
       "      <th>DOGEF</th>\n",
       "      <th>2019-03-13</th>\n",
       "      <td>0.106636</td>\n",
       "      <td>2.331086</td>\n",
       "      <td>0.298246</td>\n",
       "      <td>4.352097</td>\n",
       "      <td>4.047742</td>\n",
       "      <td>4.199920</td>\n",
       "      <td>0.006110</td>\n",
       "      <td>0.852777</td>\n",
       "      <td>10.222203</td>\n",
       "      <td>90.396653</td>\n",
       "      <td>...</td>\n",
       "      <td>0.016024</td>\n",
       "      <td>0.028647</td>\n",
       "      <td>0.017092</td>\n",
       "      <td>0.012128</td>\n",
       "      <td>0.024751</td>\n",
       "      <td>0.012623</td>\n",
       "      <td>0.013196</td>\n",
       "      <td>0.001068</td>\n",
       "      <td>3</td>\n",
       "      <td>0.010349</td>\n",
       "    </tr>\n",
       "    <tr>\n",
       "      <th>ENPH</th>\n",
       "      <th>2019-03-13</th>\n",
       "      <td>16.462368</td>\n",
       "      <td>-1.073724</td>\n",
       "      <td>0.247639</td>\n",
       "      <td>2.364287</td>\n",
       "      <td>2.090313</td>\n",
       "      <td>2.227300</td>\n",
       "      <td>0.026335</td>\n",
       "      <td>-0.467674</td>\n",
       "      <td>4.746885</td>\n",
       "      <td>73.817298</td>\n",
       "      <td>...</td>\n",
       "      <td>0.034273</td>\n",
       "      <td>0.012262</td>\n",
       "      <td>0.012539</td>\n",
       "      <td>-0.005727</td>\n",
       "      <td>-0.027738</td>\n",
       "      <td>-0.022011</td>\n",
       "      <td>-0.027461</td>\n",
       "      <td>-0.021734</td>\n",
       "      <td>3</td>\n",
       "      <td>0.002137</td>\n",
       "    </tr>\n",
       "  </tbody>\n",
       "</table>\n",
       "<p>5 rows × 21 columns</p>\n",
       "</div>"
      ],
      "text/plain": [
       "                   dollar_volume       atr   bb_down   bb_high    bb_low  \\\n",
       "Ticker date                                                                \n",
       "BE     2019-03-13      19.570596  0.416073  0.182902  2.873029  2.475257   \n",
       "BWEN   2019-03-13       0.053295 -0.581117  0.152171  1.041694  0.822389   \n",
       "CSIQ   2019-03-13      24.365068 -0.270088  0.126628  3.290714  3.078555   \n",
       "DOGEF  2019-03-13       0.106636  2.331086  0.298246  4.352097  4.047742   \n",
       "ENPH   2019-03-13      16.462368 -1.073724  0.247639  2.364287  2.090313   \n",
       "\n",
       "                     bb_mid     bb_up      macd       natr        rsi  ...  \\\n",
       "Ticker date                                                            ...   \n",
       "BE     2019-03-13  2.674143  0.214869  0.413793   9.072782  50.304461  ...   \n",
       "BWEN   2019-03-13  0.932041  0.067134  0.022268   7.689712  55.906060  ...   \n",
       "CSIQ   2019-03-13  3.184634  0.085532  0.643142   4.392157  60.168149  ...   \n",
       "DOGEF  2019-03-13  4.199920  0.006110  0.852777  10.222203  90.396653  ...   \n",
       "ENPH   2019-03-13  2.227300  0.026335 -0.467674   4.746885  73.817298  ...   \n",
       "\n",
       "                   return_3m  return_6m  return_12m  momentum_3  momentum_6  \\\n",
       "Ticker date                                                                   \n",
       "BE     2019-03-13  -0.005712  -0.023019   -0.004334    0.037547    0.020240   \n",
       "BWEN   2019-03-13  -0.011835  -0.003984    0.011996   -0.011835   -0.003984   \n",
       "CSIQ   2019-03-13   0.008453  -0.003823    0.000212    0.007184   -0.005092   \n",
       "DOGEF  2019-03-13   0.016024   0.028647    0.017092    0.012128    0.024751   \n",
       "ENPH   2019-03-13   0.034273   0.012262    0.012539   -0.005727   -0.027738   \n",
       "\n",
       "                   momentum_3_6  momentum_12  momentum_3_12  month    target  \n",
       "Ticker date                                                                   \n",
       "BE     2019-03-13     -0.017308     0.038925       0.001378      3 -0.055765  \n",
       "BWEN   2019-03-13      0.007851     0.011996       0.023832      3  0.000000  \n",
       "CSIQ   2019-03-13     -0.012276    -0.001058      -0.008242      3 -0.007608  \n",
       "DOGEF  2019-03-13      0.012623     0.013196       0.001068      3  0.010349  \n",
       "ENPH   2019-03-13     -0.022011    -0.027461      -0.021734      3  0.002137  \n",
       "\n",
       "[5 rows x 21 columns]"
      ]
     },
     "execution_count": 7,
     "metadata": {},
     "output_type": "execute_result"
    }
   ],
   "source": [
    "data.head()"
   ]
  },
  {
   "cell_type": "markdown",
   "metadata": {},
   "source": [
    "## Simple Regression Tree with Time Series Data"
   ]
  },
  {
   "cell_type": "markdown",
   "metadata": {},
   "source": [
    "Regression trees make predictions based on the mean outcome value for the training samples assigned to a given node and typically rely on the mean-squared error to select optimal rules during recursive binary splitting."
   ]
  },
  {
   "cell_type": "markdown",
   "metadata": {},
   "source": [
    "### Generate two lags of monthly returns"
   ]
  },
  {
   "cell_type": "code",
   "execution_count": 8,
   "metadata": {
    "ExecuteTime": {
     "end_time": "2020-06-22T15:34:45.988150Z",
     "start_time": "2020-06-22T15:34:45.966503Z"
    },
    "scrolled": true
   },
   "outputs": [
    {
     "name": "stdout",
     "output_type": "stream",
     "text": [
      "<class 'pandas.core.frame.DataFrame'>\n",
      "MultiIndex: 5005 entries, ('BE', Timestamp('2019-03-14 00:00:00')) to ('VWSYF', Timestamp('2020-12-30 00:00:00'))\n",
      "Data columns (total 3 columns):\n",
      " #   Column  Non-Null Count  Dtype  \n",
      "---  ------  --------------  -----  \n",
      " 0   y       5005 non-null   float64\n",
      " 1   t-1     5005 non-null   float64\n",
      " 2   t-2     5005 non-null   float64\n",
      "dtypes: float64(3)\n",
      "memory usage: 137.8+ KB\n"
     ]
    }
   ],
   "source": [
    "X2 = data.loc[:, ['target', 'return_1m']]\n",
    "X2.columns = ['y', 't-1']\n",
    "X2['t-2'] = data.groupby(level='Ticker').return_1m.shift()\n",
    "X2 = X2.dropna()\n",
    "X2.info()"
   ]
  },
  {
   "cell_type": "code",
   "execution_count": 9,
   "metadata": {
    "ExecuteTime": {
     "end_time": "2020-06-22T15:34:46.161136Z",
     "start_time": "2020-06-22T15:34:46.157413Z"
    }
   },
   "outputs": [],
   "source": [
    "y2 = X2.y\n",
    "X2 = X2.drop('y', axis=1)"
   ]
  },
  {
   "cell_type": "markdown",
   "metadata": {},
   "source": [
    "### Explore Data"
   ]
  },
  {
   "cell_type": "markdown",
   "metadata": {},
   "source": [
    "Note the small spike where we clipped the data."
   ]
  },
  {
   "cell_type": "code",
   "execution_count": 10,
   "metadata": {
    "ExecuteTime": {
     "end_time": "2020-06-22T15:34:47.661138Z",
     "start_time": "2020-06-22T15:34:47.378831Z"
    }
   },
   "outputs": [
    {
     "data": {
      "image/png": "[encoded data removed]",
      "text/plain": [
       "<Figure size 432x288 with 1 Axes>"
      ]
     },
     "metadata": {},
     "output_type": "display_data"
    }
   ],
   "source": [
    "sns.distplot(y2)\n",
    "sns.despine();"
   ]
  },
  {
   "cell_type": "markdown",
   "metadata": {},
   "source": [
    "### Configure Tree"
   ]
  },
  {
   "cell_type": "markdown",
   "metadata": {},
   "source": [
    "Let's start with a simplified example to facilitate visualization and only use two months of lagged returns to predict the following month, in the vein of an AR(2) model from the last chapter:"
   ]
  },
  {
   "cell_type": "code",
   "execution_count": 11,
   "metadata": {
    "ExecuteTime": {
     "end_time": "2020-06-22T15:34:50.576874Z",
     "start_time": "2020-06-22T15:34:50.573561Z"
    }
   },
   "outputs": [],
   "source": [
    "reg_tree_t2 = DecisionTreeRegressor(criterion='mse',\n",
    "                                    splitter='best',\n",
    "                                    max_depth=6,\n",
    "                                    min_samples_split=2,\n",
    "                                    min_samples_leaf=50,\n",
    "                                    min_weight_fraction_leaf=0.0,\n",
    "                                    max_features=None,\n",
    "                                    random_state=42,\n",
    "                                    max_leaf_nodes=None,\n",
    "                                    min_impurity_decrease=0.0,\n",
    "                                    min_impurity_split=None,\n",
    "                                    presort=False)"
   ]
  },
  {
   "cell_type": "markdown",
   "metadata": {},
   "source": [
    "### Train Decision Tree"
   ]
  },
  {
   "cell_type": "code",
   "execution_count": 12,
   "metadata": {
    "ExecuteTime": {
     "end_time": "2020-06-22T15:34:57.609925Z",
     "start_time": "2020-06-22T15:34:51.409222Z"
    }
   },
   "outputs": [
    {
     "name": "stdout",
     "output_type": "stream",
     "text": [
      "6.38 ms ± 18.3 µs per loop (mean ± std. dev. of 7 runs, 100 loops each)\n"
     ]
    }
   ],
   "source": [
    "%%timeit\n",
    "reg_tree_t2.fit(X=X2, y=y2)"
   ]
  },
  {
   "cell_type": "code",
   "execution_count": 13,
   "metadata": {
    "ExecuteTime": {
     "end_time": "2020-06-22T15:34:57.701375Z",
     "start_time": "2020-06-22T15:34:57.611614Z"
    }
   },
   "outputs": [
    {
     "data": {
      "text/plain": [
       "DecisionTreeRegressor(max_depth=6, min_samples_leaf=50, presort=False,\n",
       "                      random_state=42)"
      ]
     },
     "execution_count": 13,
     "metadata": {},
     "output_type": "execute_result"
    }
   ],
   "source": [
    "reg_tree_t2.fit(X=X2, y=y2)"
   ]
  },
  {
   "cell_type": "markdown",
   "metadata": {},
   "source": [
    "### Visualize Tree"
   ]
  },
  {
   "cell_type": "code",
   "execution_count": 14,
   "metadata": {
    "ExecuteTime": {
     "end_time": "2020-06-22T15:35:27.132012Z",
     "start_time": "2020-06-22T15:35:27.047144Z"
    }
   },
   "outputs": [
    {
     "data": {
      "image/svg+xml": [
       "<?xml version=\"1.0\" encoding=\"UTF-8\" standalone=\"no\"?>\n",
       "<!DOCTYPE svg PUBLIC \"-//W3C//DTD SVG 1.1//EN\"\n",
       " \"http://www.w3.org/Graphics/SVG/1.1/DTD/svg11.dtd\">\n",
       "<!-- Generated by graphviz version 2.44.1 (20200629.0846)\n",
       " -->\n",
       "<!-- Title: Tree Pages: 1 -->\n",
       "<svg width=\"311pt\" height=\"356pt\"\n",
       " viewBox=\"0.00 0.00 310.50 356.00\" xmlns=\"http://www.w3.org/2000/svg\" xmlns:xlink=\"http://www.w3.org/1999/xlink\">\n",
       "<g id=\"graph0\" class=\"graph\" transform=\"scale(1 1) rotate(0) translate(4 352)\">\n",
       "<title>Tree</title>\n",
       "<polygon fill=\"white\" stroke=\"transparent\" points=\"-4,4 -4,-352 306.5,-352 306.5,4 -4,4\"/>\n",
       "<!-- 0 -->\n",
       "<g id=\"node1\" class=\"node\">\n",
       "<title>0</title>\n",
       "<path fill=\"#f0b58a\" stroke=\"black\" d=\"M159,-348C159,-348 70,-348 70,-348 64,-348 58,-342 58,-336 58,-336 58,-292 58,-292 58,-286 64,-280 70,-280 70,-280 159,-280 159,-280 165,-280 171,-286 171,-292 171,-292 171,-336 171,-336 171,-342 165,-348 159,-348\"/>\n",
       "<text text-anchor=\"start\" x=\"79.5\" y=\"-332.8\" font-family=\"Helvetica,sans-Serif\" font-size=\"14.00\">t&#45;2 ≤ &#45;0.108</text>\n",
       "<text text-anchor=\"start\" x=\"76.5\" y=\"-317.8\" font-family=\"Helvetica,sans-Serif\" font-size=\"14.00\">mse = 0.001</text>\n",
       "<text text-anchor=\"start\" x=\"66\" y=\"-302.8\" font-family=\"Helvetica,sans-Serif\" font-size=\"14.00\">samples = 5005</text>\n",
       "<text text-anchor=\"start\" x=\"73.5\" y=\"-287.8\" font-family=\"Helvetica,sans-Serif\" font-size=\"14.00\">value = 0.003</text>\n",
       "</g>\n",
       "<!-- 1 -->\n",
       "<g id=\"node2\" class=\"node\">\n",
       "<title>1</title>\n",
       "<path fill=\"#ffffff\" stroke=\"black\" d=\"M91,-236.5C91,-236.5 12,-236.5 12,-236.5 6,-236.5 0,-230.5 0,-224.5 0,-224.5 0,-195.5 0,-195.5 0,-189.5 6,-183.5 12,-183.5 12,-183.5 91,-183.5 91,-183.5 97,-183.5 103,-189.5 103,-195.5 103,-195.5 103,-224.5 103,-224.5 103,-230.5 97,-236.5 91,-236.5\"/>\n",
       "<text text-anchor=\"start\" x=\"13.5\" y=\"-221.3\" font-family=\"Helvetica,sans-Serif\" font-size=\"14.00\">mse = 0.004</text>\n",
       "<text text-anchor=\"start\" x=\"10.5\" y=\"-206.3\" font-family=\"Helvetica,sans-Serif\" font-size=\"14.00\">samples = 59</text>\n",
       "<text text-anchor=\"start\" x=\"8\" y=\"-191.3\" font-family=\"Helvetica,sans-Serif\" font-size=\"14.00\">value = &#45;0.029</text>\n",
       "</g>\n",
       "<!-- 0&#45;&gt;1 -->\n",
       "<g id=\"edge1\" class=\"edge\">\n",
       "<title>0&#45;&gt;1</title>\n",
       "<path fill=\"none\" stroke=\"black\" d=\"M94.05,-279.88C87.18,-268.78 79.52,-256.37 72.61,-245.18\"/>\n",
       "<polygon fill=\"black\" stroke=\"black\" points=\"75.5,-243.19 67.26,-236.52 69.54,-246.87 75.5,-243.19\"/>\n",
       "<text text-anchor=\"middle\" x=\"61.51\" y=\"-257.15\" font-family=\"Helvetica,sans-Serif\" font-size=\"14.00\">True</text>\n",
       "</g>\n",
       "<!-- 2 -->\n",
       "<g id=\"node3\" class=\"node\">\n",
       "<title>2</title>\n",
       "<path fill=\"#efb489\" stroke=\"black\" d=\"M222,-244C222,-244 133,-244 133,-244 127,-244 121,-238 121,-232 121,-232 121,-188 121,-188 121,-182 127,-176 133,-176 133,-176 222,-176 222,-176 228,-176 234,-182 234,-188 234,-188 234,-232 234,-232 234,-238 228,-244 222,-244\"/>\n",
       "<text text-anchor=\"start\" x=\"142.5\" y=\"-228.8\" font-family=\"Helvetica,sans-Serif\" font-size=\"14.00\">t&#45;1 ≤ &#45;0.104</text>\n",
       "<text text-anchor=\"start\" x=\"139.5\" y=\"-213.8\" font-family=\"Helvetica,sans-Serif\" font-size=\"14.00\">mse = 0.001</text>\n",
       "<text text-anchor=\"start\" x=\"129\" y=\"-198.8\" font-family=\"Helvetica,sans-Serif\" font-size=\"14.00\">samples = 4946</text>\n",
       "<text text-anchor=\"start\" x=\"136.5\" y=\"-183.8\" font-family=\"Helvetica,sans-Serif\" font-size=\"14.00\">value = 0.004</text>\n",
       "</g>\n",
       "<!-- 0&#45;&gt;2 -->\n",
       "<g id=\"edge2\" class=\"edge\">\n",
       "<title>0&#45;&gt;2</title>\n",
       "<path fill=\"none\" stroke=\"black\" d=\"M134.95,-279.88C140.24,-271.33 145.99,-262.01 151.51,-253.07\"/>\n",
       "<polygon fill=\"black\" stroke=\"black\" points=\"154.66,-254.65 156.93,-244.3 148.7,-250.97 154.66,-254.65\"/>\n",
       "<text text-anchor=\"middle\" x=\"162.68\" y=\"-264.93\" font-family=\"Helvetica,sans-Serif\" font-size=\"14.00\">False</text>\n",
       "</g>\n",
       "<!-- 3 -->\n",
       "<g id=\"node4\" class=\"node\">\n",
       "<title>3</title>\n",
       "<path fill=\"#e58139\" stroke=\"black\" d=\"M152.5,-132.5C152.5,-132.5 78.5,-132.5 78.5,-132.5 72.5,-132.5 66.5,-126.5 66.5,-120.5 66.5,-120.5 66.5,-91.5 66.5,-91.5 66.5,-85.5 72.5,-79.5 78.5,-79.5 78.5,-79.5 152.5,-79.5 152.5,-79.5 158.5,-79.5 164.5,-85.5 164.5,-91.5 164.5,-91.5 164.5,-120.5 164.5,-120.5 164.5,-126.5 158.5,-132.5 152.5,-132.5\"/>\n",
       "<text text-anchor=\"start\" x=\"77.5\" y=\"-117.3\" font-family=\"Helvetica,sans-Serif\" font-size=\"14.00\">mse = 0.002</text>\n",
       "<text text-anchor=\"start\" x=\"74.5\" y=\"-102.3\" font-family=\"Helvetica,sans-Serif\" font-size=\"14.00\">samples = 63</text>\n",
       "<text text-anchor=\"start\" x=\"74.5\" y=\"-87.3\" font-family=\"Helvetica,sans-Serif\" font-size=\"14.00\">value = 0.025</text>\n",
       "</g>\n",
       "<!-- 2&#45;&gt;3 -->\n",
       "<g id=\"edge3\" class=\"edge\">\n",
       "<title>2&#45;&gt;3</title>\n",
       "<path fill=\"none\" stroke=\"black\" d=\"M157.37,-175.88C150.62,-164.78 143.08,-152.37 136.28,-141.18\"/>\n",
       "<polygon fill=\"black\" stroke=\"black\" points=\"139.2,-139.25 131.01,-132.52 133.22,-142.88 139.2,-139.25\"/>\n",
       "</g>\n",
       "<!-- 4 -->\n",
       "<g id=\"node5\" class=\"node\">\n",
       "<title>4</title>\n",
       "<path fill=\"#f0b48a\" stroke=\"black\" d=\"M284,-140C284,-140 195,-140 195,-140 189,-140 183,-134 183,-128 183,-128 183,-84 183,-84 183,-78 189,-72 195,-72 195,-72 284,-72 284,-72 290,-72 296,-78 296,-84 296,-84 296,-128 296,-128 296,-134 290,-140 284,-140\"/>\n",
       "<text text-anchor=\"start\" x=\"207\" y=\"-124.8\" font-family=\"Helvetica,sans-Serif\" font-size=\"14.00\">t&#45;2 ≤ 0.044</text>\n",
       "<text text-anchor=\"start\" x=\"201.5\" y=\"-109.8\" font-family=\"Helvetica,sans-Serif\" font-size=\"14.00\">mse = 0.001</text>\n",
       "<text text-anchor=\"start\" x=\"191\" y=\"-94.8\" font-family=\"Helvetica,sans-Serif\" font-size=\"14.00\">samples = 4883</text>\n",
       "<text text-anchor=\"start\" x=\"198.5\" y=\"-79.8\" font-family=\"Helvetica,sans-Serif\" font-size=\"14.00\">value = 0.003</text>\n",
       "</g>\n",
       "<!-- 2&#45;&gt;4 -->\n",
       "<g id=\"edge4\" class=\"edge\">\n",
       "<title>2&#45;&gt;4</title>\n",
       "<path fill=\"none\" stroke=\"black\" d=\"M197.63,-175.88C202.83,-167.33 208.49,-158.01 213.93,-149.07\"/>\n",
       "<polygon fill=\"black\" stroke=\"black\" points=\"217.06,-150.66 219.26,-140.3 211.07,-147.03 217.06,-150.66\"/>\n",
       "</g>\n",
       "<!-- 5 -->\n",
       "<g id=\"node6\" class=\"node\">\n",
       "<title>5</title>\n",
       "<path fill=\"#c0c0c0\" stroke=\"black\" d=\"M218.5,-36C218.5,-36 188.5,-36 188.5,-36 182.5,-36 176.5,-30 176.5,-24 176.5,-24 176.5,-12 176.5,-12 176.5,-6 182.5,0 188.5,0 188.5,0 218.5,0 218.5,0 224.5,0 230.5,-6 230.5,-12 230.5,-12 230.5,-24 230.5,-24 230.5,-30 224.5,-36 218.5,-36\"/>\n",
       "<text text-anchor=\"middle\" x=\"203.5\" y=\"-14.3\" font-family=\"Helvetica,sans-Serif\" font-size=\"14.00\">(...)</text>\n",
       "</g>\n",
       "<!-- 4&#45;&gt;5 -->\n",
       "<g id=\"edge5\" class=\"edge\">\n",
       "<title>4&#45;&gt;5</title>\n",
       "<path fill=\"none\" stroke=\"black\" d=\"M225.68,-72C222.04,-63.28 218.14,-53.98 214.66,-45.65\"/>\n",
       "<polygon fill=\"black\" stroke=\"black\" points=\"217.88,-44.28 210.79,-36.4 211.42,-46.98 217.88,-44.28\"/>\n",
       "</g>\n",
       "<!-- 18 -->\n",
       "<g id=\"node7\" class=\"node\">\n",
       "<title>18</title>\n",
       "<path fill=\"#c0c0c0\" stroke=\"black\" d=\"M290.5,-36C290.5,-36 260.5,-36 260.5,-36 254.5,-36 248.5,-30 248.5,-24 248.5,-24 248.5,-12 248.5,-12 248.5,-6 254.5,0 260.5,0 260.5,0 290.5,0 290.5,0 296.5,0 302.5,-6 302.5,-12 302.5,-12 302.5,-24 302.5,-24 302.5,-30 296.5,-36 290.5,-36\"/>\n",
       "<text text-anchor=\"middle\" x=\"275.5\" y=\"-14.3\" font-family=\"Helvetica,sans-Serif\" font-size=\"14.00\">(...)</text>\n",
       "</g>\n",
       "<!-- 4&#45;&gt;18 -->\n",
       "<g id=\"edge6\" class=\"edge\">\n",
       "<title>4&#45;&gt;18</title>\n",
       "<path fill=\"none\" stroke=\"black\" d=\"M253.32,-72C256.96,-63.28 260.86,-53.98 264.34,-45.65\"/>\n",
       "<polygon fill=\"black\" stroke=\"black\" points=\"267.58,-46.98 268.21,-36.4 261.12,-44.28 267.58,-46.98\"/>\n",
       "</g>\n",
       "</g>\n",
       "</svg>\n"
      ],
      "text/plain": [
       "<graphviz.files.Source at 0x7f93c9428978>"
      ]
     },
     "execution_count": 14,
     "metadata": {},
     "output_type": "execute_result"
    }
   ],
   "source": [
    "out_file = results_path / 'reg_tree_t2.dot'\n",
    "dot_data = export_graphviz(reg_tree_t2,\n",
    "                          out_file=out_file.as_posix(),\n",
    "                          feature_names=X2.columns,\n",
    "                          max_depth=2,\n",
    "                          filled=True,\n",
    "                          rounded=True,\n",
    "                          special_characters=True)\n",
    "if out_file is not None:\n",
    "    dot_data = Path(out_file).read_text()\n",
    "\n",
    "graphviz.Source(dot_data)"
   ]
  },
  {
   "cell_type": "markdown",
   "metadata": {},
   "source": [
    "### Compare with Linear Regression"
   ]
  },
  {
   "cell_type": "markdown",
   "metadata": {},
   "source": [
    "The OLS summary below and a visualization of the first two levels of the decision tree above reveal the striking differences between the models. The OLS model provides three parameters for the intercepts and the two features in line with the linear assumption.\n",
    "\n",
    "In contrast, the regression tree chart above displays for each node of the first two levels the feature and threshold used to split the data (note that features can be used repeatedly), as well as the current value of the mean-squared error (MSE), the number of samples, and predicted value based on these training samples."
   ]
  },
  {
   "cell_type": "markdown",
   "metadata": {},
   "source": [
    "The tree chart also highlights the uneven distribution of samples across the nodes as the numbers vary between 59 and 5005 samples after only two splits."
   ]
  },
  {
   "cell_type": "markdown",
   "metadata": {},
   "source": [
    "#### statsmodels OLS"
   ]
  },
  {
   "cell_type": "code",
   "execution_count": 15,
   "metadata": {
    "ExecuteTime": {
     "end_time": "2020-06-19T13:47:11.195947Z",
     "start_time": "2020-06-19T13:47:11.187300Z"
    },
    "scrolled": true
   },
   "outputs": [],
   "source": [
    "ols_model = sm.OLS(endog=y2, exog=sm.add_constant(X2))"
   ]
  },
  {
   "cell_type": "code",
   "execution_count": 16,
   "metadata": {
    "ExecuteTime": {
     "end_time": "2020-06-19T13:47:13.199881Z",
     "start_time": "2020-06-19T13:47:11.197211Z"
    }
   },
   "outputs": [
    {
     "name": "stdout",
     "output_type": "stream",
     "text": [
      "11.8 µs ± 34.2 ns per loop (mean ± std. dev. of 7 runs, 100000 loops each)\n"
     ]
    }
   ],
   "source": [
    "%%timeit\n",
    "ols_model.fit()"
   ]
  },
  {
   "cell_type": "code",
   "execution_count": 17,
   "metadata": {
    "ExecuteTime": {
     "end_time": "2020-06-19T13:47:13.214533Z",
     "start_time": "2020-06-19T13:47:13.201234Z"
    }
   },
   "outputs": [
    {
     "name": "stdout",
     "output_type": "stream",
     "text": [
      "                            OLS Regression Results                            \n",
      "==============================================================================\n",
      "Dep. Variable:                      y   R-squared:                       0.005\n",
      "Model:                            OLS   Adj. R-squared:                  0.005\n",
      "Method:                 Least Squares   F-statistic:                     12.99\n",
      "Date:                Thu, 07 Jan 2021   Prob (F-statistic):           2.37e-06\n",
      "Time:                        12:35:04   Log-Likelihood:                 9375.0\n",
      "No. Observations:                5005   AIC:                        -1.874e+04\n",
      "Df Residuals:                    5002   BIC:                        -1.872e+04\n",
      "Df Model:                           2                                         \n",
      "Covariance Type:            nonrobust                                         \n",
      "==============================================================================\n",
      "                 coef    std err          t      P>|t|      [0.025      0.975]\n",
      "------------------------------------------------------------------------------\n",
      "const          0.0032      0.001      6.066      0.000       0.002       0.004\n",
      "t-1           -0.0315      0.014     -2.233      0.026      -0.059      -0.004\n",
      "t-2            0.0636      0.014      4.504      0.000       0.036       0.091\n",
      "==============================================================================\n",
      "Omnibus:                      349.063   Durbin-Watson:                   1.447\n",
      "Prob(Omnibus):                  0.000   Jarque-Bera (JB):             1368.842\n",
      "Skew:                           0.246   Prob(JB):                    5.75e-298\n",
      "Kurtosis:                       5.514   Cond. No.                         27.3\n",
      "==============================================================================\n",
      "\n",
      "Notes:\n",
      "[1] Standard Errors assume that the covariance matrix of the errors is correctly specified.\n"
     ]
    }
   ],
   "source": [
    "result = ols_model.fit()\n",
    "print(result.summary())"
   ]
  },
  {
   "cell_type": "markdown",
   "metadata": {},
   "source": [
    "#### sklearn Linear Regression"
   ]
  },
  {
   "cell_type": "code",
   "execution_count": 18,
   "metadata": {
    "ExecuteTime": {
     "end_time": "2020-06-19T13:47:13.219713Z",
     "start_time": "2020-06-19T13:47:13.215511Z"
    }
   },
   "outputs": [],
   "source": [
    "lin_reg = LinearRegression()"
   ]
  },
  {
   "cell_type": "code",
   "execution_count": 19,
   "metadata": {
    "ExecuteTime": {
     "end_time": "2020-06-19T13:47:15.364342Z",
     "start_time": "2020-06-19T13:47:13.220745Z"
    }
   },
   "outputs": [
    {
     "name": "stdout",
     "output_type": "stream",
     "text": [
      "1.63 ms ± 43.7 µs per loop (mean ± std. dev. of 7 runs, 1000 loops each)\n"
     ]
    }
   ],
   "source": [
    "%%timeit\n",
    "lin_reg.fit(X=X2,y=y2)"
   ]
  },
  {
   "cell_type": "code",
   "execution_count": 20,
   "metadata": {
    "ExecuteTime": {
     "end_time": "2020-06-19T13:47:15.371795Z",
     "start_time": "2020-06-19T13:47:15.365367Z"
    }
   },
   "outputs": [
    {
     "data": {
      "text/plain": [
       "LinearRegression()"
      ]
     },
     "execution_count": 20,
     "metadata": {},
     "output_type": "execute_result"
    }
   ],
   "source": [
    "lin_reg.fit(X=X2,y=y2)"
   ]
  },
  {
   "cell_type": "code",
   "execution_count": 21,
   "metadata": {
    "ExecuteTime": {
     "end_time": "2020-06-19T13:47:15.384111Z",
     "start_time": "2020-06-19T13:47:15.372730Z"
    }
   },
   "outputs": [
    {
     "data": {
      "text/plain": [
       "0.003213980640642052"
      ]
     },
     "execution_count": 21,
     "metadata": {},
     "output_type": "execute_result"
    }
   ],
   "source": [
    "lin_reg.intercept_"
   ]
  },
  {
   "cell_type": "code",
   "execution_count": 22,
   "metadata": {
    "ExecuteTime": {
     "end_time": "2020-06-19T13:47:15.393073Z",
     "start_time": "2020-06-19T13:47:15.385065Z"
    }
   },
   "outputs": [
    {
     "data": {
      "text/plain": [
       "array([-0.03151099,  0.06356079])"
      ]
     },
     "execution_count": 22,
     "metadata": {},
     "output_type": "execute_result"
    }
   ],
   "source": [
    "lin_reg.coef_"
   ]
  },
  {
   "cell_type": "markdown",
   "metadata": {},
   "source": [
    "### Linear Regression vs Regression Tree Decision Surfaces"
   ]
  },
  {
   "cell_type": "markdown",
   "metadata": {},
   "source": [
    "The following figure shows the current period return as a function of returns one and two periods ago for linear regression and the regression tree:\n",
    "\n",
    "The linear-regression model result on the right side underlines the linearity of the relationship between lagged and current returns, whereas the regression tree chart on the left illustrates the non-linear relationship encoded in the recursive partitioning of the feature space."
   ]
  },
  {
   "cell_type": "code",
   "execution_count": 23,
   "metadata": {
    "ExecuteTime": {
     "end_time": "2020-06-19T13:47:15.412694Z",
     "start_time": "2020-06-19T13:47:15.393993Z"
    }
   },
   "outputs": [],
   "source": [
    "t1, t2 = np.meshgrid(np.linspace(X2['t-1'].quantile(.01), X2['t-1'].quantile(.99), 100),\n",
    "                     np.linspace(X2['t-2'].quantile(.01), X2['t-2'].quantile(.99), 100))\n",
    "X_data = np.c_[t1.ravel(), t2.ravel()]"
   ]
  },
  {
   "cell_type": "code",
   "execution_count": 24,
   "metadata": {
    "ExecuteTime": {
     "end_time": "2020-06-19T13:47:15.864349Z",
     "start_time": "2020-06-19T13:47:15.413913Z"
    },
    "scrolled": false
   },
   "outputs": [
    {
     "data": {
      "image/png": "[encoded data removed]",
      "text/plain": [
       "<Figure size 864x360 with 4 Axes>"
      ]
     },
     "metadata": {},
     "output_type": "display_data"
    }
   ],
   "source": [
    "fig, axes = plt.subplots(ncols=2, figsize=(12,5))\n",
    "\n",
    "# Linear Regression\n",
    "ret1 = lin_reg.predict(X_data).reshape(t1.shape)\n",
    "surface1 = axes[0].contourf(t1, t2, ret1, cmap='Blues')\n",
    "plt.colorbar(mappable=surface1, ax=axes[0])\n",
    "\n",
    "# Regression Tree\n",
    "ret2 = reg_tree_t2.predict(X_data).reshape(t1.shape)\n",
    "surface2 = axes[1].contourf(t1, t2, ret2, cmap='Blues')\n",
    "plt.colorbar(mappable=surface2, ax=axes[1])\n",
    "\n",
    "# Format plots\n",
    "titles = ['Linear Regression', 'Regression Tree']\n",
    "for i, ax in enumerate(axes):\n",
    "    ax.set_xlabel('t-1')\n",
    "    ax.set_ylabel('t-2')\n",
    "    ax.set_title(titles[i])\n",
    "\n",
    "fig.suptitle('Decision Surfaces', fontsize=14)\n",
    "sns.despine()\n",
    "fig.tight_layout()\n",
    "fig.subplots_adjust(top=.9);"
   ]
  },
  {
   "cell_type": "markdown",
   "metadata": {},
   "source": [
    "## Simple Classification Tree with Time Series Data"
   ]
  },
  {
   "cell_type": "markdown",
   "metadata": {},
   "source": [
    "### Configure Tree"
   ]
  },
  {
   "cell_type": "code",
   "execution_count": 32,
   "metadata": {
    "ExecuteTime": {
     "end_time": "2020-06-19T13:47:41.625353Z",
     "start_time": "2020-06-19T13:47:41.622443Z"
    }
   },
   "outputs": [],
   "source": [
    "clf_tree_t2 = DecisionTreeClassifier(criterion='gini',\n",
    "                                     splitter='best',\n",
    "                                     max_depth=5,\n",
    "                                     min_samples_split=1000,\n",
    "                                     min_samples_leaf=1,\n",
    "                                     min_weight_fraction_leaf=0.0,\n",
    "                                     max_features=None,\n",
    "                                     random_state=42,\n",
    "                                     max_leaf_nodes=None,\n",
    "                                     min_impurity_decrease=0.0,\n",
    "                                     min_impurity_split=None,\n",
    "                                     class_weight=None,\n",
    "                                     presort=False)"
   ]
  },
  {
   "cell_type": "markdown",
   "metadata": {},
   "source": [
    "### Train Tree"
   ]
  },
  {
   "cell_type": "code",
   "execution_count": 33,
   "metadata": {
    "ExecuteTime": {
     "end_time": "2020-06-19T13:47:41.644445Z",
     "start_time": "2020-06-19T13:47:41.626244Z"
    }
   },
   "outputs": [
    {
     "data": {
      "text/plain": [
       "1    2601\n",
       "0    2404\n",
       "Name: y, dtype: int64"
      ]
     },
     "execution_count": 33,
     "metadata": {},
     "output_type": "execute_result"
    }
   ],
   "source": [
    "y_binary = (y2>0).astype(int)\n",
    "y_binary.value_counts()"
   ]
  },
  {
   "cell_type": "code",
   "execution_count": 34,
   "metadata": {
    "ExecuteTime": {
     "end_time": "2020-06-19T13:47:45.915689Z",
     "start_time": "2020-06-19T13:47:41.646664Z"
    },
    "scrolled": true
   },
   "outputs": [
    {
     "name": "stdout",
     "output_type": "stream",
     "text": [
      "6.51 ms ± 24.6 µs per loop (mean ± std. dev. of 7 runs, 100 loops each)\n"
     ]
    }
   ],
   "source": [
    "%%timeit\n",
    "clf_tree_t2.fit(X=X2, y=y_binary)"
   ]
  },
  {
   "cell_type": "code",
   "execution_count": 35,
   "metadata": {
    "ExecuteTime": {
     "end_time": "2020-06-19T13:47:45.988925Z",
     "start_time": "2020-06-19T13:47:45.916716Z"
    }
   },
   "outputs": [
    {
     "data": {
      "text/plain": [
       "DecisionTreeClassifier(max_depth=5, min_samples_split=1000, presort=False,\n",
       "                       random_state=42)"
      ]
     },
     "execution_count": 35,
     "metadata": {},
     "output_type": "execute_result"
    }
   ],
   "source": [
    "clf_tree_t2.fit(X=X2, y=y_binary)"
   ]
  },
  {
   "cell_type": "markdown",
   "metadata": {},
   "source": [
    "### Visualize Tree"
   ]
  },
  {
   "cell_type": "code",
   "execution_count": 36,
   "metadata": {
    "ExecuteTime": {
     "end_time": "2020-06-19T13:47:46.020145Z",
     "start_time": "2020-06-19T13:47:45.990149Z"
    }
   },
   "outputs": [
    {
     "data": {
      "image/svg+xml": [
       "<?xml version=\"1.0\" encoding=\"UTF-8\" standalone=\"no\"?>\n",
       "<!DOCTYPE svg PUBLIC \"-//W3C//DTD SVG 1.1//EN\"\n",
       " \"http://www.w3.org/Graphics/SVG/1.1/DTD/svg11.dtd\">\n",
       "<!-- Generated by graphviz version 2.44.1 (20200629.0846)\n",
       " -->\n",
       "<!-- Title: Tree Pages: 1 -->\n",
       "<svg width=\"349pt\" height=\"401pt\"\n",
       " viewBox=\"0.00 0.00 349.00 401.00\" xmlns=\"http://www.w3.org/2000/svg\" xmlns:xlink=\"http://www.w3.org/1999/xlink\">\n",
       "<g id=\"graph0\" class=\"graph\" transform=\"scale(1 1) rotate(0) translate(4 397)\">\n",
       "<title>Tree</title>\n",
       "<polygon fill=\"white\" stroke=\"transparent\" points=\"-4,4 -4,-397 345,-397 345,4 -4,4\"/>\n",
       "<!-- 0 -->\n",
       "<g id=\"node1\" class=\"node\">\n",
       "<title>0</title>\n",
       "<path fill=\"#f0f8fd\" stroke=\"black\" d=\"M184,-393C184,-393 68,-393 68,-393 62,-393 56,-387 56,-381 56,-381 56,-322 56,-322 56,-316 62,-310 68,-310 68,-310 184,-310 184,-310 190,-310 196,-316 196,-322 196,-322 196,-381 196,-381 196,-387 190,-393 184,-393\"/>\n",
       "<text text-anchor=\"start\" x=\"91\" y=\"-377.8\" font-family=\"Helvetica,sans-Serif\" font-size=\"14.00\">t&#45;2 ≤ &#45;0.106</text>\n",
       "<text text-anchor=\"start\" x=\"90.5\" y=\"-362.8\" font-family=\"Helvetica,sans-Serif\" font-size=\"14.00\">gini = 0.499</text>\n",
       "<text text-anchor=\"start\" x=\"77.5\" y=\"-347.8\" font-family=\"Helvetica,sans-Serif\" font-size=\"14.00\">samples = 5005</text>\n",
       "<text text-anchor=\"start\" x=\"64\" y=\"-332.8\" font-family=\"Helvetica,sans-Serif\" font-size=\"14.00\">value = [2404, 2601]</text>\n",
       "<text text-anchor=\"start\" x=\"94\" y=\"-317.8\" font-family=\"Helvetica,sans-Serif\" font-size=\"14.00\">class = Up</text>\n",
       "</g>\n",
       "<!-- 1 -->\n",
       "<g id=\"node2\" class=\"node\">\n",
       "<title>1</title>\n",
       "<path fill=\"#eead7e\" stroke=\"black\" d=\"M98,-266.5C98,-266.5 12,-266.5 12,-266.5 6,-266.5 0,-260.5 0,-254.5 0,-254.5 0,-210.5 0,-210.5 0,-204.5 6,-198.5 12,-198.5 12,-198.5 98,-198.5 98,-198.5 104,-198.5 110,-204.5 110,-210.5 110,-210.5 110,-254.5 110,-254.5 110,-260.5 104,-266.5 98,-266.5\"/>\n",
       "<text text-anchor=\"start\" x=\"19.5\" y=\"-251.3\" font-family=\"Helvetica,sans-Serif\" font-size=\"14.00\">gini = 0.383</text>\n",
       "<text text-anchor=\"start\" x=\"14\" y=\"-236.3\" font-family=\"Helvetica,sans-Serif\" font-size=\"14.00\">samples = 62</text>\n",
       "<text text-anchor=\"start\" x=\"8\" y=\"-221.3\" font-family=\"Helvetica,sans-Serif\" font-size=\"14.00\">value = [46, 16]</text>\n",
       "<text text-anchor=\"start\" x=\"14\" y=\"-206.3\" font-family=\"Helvetica,sans-Serif\" font-size=\"14.00\">class = Down</text>\n",
       "</g>\n",
       "<!-- 0&#45;&gt;1 -->\n",
       "<g id=\"edge1\" class=\"edge\">\n",
       "<title>0&#45;&gt;1</title>\n",
       "<path fill=\"none\" stroke=\"black\" d=\"M101.37,-309.91C94.6,-298.76 87.26,-286.66 80.45,-275.44\"/>\n",
       "<polygon fill=\"black\" stroke=\"black\" points=\"83.31,-273.4 75.13,-266.67 77.32,-277.03 83.31,-273.4\"/>\n",
       "<text text-anchor=\"middle\" x=\"69.19\" y=\"-287.25\" font-family=\"Helvetica,sans-Serif\" font-size=\"14.00\">True</text>\n",
       "</g>\n",
       "<!-- 2 -->\n",
       "<g id=\"node3\" class=\"node\">\n",
       "<title>2</title>\n",
       "<path fill=\"#eef6fd\" stroke=\"black\" d=\"M256,-274C256,-274 140,-274 140,-274 134,-274 128,-268 128,-262 128,-262 128,-203 128,-203 128,-197 134,-191 140,-191 140,-191 256,-191 256,-191 262,-191 268,-197 268,-203 268,-203 268,-262 268,-262 268,-268 262,-274 256,-274\"/>\n",
       "<text text-anchor=\"start\" x=\"163\" y=\"-258.8\" font-family=\"Helvetica,sans-Serif\" font-size=\"14.00\">t&#45;1 ≤ &#45;0.067</text>\n",
       "<text text-anchor=\"start\" x=\"162.5\" y=\"-243.8\" font-family=\"Helvetica,sans-Serif\" font-size=\"14.00\">gini = 0.499</text>\n",
       "<text text-anchor=\"start\" x=\"149.5\" y=\"-228.8\" font-family=\"Helvetica,sans-Serif\" font-size=\"14.00\">samples = 4943</text>\n",
       "<text text-anchor=\"start\" x=\"136\" y=\"-213.8\" font-family=\"Helvetica,sans-Serif\" font-size=\"14.00\">value = [2358, 2585]</text>\n",
       "<text text-anchor=\"start\" x=\"166\" y=\"-198.8\" font-family=\"Helvetica,sans-Serif\" font-size=\"14.00\">class = Up</text>\n",
       "</g>\n",
       "<!-- 0&#45;&gt;2 -->\n",
       "<g id=\"edge2\" class=\"edge\">\n",
       "<title>0&#45;&gt;2</title>\n",
       "<path fill=\"none\" stroke=\"black\" d=\"M150.98,-309.91C156.4,-301.1 162.18,-291.7 167.78,-282.61\"/>\n",
       "<polygon fill=\"black\" stroke=\"black\" points=\"170.8,-284.37 173.06,-274.02 164.84,-280.7 170.8,-284.37\"/>\n",
       "<text text-anchor=\"middle\" x=\"178.85\" y=\"-294.64\" font-family=\"Helvetica,sans-Serif\" font-size=\"14.00\">False</text>\n",
       "</g>\n",
       "<!-- 3 -->\n",
       "<g id=\"node4\" class=\"node\">\n",
       "<title>3</title>\n",
       "<path fill=\"#a2d1f3\" stroke=\"black\" d=\"M170.5,-147.5C170.5,-147.5 77.5,-147.5 77.5,-147.5 71.5,-147.5 65.5,-141.5 65.5,-135.5 65.5,-135.5 65.5,-91.5 65.5,-91.5 65.5,-85.5 71.5,-79.5 77.5,-79.5 77.5,-79.5 170.5,-79.5 170.5,-79.5 176.5,-79.5 182.5,-85.5 182.5,-91.5 182.5,-91.5 182.5,-135.5 182.5,-135.5 182.5,-141.5 176.5,-147.5 170.5,-147.5\"/>\n",
       "<text text-anchor=\"start\" x=\"88.5\" y=\"-132.3\" font-family=\"Helvetica,sans-Serif\" font-size=\"14.00\">gini = 0.452</text>\n",
       "<text text-anchor=\"start\" x=\"79\" y=\"-117.3\" font-family=\"Helvetica,sans-Serif\" font-size=\"14.00\">samples = 165</text>\n",
       "<text text-anchor=\"start\" x=\"73.5\" y=\"-102.3\" font-family=\"Helvetica,sans-Serif\" font-size=\"14.00\">value = [57, 108]</text>\n",
       "<text text-anchor=\"start\" x=\"92\" y=\"-87.3\" font-family=\"Helvetica,sans-Serif\" font-size=\"14.00\">class = Up</text>\n",
       "</g>\n",
       "<!-- 2&#45;&gt;3 -->\n",
       "<g id=\"edge3\" class=\"edge\">\n",
       "<title>2&#45;&gt;3</title>\n",
       "<path fill=\"none\" stroke=\"black\" d=\"M172.33,-190.91C165.28,-179.76 157.62,-167.66 150.53,-156.44\"/>\n",
       "<polygon fill=\"black\" stroke=\"black\" points=\"153.28,-154.25 144.98,-147.67 147.36,-157.99 153.28,-154.25\"/>\n",
       "</g>\n",
       "<!-- 4 -->\n",
       "<g id=\"node5\" class=\"node\">\n",
       "<title>4</title>\n",
       "<path fill=\"#f1f8fd\" stroke=\"black\" d=\"M329,-155C329,-155 213,-155 213,-155 207,-155 201,-149 201,-143 201,-143 201,-84 201,-84 201,-78 207,-72 213,-72 213,-72 329,-72 329,-72 335,-72 341,-78 341,-84 341,-84 341,-143 341,-143 341,-149 335,-155 329,-155\"/>\n",
       "<text text-anchor=\"start\" x=\"236\" y=\"-139.8\" font-family=\"Helvetica,sans-Serif\" font-size=\"14.00\">t&#45;2 ≤ &#45;0.097</text>\n",
       "<text text-anchor=\"start\" x=\"235.5\" y=\"-124.8\" font-family=\"Helvetica,sans-Serif\" font-size=\"14.00\">gini = 0.499</text>\n",
       "<text text-anchor=\"start\" x=\"222.5\" y=\"-109.8\" font-family=\"Helvetica,sans-Serif\" font-size=\"14.00\">samples = 4778</text>\n",
       "<text text-anchor=\"start\" x=\"209\" y=\"-94.8\" font-family=\"Helvetica,sans-Serif\" font-size=\"14.00\">value = [2301, 2477]</text>\n",
       "<text text-anchor=\"start\" x=\"239\" y=\"-79.8\" font-family=\"Helvetica,sans-Serif\" font-size=\"14.00\">class = Up</text>\n",
       "</g>\n",
       "<!-- 2&#45;&gt;4 -->\n",
       "<g id=\"edge4\" class=\"edge\">\n",
       "<title>2&#45;&gt;4</title>\n",
       "<path fill=\"none\" stroke=\"black\" d=\"M223.33,-190.91C228.82,-182.1 234.69,-172.7 240.36,-163.61\"/>\n",
       "<polygon fill=\"black\" stroke=\"black\" points=\"243.39,-165.36 245.72,-155.02 237.45,-161.65 243.39,-165.36\"/>\n",
       "</g>\n",
       "<!-- 5 -->\n",
       "<g id=\"node6\" class=\"node\">\n",
       "<title>5</title>\n",
       "<path fill=\"#c0c0c0\" stroke=\"black\" d=\"M250,-36C250,-36 220,-36 220,-36 214,-36 208,-30 208,-24 208,-24 208,-12 208,-12 208,-6 214,0 220,0 220,0 250,0 250,0 256,0 262,-6 262,-12 262,-12 262,-24 262,-24 262,-30 256,-36 250,-36\"/>\n",
       "<text text-anchor=\"middle\" x=\"235\" y=\"-14.3\" font-family=\"Helvetica,sans-Serif\" font-size=\"14.00\">(...)</text>\n",
       "</g>\n",
       "<!-- 4&#45;&gt;5 -->\n",
       "<g id=\"edge5\" class=\"edge\">\n",
       "<title>4&#45;&gt;5</title>\n",
       "<path fill=\"none\" stroke=\"black\" d=\"M255.31,-71.76C251.96,-63.04 248.49,-54.04 245.39,-45.99\"/>\n",
       "<polygon fill=\"black\" stroke=\"black\" points=\"248.56,-44.48 241.7,-36.41 242.03,-46.99 248.56,-44.48\"/>\n",
       "</g>\n",
       "<!-- 6 -->\n",
       "<g id=\"node7\" class=\"node\">\n",
       "<title>6</title>\n",
       "<path fill=\"#c0c0c0\" stroke=\"black\" d=\"M322,-36C322,-36 292,-36 292,-36 286,-36 280,-30 280,-24 280,-24 280,-12 280,-12 280,-6 286,0 292,0 292,0 322,0 322,0 328,0 334,-6 334,-12 334,-12 334,-24 334,-24 334,-30 328,-36 322,-36\"/>\n",
       "<text text-anchor=\"middle\" x=\"307\" y=\"-14.3\" font-family=\"Helvetica,sans-Serif\" font-size=\"14.00\">(...)</text>\n",
       "</g>\n",
       "<!-- 4&#45;&gt;6 -->\n",
       "<g id=\"edge6\" class=\"edge\">\n",
       "<title>4&#45;&gt;6</title>\n",
       "<path fill=\"none\" stroke=\"black\" d=\"M286.69,-71.76C290.04,-63.04 293.51,-54.04 296.61,-45.99\"/>\n",
       "<polygon fill=\"black\" stroke=\"black\" points=\"299.97,-46.99 300.3,-36.41 293.44,-44.48 299.97,-46.99\"/>\n",
       "</g>\n",
       "</g>\n",
       "</svg>\n"
      ],
      "text/plain": [
       "<graphviz.files.Source at 0x7f93c9915588>"
      ]
     },
     "execution_count": 36,
     "metadata": {},
     "output_type": "execute_result"
    }
   ],
   "source": [
    "out_file = results_path / 'clf_tree_t2.dot'\n",
    "dot_data = export_graphviz(clf_tree_t2,\n",
    "                           out_file=out_file.as_posix(),\n",
    "                           feature_names=X2.columns,\n",
    "                           class_names=['Down', 'Up'],\n",
    "                           max_depth=2,\n",
    "                           filled=True,\n",
    "                           rounded=True,\n",
    "                           special_characters=True)\n",
    "if out_file is not None:\n",
    "    dot_data = Path(out_file).read_text()\n",
    "\n",
    "graphviz.Source(dot_data)"
   ]
  },
  {
   "cell_type": "markdown",
   "metadata": {},
   "source": [
    "### Compare with Logistic Regression"
   ]
  },
  {
   "cell_type": "markdown",
   "metadata": {},
   "source": [
    "#### Statsmodels"
   ]
  },
  {
   "cell_type": "code",
   "execution_count": 37,
   "metadata": {
    "ExecuteTime": {
     "end_time": "2020-06-19T13:47:46.030455Z",
     "start_time": "2020-06-19T13:47:46.021321Z"
    }
   },
   "outputs": [],
   "source": [
    "log_reg_sm = sm.Logit(endog=y_binary, exog=sm.add_constant(X2))"
   ]
  },
  {
   "cell_type": "code",
   "execution_count": 38,
   "metadata": {
    "ExecuteTime": {
     "end_time": "2020-06-19T13:47:47.619147Z",
     "start_time": "2020-06-19T13:47:46.031533Z"
    },
    "scrolled": false
   },
   "outputs": [
    {
     "name": "stdout",
     "output_type": "stream",
     "text": [
      "1.97 ms ± 100 µs per loop (mean ± std. dev. of 7 runs, 100 loops each)\n"
     ]
    }
   ],
   "source": [
    "%%timeit\n",
    "log_reg_sm.fit(disp=False)"
   ]
  },
  {
   "cell_type": "code",
   "execution_count": 39,
   "metadata": {
    "ExecuteTime": {
     "end_time": "2020-06-19T13:47:47.649511Z",
     "start_time": "2020-06-19T13:47:47.620117Z"
    }
   },
   "outputs": [
    {
     "name": "stdout",
     "output_type": "stream",
     "text": [
      "Optimization terminated successfully.\n",
      "         Current function value: 0.691224\n",
      "         Iterations 4\n"
     ]
    }
   ],
   "source": [
    "log_result = log_reg_sm.fit()"
   ]
  },
  {
   "cell_type": "code",
   "execution_count": 40,
   "metadata": {
    "ExecuteTime": {
     "end_time": "2020-06-19T13:47:47.799269Z",
     "start_time": "2020-06-19T13:47:47.651703Z"
    }
   },
   "outputs": [
    {
     "name": "stdout",
     "output_type": "stream",
     "text": [
      "                           Logit Regression Results                           \n",
      "==============================================================================\n",
      "Dep. Variable:                      y   No. Observations:                 5005\n",
      "Model:                          Logit   Df Residuals:                     5002\n",
      "Method:                           MLE   Df Model:                            2\n",
      "Date:                Thu, 07 Jan 2021   Pseudo R-squ.:                0.001659\n",
      "Time:                        12:35:53   Log-Likelihood:                -3459.6\n",
      "converged:                       True   LL-Null:                       -3465.3\n",
      "Covariance Type:            nonrobust   LLR p-value:                  0.003191\n",
      "==============================================================================\n",
      "                 coef    std err          z      P>|z|      [0.025      0.975]\n",
      "------------------------------------------------------------------------------\n",
      "const          0.0804      0.029      2.814      0.005       0.024       0.136\n",
      "t-1           -1.9899      0.763     -2.609      0.009      -3.485      -0.495\n",
      "t-2            1.5793      0.763      2.071      0.038       0.085       3.074\n",
      "==============================================================================\n"
     ]
    }
   ],
   "source": [
    "print(log_result.summary())"
   ]
  },
  {
   "cell_type": "markdown",
   "metadata": {},
   "source": [
    "#### sklearn"
   ]
  },
  {
   "cell_type": "code",
   "execution_count": 41,
   "metadata": {
    "ExecuteTime": {
     "end_time": "2020-06-19T13:47:47.803822Z",
     "start_time": "2020-06-19T13:47:47.800308Z"
    }
   },
   "outputs": [],
   "source": [
    "log_reg_sk = LogisticRegression()"
   ]
  },
  {
   "cell_type": "code",
   "execution_count": 42,
   "metadata": {
    "ExecuteTime": {
     "end_time": "2020-06-19T13:47:52.715113Z",
     "start_time": "2020-06-19T13:47:47.804813Z"
    }
   },
   "outputs": [
    {
     "name": "stdout",
     "output_type": "stream",
     "text": [
      "7.44 ms ± 368 µs per loop (mean ± std. dev. of 7 runs, 100 loops each)\n"
     ]
    }
   ],
   "source": [
    "%%timeit\n",
    "log_reg_sk.fit(X=X2, y=y_binary)"
   ]
  },
  {
   "cell_type": "code",
   "execution_count": 43,
   "metadata": {
    "ExecuteTime": {
     "end_time": "2020-06-19T13:47:52.777647Z",
     "start_time": "2020-06-19T13:47:52.716211Z"
    }
   },
   "outputs": [
    {
     "data": {
      "text/plain": [
       "LogisticRegression()"
      ]
     },
     "execution_count": 43,
     "metadata": {},
     "output_type": "execute_result"
    }
   ],
   "source": [
    "log_reg_sk.fit(X=X2, y=y_binary)"
   ]
  },
  {
   "cell_type": "code",
   "execution_count": 44,
   "metadata": {
    "ExecuteTime": {
     "end_time": "2020-06-19T13:47:52.781439Z",
     "start_time": "2020-06-19T13:47:52.778708Z"
    }
   },
   "outputs": [
    {
     "data": {
      "text/plain": [
       "array([[-1.27082145,  1.01369926]])"
      ]
     },
     "execution_count": 44,
     "metadata": {},
     "output_type": "execute_result"
    }
   ],
   "source": [
    "log_reg_sk.coef_"
   ]
  },
  {
   "cell_type": "markdown",
   "metadata": {},
   "source": [
    "### Decision Surfaces: Classifier Tree vs. Logistic Regression "
   ]
  },
  {
   "cell_type": "code",
   "execution_count": 45,
   "metadata": {
    "ExecuteTime": {
     "end_time": "2020-06-19T13:47:53.275667Z",
     "start_time": "2020-06-19T13:47:52.782472Z"
    }
   },
   "outputs": [
    {
     "data": {
      "image/png": "[encoded data removed]",
      "text/plain": [
       "<Figure size 864x360 with 4 Axes>"
      ]
     },
     "metadata": {},
     "output_type": "display_data"
    }
   ],
   "source": [
    "fig, axes = plt.subplots(ncols=2, figsize=(12,5))\n",
    "\n",
    "# Linear Regression\n",
    "ret1 = log_reg_sk.predict_proba(X_data)[:, 1].reshape(t1.shape)\n",
    "surface1 = axes[0].contourf(t1, t2, ret1, cmap='Blues')\n",
    "plt.colorbar(mappable=surface1, ax=axes[0])\n",
    "\n",
    "# Regression Tree\n",
    "ret2 = clf_tree_t2.predict_proba(X_data)[:, 1].reshape(t1.shape)\n",
    "surface2 = axes[1].contourf(t1, t2, ret2, cmap='Blues')\n",
    "plt.colorbar(mappable=surface2, ax=axes[1])\n",
    "\n",
    "# Format plots\n",
    "titles = ['Logistic Regression', 'Classification Tree']\n",
    "for i, ax in enumerate(axes):\n",
    "    ax.set_xlabel('t-1')\n",
    "    ax.set_ylabel('t-2')\n",
    "    ax.set_title(titles[i])\n",
    "\n",
    "fig.suptitle('Decision Surfaces', fontsize=20)\n",
    "sns.despine()\n",
    "fig.tight_layout()\n",
    "fig.subplots_adjust(top=.9);"
   ]
  },
  {
   "cell_type": "markdown",
   "metadata": {},
   "source": [
    "## Regression Tree with all Features"
   ]
  },
  {
   "cell_type": "markdown",
   "metadata": {},
   "source": [
    "### Train-Test Split"
   ]
  },
  {
   "cell_type": "code",
   "execution_count": 46,
   "metadata": {
    "ExecuteTime": {
     "end_time": "2020-06-19T13:47:53.293648Z",
     "start_time": "2020-06-19T13:47:53.276718Z"
    }
   },
   "outputs": [],
   "source": [
    "X = pd.get_dummies(data.drop('target', axis=1))\n",
    "y = data.target"
   ]
  },
  {
   "cell_type": "code",
   "execution_count": 47,
   "metadata": {
    "ExecuteTime": {
     "end_time": "2020-06-19T13:47:53.318451Z",
     "start_time": "2020-06-19T13:47:53.295601Z"
    }
   },
   "outputs": [],
   "source": [
    "X_train, X_test, y_train, y_test = train_test_split(X, y, test_size=0.2, random_state=42)"
   ]
  },
  {
   "cell_type": "markdown",
   "metadata": {},
   "source": [
    "### Configure Tree"
   ]
  },
  {
   "cell_type": "markdown",
   "metadata": {},
   "source": [
    "The output after training the model displays all the DecisionTreeClassifier parameters that we will address in more detail in the next section when we discuss parameter-tuning. "
   ]
  },
  {
   "cell_type": "code",
   "execution_count": 48,
   "metadata": {
    "ExecuteTime": {
     "end_time": "2020-06-19T13:47:53.324117Z",
     "start_time": "2020-06-19T13:47:53.319752Z"
    }
   },
   "outputs": [],
   "source": [
    "regression_tree = DecisionTreeRegressor(criterion='mse',\n",
    "                                        splitter='best',\n",
    "                                        max_depth=5,\n",
    "                                        min_samples_split=2,\n",
    "                                        min_samples_leaf=1,\n",
    "                                        min_weight_fraction_leaf=0.0,\n",
    "                                        max_features=None,\n",
    "                                        random_state=42,\n",
    "                                        max_leaf_nodes=None,\n",
    "                                        min_impurity_decrease=0.0,\n",
    "                                        min_impurity_split=None,\n",
    "                                        presort=False)"
   ]
  },
  {
   "cell_type": "markdown",
   "metadata": {},
   "source": [
    "### Train Model"
   ]
  },
  {
   "cell_type": "code",
   "execution_count": 49,
   "metadata": {
    "ExecuteTime": {
     "end_time": "2020-06-19T13:47:53.774832Z",
     "start_time": "2020-06-19T13:47:53.325278Z"
    },
    "scrolled": false
   },
   "outputs": [
    {
     "data": {
      "text/plain": [
       "DecisionTreeRegressor(max_depth=5, presort=False, random_state=42)"
      ]
     },
     "execution_count": 49,
     "metadata": {},
     "output_type": "execute_result"
    }
   ],
   "source": [
    "regression_tree.fit(X=X_train, y=y_train)"
   ]
  },
  {
   "cell_type": "markdown",
   "metadata": {},
   "source": [
    "### Visualize Tree"
   ]
  },
  {
   "cell_type": "markdown",
   "metadata": {},
   "source": [
    "The result shows that the model uses a variety of different features and indicates the split rules for both continuous and categorical (dummy) variables. "
   ]
  },
  {
   "cell_type": "code",
   "execution_count": 50,
   "metadata": {
    "ExecuteTime": {
     "end_time": "2020-06-19T13:47:53.815207Z",
     "start_time": "2020-06-19T13:47:53.775753Z"
    },
    "scrolled": false
   },
   "outputs": [
    {
     "data": {
      "image/svg+xml": [
       "<?xml version=\"1.0\" encoding=\"UTF-8\" standalone=\"no\"?>\n",
       "<!DOCTYPE svg PUBLIC \"-//W3C//DTD SVG 1.1//EN\"\n",
       " \"http://www.w3.org/Graphics/SVG/1.1/DTD/svg11.dtd\">\n",
       "<!-- Generated by graphviz version 2.44.1 (20200629.0846)\n",
       " -->\n",
       "<!-- Title: Tree Pages: 1 -->\n",
       "<svg width=\"665pt\" height=\"460pt\"\n",
       " viewBox=\"0.00 0.00 665.00 460.00\" xmlns=\"http://www.w3.org/2000/svg\" xmlns:xlink=\"http://www.w3.org/1999/xlink\">\n",
       "<g id=\"graph0\" class=\"graph\" transform=\"scale(1 1) rotate(0) translate(4 456)\">\n",
       "<title>Tree</title>\n",
       "<polygon fill=\"white\" stroke=\"transparent\" points=\"-4,4 -4,-456 661,-456 661,4 -4,4\"/>\n",
       "<!-- 0 -->\n",
       "<g id=\"node1\" class=\"node\">\n",
       "<title>0</title>\n",
       "<path fill=\"#f2c2a0\" stroke=\"black\" d=\"M379,-452C379,-452 245,-452 245,-452 239,-452 233,-446 233,-440 233,-440 233,-396 233,-396 233,-390 239,-384 245,-384 245,-384 379,-384 379,-384 385,-384 391,-390 391,-396 391,-396 391,-440 391,-440 391,-446 385,-452 379,-452\"/>\n",
       "<text text-anchor=\"start\" x=\"241\" y=\"-436.8\" font-family=\"Helvetica,sans-Serif\" font-size=\"14.00\">momentum_12 ≤ 0.081</text>\n",
       "<text text-anchor=\"start\" x=\"274\" y=\"-421.8\" font-family=\"Helvetica,sans-Serif\" font-size=\"14.00\">mse = 0.001</text>\n",
       "<text text-anchor=\"start\" x=\"263.5\" y=\"-406.8\" font-family=\"Helvetica,sans-Serif\" font-size=\"14.00\">samples = 4012</text>\n",
       "<text text-anchor=\"start\" x=\"271\" y=\"-391.8\" font-family=\"Helvetica,sans-Serif\" font-size=\"14.00\">value = 0.004</text>\n",
       "</g>\n",
       "<!-- 1 -->\n",
       "<g id=\"node2\" class=\"node\">\n",
       "<title>1</title>\n",
       "<path fill=\"#f3c3a0\" stroke=\"black\" d=\"M281.5,-348C281.5,-348 192.5,-348 192.5,-348 186.5,-348 180.5,-342 180.5,-336 180.5,-336 180.5,-292 180.5,-292 180.5,-286 186.5,-280 192.5,-280 192.5,-280 281.5,-280 281.5,-280 287.5,-280 293.5,-286 293.5,-292 293.5,-292 293.5,-336 293.5,-336 293.5,-342 287.5,-348 281.5,-348\"/>\n",
       "<text text-anchor=\"start\" x=\"197\" y=\"-332.8\" font-family=\"Helvetica,sans-Serif\" font-size=\"14.00\">natr ≤ 32.127</text>\n",
       "<text text-anchor=\"start\" x=\"199\" y=\"-317.8\" font-family=\"Helvetica,sans-Serif\" font-size=\"14.00\">mse = 0.001</text>\n",
       "<text text-anchor=\"start\" x=\"188.5\" y=\"-302.8\" font-family=\"Helvetica,sans-Serif\" font-size=\"14.00\">samples = 3922</text>\n",
       "<text text-anchor=\"start\" x=\"196\" y=\"-287.8\" font-family=\"Helvetica,sans-Serif\" font-size=\"14.00\">value = 0.003</text>\n",
       "</g>\n",
       "<!-- 0&#45;&gt;1 -->\n",
       "<g id=\"edge1\" class=\"edge\">\n",
       "<title>0&#45;&gt;1</title>\n",
       "<path fill=\"none\" stroke=\"black\" d=\"M287.65,-383.88C281.23,-375.15 274.22,-365.62 267.52,-356.51\"/>\n",
       "<polygon fill=\"black\" stroke=\"black\" points=\"270.23,-354.28 261.48,-348.3 264.59,-358.43 270.23,-354.28\"/>\n",
       "<text text-anchor=\"middle\" x=\"257.71\" y=\"-369.31\" font-family=\"Helvetica,sans-Serif\" font-size=\"14.00\">True</text>\n",
       "</g>\n",
       "<!-- 18 -->\n",
       "<g id=\"node11\" class=\"node\">\n",
       "<title>18</title>\n",
       "<path fill=\"#f0b88f\" stroke=\"black\" d=\"M450,-348C450,-348 324,-348 324,-348 318,-348 312,-342 312,-336 312,-336 312,-292 312,-292 312,-286 318,-280 324,-280 324,-280 450,-280 450,-280 456,-280 462,-286 462,-292 462,-292 462,-336 462,-336 462,-342 456,-348 450,-348\"/>\n",
       "<text text-anchor=\"start\" x=\"320\" y=\"-332.8\" font-family=\"Helvetica,sans-Serif\" font-size=\"14.00\">momentum_3 ≤ 0.026</text>\n",
       "<text text-anchor=\"start\" x=\"349\" y=\"-317.8\" font-family=\"Helvetica,sans-Serif\" font-size=\"14.00\">mse = 0.002</text>\n",
       "<text text-anchor=\"start\" x=\"346\" y=\"-302.8\" font-family=\"Helvetica,sans-Serif\" font-size=\"14.00\">samples = 90</text>\n",
       "<text text-anchor=\"start\" x=\"346\" y=\"-287.8\" font-family=\"Helvetica,sans-Serif\" font-size=\"14.00\">value = 0.024</text>\n",
       "</g>\n",
       "<!-- 0&#45;&gt;18 -->\n",
       "<g id=\"edge10\" class=\"edge\">\n",
       "<title>0&#45;&gt;18</title>\n",
       "<path fill=\"none\" stroke=\"black\" d=\"M336.35,-383.88C342.77,-375.15 349.78,-365.62 356.48,-356.51\"/>\n",
       "<polygon fill=\"black\" stroke=\"black\" points=\"359.41,-358.43 362.52,-348.3 353.77,-354.28 359.41,-358.43\"/>\n",
       "<text text-anchor=\"middle\" x=\"366.29\" y=\"-369.31\" font-family=\"Helvetica,sans-Serif\" font-size=\"14.00\">False</text>\n",
       "</g>\n",
       "<!-- 2 -->\n",
       "<g id=\"node3\" class=\"node\">\n",
       "<title>2</title>\n",
       "<path fill=\"#f3c3a0\" stroke=\"black\" d=\"M165.5,-244C165.5,-244 76.5,-244 76.5,-244 70.5,-244 64.5,-238 64.5,-232 64.5,-232 64.5,-188 64.5,-188 64.5,-182 70.5,-176 76.5,-176 76.5,-176 165.5,-176 165.5,-176 171.5,-176 177.5,-182 177.5,-188 177.5,-188 177.5,-232 177.5,-232 177.5,-238 171.5,-244 165.5,-244\"/>\n",
       "<text text-anchor=\"start\" x=\"84.5\" y=\"-228.8\" font-family=\"Helvetica,sans-Serif\" font-size=\"14.00\">month ≤ 3.5</text>\n",
       "<text text-anchor=\"start\" x=\"83\" y=\"-213.8\" font-family=\"Helvetica,sans-Serif\" font-size=\"14.00\">mse = 0.001</text>\n",
       "<text text-anchor=\"start\" x=\"72.5\" y=\"-198.8\" font-family=\"Helvetica,sans-Serif\" font-size=\"14.00\">samples = 3920</text>\n",
       "<text text-anchor=\"start\" x=\"80\" y=\"-183.8\" font-family=\"Helvetica,sans-Serif\" font-size=\"14.00\">value = 0.003</text>\n",
       "</g>\n",
       "<!-- 1&#45;&gt;2 -->\n",
       "<g id=\"edge2\" class=\"edge\">\n",
       "<title>1&#45;&gt;2</title>\n",
       "<path fill=\"none\" stroke=\"black\" d=\"M199.34,-279.88C188.9,-270.71 177.46,-260.65 166.63,-251.12\"/>\n",
       "<polygon fill=\"black\" stroke=\"black\" points=\"168.69,-248.27 158.87,-244.3 164.07,-253.53 168.69,-248.27\"/>\n",
       "</g>\n",
       "<!-- 17 -->\n",
       "<g id=\"node10\" class=\"node\">\n",
       "<title>17</title>\n",
       "<path fill=\"#e58139\" stroke=\"black\" d=\"M282,-236.5C282,-236.5 208,-236.5 208,-236.5 202,-236.5 196,-230.5 196,-224.5 196,-224.5 196,-195.5 196,-195.5 196,-189.5 202,-183.5 208,-183.5 208,-183.5 282,-183.5 282,-183.5 288,-183.5 294,-189.5 294,-195.5 294,-195.5 294,-224.5 294,-224.5 294,-230.5 288,-236.5 282,-236.5\"/>\n",
       "<text text-anchor=\"start\" x=\"212\" y=\"-221.3\" font-family=\"Helvetica,sans-Serif\" font-size=\"14.00\">mse = &#45;0.0</text>\n",
       "<text text-anchor=\"start\" x=\"207.5\" y=\"-206.3\" font-family=\"Helvetica,sans-Serif\" font-size=\"14.00\">samples = 2</text>\n",
       "<text text-anchor=\"start\" x=\"204\" y=\"-191.3\" font-family=\"Helvetica,sans-Serif\" font-size=\"14.00\">value = 0.132</text>\n",
       "</g>\n",
       "<!-- 1&#45;&gt;17 -->\n",
       "<g id=\"edge9\" class=\"edge\">\n",
       "<title>1&#45;&gt;17</title>\n",
       "<path fill=\"none\" stroke=\"black\" d=\"M239.6,-279.88C240.43,-269.22 241.36,-257.35 242.21,-246.52\"/>\n",
       "<polygon fill=\"black\" stroke=\"black\" points=\"245.71,-246.76 243,-236.52 238.73,-246.22 245.71,-246.76\"/>\n",
       "</g>\n",
       "<!-- 3 -->\n",
       "<g id=\"node4\" class=\"node\">\n",
       "<title>3</title>\n",
       "<path fill=\"#f3c6a5\" stroke=\"black\" d=\"M130,-140C130,-140 22,-140 22,-140 16,-140 10,-134 10,-128 10,-128 10,-84 10,-84 10,-78 16,-72 22,-72 22,-72 130,-72 130,-72 136,-72 142,-78 142,-84 142,-84 142,-128 142,-128 142,-134 136,-140 130,-140\"/>\n",
       "<text text-anchor=\"start\" x=\"18\" y=\"-124.8\" font-family=\"Helvetica,sans-Serif\" font-size=\"14.00\">return_3m ≤ &#45;0.059</text>\n",
       "<text text-anchor=\"start\" x=\"38\" y=\"-109.8\" font-family=\"Helvetica,sans-Serif\" font-size=\"14.00\">mse = 0.002</text>\n",
       "<text text-anchor=\"start\" x=\"31\" y=\"-94.8\" font-family=\"Helvetica,sans-Serif\" font-size=\"14.00\">samples = 633</text>\n",
       "<text text-anchor=\"start\" x=\"32.5\" y=\"-79.8\" font-family=\"Helvetica,sans-Serif\" font-size=\"14.00\">value = &#45;0.003</text>\n",
       "</g>\n",
       "<!-- 2&#45;&gt;3 -->\n",
       "<g id=\"edge3\" class=\"edge\">\n",
       "<title>2&#45;&gt;3</title>\n",
       "<path fill=\"none\" stroke=\"black\" d=\"M106.39,-175.88C102.7,-167.51 98.68,-158.4 94.81,-149.63\"/>\n",
       "<polygon fill=\"black\" stroke=\"black\" points=\"97.93,-148.04 90.69,-140.3 91.53,-150.86 97.93,-148.04\"/>\n",
       "</g>\n",
       "<!-- 10 -->\n",
       "<g id=\"node7\" class=\"node\">\n",
       "<title>10</title>\n",
       "<path fill=\"#f2c29f\" stroke=\"black\" d=\"M261.5,-140C261.5,-140 172.5,-140 172.5,-140 166.5,-140 160.5,-134 160.5,-128 160.5,-128 160.5,-84 160.5,-84 160.5,-78 166.5,-72 172.5,-72 172.5,-72 261.5,-72 261.5,-72 267.5,-72 273.5,-78 273.5,-84 273.5,-84 273.5,-128 273.5,-128 273.5,-134 267.5,-140 261.5,-140\"/>\n",
       "<text text-anchor=\"start\" x=\"177\" y=\"-124.8\" font-family=\"Helvetica,sans-Serif\" font-size=\"14.00\">natr ≤ 14.693</text>\n",
       "<text text-anchor=\"start\" x=\"179\" y=\"-109.8\" font-family=\"Helvetica,sans-Serif\" font-size=\"14.00\">mse = 0.001</text>\n",
       "<text text-anchor=\"start\" x=\"168.5\" y=\"-94.8\" font-family=\"Helvetica,sans-Serif\" font-size=\"14.00\">samples = 3287</text>\n",
       "<text text-anchor=\"start\" x=\"176\" y=\"-79.8\" font-family=\"Helvetica,sans-Serif\" font-size=\"14.00\">value = 0.004</text>\n",
       "</g>\n",
       "<!-- 2&#45;&gt;10 -->\n",
       "<g id=\"edge6\" class=\"edge\">\n",
       "<title>2&#45;&gt;10</title>\n",
       "<path fill=\"none\" stroke=\"black\" d=\"M152.17,-175.88C160.64,-166.89 169.9,-157.04 178.71,-147.68\"/>\n",
       "<polygon fill=\"black\" stroke=\"black\" points=\"181.35,-149.98 185.66,-140.3 176.26,-145.18 181.35,-149.98\"/>\n",
       "</g>\n",
       "<!-- 4 -->\n",
       "<g id=\"node5\" class=\"node\">\n",
       "<title>4</title>\n",
       "<path fill=\"#c0c0c0\" stroke=\"black\" d=\"M42,-36C42,-36 12,-36 12,-36 6,-36 0,-30 0,-24 0,-24 0,-12 0,-12 0,-6 6,0 12,0 12,0 42,0 42,0 48,0 54,-6 54,-12 54,-12 54,-24 54,-24 54,-30 48,-36 42,-36\"/>\n",
       "<text text-anchor=\"middle\" x=\"27\" y=\"-14.3\" font-family=\"Helvetica,sans-Serif\" font-size=\"14.00\">(...)</text>\n",
       "</g>\n",
       "<!-- 3&#45;&gt;4 -->\n",
       "<g id=\"edge4\" class=\"edge\">\n",
       "<title>3&#45;&gt;4</title>\n",
       "<path fill=\"none\" stroke=\"black\" d=\"M57.2,-72C52.12,-63.09 46.7,-53.58 41.88,-45.11\"/>\n",
       "<polygon fill=\"black\" stroke=\"black\" points=\"44.91,-43.36 36.92,-36.4 38.83,-46.82 44.91,-43.36\"/>\n",
       "</g>\n",
       "<!-- 7 -->\n",
       "<g id=\"node6\" class=\"node\">\n",
       "<title>7</title>\n",
       "<path fill=\"#c0c0c0\" stroke=\"black\" d=\"M114,-36C114,-36 84,-36 84,-36 78,-36 72,-30 72,-24 72,-24 72,-12 72,-12 72,-6 78,0 84,0 84,0 114,0 114,0 120,0 126,-6 126,-12 126,-12 126,-24 126,-24 126,-30 120,-36 114,-36\"/>\n",
       "<text text-anchor=\"middle\" x=\"99\" y=\"-14.3\" font-family=\"Helvetica,sans-Serif\" font-size=\"14.00\">(...)</text>\n",
       "</g>\n",
       "<!-- 3&#45;&gt;7 -->\n",
       "<g id=\"edge5\" class=\"edge\">\n",
       "<title>3&#45;&gt;7</title>\n",
       "<path fill=\"none\" stroke=\"black\" d=\"M84.83,-72C87.11,-63.47 89.54,-54.39 91.73,-46.2\"/>\n",
       "<polygon fill=\"black\" stroke=\"black\" points=\"95.14,-46.97 94.35,-36.4 88.38,-45.16 95.14,-46.97\"/>\n",
       "</g>\n",
       "<!-- 11 -->\n",
       "<g id=\"node8\" class=\"node\">\n",
       "<title>11</title>\n",
       "<path fill=\"#c0c0c0\" stroke=\"black\" d=\"M220,-36C220,-36 190,-36 190,-36 184,-36 178,-30 178,-24 178,-24 178,-12 178,-12 178,-6 184,0 190,0 190,0 220,0 220,0 226,0 232,-6 232,-12 232,-12 232,-24 232,-24 232,-30 226,-36 220,-36\"/>\n",
       "<text text-anchor=\"middle\" x=\"205\" y=\"-14.3\" font-family=\"Helvetica,sans-Serif\" font-size=\"14.00\">(...)</text>\n",
       "</g>\n",
       "<!-- 10&#45;&gt;11 -->\n",
       "<g id=\"edge7\" class=\"edge\">\n",
       "<title>10&#45;&gt;11</title>\n",
       "<path fill=\"none\" stroke=\"black\" d=\"M212.39,-72C211.22,-63.56 209.97,-54.59 208.83,-46.47\"/>\n",
       "<polygon fill=\"black\" stroke=\"black\" points=\"212.28,-45.82 207.43,-36.4 205.34,-46.79 212.28,-45.82\"/>\n",
       "</g>\n",
       "<!-- 14 -->\n",
       "<g id=\"node9\" class=\"node\">\n",
       "<title>14</title>\n",
       "<path fill=\"#c0c0c0\" stroke=\"black\" d=\"M292,-36C292,-36 262,-36 262,-36 256,-36 250,-30 250,-24 250,-24 250,-12 250,-12 250,-6 256,0 262,0 262,0 292,0 292,0 298,0 304,-6 304,-12 304,-12 304,-24 304,-24 304,-30 298,-36 292,-36\"/>\n",
       "<text text-anchor=\"middle\" x=\"277\" y=\"-14.3\" font-family=\"Helvetica,sans-Serif\" font-size=\"14.00\">(...)</text>\n",
       "</g>\n",
       "<!-- 10&#45;&gt;14 -->\n",
       "<g id=\"edge8\" class=\"edge\">\n",
       "<title>10&#45;&gt;14</title>\n",
       "<path fill=\"none\" stroke=\"black\" d=\"M240.03,-72C246.3,-63 253.02,-53.38 258.97,-44.84\"/>\n",
       "<polygon fill=\"black\" stroke=\"black\" points=\"262.01,-46.61 264.86,-36.4 256.27,-42.6 262.01,-46.61\"/>\n",
       "</g>\n",
       "<!-- 19 -->\n",
       "<g id=\"node12\" class=\"node\">\n",
       "<title>19</title>\n",
       "<path fill=\"#ffffff\" stroke=\"black\" d=\"M418.5,-236.5C418.5,-236.5 339.5,-236.5 339.5,-236.5 333.5,-236.5 327.5,-230.5 327.5,-224.5 327.5,-224.5 327.5,-195.5 327.5,-195.5 327.5,-189.5 333.5,-183.5 339.5,-183.5 339.5,-183.5 418.5,-183.5 418.5,-183.5 424.5,-183.5 430.5,-189.5 430.5,-195.5 430.5,-195.5 430.5,-224.5 430.5,-224.5 430.5,-230.5 424.5,-236.5 418.5,-236.5\"/>\n",
       "<text text-anchor=\"start\" x=\"348.5\" y=\"-221.3\" font-family=\"Helvetica,sans-Serif\" font-size=\"14.00\">mse = 0.0</text>\n",
       "<text text-anchor=\"start\" x=\"341.5\" y=\"-206.3\" font-family=\"Helvetica,sans-Serif\" font-size=\"14.00\">samples = 1</text>\n",
       "<text text-anchor=\"start\" x=\"335.5\" y=\"-191.3\" font-family=\"Helvetica,sans-Serif\" font-size=\"14.00\">value = &#45;0.116</text>\n",
       "</g>\n",
       "<!-- 18&#45;&gt;19 -->\n",
       "<g id=\"edge11\" class=\"edge\">\n",
       "<title>18&#45;&gt;19</title>\n",
       "<path fill=\"none\" stroke=\"black\" d=\"M384.4,-279.88C383.57,-269.22 382.64,-257.35 381.79,-246.52\"/>\n",
       "<polygon fill=\"black\" stroke=\"black\" points=\"385.27,-246.22 381,-236.52 378.29,-246.76 385.27,-246.22\"/>\n",
       "</g>\n",
       "<!-- 20 -->\n",
       "<g id=\"node13\" class=\"node\">\n",
       "<title>20</title>\n",
       "<path fill=\"#f0b78e\" stroke=\"black\" d=\"M595,-244C595,-244 461,-244 461,-244 455,-244 449,-238 449,-232 449,-232 449,-188 449,-188 449,-182 455,-176 461,-176 461,-176 595,-176 595,-176 601,-176 607,-182 607,-188 607,-188 607,-232 607,-232 607,-238 601,-244 595,-244\"/>\n",
       "<text text-anchor=\"start\" x=\"457\" y=\"-228.8\" font-family=\"Helvetica,sans-Serif\" font-size=\"14.00\">momentum_12 ≤ 0.082</text>\n",
       "<text text-anchor=\"start\" x=\"490\" y=\"-213.8\" font-family=\"Helvetica,sans-Serif\" font-size=\"14.00\">mse = 0.002</text>\n",
       "<text text-anchor=\"start\" x=\"487\" y=\"-198.8\" font-family=\"Helvetica,sans-Serif\" font-size=\"14.00\">samples = 89</text>\n",
       "<text text-anchor=\"start\" x=\"487\" y=\"-183.8\" font-family=\"Helvetica,sans-Serif\" font-size=\"14.00\">value = 0.026</text>\n",
       "</g>\n",
       "<!-- 18&#45;&gt;20 -->\n",
       "<g id=\"edge12\" class=\"edge\">\n",
       "<title>18&#45;&gt;20</title>\n",
       "<path fill=\"none\" stroke=\"black\" d=\"M432.78,-279.88C445.83,-270.44 460.18,-260.06 473.69,-250.29\"/>\n",
       "<polygon fill=\"black\" stroke=\"black\" points=\"475.92,-253 481.97,-244.3 471.81,-247.32 475.92,-253\"/>\n",
       "</g>\n",
       "<!-- 21 -->\n",
       "<g id=\"node14\" class=\"node\">\n",
       "<title>21</title>\n",
       "<path fill=\"#eb9c64\" stroke=\"black\" d=\"M476.5,-140C476.5,-140 327.5,-140 327.5,-140 321.5,-140 315.5,-134 315.5,-128 315.5,-128 315.5,-84 315.5,-84 315.5,-78 321.5,-72 327.5,-72 327.5,-72 476.5,-72 476.5,-72 482.5,-72 488.5,-78 488.5,-84 488.5,-84 488.5,-128 488.5,-128 488.5,-134 482.5,-140 476.5,-140\"/>\n",
       "<text text-anchor=\"start\" x=\"323.5\" y=\"-124.8\" font-family=\"Helvetica,sans-Serif\" font-size=\"14.00\">momentum_3_12 ≤ 0.032</text>\n",
       "<text text-anchor=\"start\" x=\"364\" y=\"-109.8\" font-family=\"Helvetica,sans-Serif\" font-size=\"14.00\">mse = 0.001</text>\n",
       "<text text-anchor=\"start\" x=\"364.5\" y=\"-94.8\" font-family=\"Helvetica,sans-Serif\" font-size=\"14.00\">samples = 6</text>\n",
       "<text text-anchor=\"start\" x=\"361\" y=\"-79.8\" font-family=\"Helvetica,sans-Serif\" font-size=\"14.00\">value = 0.078</text>\n",
       "</g>\n",
       "<!-- 20&#45;&gt;21 -->\n",
       "<g id=\"edge13\" class=\"edge\">\n",
       "<title>20&#45;&gt;21</title>\n",
       "<path fill=\"none\" stroke=\"black\" d=\"M487.09,-175.88C475.65,-166.62 463.09,-156.45 451.22,-146.85\"/>\n",
       "<polygon fill=\"black\" stroke=\"black\" points=\"453.11,-143.87 443.13,-140.3 448.7,-149.31 453.11,-143.87\"/>\n",
       "</g>\n",
       "<!-- 28 -->\n",
       "<g id=\"node17\" class=\"node\">\n",
       "<title>28</title>\n",
       "<path fill=\"#f1b991\" stroke=\"black\" d=\"M645,-140C645,-140 519,-140 519,-140 513,-140 507,-134 507,-128 507,-128 507,-84 507,-84 507,-78 513,-72 519,-72 519,-72 645,-72 645,-72 651,-72 657,-78 657,-84 657,-84 657,-128 657,-128 657,-134 651,-140 645,-140\"/>\n",
       "<text text-anchor=\"start\" x=\"515\" y=\"-124.8\" font-family=\"Helvetica,sans-Serif\" font-size=\"14.00\">momentum_6 ≤ 0.141</text>\n",
       "<text text-anchor=\"start\" x=\"544\" y=\"-109.8\" font-family=\"Helvetica,sans-Serif\" font-size=\"14.00\">mse = 0.002</text>\n",
       "<text text-anchor=\"start\" x=\"541\" y=\"-94.8\" font-family=\"Helvetica,sans-Serif\" font-size=\"14.00\">samples = 83</text>\n",
       "<text text-anchor=\"start\" x=\"541\" y=\"-79.8\" font-family=\"Helvetica,sans-Serif\" font-size=\"14.00\">value = 0.022</text>\n",
       "</g>\n",
       "<!-- 20&#45;&gt;28 -->\n",
       "<g id=\"edge16\" class=\"edge\">\n",
       "<title>20&#45;&gt;28</title>\n",
       "<path fill=\"none\" stroke=\"black\" d=\"M545.53,-175.88C550.01,-167.42 554.89,-158.21 559.58,-149.35\"/>\n",
       "<polygon fill=\"black\" stroke=\"black\" points=\"562.79,-150.77 564.37,-140.3 556.6,-147.5 562.79,-150.77\"/>\n",
       "</g>\n",
       "<!-- 22 -->\n",
       "<g id=\"node15\" class=\"node\">\n",
       "<title>22</title>\n",
       "<path fill=\"#c0c0c0\" stroke=\"black\" d=\"M372,-36C372,-36 342,-36 342,-36 336,-36 330,-30 330,-24 330,-24 330,-12 330,-12 330,-6 336,0 342,0 342,0 372,0 372,0 378,0 384,-6 384,-12 384,-12 384,-24 384,-24 384,-30 378,-36 372,-36\"/>\n",
       "<text text-anchor=\"middle\" x=\"357\" y=\"-14.3\" font-family=\"Helvetica,sans-Serif\" font-size=\"14.00\">(...)</text>\n",
       "</g>\n",
       "<!-- 21&#45;&gt;22 -->\n",
       "<g id=\"edge14\" class=\"edge\">\n",
       "<title>21&#45;&gt;22</title>\n",
       "<path fill=\"none\" stroke=\"black\" d=\"M384.73,-72C380.12,-63.19 375.2,-53.78 370.8,-45.38\"/>\n",
       "<polygon fill=\"black\" stroke=\"black\" points=\"373.84,-43.64 366.11,-36.4 367.64,-46.89 373.84,-43.64\"/>\n",
       "</g>\n",
       "<!-- 25 -->\n",
       "<g id=\"node16\" class=\"node\">\n",
       "<title>25</title>\n",
       "<path fill=\"#c0c0c0\" stroke=\"black\" d=\"M444,-36C444,-36 414,-36 414,-36 408,-36 402,-30 402,-24 402,-24 402,-12 402,-12 402,-6 408,0 414,0 414,0 444,0 444,0 450,0 456,-6 456,-12 456,-12 456,-24 456,-24 456,-30 450,-36 444,-36\"/>\n",
       "<text text-anchor=\"middle\" x=\"429\" y=\"-14.3\" font-family=\"Helvetica,sans-Serif\" font-size=\"14.00\">(...)</text>\n",
       "</g>\n",
       "<!-- 21&#45;&gt;25 -->\n",
       "<g id=\"edge15\" class=\"edge\">\n",
       "<title>21&#45;&gt;25</title>\n",
       "<path fill=\"none\" stroke=\"black\" d=\"M412.36,-72C415.04,-63.47 417.89,-54.39 420.46,-46.2\"/>\n",
       "<polygon fill=\"black\" stroke=\"black\" points=\"423.88,-46.99 423.54,-36.4 417.2,-44.9 423.88,-46.99\"/>\n",
       "</g>\n",
       "<!-- 29 -->\n",
       "<g id=\"node18\" class=\"node\">\n",
       "<title>29</title>\n",
       "<path fill=\"#c0c0c0\" stroke=\"black\" d=\"M538,-36C538,-36 508,-36 508,-36 502,-36 496,-30 496,-24 496,-24 496,-12 496,-12 496,-6 502,0 508,0 508,0 538,0 538,0 544,0 550,-6 550,-12 550,-12 550,-24 550,-24 550,-30 544,-36 538,-36\"/>\n",
       "<text text-anchor=\"middle\" x=\"523\" y=\"-14.3\" font-family=\"Helvetica,sans-Serif\" font-size=\"14.00\">(...)</text>\n",
       "</g>\n",
       "<!-- 28&#45;&gt;29 -->\n",
       "<g id=\"edge17\" class=\"edge\">\n",
       "<title>28&#45;&gt;29</title>\n",
       "<path fill=\"none\" stroke=\"black\" d=\"M559.36,-72C553.18,-63 546.58,-53.38 540.73,-44.84\"/>\n",
       "<polygon fill=\"black\" stroke=\"black\" points=\"543.48,-42.67 534.94,-36.4 537.71,-46.63 543.48,-42.67\"/>\n",
       "</g>\n",
       "<!-- 32 -->\n",
       "<g id=\"node19\" class=\"node\">\n",
       "<title>32</title>\n",
       "<path fill=\"#c0c0c0\" stroke=\"black\" d=\"M610,-36C610,-36 580,-36 580,-36 574,-36 568,-30 568,-24 568,-24 568,-12 568,-12 568,-6 574,0 580,0 580,0 610,0 610,0 616,0 622,-6 622,-12 622,-12 622,-24 622,-24 622,-30 616,-36 610,-36\"/>\n",
       "<text text-anchor=\"middle\" x=\"595\" y=\"-14.3\" font-family=\"Helvetica,sans-Serif\" font-size=\"14.00\">(...)</text>\n",
       "</g>\n",
       "<!-- 28&#45;&gt;32 -->\n",
       "<g id=\"edge18\" class=\"edge\">\n",
       "<title>28&#45;&gt;32</title>\n",
       "<path fill=\"none\" stroke=\"black\" d=\"M586.99,-72C588.26,-63.56 589.62,-54.59 590.85,-46.47\"/>\n",
       "<polygon fill=\"black\" stroke=\"black\" points=\"594.34,-46.81 592.37,-36.4 587.41,-45.77 594.34,-46.81\"/>\n",
       "</g>\n",
       "</g>\n",
       "</svg>\n"
      ],
      "text/plain": [
       "<graphviz.files.Source at 0x7f93c9c231d0>"
      ]
     },
     "execution_count": 50,
     "metadata": {},
     "output_type": "execute_result"
    }
   ],
   "source": [
    "out_file = results_path / 'reg_tree.dot'\n",
    "dot_data = export_graphviz(regression_tree,\n",
    "                           out_file=out_file.as_posix(),\n",
    "                           feature_names=X_train.columns,\n",
    "                           max_depth=3,\n",
    "                           filled=True,\n",
    "                           rounded=True,\n",
    "                           special_characters=True)\n",
    "if out_file is not None:\n",
    "    dot_data = Path(out_file).read_text()\n",
    "\n",
    "graphviz.Source(dot_data)"
   ]
  },
  {
   "cell_type": "markdown",
   "metadata": {},
   "source": [
    "### Evaluate Test Set"
   ]
  },
  {
   "cell_type": "code",
   "execution_count": 51,
   "metadata": {
    "ExecuteTime": {
     "end_time": "2020-06-19T13:47:53.823483Z",
     "start_time": "2020-06-19T13:47:53.816647Z"
    }
   },
   "outputs": [],
   "source": [
    "y_pred = regression_tree.predict(X_test)"
   ]
  },
  {
   "cell_type": "code",
   "execution_count": 52,
   "metadata": {
    "ExecuteTime": {
     "end_time": "2020-06-19T13:47:53.831945Z",
     "start_time": "2020-06-19T13:47:53.824728Z"
    }
   },
   "outputs": [
    {
     "data": {
      "text/plain": [
       "0.037522885206168706"
      ]
     },
     "execution_count": 52,
     "metadata": {},
     "output_type": "execute_result"
    }
   ],
   "source": [
    "np.sqrt(mean_squared_error(y_pred=y_pred, y_true=y_test))"
   ]
  },
  {
   "cell_type": "code",
   "execution_count": 53,
   "metadata": {
    "ExecuteTime": {
     "end_time": "2020-06-19T13:47:53.842734Z",
     "start_time": "2020-06-19T13:47:53.833189Z"
    }
   },
   "outputs": [
    {
     "name": "stdout",
     "output_type": "stream",
     "text": [
      "4.92 (p-value=11.93%)\n"
     ]
    }
   ],
   "source": [
    "r, p = spearmanr(y_pred, y_test)\n",
    "print(f'{r*100:.2f} (p-value={p:.2%})')"
   ]
  },
  {
   "cell_type": "markdown",
   "metadata": {},
   "source": [
    "## Classification Tree with all Features"
   ]
  },
  {
   "cell_type": "markdown",
   "metadata": {},
   "source": [
    "### Train-Test Split"
   ]
  },
  {
   "cell_type": "code",
   "execution_count": 54,
   "metadata": {
    "ExecuteTime": {
     "end_time": "2020-06-19T13:47:53.851095Z",
     "start_time": "2020-06-19T13:47:53.843917Z"
    },
    "scrolled": true
   },
   "outputs": [
    {
     "data": {
      "text/plain": [
       "1    2606\n",
       "0    2410\n",
       "Name: target, dtype: int64"
      ]
     },
     "execution_count": 54,
     "metadata": {},
     "output_type": "execute_result"
    }
   ],
   "source": [
    "y_binary = (y>0).astype(int)\n",
    "y_binary.value_counts()"
   ]
  },
  {
   "cell_type": "code",
   "execution_count": 55,
   "metadata": {
    "ExecuteTime": {
     "end_time": "2020-06-19T13:47:53.868513Z",
     "start_time": "2020-06-19T13:47:53.852758Z"
    }
   },
   "outputs": [],
   "source": [
    "X_train, X_test, y_train, y_test = train_test_split(X, y_binary, test_size=0.2, random_state=42)"
   ]
  },
  {
   "cell_type": "code",
   "execution_count": 56,
   "metadata": {
    "ExecuteTime": {
     "end_time": "2020-06-19T13:47:53.871662Z",
     "start_time": "2020-06-19T13:47:53.869716Z"
    }
   },
   "outputs": [],
   "source": [
    "clf = DecisionTreeClassifier(criterion='gini',\n",
    "                             max_depth=5,\n",
    "                             random_state=42)"
   ]
  },
  {
   "cell_type": "code",
   "execution_count": 57,
   "metadata": {
    "ExecuteTime": {
     "end_time": "2020-06-19T13:47:54.362555Z",
     "start_time": "2020-06-19T13:47:53.872986Z"
    }
   },
   "outputs": [
    {
     "data": {
      "text/plain": [
       "DecisionTreeClassifier(max_depth=5, random_state=42)"
      ]
     },
     "execution_count": 57,
     "metadata": {},
     "output_type": "execute_result"
    }
   ],
   "source": [
    "clf.fit(X=X_train, y=y_train)"
   ]
  },
  {
   "cell_type": "markdown",
   "metadata": {},
   "source": [
    "### Plot Tree"
   ]
  },
  {
   "cell_type": "code",
   "execution_count": 58,
   "metadata": {
    "ExecuteTime": {
     "end_time": "2020-06-19T13:47:54.401755Z",
     "start_time": "2020-06-19T13:47:54.363801Z"
    },
    "scrolled": false
   },
   "outputs": [
    {
     "data": {
      "image/svg+xml": [
       "<?xml version=\"1.0\" encoding=\"UTF-8\" standalone=\"no\"?>\n",
       "<!DOCTYPE svg PUBLIC \"-//W3C//DTD SVG 1.1//EN\"\n",
       " \"http://www.w3.org/Graphics/SVG/1.1/DTD/svg11.dtd\">\n",
       "<!-- Generated by graphviz version 2.44.1 (20200629.0846)\n",
       " -->\n",
       "<!-- Title: Tree Pages: 1 -->\n",
       "<svg width=\"1190pt\" height=\"520pt\"\n",
       " viewBox=\"0.00 0.00 1190.00 520.00\" xmlns=\"http://www.w3.org/2000/svg\" xmlns:xlink=\"http://www.w3.org/1999/xlink\">\n",
       "<g id=\"graph0\" class=\"graph\" transform=\"scale(1 1) rotate(0) translate(4 516)\">\n",
       "<title>Tree</title>\n",
       "<polygon fill=\"white\" stroke=\"transparent\" points=\"-4,4 -4,-516 1186,-516 1186,4 -4,4\"/>\n",
       "<!-- 0 -->\n",
       "<g id=\"node1\" class=\"node\">\n",
       "<title>0</title>\n",
       "<path fill=\"#eff7fd\" stroke=\"black\" d=\"M612.5,-512C612.5,-512 493.5,-512 493.5,-512 487.5,-512 481.5,-506 481.5,-500 481.5,-500 481.5,-441 481.5,-441 481.5,-435 487.5,-429 493.5,-429 493.5,-429 612.5,-429 612.5,-429 618.5,-429 624.5,-435 624.5,-441 624.5,-441 624.5,-500 624.5,-500 624.5,-506 618.5,-512 612.5,-512\"/>\n",
       "<text text-anchor=\"start\" x=\"489.5\" y=\"-496.8\" font-family=\"Helvetica,sans-Serif\" font-size=\"14.00\">dollar_volume ≤ 0.06</text>\n",
       "<text text-anchor=\"start\" x=\"517.5\" y=\"-481.8\" font-family=\"Helvetica,sans-Serif\" font-size=\"14.00\">gini = 0.499</text>\n",
       "<text text-anchor=\"start\" x=\"504.5\" y=\"-466.8\" font-family=\"Helvetica,sans-Serif\" font-size=\"14.00\">samples = 4012</text>\n",
       "<text text-anchor=\"start\" x=\"491\" y=\"-451.8\" font-family=\"Helvetica,sans-Serif\" font-size=\"14.00\">value = [1919, 2093]</text>\n",
       "<text text-anchor=\"start\" x=\"521\" y=\"-436.8\" font-family=\"Helvetica,sans-Serif\" font-size=\"14.00\">class = Up</text>\n",
       "</g>\n",
       "<!-- 1 -->\n",
       "<g id=\"node2\" class=\"node\">\n",
       "<title>1</title>\n",
       "<path fill=\"#f6d4bc\" stroke=\"black\" d=\"M467.5,-393C467.5,-393 366.5,-393 366.5,-393 360.5,-393 354.5,-387 354.5,-381 354.5,-381 354.5,-322 354.5,-322 354.5,-316 360.5,-310 366.5,-310 366.5,-310 467.5,-310 467.5,-310 473.5,-310 479.5,-316 479.5,-322 479.5,-322 479.5,-381 479.5,-381 479.5,-387 473.5,-393 467.5,-393\"/>\n",
       "<text text-anchor=\"start\" x=\"381.5\" y=\"-377.8\" font-family=\"Helvetica,sans-Serif\" font-size=\"14.00\">rsi ≤ 38.187</text>\n",
       "<text text-anchor=\"start\" x=\"381.5\" y=\"-362.8\" font-family=\"Helvetica,sans-Serif\" font-size=\"14.00\">gini = 0.479</text>\n",
       "<text text-anchor=\"start\" x=\"372\" y=\"-347.8\" font-family=\"Helvetica,sans-Serif\" font-size=\"14.00\">samples = 483</text>\n",
       "<text text-anchor=\"start\" x=\"362.5\" y=\"-332.8\" font-family=\"Helvetica,sans-Serif\" font-size=\"14.00\">value = [291, 192]</text>\n",
       "<text text-anchor=\"start\" x=\"376\" y=\"-317.8\" font-family=\"Helvetica,sans-Serif\" font-size=\"14.00\">class = Down</text>\n",
       "</g>\n",
       "<!-- 0&#45;&gt;1 -->\n",
       "<g id=\"edge1\" class=\"edge\">\n",
       "<title>0&#45;&gt;1</title>\n",
       "<path fill=\"none\" stroke=\"black\" d=\"M505.82,-428.91C494.84,-419.47 483.07,-409.34 471.81,-399.65\"/>\n",
       "<polygon fill=\"black\" stroke=\"black\" points=\"473.96,-396.89 464.1,-393.02 469.4,-402.2 473.96,-396.89\"/>\n",
       "<text text-anchor=\"middle\" x=\"465.97\" y=\"-414.25\" font-family=\"Helvetica,sans-Serif\" font-size=\"14.00\">True</text>\n",
       "</g>\n",
       "<!-- 22 -->\n",
       "<g id=\"node15\" class=\"node\">\n",
       "<title>22</title>\n",
       "<path fill=\"#e3f1fb\" stroke=\"black\" d=\"M782,-393C782,-393 648,-393 648,-393 642,-393 636,-387 636,-381 636,-381 636,-322 636,-322 636,-316 642,-310 648,-310 648,-310 782,-310 782,-310 788,-310 794,-316 794,-322 794,-322 794,-381 794,-381 794,-387 788,-393 782,-393\"/>\n",
       "<text text-anchor=\"start\" x=\"644\" y=\"-377.8\" font-family=\"Helvetica,sans-Serif\" font-size=\"14.00\">momentum_12 ≤ 0.069</text>\n",
       "<text text-anchor=\"start\" x=\"679.5\" y=\"-362.8\" font-family=\"Helvetica,sans-Serif\" font-size=\"14.00\">gini = 0.497</text>\n",
       "<text text-anchor=\"start\" x=\"666.5\" y=\"-347.8\" font-family=\"Helvetica,sans-Serif\" font-size=\"14.00\">samples = 3529</text>\n",
       "<text text-anchor=\"start\" x=\"653\" y=\"-332.8\" font-family=\"Helvetica,sans-Serif\" font-size=\"14.00\">value = [1628, 1901]</text>\n",
       "<text text-anchor=\"start\" x=\"683\" y=\"-317.8\" font-family=\"Helvetica,sans-Serif\" font-size=\"14.00\">class = Up</text>\n",
       "</g>\n",
       "<!-- 0&#45;&gt;22 -->\n",
       "<g id=\"edge14\" class=\"edge\">\n",
       "<title>0&#45;&gt;22</title>\n",
       "<path fill=\"none\" stroke=\"black\" d=\"M609.21,-428.91C622.52,-419.29 636.83,-408.95 650.49,-399.09\"/>\n",
       "<polygon fill=\"black\" stroke=\"black\" points=\"652.84,-401.71 658.89,-393.02 648.74,-396.04 652.84,-401.71\"/>\n",
       "<text text-anchor=\"middle\" x=\"654.91\" y=\"-414\" font-family=\"Helvetica,sans-Serif\" font-size=\"14.00\">False</text>\n",
       "</g>\n",
       "<!-- 2 -->\n",
       "<g id=\"node3\" class=\"node\">\n",
       "<title>2</title>\n",
       "<path fill=\"#8cc6f0\" stroke=\"black\" d=\"M252,-274C252,-274 174,-274 174,-274 168,-274 162,-268 162,-262 162,-262 162,-203 162,-203 162,-197 168,-191 174,-191 174,-191 252,-191 252,-191 258,-191 264,-197 264,-203 264,-203 264,-262 264,-262 264,-268 258,-274 252,-274\"/>\n",
       "<text text-anchor=\"start\" x=\"176.5\" y=\"-258.8\" font-family=\"Helvetica,sans-Serif\" font-size=\"14.00\">natr ≤ 2.099</text>\n",
       "<text text-anchor=\"start\" x=\"177.5\" y=\"-243.8\" font-family=\"Helvetica,sans-Serif\" font-size=\"14.00\">gini = 0.417</text>\n",
       "<text text-anchor=\"start\" x=\"172\" y=\"-228.8\" font-family=\"Helvetica,sans-Serif\" font-size=\"14.00\">samples = 27</text>\n",
       "<text text-anchor=\"start\" x=\"170\" y=\"-213.8\" font-family=\"Helvetica,sans-Serif\" font-size=\"14.00\">value = [8, 19]</text>\n",
       "<text text-anchor=\"start\" x=\"181\" y=\"-198.8\" font-family=\"Helvetica,sans-Serif\" font-size=\"14.00\">class = Up</text>\n",
       "</g>\n",
       "<!-- 1&#45;&gt;2 -->\n",
       "<g id=\"edge2\" class=\"edge\">\n",
       "<title>1&#45;&gt;2</title>\n",
       "<path fill=\"none\" stroke=\"black\" d=\"M354.41,-314.6C328.53,-299.76 298.65,-282.62 273.05,-267.94\"/>\n",
       "<polygon fill=\"black\" stroke=\"black\" points=\"274.6,-264.79 264.18,-262.85 271.11,-270.87 274.6,-264.79\"/>\n",
       "</g>\n",
       "<!-- 13 -->\n",
       "<g id=\"node10\" class=\"node\">\n",
       "<title>13</title>\n",
       "<path fill=\"#f5ceb2\" stroke=\"black\" d=\"M471,-274C471,-274 363,-274 363,-274 357,-274 351,-268 351,-262 351,-262 351,-203 351,-203 351,-197 357,-191 363,-191 363,-191 471,-191 471,-191 477,-191 483,-197 483,-203 483,-203 483,-262 483,-262 483,-268 477,-274 471,-274\"/>\n",
       "<text text-anchor=\"start\" x=\"359\" y=\"-258.8\" font-family=\"Helvetica,sans-Serif\" font-size=\"14.00\">return_1m ≤ &#45;0.049</text>\n",
       "<text text-anchor=\"start\" x=\"381.5\" y=\"-243.8\" font-family=\"Helvetica,sans-Serif\" font-size=\"14.00\">gini = 0.471</text>\n",
       "<text text-anchor=\"start\" x=\"372\" y=\"-228.8\" font-family=\"Helvetica,sans-Serif\" font-size=\"14.00\">samples = 456</text>\n",
       "<text text-anchor=\"start\" x=\"362.5\" y=\"-213.8\" font-family=\"Helvetica,sans-Serif\" font-size=\"14.00\">value = [283, 173]</text>\n",
       "<text text-anchor=\"start\" x=\"376\" y=\"-198.8\" font-family=\"Helvetica,sans-Serif\" font-size=\"14.00\">class = Down</text>\n",
       "</g>\n",
       "<!-- 1&#45;&gt;13 -->\n",
       "<g id=\"edge9\" class=\"edge\">\n",
       "<title>1&#45;&gt;13</title>\n",
       "<path fill=\"none\" stroke=\"black\" d=\"M417,-309.91C417,-301.65 417,-292.86 417,-284.3\"/>\n",
       "<polygon fill=\"black\" stroke=\"black\" points=\"420.5,-284.02 417,-274.02 413.5,-284.02 420.5,-284.02\"/>\n",
       "</g>\n",
       "<!-- 3 -->\n",
       "<g id=\"node4\" class=\"node\">\n",
       "<title>3</title>\n",
       "<path fill=\"#eca06a\" stroke=\"black\" d=\"M100,-155C100,-155 26,-155 26,-155 20,-155 14,-149 14,-143 14,-143 14,-84 14,-84 14,-78 20,-72 26,-72 26,-72 100,-72 100,-72 106,-72 112,-78 112,-84 112,-84 112,-143 112,-143 112,-149 106,-155 100,-155\"/>\n",
       "<text text-anchor=\"start\" x=\"26.5\" y=\"-139.8\" font-family=\"Helvetica,sans-Serif\" font-size=\"14.00\">month ≤ 9.0</text>\n",
       "<text text-anchor=\"start\" x=\"31\" y=\"-124.8\" font-family=\"Helvetica,sans-Serif\" font-size=\"14.00\">gini = 0.32</text>\n",
       "<text text-anchor=\"start\" x=\"25.5\" y=\"-109.8\" font-family=\"Helvetica,sans-Serif\" font-size=\"14.00\">samples = 5</text>\n",
       "<text text-anchor=\"start\" x=\"23.5\" y=\"-94.8\" font-family=\"Helvetica,sans-Serif\" font-size=\"14.00\">value = [4, 1]</text>\n",
       "<text text-anchor=\"start\" x=\"22\" y=\"-79.8\" font-family=\"Helvetica,sans-Serif\" font-size=\"14.00\">class = Down</text>\n",
       "</g>\n",
       "<!-- 2&#45;&gt;3 -->\n",
       "<g id=\"edge3\" class=\"edge\">\n",
       "<title>2&#45;&gt;3</title>\n",
       "<path fill=\"none\" stroke=\"black\" d=\"M161.8,-191.56C148.39,-181.1 133.85,-169.76 120.15,-159.08\"/>\n",
       "<polygon fill=\"black\" stroke=\"black\" points=\"122.24,-156.26 112.2,-152.87 117.93,-161.78 122.24,-156.26\"/>\n",
       "</g>\n",
       "<!-- 6 -->\n",
       "<g id=\"node7\" class=\"node\">\n",
       "<title>6</title>\n",
       "<path fill=\"#65b3eb\" stroke=\"black\" d=\"M283.5,-155C283.5,-155 142.5,-155 142.5,-155 136.5,-155 130.5,-149 130.5,-143 130.5,-143 130.5,-84 130.5,-84 130.5,-78 136.5,-72 142.5,-72 142.5,-72 283.5,-72 283.5,-72 289.5,-72 295.5,-78 295.5,-84 295.5,-84 295.5,-143 295.5,-143 295.5,-149 289.5,-155 283.5,-155\"/>\n",
       "<text text-anchor=\"start\" x=\"138.5\" y=\"-139.8\" font-family=\"Helvetica,sans-Serif\" font-size=\"14.00\">momentum_3_6 ≤ 0.018</text>\n",
       "<text text-anchor=\"start\" x=\"177.5\" y=\"-124.8\" font-family=\"Helvetica,sans-Serif\" font-size=\"14.00\">gini = 0.298</text>\n",
       "<text text-anchor=\"start\" x=\"172\" y=\"-109.8\" font-family=\"Helvetica,sans-Serif\" font-size=\"14.00\">samples = 22</text>\n",
       "<text text-anchor=\"start\" x=\"170\" y=\"-94.8\" font-family=\"Helvetica,sans-Serif\" font-size=\"14.00\">value = [4, 18]</text>\n",
       "<text text-anchor=\"start\" x=\"181\" y=\"-79.8\" font-family=\"Helvetica,sans-Serif\" font-size=\"14.00\">class = Up</text>\n",
       "</g>\n",
       "<!-- 2&#45;&gt;6 -->\n",
       "<g id=\"edge6\" class=\"edge\">\n",
       "<title>2&#45;&gt;6</title>\n",
       "<path fill=\"none\" stroke=\"black\" d=\"M213,-190.91C213,-182.65 213,-173.86 213,-165.3\"/>\n",
       "<polygon fill=\"black\" stroke=\"black\" points=\"216.5,-165.02 213,-155.02 209.5,-165.02 216.5,-165.02\"/>\n",
       "</g>\n",
       "<!-- 4 -->\n",
       "<g id=\"node5\" class=\"node\">\n",
       "<title>4</title>\n",
       "<path fill=\"#c0c0c0\" stroke=\"black\" d=\"M42,-36C42,-36 12,-36 12,-36 6,-36 0,-30 0,-24 0,-24 0,-12 0,-12 0,-6 6,0 12,0 12,0 42,0 42,0 48,0 54,-6 54,-12 54,-12 54,-24 54,-24 54,-30 48,-36 42,-36\"/>\n",
       "<text text-anchor=\"middle\" x=\"27\" y=\"-14.3\" font-family=\"Helvetica,sans-Serif\" font-size=\"14.00\">(...)</text>\n",
       "</g>\n",
       "<!-- 3&#45;&gt;4 -->\n",
       "<g id=\"edge4\" class=\"edge\">\n",
       "<title>3&#45;&gt;4</title>\n",
       "<path fill=\"none\" stroke=\"black\" d=\"M47.31,-71.76C43.96,-63.04 40.49,-54.04 37.39,-45.99\"/>\n",
       "<polygon fill=\"black\" stroke=\"black\" points=\"40.56,-44.48 33.7,-36.41 34.03,-46.99 40.56,-44.48\"/>\n",
       "</g>\n",
       "<!-- 5 -->\n",
       "<g id=\"node6\" class=\"node\">\n",
       "<title>5</title>\n",
       "<path fill=\"#c0c0c0\" stroke=\"black\" d=\"M114,-36C114,-36 84,-36 84,-36 78,-36 72,-30 72,-24 72,-24 72,-12 72,-12 72,-6 78,0 84,0 84,0 114,0 114,0 120,0 126,-6 126,-12 126,-12 126,-24 126,-24 126,-30 120,-36 114,-36\"/>\n",
       "<text text-anchor=\"middle\" x=\"99\" y=\"-14.3\" font-family=\"Helvetica,sans-Serif\" font-size=\"14.00\">(...)</text>\n",
       "</g>\n",
       "<!-- 3&#45;&gt;5 -->\n",
       "<g id=\"edge5\" class=\"edge\">\n",
       "<title>3&#45;&gt;5</title>\n",
       "<path fill=\"none\" stroke=\"black\" d=\"M78.69,-71.76C82.04,-63.04 85.51,-54.04 88.61,-45.99\"/>\n",
       "<polygon fill=\"black\" stroke=\"black\" points=\"91.97,-46.99 92.3,-36.41 85.44,-44.48 91.97,-46.99\"/>\n",
       "</g>\n",
       "<!-- 7 -->\n",
       "<g id=\"node8\" class=\"node\">\n",
       "<title>7</title>\n",
       "<path fill=\"#c0c0c0\" stroke=\"black\" d=\"M207,-36C207,-36 177,-36 177,-36 171,-36 165,-30 165,-24 165,-24 165,-12 165,-12 165,-6 171,0 177,0 177,0 207,0 207,0 213,0 219,-6 219,-12 219,-12 219,-24 219,-24 219,-30 213,-36 207,-36\"/>\n",
       "<text text-anchor=\"middle\" x=\"192\" y=\"-14.3\" font-family=\"Helvetica,sans-Serif\" font-size=\"14.00\">(...)</text>\n",
       "</g>\n",
       "<!-- 6&#45;&gt;7 -->\n",
       "<g id=\"edge7\" class=\"edge\">\n",
       "<title>6&#45;&gt;7</title>\n",
       "<path fill=\"none\" stroke=\"black\" d=\"M203.85,-71.76C201.91,-63.14 199.91,-54.24 198.12,-46.26\"/>\n",
       "<polygon fill=\"black\" stroke=\"black\" points=\"201.52,-45.4 195.91,-36.41 194.69,-46.93 201.52,-45.4\"/>\n",
       "</g>\n",
       "<!-- 10 -->\n",
       "<g id=\"node9\" class=\"node\">\n",
       "<title>10</title>\n",
       "<path fill=\"#c0c0c0\" stroke=\"black\" d=\"M279,-36C279,-36 249,-36 249,-36 243,-36 237,-30 237,-24 237,-24 237,-12 237,-12 237,-6 243,0 249,0 249,0 279,0 279,0 285,0 291,-6 291,-12 291,-12 291,-24 291,-24 291,-30 285,-36 279,-36\"/>\n",
       "<text text-anchor=\"middle\" x=\"264\" y=\"-14.3\" font-family=\"Helvetica,sans-Serif\" font-size=\"14.00\">(...)</text>\n",
       "</g>\n",
       "<!-- 6&#45;&gt;10 -->\n",
       "<g id=\"edge8\" class=\"edge\">\n",
       "<title>6&#45;&gt;10</title>\n",
       "<path fill=\"none\" stroke=\"black\" d=\"M235.22,-71.76C240.14,-62.75 245.22,-53.44 249.71,-45.19\"/>\n",
       "<polygon fill=\"black\" stroke=\"black\" points=\"252.79,-46.86 254.51,-36.41 246.65,-43.51 252.79,-46.86\"/>\n",
       "</g>\n",
       "<!-- 14 -->\n",
       "<g id=\"node11\" class=\"node\">\n",
       "<title>14</title>\n",
       "<path fill=\"#399de5\" stroke=\"black\" d=\"M396.5,-147.5C396.5,-147.5 325.5,-147.5 325.5,-147.5 319.5,-147.5 313.5,-141.5 313.5,-135.5 313.5,-135.5 313.5,-91.5 313.5,-91.5 313.5,-85.5 319.5,-79.5 325.5,-79.5 325.5,-79.5 396.5,-79.5 396.5,-79.5 402.5,-79.5 408.5,-85.5 408.5,-91.5 408.5,-91.5 408.5,-135.5 408.5,-135.5 408.5,-141.5 402.5,-147.5 396.5,-147.5\"/>\n",
       "<text text-anchor=\"start\" x=\"333\" y=\"-132.3\" font-family=\"Helvetica,sans-Serif\" font-size=\"14.00\">gini = 0.0</text>\n",
       "<text text-anchor=\"start\" x=\"323.5\" y=\"-117.3\" font-family=\"Helvetica,sans-Serif\" font-size=\"14.00\">samples = 4</text>\n",
       "<text text-anchor=\"start\" x=\"321.5\" y=\"-102.3\" font-family=\"Helvetica,sans-Serif\" font-size=\"14.00\">value = [0, 4]</text>\n",
       "<text text-anchor=\"start\" x=\"329\" y=\"-87.3\" font-family=\"Helvetica,sans-Serif\" font-size=\"14.00\">class = Up</text>\n",
       "</g>\n",
       "<!-- 13&#45;&gt;14 -->\n",
       "<g id=\"edge10\" class=\"edge\">\n",
       "<title>13&#45;&gt;14</title>\n",
       "<path fill=\"none\" stroke=\"black\" d=\"M397.57,-190.91C392.29,-179.87 386.56,-167.9 381.23,-156.77\"/>\n",
       "<polygon fill=\"black\" stroke=\"black\" points=\"384.35,-155.18 376.87,-147.67 378.04,-158.2 384.35,-155.18\"/>\n",
       "</g>\n",
       "<!-- 15 -->\n",
       "<g id=\"node12\" class=\"node\">\n",
       "<title>15</title>\n",
       "<path fill=\"#f5ccaf\" stroke=\"black\" d=\"M539.5,-155C539.5,-155 438.5,-155 438.5,-155 432.5,-155 426.5,-149 426.5,-143 426.5,-143 426.5,-84 426.5,-84 426.5,-78 432.5,-72 438.5,-72 438.5,-72 539.5,-72 539.5,-72 545.5,-72 551.5,-78 551.5,-84 551.5,-84 551.5,-143 551.5,-143 551.5,-149 545.5,-155 539.5,-155\"/>\n",
       "<text text-anchor=\"start\" x=\"445\" y=\"-139.8\" font-family=\"Helvetica,sans-Serif\" font-size=\"14.00\">macd ≤ &#45;1.156</text>\n",
       "<text text-anchor=\"start\" x=\"453.5\" y=\"-124.8\" font-family=\"Helvetica,sans-Serif\" font-size=\"14.00\">gini = 0.468</text>\n",
       "<text text-anchor=\"start\" x=\"444\" y=\"-109.8\" font-family=\"Helvetica,sans-Serif\" font-size=\"14.00\">samples = 452</text>\n",
       "<text text-anchor=\"start\" x=\"434.5\" y=\"-94.8\" font-family=\"Helvetica,sans-Serif\" font-size=\"14.00\">value = [283, 169]</text>\n",
       "<text text-anchor=\"start\" x=\"448\" y=\"-79.8\" font-family=\"Helvetica,sans-Serif\" font-size=\"14.00\">class = Down</text>\n",
       "</g>\n",
       "<!-- 13&#45;&gt;15 -->\n",
       "<g id=\"edge11\" class=\"edge\">\n",
       "<title>13&#45;&gt;15</title>\n",
       "<path fill=\"none\" stroke=\"black\" d=\"M441.98,-190.91C447.4,-182.1 453.18,-172.7 458.78,-163.61\"/>\n",
       "<polygon fill=\"black\" stroke=\"black\" points=\"461.8,-165.37 464.06,-155.02 455.84,-161.7 461.8,-165.37\"/>\n",
       "</g>\n",
       "<!-- 16 -->\n",
       "<g id=\"node13\" class=\"node\">\n",
       "<title>16</title>\n",
       "<path fill=\"#c0c0c0\" stroke=\"black\" d=\"M432,-36C432,-36 402,-36 402,-36 396,-36 390,-30 390,-24 390,-24 390,-12 390,-12 390,-6 396,0 402,0 402,0 432,0 432,0 438,0 444,-6 444,-12 444,-12 444,-24 444,-24 444,-30 438,-36 432,-36\"/>\n",
       "<text text-anchor=\"middle\" x=\"417\" y=\"-14.3\" font-family=\"Helvetica,sans-Serif\" font-size=\"14.00\">(...)</text>\n",
       "</g>\n",
       "<!-- 15&#45;&gt;16 -->\n",
       "<g id=\"edge12\" class=\"edge\">\n",
       "<title>15&#45;&gt;16</title>\n",
       "<path fill=\"none\" stroke=\"black\" d=\"M457.63,-71.76C450.47,-62.46 443.06,-52.84 436.56,-44.4\"/>\n",
       "<polygon fill=\"black\" stroke=\"black\" points=\"439.28,-42.19 430.4,-36.41 433.73,-46.46 439.28,-42.19\"/>\n",
       "</g>\n",
       "<!-- 19 -->\n",
       "<g id=\"node14\" class=\"node\">\n",
       "<title>19</title>\n",
       "<path fill=\"#c0c0c0\" stroke=\"black\" d=\"M504,-36C504,-36 474,-36 474,-36 468,-36 462,-30 462,-24 462,-24 462,-12 462,-12 462,-6 468,0 474,0 474,0 504,0 504,0 510,0 516,-6 516,-12 516,-12 516,-24 516,-24 516,-30 510,-36 504,-36\"/>\n",
       "<text text-anchor=\"middle\" x=\"489\" y=\"-14.3\" font-family=\"Helvetica,sans-Serif\" font-size=\"14.00\">(...)</text>\n",
       "</g>\n",
       "<!-- 15&#45;&gt;19 -->\n",
       "<g id=\"edge13\" class=\"edge\">\n",
       "<title>15&#45;&gt;19</title>\n",
       "<path fill=\"none\" stroke=\"black\" d=\"M489,-71.76C489,-63.24 489,-54.44 489,-46.53\"/>\n",
       "<polygon fill=\"black\" stroke=\"black\" points=\"492.5,-46.41 489,-36.41 485.5,-46.41 492.5,-46.41\"/>\n",
       "</g>\n",
       "<!-- 23 -->\n",
       "<g id=\"node16\" class=\"node\">\n",
       "<title>23</title>\n",
       "<path fill=\"#e7f3fc\" stroke=\"black\" d=\"M773,-274C773,-274 657,-274 657,-274 651,-274 645,-268 645,-262 645,-262 645,-203 645,-203 645,-197 651,-191 657,-191 657,-191 773,-191 773,-191 779,-191 785,-197 785,-203 785,-203 785,-262 785,-262 785,-268 779,-274 773,-274\"/>\n",
       "<text text-anchor=\"start\" x=\"678.5\" y=\"-258.8\" font-family=\"Helvetica,sans-Serif\" font-size=\"14.00\">natr ≤ 2.377</text>\n",
       "<text text-anchor=\"start\" x=\"679.5\" y=\"-243.8\" font-family=\"Helvetica,sans-Serif\" font-size=\"14.00\">gini = 0.498</text>\n",
       "<text text-anchor=\"start\" x=\"666.5\" y=\"-228.8\" font-family=\"Helvetica,sans-Serif\" font-size=\"14.00\">samples = 3392</text>\n",
       "<text text-anchor=\"start\" x=\"653\" y=\"-213.8\" font-family=\"Helvetica,sans-Serif\" font-size=\"14.00\">value = [1586, 1806]</text>\n",
       "<text text-anchor=\"start\" x=\"683\" y=\"-198.8\" font-family=\"Helvetica,sans-Serif\" font-size=\"14.00\">class = Up</text>\n",
       "</g>\n",
       "<!-- 22&#45;&gt;23 -->\n",
       "<g id=\"edge15\" class=\"edge\">\n",
       "<title>22&#45;&gt;23</title>\n",
       "<path fill=\"none\" stroke=\"black\" d=\"M715,-309.91C715,-301.65 715,-292.86 715,-284.3\"/>\n",
       "<polygon fill=\"black\" stroke=\"black\" points=\"718.5,-284.02 715,-274.02 711.5,-284.02 718.5,-284.02\"/>\n",
       "</g>\n",
       "<!-- 38 -->\n",
       "<g id=\"node23\" class=\"node\">\n",
       "<title>38</title>\n",
       "<path fill=\"#91c8f0\" stroke=\"black\" d=\"M1014,-274C1014,-274 928,-274 928,-274 922,-274 916,-268 916,-262 916,-262 916,-203 916,-203 916,-197 922,-191 928,-191 928,-191 1014,-191 1014,-191 1020,-191 1026,-197 1026,-203 1026,-203 1026,-262 1026,-262 1026,-268 1020,-274 1014,-274\"/>\n",
       "<text text-anchor=\"start\" x=\"940\" y=\"-258.8\" font-family=\"Helvetica,sans-Serif\" font-size=\"14.00\">atr ≤ &#45;0.32</text>\n",
       "<text text-anchor=\"start\" x=\"935.5\" y=\"-243.8\" font-family=\"Helvetica,sans-Serif\" font-size=\"14.00\">gini = 0.425</text>\n",
       "<text text-anchor=\"start\" x=\"926\" y=\"-228.8\" font-family=\"Helvetica,sans-Serif\" font-size=\"14.00\">samples = 137</text>\n",
       "<text text-anchor=\"start\" x=\"924\" y=\"-213.8\" font-family=\"Helvetica,sans-Serif\" font-size=\"14.00\">value = [42, 95]</text>\n",
       "<text text-anchor=\"start\" x=\"939\" y=\"-198.8\" font-family=\"Helvetica,sans-Serif\" font-size=\"14.00\">class = Up</text>\n",
       "</g>\n",
       "<!-- 22&#45;&gt;38 -->\n",
       "<g id=\"edge22\" class=\"edge\">\n",
       "<title>22&#45;&gt;38</title>\n",
       "<path fill=\"none\" stroke=\"black\" d=\"M794.25,-314.28C830.22,-297.84 872.23,-278.64 906.27,-263.08\"/>\n",
       "<polygon fill=\"black\" stroke=\"black\" points=\"908.01,-266.14 915.65,-258.8 905.1,-259.77 908.01,-266.14\"/>\n",
       "</g>\n",
       "<!-- 24 -->\n",
       "<g id=\"node17\" class=\"node\">\n",
       "<title>24</title>\n",
       "<path fill=\"#fbece2\" stroke=\"black\" d=\"M686,-155C686,-155 582,-155 582,-155 576,-155 570,-149 570,-143 570,-143 570,-84 570,-84 570,-78 576,-72 582,-72 582,-72 686,-72 686,-72 692,-72 698,-78 698,-84 698,-84 698,-143 698,-143 698,-149 692,-155 686,-155\"/>\n",
       "<text text-anchor=\"start\" x=\"578\" y=\"-139.8\" font-family=\"Helvetica,sans-Serif\" font-size=\"14.00\">return_6m ≤ 0.014</text>\n",
       "<text text-anchor=\"start\" x=\"598.5\" y=\"-124.8\" font-family=\"Helvetica,sans-Serif\" font-size=\"14.00\">gini = 0.497</text>\n",
       "<text text-anchor=\"start\" x=\"589\" y=\"-109.8\" font-family=\"Helvetica,sans-Serif\" font-size=\"14.00\">samples = 352</text>\n",
       "<text text-anchor=\"start\" x=\"579.5\" y=\"-94.8\" font-family=\"Helvetica,sans-Serif\" font-size=\"14.00\">value = [190, 162]</text>\n",
       "<text text-anchor=\"start\" x=\"593\" y=\"-79.8\" font-family=\"Helvetica,sans-Serif\" font-size=\"14.00\">class = Down</text>\n",
       "</g>\n",
       "<!-- 23&#45;&gt;24 -->\n",
       "<g id=\"edge16\" class=\"edge\">\n",
       "<title>23&#45;&gt;24</title>\n",
       "<path fill=\"none\" stroke=\"black\" d=\"M686.9,-190.91C680.74,-182.01 674.16,-172.51 667.81,-163.33\"/>\n",
       "<polygon fill=\"black\" stroke=\"black\" points=\"670.62,-161.25 662.05,-155.02 664.87,-165.24 670.62,-161.25\"/>\n",
       "</g>\n",
       "<!-- 31 -->\n",
       "<g id=\"node20\" class=\"node\">\n",
       "<title>31</title>\n",
       "<path fill=\"#e1f0fb\" stroke=\"black\" d=\"M866,-155C866,-155 728,-155 728,-155 722,-155 716,-149 716,-143 716,-143 716,-84 716,-84 716,-78 722,-72 728,-72 728,-72 866,-72 866,-72 872,-72 878,-78 878,-84 878,-84 878,-143 878,-143 878,-149 872,-155 866,-155\"/>\n",
       "<text text-anchor=\"start\" x=\"724\" y=\"-139.8\" font-family=\"Helvetica,sans-Serif\" font-size=\"14.00\">momentum_12 ≤ &#45;0.019</text>\n",
       "<text text-anchor=\"start\" x=\"761.5\" y=\"-124.8\" font-family=\"Helvetica,sans-Serif\" font-size=\"14.00\">gini = 0.497</text>\n",
       "<text text-anchor=\"start\" x=\"748.5\" y=\"-109.8\" font-family=\"Helvetica,sans-Serif\" font-size=\"14.00\">samples = 3040</text>\n",
       "<text text-anchor=\"start\" x=\"735\" y=\"-94.8\" font-family=\"Helvetica,sans-Serif\" font-size=\"14.00\">value = [1396, 1644]</text>\n",
       "<text text-anchor=\"start\" x=\"765\" y=\"-79.8\" font-family=\"Helvetica,sans-Serif\" font-size=\"14.00\">class = Up</text>\n",
       "</g>\n",
       "<!-- 23&#45;&gt;31 -->\n",
       "<g id=\"edge19\" class=\"edge\">\n",
       "<title>23&#45;&gt;31</title>\n",
       "<path fill=\"none\" stroke=\"black\" d=\"M743.45,-190.91C749.68,-182.01 756.34,-172.51 762.78,-163.33\"/>\n",
       "<polygon fill=\"black\" stroke=\"black\" points=\"765.73,-165.22 768.6,-155.02 760,-161.2 765.73,-165.22\"/>\n",
       "</g>\n",
       "<!-- 25 -->\n",
       "<g id=\"node18\" class=\"node\">\n",
       "<title>25</title>\n",
       "<path fill=\"#c0c0c0\" stroke=\"black\" d=\"M586,-36C586,-36 556,-36 556,-36 550,-36 544,-30 544,-24 544,-24 544,-12 544,-12 544,-6 550,0 556,0 556,0 586,0 586,0 592,0 598,-6 598,-12 598,-12 598,-24 598,-24 598,-30 592,-36 586,-36\"/>\n",
       "<text text-anchor=\"middle\" x=\"571\" y=\"-14.3\" font-family=\"Helvetica,sans-Serif\" font-size=\"14.00\">(...)</text>\n",
       "</g>\n",
       "<!-- 24&#45;&gt;25 -->\n",
       "<g id=\"edge17\" class=\"edge\">\n",
       "<title>24&#45;&gt;25</title>\n",
       "<path fill=\"none\" stroke=\"black\" d=\"M606.55,-71.76C600.41,-62.65 594.07,-53.24 588.47,-44.92\"/>\n",
       "<polygon fill=\"black\" stroke=\"black\" points=\"591.22,-42.74 582.73,-36.41 585.41,-46.65 591.22,-42.74\"/>\n",
       "</g>\n",
       "<!-- 28 -->\n",
       "<g id=\"node19\" class=\"node\">\n",
       "<title>28</title>\n",
       "<path fill=\"#c0c0c0\" stroke=\"black\" d=\"M658,-36C658,-36 628,-36 628,-36 622,-36 616,-30 616,-24 616,-24 616,-12 616,-12 616,-6 622,0 628,0 628,0 658,0 658,0 664,0 670,-6 670,-12 670,-12 670,-24 670,-24 670,-30 664,-36 658,-36\"/>\n",
       "<text text-anchor=\"middle\" x=\"643\" y=\"-14.3\" font-family=\"Helvetica,sans-Serif\" font-size=\"14.00\">(...)</text>\n",
       "</g>\n",
       "<!-- 24&#45;&gt;28 -->\n",
       "<g id=\"edge18\" class=\"edge\">\n",
       "<title>24&#45;&gt;28</title>\n",
       "<path fill=\"none\" stroke=\"black\" d=\"M637.92,-71.76C638.74,-63.24 639.59,-54.44 640.35,-46.53\"/>\n",
       "<polygon fill=\"black\" stroke=\"black\" points=\"643.85,-46.69 641.32,-36.41 636.88,-46.02 643.85,-46.69\"/>\n",
       "</g>\n",
       "<!-- 32 -->\n",
       "<g id=\"node21\" class=\"node\">\n",
       "<title>32</title>\n",
       "<path fill=\"#c0c0c0\" stroke=\"black\" d=\"M755,-36C755,-36 725,-36 725,-36 719,-36 713,-30 713,-24 713,-24 713,-12 713,-12 713,-6 719,0 725,0 725,0 755,0 755,0 761,0 767,-6 767,-12 767,-12 767,-24 767,-24 767,-30 761,-36 755,-36\"/>\n",
       "<text text-anchor=\"middle\" x=\"740\" y=\"-14.3\" font-family=\"Helvetica,sans-Serif\" font-size=\"14.00\">(...)</text>\n",
       "</g>\n",
       "<!-- 31&#45;&gt;32 -->\n",
       "<g id=\"edge20\" class=\"edge\">\n",
       "<title>31&#45;&gt;32</title>\n",
       "<path fill=\"none\" stroke=\"black\" d=\"M772.16,-71.76C766.67,-62.75 760.99,-53.44 755.97,-45.19\"/>\n",
       "<polygon fill=\"black\" stroke=\"black\" points=\"758.8,-43.12 750.61,-36.41 752.83,-46.77 758.8,-43.12\"/>\n",
       "</g>\n",
       "<!-- 35 -->\n",
       "<g id=\"node22\" class=\"node\">\n",
       "<title>35</title>\n",
       "<path fill=\"#c0c0c0\" stroke=\"black\" d=\"M827,-36C827,-36 797,-36 797,-36 791,-36 785,-30 785,-24 785,-24 785,-12 785,-12 785,-6 791,0 797,0 797,0 827,0 827,0 833,0 839,-6 839,-12 839,-12 839,-24 839,-24 839,-30 833,-36 827,-36\"/>\n",
       "<text text-anchor=\"middle\" x=\"812\" y=\"-14.3\" font-family=\"Helvetica,sans-Serif\" font-size=\"14.00\">(...)</text>\n",
       "</g>\n",
       "<!-- 31&#45;&gt;35 -->\n",
       "<g id=\"edge21\" class=\"edge\">\n",
       "<title>31&#45;&gt;35</title>\n",
       "<path fill=\"none\" stroke=\"black\" d=\"M803.54,-71.76C804.9,-63.24 806.31,-54.44 807.58,-46.53\"/>\n",
       "<polygon fill=\"black\" stroke=\"black\" points=\"811.08,-46.83 809.21,-36.41 804.17,-45.72 811.08,-46.83\"/>\n",
       "</g>\n",
       "<!-- 39 -->\n",
       "<g id=\"node24\" class=\"node\">\n",
       "<title>39</title>\n",
       "<path fill=\"#4ca6e7\" stroke=\"black\" d=\"M1034,-155C1034,-155 908,-155 908,-155 902,-155 896,-149 896,-143 896,-143 896,-84 896,-84 896,-78 902,-72 908,-72 908,-72 1034,-72 1034,-72 1040,-72 1046,-78 1046,-84 1046,-84 1046,-143 1046,-143 1046,-149 1040,-155 1034,-155\"/>\n",
       "<text text-anchor=\"start\" x=\"904\" y=\"-139.8\" font-family=\"Helvetica,sans-Serif\" font-size=\"14.00\">momentum_3 ≤ 0.025</text>\n",
       "<text text-anchor=\"start\" x=\"935.5\" y=\"-124.8\" font-family=\"Helvetica,sans-Serif\" font-size=\"14.00\">gini = 0.157</text>\n",
       "<text text-anchor=\"start\" x=\"930\" y=\"-109.8\" font-family=\"Helvetica,sans-Serif\" font-size=\"14.00\">samples = 35</text>\n",
       "<text text-anchor=\"start\" x=\"928\" y=\"-94.8\" font-family=\"Helvetica,sans-Serif\" font-size=\"14.00\">value = [3, 32]</text>\n",
       "<text text-anchor=\"start\" x=\"939\" y=\"-79.8\" font-family=\"Helvetica,sans-Serif\" font-size=\"14.00\">class = Up</text>\n",
       "</g>\n",
       "<!-- 38&#45;&gt;39 -->\n",
       "<g id=\"edge23\" class=\"edge\">\n",
       "<title>38&#45;&gt;39</title>\n",
       "<path fill=\"none\" stroke=\"black\" d=\"M971,-190.91C971,-182.65 971,-173.86 971,-165.3\"/>\n",
       "<polygon fill=\"black\" stroke=\"black\" points=\"974.5,-165.02 971,-155.02 967.5,-165.02 974.5,-165.02\"/>\n",
       "</g>\n",
       "<!-- 44 -->\n",
       "<g id=\"node27\" class=\"node\">\n",
       "<title>44</title>\n",
       "<path fill=\"#b4daf5\" stroke=\"black\" d=\"M1162,-155C1162,-155 1076,-155 1076,-155 1070,-155 1064,-149 1064,-143 1064,-143 1064,-84 1064,-84 1064,-78 1070,-72 1076,-72 1076,-72 1162,-72 1162,-72 1168,-72 1174,-78 1174,-84 1174,-84 1174,-143 1174,-143 1174,-149 1168,-155 1162,-155\"/>\n",
       "<text text-anchor=\"start\" x=\"1076.5\" y=\"-139.8\" font-family=\"Helvetica,sans-Serif\" font-size=\"14.00\">bb_low ≤ 3.19</text>\n",
       "<text text-anchor=\"start\" x=\"1083.5\" y=\"-124.8\" font-family=\"Helvetica,sans-Serif\" font-size=\"14.00\">gini = 0.472</text>\n",
       "<text text-anchor=\"start\" x=\"1074\" y=\"-109.8\" font-family=\"Helvetica,sans-Serif\" font-size=\"14.00\">samples = 102</text>\n",
       "<text text-anchor=\"start\" x=\"1072\" y=\"-94.8\" font-family=\"Helvetica,sans-Serif\" font-size=\"14.00\">value = [39, 63]</text>\n",
       "<text text-anchor=\"start\" x=\"1087\" y=\"-79.8\" font-family=\"Helvetica,sans-Serif\" font-size=\"14.00\">class = Up</text>\n",
       "</g>\n",
       "<!-- 38&#45;&gt;44 -->\n",
       "<g id=\"edge26\" class=\"edge\">\n",
       "<title>38&#45;&gt;44</title>\n",
       "<path fill=\"none\" stroke=\"black\" d=\"M1022.35,-190.91C1034.4,-181.38 1047.34,-171.15 1059.71,-161.37\"/>\n",
       "<polygon fill=\"black\" stroke=\"black\" points=\"1062.07,-163.97 1067.74,-155.02 1057.73,-158.48 1062.07,-163.97\"/>\n",
       "</g>\n",
       "<!-- 40 -->\n",
       "<g id=\"node25\" class=\"node\">\n",
       "<title>40</title>\n",
       "<path fill=\"#c0c0c0\" stroke=\"black\" d=\"M934,-36C934,-36 904,-36 904,-36 898,-36 892,-30 892,-24 892,-24 892,-12 892,-12 892,-6 898,0 904,0 904,0 934,0 934,0 940,0 946,-6 946,-12 946,-12 946,-24 946,-24 946,-30 940,-36 934,-36\"/>\n",
       "<text text-anchor=\"middle\" x=\"919\" y=\"-14.3\" font-family=\"Helvetica,sans-Serif\" font-size=\"14.00\">(...)</text>\n",
       "</g>\n",
       "<!-- 39&#45;&gt;40 -->\n",
       "<g id=\"edge24\" class=\"edge\">\n",
       "<title>39&#45;&gt;40</title>\n",
       "<path fill=\"none\" stroke=\"black\" d=\"M948.34,-71.76C943.33,-62.75 938.15,-53.44 933.57,-45.19\"/>\n",
       "<polygon fill=\"black\" stroke=\"black\" points=\"936.6,-43.44 928.68,-36.41 930.48,-46.85 936.6,-43.44\"/>\n",
       "</g>\n",
       "<!-- 41 -->\n",
       "<g id=\"node26\" class=\"node\">\n",
       "<title>41</title>\n",
       "<path fill=\"#c0c0c0\" stroke=\"black\" d=\"M1006,-36C1006,-36 976,-36 976,-36 970,-36 964,-30 964,-24 964,-24 964,-12 964,-12 964,-6 970,0 976,0 976,0 1006,0 1006,0 1012,0 1018,-6 1018,-12 1018,-12 1018,-24 1018,-24 1018,-30 1012,-36 1006,-36\"/>\n",
       "<text text-anchor=\"middle\" x=\"991\" y=\"-14.3\" font-family=\"Helvetica,sans-Serif\" font-size=\"14.00\">(...)</text>\n",
       "</g>\n",
       "<!-- 39&#45;&gt;41 -->\n",
       "<g id=\"edge25\" class=\"edge\">\n",
       "<title>39&#45;&gt;41</title>\n",
       "<path fill=\"none\" stroke=\"black\" d=\"M979.71,-71.76C981.56,-63.14 983.46,-54.24 985.17,-46.26\"/>\n",
       "<polygon fill=\"black\" stroke=\"black\" points=\"988.61,-46.92 987.28,-36.41 981.76,-45.45 988.61,-46.92\"/>\n",
       "</g>\n",
       "<!-- 45 -->\n",
       "<g id=\"node28\" class=\"node\">\n",
       "<title>45</title>\n",
       "<path fill=\"#c0c0c0\" stroke=\"black\" d=\"M1098,-36C1098,-36 1068,-36 1068,-36 1062,-36 1056,-30 1056,-24 1056,-24 1056,-12 1056,-12 1056,-6 1062,0 1068,0 1068,0 1098,0 1098,0 1104,0 1110,-6 1110,-12 1110,-12 1110,-24 1110,-24 1110,-30 1104,-36 1098,-36\"/>\n",
       "<text text-anchor=\"middle\" x=\"1083\" y=\"-14.3\" font-family=\"Helvetica,sans-Serif\" font-size=\"14.00\">(...)</text>\n",
       "</g>\n",
       "<!-- 44&#45;&gt;45 -->\n",
       "<g id=\"edge27\" class=\"edge\">\n",
       "<title>44&#45;&gt;45</title>\n",
       "<path fill=\"none\" stroke=\"black\" d=\"M1103.31,-71.76C1099.96,-63.04 1096.49,-54.04 1093.39,-45.99\"/>\n",
       "<polygon fill=\"black\" stroke=\"black\" points=\"1096.56,-44.48 1089.7,-36.41 1090.03,-46.99 1096.56,-44.48\"/>\n",
       "</g>\n",
       "<!-- 48 -->\n",
       "<g id=\"node29\" class=\"node\">\n",
       "<title>48</title>\n",
       "<path fill=\"#c0c0c0\" stroke=\"black\" d=\"M1170,-36C1170,-36 1140,-36 1140,-36 1134,-36 1128,-30 1128,-24 1128,-24 1128,-12 1128,-12 1128,-6 1134,0 1140,0 1140,0 1170,0 1170,0 1176,0 1182,-6 1182,-12 1182,-12 1182,-24 1182,-24 1182,-30 1176,-36 1170,-36\"/>\n",
       "<text text-anchor=\"middle\" x=\"1155\" y=\"-14.3\" font-family=\"Helvetica,sans-Serif\" font-size=\"14.00\">(...)</text>\n",
       "</g>\n",
       "<!-- 44&#45;&gt;48 -->\n",
       "<g id=\"edge28\" class=\"edge\">\n",
       "<title>44&#45;&gt;48</title>\n",
       "<path fill=\"none\" stroke=\"black\" d=\"M1134.69,-71.76C1138.04,-63.04 1141.51,-54.04 1144.61,-45.99\"/>\n",
       "<polygon fill=\"black\" stroke=\"black\" points=\"1147.97,-46.99 1148.3,-36.41 1141.44,-44.48 1147.97,-46.99\"/>\n",
       "</g>\n",
       "</g>\n",
       "</svg>\n"
      ],
      "text/plain": [
       "<graphviz.files.Source at 0x7f93c0f1a588>"
      ]
     },
     "execution_count": 58,
     "metadata": {},
     "output_type": "execute_result"
    }
   ],
   "source": [
    "out_file = results_path / 'clf_tree.dot'\n",
    "dot_data = export_graphviz(clf,\n",
    "                           out_file=out_file.as_posix(),\n",
    "                           feature_names=X.columns,\n",
    "                           class_names=['Down', 'Up'],\n",
    "                           max_depth=3,\n",
    "                           filled=True,\n",
    "                           rounded=True,\n",
    "                           special_characters=True)\n",
    "if out_file is not None:\n",
    "    dot_data = Path(out_file).read_text()\n",
    "\n",
    "graphviz.Source(dot_data)"
   ]
  },
  {
   "cell_type": "markdown",
   "metadata": {},
   "source": [
    "### Evaluate Test Set"
   ]
  },
  {
   "cell_type": "markdown",
   "metadata": {},
   "source": [
    "To evaluate the predictive accuracy of our first classification tree, we will use our test set to generate predicted class probabilities. "
   ]
  },
  {
   "cell_type": "code",
   "execution_count": 59,
   "metadata": {
    "ExecuteTime": {
     "end_time": "2020-06-19T13:47:54.408859Z",
     "start_time": "2020-06-19T13:47:54.403090Z"
    }
   },
   "outputs": [],
   "source": [
    "y_score = clf.predict_proba(X=X_test)[:, 1]"
   ]
  },
  {
   "cell_type": "markdown",
   "metadata": {},
   "source": [
    "To evaluate the generalization error, we will use the area under the curve based on the receiver-operating characteristic that we introduced in Chapter 6, The Machine Learning Process. The result indicates a significant improvement above and beyond the baseline value of 0.5 for a random prediction:"
   ]
  },
  {
   "cell_type": "code",
   "execution_count": 60,
   "metadata": {
    "ExecuteTime": {
     "end_time": "2020-06-19T13:47:54.418644Z",
     "start_time": "2020-06-19T13:47:54.409881Z"
    }
   },
   "outputs": [
    {
     "data": {
      "text/plain": [
       "0.5195189830198942"
      ]
     },
     "execution_count": 60,
     "metadata": {},
     "output_type": "execute_result"
    }
   ],
   "source": [
    "roc_auc_score(y_score=y_score, y_true=y_test)"
   ]
  },
  {
   "cell_type": "markdown",
   "metadata": {},
   "source": [
    "### Print Decision Path"
   ]
  },
  {
   "cell_type": "code",
   "execution_count": 62,
   "metadata": {
    "ExecuteTime": {
     "end_time": "2020-06-19T13:47:54.434284Z",
     "start_time": "2020-06-19T13:47:54.427200Z"
    }
   },
   "outputs": [],
   "source": [
    "def tree_to_code(tree, feature_names):\n",
    "    if isinstance(tree, DecisionTreeClassifier):\n",
    "        model = 'clf'\n",
    "    elif isinstance(tree, DecisionTreeRegressor):\n",
    "        model = 'reg'\n",
    "    else:\n",
    "        raise ValueError('Need Regression or Classification Tree')\n",
    "        \n",
    "    tree_ = tree.tree_\n",
    "    feature_name = [\n",
    "        feature_names[i] if i != _tree.TREE_UNDEFINED else \"undefined!\"\n",
    "        for i in tree_.feature\n",
    "    ]\n",
    "    print(\"def tree({}):\".format(\", \".join(feature_names)))\n",
    "\n",
    "    def recurse(node, depth):\n",
    "        indent = \"  \" * depth\n",
    "        if tree_.feature[node] != _tree.TREE_UNDEFINED:\n",
    "            name = feature_name[node]\n",
    "            threshold = tree_.threshold[node]\n",
    "            print(indent, f'if {name} <= {threshold:.2%}')\n",
    "            recurse(tree_.children_left[node], depth + 1)\n",
    "            print(indent, f'else:  # if {name} > {threshold:.2%}')\n",
    "            recurse(tree_.children_right[node], depth + 1)\n",
    "        else:\n",
    "            pred = tree_.value[node][0]\n",
    "            val = pred[1]/sum(pred) if model == 'clf' else pred[0]\n",
    "            print(indent, f'return {val:.2%}')\n",
    "    recurse(0, 1)"
   ]
  },
  {
   "cell_type": "code",
   "execution_count": 63,
   "metadata": {
    "ExecuteTime": {
     "end_time": "2020-06-19T13:47:54.455022Z",
     "start_time": "2020-06-19T13:47:54.435375Z"
    }
   },
   "outputs": [
    {
     "name": "stdout",
     "output_type": "stream",
     "text": [
      "def tree(t-1, t-2):\n",
      "   if t-2 <= -10.64%\n",
      "     return 25.81%\n",
      "   else:  # if t-2 > -10.64%\n",
      "     if t-1 <= -6.71%\n",
      "       return 65.45%\n",
      "     else:  # if t-1 > -6.71%\n",
      "       if t-2 <= -9.75%\n",
      "         return 84.62%\n",
      "       else:  # if t-2 > -9.75%\n",
      "         if t-1 <= -0.73%\n",
      "           if t-2 <= 5.61%\n",
      "             return 55.18%\n",
      "           else:  # if t-2 > 5.61%\n",
      "             return 40.95%\n",
      "         else:  # if t-1 > -0.73%\n",
      "           if t-1 <= -0.58%\n",
      "             return 37.17%\n",
      "           else:  # if t-1 > -0.58%\n",
      "             return 51.19%\n"
     ]
    }
   ],
   "source": [
    "tree_to_code(clf_tree_t2, X2.columns)"
   ]
  },
  {
   "cell_type": "markdown",
   "metadata": {},
   "source": [
    "## Overfitting, Regularization & Parameter Tuning"
   ]
  },
  {
   "cell_type": "markdown",
   "metadata": {},
   "source": [
    "Decision trees have a strong tendency to overfit, especially when a dataset has a large number of features relative to the number of samples."
   ]
  },
  {
   "cell_type": "markdown",
   "metadata": {},
   "source": [
    "Decision trees provide several regularization hyperparameters to limit the growth of a tree and the associated complexity. While every split increases the number of nodes, it also reduces the number of samples available per node to support a prediction. For each additional level, twice the number of samples is needed to populate the new nodes with the same sample density. "
   ]
  },
  {
   "cell_type": "markdown",
   "metadata": {},
   "source": [
    "### Cross-validation parameters"
   ]
  },
  {
   "cell_type": "code",
   "execution_count": 64,
   "metadata": {
    "ExecuteTime": {
     "end_time": "2020-06-19T13:47:54.458378Z",
     "start_time": "2020-06-19T13:47:54.455997Z"
    }
   },
   "outputs": [],
   "source": [
    "n_splits = 20\n",
    "train_period_length = 60\n",
    "test_period_length = 14\n",
    "lookahead = 1\n",
    "\n",
    "cv = MultipleTimeSeriesCV(n_splits=n_splits,\n",
    "                          train_period_length=train_period_length,\n",
    "                          test_period_length=test_period_length,\n",
    "                          lookahead=lookahead)"
   ]
  },
  {
   "cell_type": "code",
   "execution_count": 65,
   "metadata": {
    "ExecuteTime": {
     "end_time": "2020-06-19T13:47:54.468071Z",
     "start_time": "2020-06-19T13:47:54.459662Z"
    }
   },
   "outputs": [],
   "source": [
    "max_depths = range(1, 5)"
   ]
  },
  {
   "cell_type": "markdown",
   "metadata": {},
   "source": [
    "### Finding the best trees using GridSearchCV"
   ]
  },
  {
   "cell_type": "markdown",
   "metadata": {},
   "source": [
    "#### Define parameter grid"
   ]
  },
  {
   "cell_type": "markdown",
   "metadata": {},
   "source": [
    "The first step is to define a dictionary where the keywords name the hyperparameters, and the values list the parameter settings to be tested:"
   ]
  },
  {
   "cell_type": "code",
   "execution_count": 66,
   "metadata": {
    "ExecuteTime": {
     "end_time": "2020-06-19T13:47:54.481095Z",
     "start_time": "2020-06-19T13:47:54.469701Z"
    }
   },
   "outputs": [],
   "source": [
    "param_grid = {'max_depth': [2, 3, 4, 5, 6],\n",
    "              'min_samples_leaf': [5, 25, 50, 100],\n",
    "              'max_features': ['sqrt', 'auto']}"
   ]
  },
  {
   "cell_type": "markdown",
   "metadata": {},
   "source": [
    "#### Classification Tree"
   ]
  },
  {
   "cell_type": "markdown",
   "metadata": {},
   "source": [
    "Then, we instantiate a model object:"
   ]
  },
  {
   "cell_type": "code",
   "execution_count": 67,
   "metadata": {
    "ExecuteTime": {
     "end_time": "2020-06-19T13:47:54.489079Z",
     "start_time": "2020-06-19T13:47:54.482376Z"
    }
   },
   "outputs": [],
   "source": [
    "clf = DecisionTreeClassifier(random_state=42)"
   ]
  },
  {
   "cell_type": "markdown",
   "metadata": {},
   "source": [
    "Now we instantiate the GridSearchCV object, providing the estimator object and parameter grid, as well as a scoring method and cross-validation choice to the initialization method. We'll use an object of our custom OneStepTimeSeriesSplit class, initialized to use ten folds for the cv parameter, and set the scoring to the roc_auc metric. We can parallelize the search using the n_jobs parameter and automatically obtain a trained model that uses the optimal hyperparameters by setting `refit=True`."
   ]
  },
  {
   "cell_type": "code",
   "execution_count": 68,
   "metadata": {
    "ExecuteTime": {
     "end_time": "2020-06-19T13:47:54.497143Z",
     "start_time": "2020-06-19T13:47:54.490236Z"
    }
   },
   "outputs": [],
   "source": [
    "gridsearch_clf = GridSearchCV(estimator=clf,\n",
    "                          param_grid=param_grid,\n",
    "                          scoring='roc_auc',\n",
    "                          n_jobs=-1,\n",
    "                          cv=cv,\n",
    "                          refit=True,\n",
    "                          return_train_score=True)"
   ]
  },
  {
   "cell_type": "code",
   "execution_count": 69,
   "metadata": {
    "ExecuteTime": {
     "end_time": "2020-06-19T13:48:09.355265Z",
     "start_time": "2020-06-19T13:47:54.498338Z"
    }
   },
   "outputs": [
    {
     "data": {
      "text/plain": [
       "GridSearchCV(cv=<utils.MultipleTimeSeriesCV object at 0x7f93c0f2f940>,\n",
       "             estimator=DecisionTreeClassifier(random_state=42), n_jobs=-1,\n",
       "             param_grid={'max_depth': [2, 3, 4, 5, 6],\n",
       "                         'max_features': ['sqrt', 'auto'],\n",
       "                         'min_samples_leaf': [5, 25, 50, 100]},\n",
       "             return_train_score=True, scoring='roc_auc')"
      ]
     },
     "execution_count": 69,
     "metadata": {},
     "output_type": "execute_result"
    }
   ],
   "source": [
    "gridsearch_clf.fit(X = X, y = y_binary)"
   ]
  },
  {
   "cell_type": "markdown",
   "metadata": {},
   "source": [
    "The training process produces some new attributes for our GridSearchCV object, most importantly the information about the optimal settings and the best cross-validation score (now using the proper setup that avoids lookahead bias)."
   ]
  },
  {
   "cell_type": "code",
   "execution_count": 70,
   "metadata": {
    "ExecuteTime": {
     "end_time": "2020-06-19T13:48:09.364278Z",
     "start_time": "2020-06-19T13:48:09.360495Z"
    }
   },
   "outputs": [
    {
     "data": {
      "text/plain": [
       "{'max_depth': 5, 'max_features': 'sqrt', 'min_samples_leaf': 25}"
      ]
     },
     "execution_count": 70,
     "metadata": {},
     "output_type": "execute_result"
    }
   ],
   "source": [
    "gridsearch_clf.best_params_"
   ]
  },
  {
   "cell_type": "code",
   "execution_count": 71,
   "metadata": {
    "ExecuteTime": {
     "end_time": "2020-06-19T13:48:09.386219Z",
     "start_time": "2020-06-19T13:48:09.365809Z"
    }
   },
   "outputs": [
    {
     "data": {
      "text/plain": [
       "0.5248851031393784"
      ]
     },
     "execution_count": 71,
     "metadata": {},
     "output_type": "execute_result"
    }
   ],
   "source": [
    "gridsearch_clf.best_score_"
   ]
  },
  {
   "cell_type": "markdown",
   "metadata": {},
   "source": [
    "#### Define Custom IC score"
   ]
  },
  {
   "cell_type": "code",
   "execution_count": 72,
   "metadata": {
    "ExecuteTime": {
     "end_time": "2020-06-19T13:48:09.398755Z",
     "start_time": "2020-06-19T13:48:09.387476Z"
    }
   },
   "outputs": [],
   "source": [
    "def rank_correl(y, y_pred):\n",
    "    return spearmanr(y, y_pred)[0]\n",
    "ic = make_scorer(rank_correl)"
   ]
  },
  {
   "cell_type": "markdown",
   "metadata": {},
   "source": [
    "#### Regression Tree"
   ]
  },
  {
   "cell_type": "code",
   "execution_count": 73,
   "metadata": {
    "ExecuteTime": {
     "end_time": "2020-06-19T13:48:09.406313Z",
     "start_time": "2020-06-19T13:48:09.400130Z"
    }
   },
   "outputs": [],
   "source": [
    "reg_tree = DecisionTreeRegressor(random_state=42)"
   ]
  },
  {
   "cell_type": "code",
   "execution_count": 74,
   "metadata": {
    "ExecuteTime": {
     "end_time": "2020-06-19T13:48:09.419006Z",
     "start_time": "2020-06-19T13:48:09.407663Z"
    }
   },
   "outputs": [],
   "source": [
    "gridsearch_reg = GridSearchCV(estimator=reg_tree,\n",
    "                              param_grid=param_grid,\n",
    "                              scoring=ic,\n",
    "                              n_jobs=-1,\n",
    "                              cv=cv,\n",
    "                              refit=True,\n",
    "                              return_train_score=True)"
   ]
  },
  {
   "cell_type": "code",
   "execution_count": 75,
   "metadata": {
    "ExecuteTime": {
     "end_time": "2020-06-19T13:48:41.407893Z",
     "start_time": "2020-06-19T13:48:09.419897Z"
    }
   },
   "outputs": [
    {
     "data": {
      "text/plain": [
       "GridSearchCV(cv=<utils.MultipleTimeSeriesCV object at 0x7f93c0f2f940>,\n",
       "             estimator=DecisionTreeRegressor(random_state=42), n_jobs=-1,\n",
       "             param_grid={'max_depth': [2, 3, 4, 5, 6],\n",
       "                         'max_features': ['sqrt', 'auto'],\n",
       "                         'min_samples_leaf': [5, 25, 50, 100]},\n",
       "             return_train_score=True, scoring=make_scorer(rank_correl))"
      ]
     },
     "execution_count": 75,
     "metadata": {},
     "output_type": "execute_result"
    }
   ],
   "source": [
    "gridsearch_reg.fit(X=X, y=y)"
   ]
  },
  {
   "cell_type": "code",
   "execution_count": 76,
   "metadata": {
    "ExecuteTime": {
     "end_time": "2020-06-19T13:48:41.411159Z",
     "start_time": "2020-06-19T13:48:41.408822Z"
    }
   },
   "outputs": [
    {
     "data": {
      "text/plain": [
       "{'max_depth': 6, 'max_features': 'auto', 'min_samples_leaf': 5}"
      ]
     },
     "execution_count": 76,
     "metadata": {},
     "output_type": "execute_result"
    }
   ],
   "source": [
    "gridsearch_reg.best_params_"
   ]
  },
  {
   "cell_type": "code",
   "execution_count": 77,
   "metadata": {
    "ExecuteTime": {
     "end_time": "2020-06-19T13:48:41.426325Z",
     "start_time": "2020-06-19T13:48:41.411950Z"
    }
   },
   "outputs": [
    {
     "data": {
      "text/plain": [
       "0.09121723467646857"
      ]
     },
     "execution_count": 77,
     "metadata": {},
     "output_type": "execute_result"
    }
   ],
   "source": [
    "gridsearch_reg.best_score_"
   ]
  },
  {
   "cell_type": "code",
   "execution_count": 78,
   "metadata": {
    "ExecuteTime": {
     "end_time": "2020-06-19T13:48:41.438658Z",
     "start_time": "2020-06-19T13:48:41.427178Z"
    }
   },
   "outputs": [
    {
     "data": {
      "text/html": [
       "<div>\n",
       "<style scoped>\n",
       "    .dataframe tbody tr th:only-of-type {\n",
       "        vertical-align: middle;\n",
       "    }\n",
       "\n",
       "    .dataframe tbody tr th {\n",
       "        vertical-align: top;\n",
       "    }\n",
       "\n",
       "    .dataframe thead th {\n",
       "        text-align: right;\n",
       "    }\n",
       "</style>\n",
       "<table border=\"1\" class=\"dataframe\">\n",
       "  <thead>\n",
       "    <tr style=\"text-align: right;\">\n",
       "      <th></th>\n",
       "      <th>Regression</th>\n",
       "      <th>Classification</th>\n",
       "    </tr>\n",
       "  </thead>\n",
       "  <tbody>\n",
       "    <tr>\n",
       "      <th>max_depth</th>\n",
       "      <td>6</td>\n",
       "      <td>5</td>\n",
       "    </tr>\n",
       "    <tr>\n",
       "      <th>max_features</th>\n",
       "      <td>auto</td>\n",
       "      <td>sqrt</td>\n",
       "    </tr>\n",
       "    <tr>\n",
       "      <th>min_samples_leaf</th>\n",
       "      <td>5</td>\n",
       "      <td>25</td>\n",
       "    </tr>\n",
       "  </tbody>\n",
       "</table>\n",
       "</div>"
      ],
      "text/plain": [
       "                 Regression Classification\n",
       "max_depth                 6              5\n",
       "max_features           auto           sqrt\n",
       "min_samples_leaf          5             25"
      ]
     },
     "execution_count": 78,
     "metadata": {},
     "output_type": "execute_result"
    }
   ],
   "source": [
    "pd.DataFrame({'Regression': pd.Series(gridsearch_reg.best_params_),\n",
    "              'Classification': pd.Series(gridsearch_clf.best_params_)})"
   ]
  },
  {
   "cell_type": "markdown",
   "metadata": {},
   "source": [
    "### Classifier Cross-Validation"
   ]
  },
  {
   "cell_type": "code",
   "execution_count": 79,
   "metadata": {
    "ExecuteTime": {
     "end_time": "2020-06-19T13:48:41.445100Z",
     "start_time": "2020-06-19T13:48:41.439520Z"
    }
   },
   "outputs": [],
   "source": [
    "def get_leaves_count(tree):\n",
    "    t = tree.tree_\n",
    "    n = t.node_count\n",
    "    leaves = len([i for i in range(t.node_count) if t.children_left[i]== -1])\n",
    "    return leaves"
   ]
  },
  {
   "cell_type": "markdown",
   "metadata": {},
   "source": [
    "We can combine this information with the train and test scores to gain detailed knowledge about the model behavior throughout the cross-validation process, as follows:"
   ]
  },
  {
   "cell_type": "code",
   "execution_count": 80,
   "metadata": {
    "ExecuteTime": {
     "end_time": "2020-06-19T13:48:52.492224Z",
     "start_time": "2020-06-19T13:48:41.446130Z"
    },
    "scrolled": true
   },
   "outputs": [
    {
     "name": "stdout",
     "output_type": "stream",
     "text": [
      "1 2 3 4 "
     ]
    }
   ],
   "source": [
    "train_scores, val_scores, leaves = {}, {}, {}\n",
    "for max_depth in max_depths:\n",
    "    print(max_depth, end=' ', flush=True)\n",
    "    clf = DecisionTreeClassifier(criterion='gini', \n",
    "                                 max_depth=max_depth,\n",
    "                                 min_samples_leaf=5,\n",
    "                                 max_features='sqrt',\n",
    "                                 random_state=42)\n",
    "    train_scores[max_depth], val_scores[max_depth], leaves[max_depth] = [], [], []\n",
    "    for train_idx, test_idx in cv.split(X):\n",
    "        X_train, y_train,  = X.iloc[train_idx], y_binary.iloc[train_idx]\n",
    "        X_test, y_test = X.iloc[test_idx], y_binary.iloc[test_idx]\n",
    "        clf.fit(X=X_train, y=y_train)\n",
    "\n",
    "        train_pred = clf.predict_proba(X=X_train)[:, 1]\n",
    "        train_score = roc_auc_score(y_score=train_pred, y_true=y_train)\n",
    "        train_scores[max_depth].append(train_score)\n",
    "\n",
    "        test_pred = clf.predict_proba(X=X_test)[:, 1]\n",
    "        val_score = roc_auc_score(y_score=test_pred, y_true=y_test)\n",
    "        val_scores[max_depth].append(val_score)    \n",
    "        leaves[max_depth].append(get_leaves_count(clf))\n",
    "        \n",
    "clf_train_scores = pd.DataFrame(train_scores)\n",
    "clf_valid_scores = pd.DataFrame(val_scores)\n",
    "clf_leaves = pd.DataFrame(leaves)"
   ]
  },
  {
   "cell_type": "code",
   "execution_count": 81,
   "metadata": {
    "ExecuteTime": {
     "end_time": "2020-06-19T13:48:52.499652Z",
     "start_time": "2020-06-19T13:48:52.493113Z"
    }
   },
   "outputs": [],
   "source": [
    "clf_cv_data = pd.concat([pd.melt(clf_train_scores,\n",
    "                                 var_name='Max. Depth',\n",
    "                                 value_name='ROC AUC').assign(Data='Train'),\n",
    "                         pd.melt(clf_valid_scores,\n",
    "                                 var_name='Max. Depth',\n",
    "                                 value_name='ROC AUC').assign(Data='Valid')])"
   ]
  },
  {
   "cell_type": "markdown",
   "metadata": {},
   "source": [
    "### Regression tree cross-validation"
   ]
  },
  {
   "cell_type": "markdown",
   "metadata": {},
   "source": [
    "#### Run cross-validation"
   ]
  },
  {
   "cell_type": "code",
   "execution_count": 82,
   "metadata": {
    "ExecuteTime": {
     "end_time": "2020-06-19T13:49:02.463065Z",
     "start_time": "2020-06-19T13:48:52.500615Z"
    }
   },
   "outputs": [
    {
     "name": "stdout",
     "output_type": "stream",
     "text": [
      "1 2 3 4 "
     ]
    }
   ],
   "source": [
    "train_scores, val_scores, leaves = {}, {}, {}\n",
    "for max_depth in max_depths:\n",
    "    print(max_depth, end=' ', flush=True)\n",
    "    reg_tree = DecisionTreeRegressor(max_depth=max_depth,\n",
    "                                     min_samples_leaf=50,\n",
    "                                     max_features= 'sqrt',\n",
    "                                     random_state=42)\n",
    "    train_scores[max_depth], val_scores[max_depth], leaves[max_depth] = [], [], []\n",
    "    for train_idx, test_idx in cv.split(X):\n",
    "        X_train, y_train,  = X.iloc[train_idx], y.iloc[train_idx]\n",
    "        X_test, y_test = X.iloc[test_idx], y.iloc[test_idx]\n",
    "        reg_tree.fit(X=X_train, y=y_train)\n",
    "\n",
    "        train_pred = reg_tree.predict(X=X_train)\n",
    "        train_score = spearmanr(train_pred, y_train)[0]\n",
    "        train_scores[max_depth].append(train_score)\n",
    "\n",
    "        test_pred = reg_tree.predict(X=X_test)\n",
    "        val_score = spearmanr(test_pred, y_test)[0]\n",
    "        val_scores[max_depth].append(val_score)\n",
    "        leaves[max_depth].append(get_leaves_count(reg_tree))\n",
    "\n",
    "reg_train_scores = pd.DataFrame(train_scores)\n",
    "reg_valid_scores = pd.DataFrame(val_scores)\n",
    "reg_leaves = pd.DataFrame(leaves)"
   ]
  },
  {
   "cell_type": "code",
   "execution_count": 83,
   "metadata": {
    "ExecuteTime": {
     "end_time": "2020-06-19T13:49:02.474505Z",
     "start_time": "2020-06-19T13:49:02.463985Z"
    }
   },
   "outputs": [],
   "source": [
    "reg_cv_data = (pd.melt(reg_train_scores, var_name='Max. Depth',\n",
    "                         value_name='IC').assign(Data='Train').append(\n",
    "    pd.melt(reg_valid_scores,\n",
    "            var_name='Max. Depth',\n",
    "            value_name='IC').assign(Data='Valid')))"
   ]
  },
  {
   "cell_type": "markdown",
   "metadata": {},
   "source": [
    "### Compare CV Results"
   ]
  },
  {
   "cell_type": "code",
   "execution_count": 84,
   "metadata": {
    "ExecuteTime": {
     "end_time": "2020-06-19T13:49:03.716611Z",
     "start_time": "2020-06-19T13:49:02.475976Z"
    },
    "scrolled": false
   },
   "outputs": [
    {
     "data": {
      "image/png": "[encoded data removed]",
      "text/plain": [
       "<Figure size 1008x360 with 2 Axes>"
      ]
     },
     "metadata": {},
     "output_type": "display_data"
    }
   ],
   "source": [
    "fig, axes = plt.subplots(ncols=2, figsize=(14, 5))\n",
    "\n",
    "sns.lineplot(data=reg_cv_data,\n",
    "             x='Max. Depth', y='IC',\n",
    "             hue='Data', ci=95,\n",
    "             ax=axes[0], lw=2)\n",
    "\n",
    "axes[0].set_title('Regression Tree')\n",
    "axes[0].axvline(x=reg_valid_scores.mean().idxmax(), ls='--', c='k', lw=1)\n",
    "axes[0].axhline(y=0, ls='--', c='k', lw=1)\n",
    "\n",
    "sns.lineplot(data=clf_cv_data,\n",
    "             x='Max. Depth', y='ROC AUC',\n",
    "             hue='Data', ci=95,\n",
    "             ax=axes[1], lw=2)\n",
    "\n",
    "axes[1].set_title('Classification Tree')\n",
    "axes[1].axvline(x=clf_valid_scores.mean().idxmax(), ls='--', c='k', lw=1)\n",
    "axes[1].axhline(y=.5, ls='--', c='k', lw=1)\n",
    "for ax in axes:\n",
    "    ax.set_xlim(min(param_grid['max_depth']),\n",
    "                max(param_grid['max_depth']))\n",
    "\n",
    "fig.suptitle(f'Train-Validation Scores', fontsize=14)\n",
    "sns.despine()\n",
    "fig.tight_layout()\n",
    "fig.subplots_adjust(top=.91)"
   ]
  },
  {
   "cell_type": "markdown",
   "metadata": {},
   "source": [
    "### Learning Curves for best models"
   ]
  },
  {
   "cell_type": "markdown",
   "metadata": {},
   "source": [
    "A learning curve is a useful tool that displays how the validation and training score evolve as the number of training samples evolves.\n",
    "\n",
    "The purpose of the learning curve is to find out whether and how much the model would benefit from using more data during training. It is also useful to diagnose whether the model's generalization error is more likely driven by bias or variance."
   ]
  },
  {
   "cell_type": "markdown",
   "metadata": {},
   "source": [
    "#### Classifier"
   ]
  },
  {
   "cell_type": "code",
   "execution_count": 85,
   "metadata": {
    "ExecuteTime": {
     "end_time": "2020-06-19T13:49:03.719985Z",
     "start_time": "2020-06-19T13:49:03.717763Z"
    }
   },
   "outputs": [],
   "source": [
    "sizes = np.arange(.1, 1.01, .1)"
   ]
  },
  {
   "cell_type": "code",
   "execution_count": 86,
   "metadata": {
    "ExecuteTime": {
     "end_time": "2020-06-19T13:49:05.481870Z",
     "start_time": "2020-06-19T13:49:03.720912Z"
    }
   },
   "outputs": [],
   "source": [
    "train_sizes, train_scores, valid_scores = learning_curve(gridsearch_clf.best_estimator_,\n",
    "                                                         X,\n",
    "                                                         y_binary,\n",
    "                                                         train_sizes=sizes,\n",
    "                                                         cv=cv,\n",
    "                                                         scoring='roc_auc',\n",
    "                                                         n_jobs=-1,\n",
    "                                                         shuffle=True,\n",
    "                                                         random_state=42)"
   ]
  },
  {
   "cell_type": "code",
   "execution_count": 87,
   "metadata": {
    "ExecuteTime": {
     "end_time": "2020-06-19T13:49:05.492547Z",
     "start_time": "2020-06-19T13:49:05.482789Z"
    }
   },
   "outputs": [
    {
     "name": "stdout",
     "output_type": "stream",
     "text": [
      "<class 'pandas.core.frame.DataFrame'>\n",
      "Int64Index: 400 entries, 0 to 199\n",
      "Data columns (total 3 columns):\n",
      " #   Column      Non-Null Count  Dtype  \n",
      "---  ------      --------------  -----  \n",
      " 0   Train Size  400 non-null    int64  \n",
      " 1   ROC AUC     400 non-null    float64\n",
      " 2   Data        400 non-null    object \n",
      "dtypes: float64(1), int64(1), object(1)\n",
      "memory usage: 12.5+ KB\n"
     ]
    }
   ],
   "source": [
    "clf_lc_data = pd.concat([\n",
    "    pd.melt(pd.DataFrame(train_scores.T, columns=train_sizes),\n",
    "            var_name='Train Size',\n",
    "            value_name='ROC AUC').assign(Data='Train'),\n",
    "    pd.melt(pd.DataFrame(valid_scores.T, columns=train_sizes),\n",
    "            var_name='Train Size',\n",
    "            value_name='ROC AUC').assign(Data='Valid')])\n",
    "clf_lc_data.info()"
   ]
  },
  {
   "cell_type": "markdown",
   "metadata": {},
   "source": [
    "#### Regression Tree"
   ]
  },
  {
   "cell_type": "code",
   "execution_count": 88,
   "metadata": {
    "ExecuteTime": {
     "end_time": "2020-06-19T13:49:06.725933Z",
     "start_time": "2020-06-19T13:49:05.493737Z"
    }
   },
   "outputs": [],
   "source": [
    "train_sizes, train_scores, valid_scores = learning_curve(gridsearch_reg.best_estimator_,\n",
    "                                                         X, y,\n",
    "                                                         train_sizes=sizes,\n",
    "                                                         cv=cv,\n",
    "                                                         scoring=ic,\n",
    "                                                         n_jobs=-1,\n",
    "                                                         shuffle=True,\n",
    "                                                         random_state=42)"
   ]
  },
  {
   "cell_type": "code",
   "execution_count": 89,
   "metadata": {
    "ExecuteTime": {
     "end_time": "2020-06-19T13:49:06.737139Z",
     "start_time": "2020-06-19T13:49:06.727092Z"
    }
   },
   "outputs": [
    {
     "name": "stdout",
     "output_type": "stream",
     "text": [
      "<class 'pandas.core.frame.DataFrame'>\n",
      "Int64Index: 400 entries, 0 to 199\n",
      "Data columns (total 3 columns):\n",
      " #   Column      Non-Null Count  Dtype  \n",
      "---  ------      --------------  -----  \n",
      " 0   Train Size  400 non-null    int64  \n",
      " 1   IC          400 non-null    float64\n",
      " 2   Data        400 non-null    object \n",
      "dtypes: float64(1), int64(1), object(1)\n",
      "memory usage: 12.5+ KB\n"
     ]
    }
   ],
   "source": [
    "reg_lc_data = pd.concat([\n",
    "    pd.melt(pd.DataFrame(train_scores.T,\n",
    "                         columns=train_sizes),\n",
    "            var_name='Train Size',\n",
    "            value_name='IC').assign(Data='Train'),\n",
    "    pd.melt(pd.DataFrame(valid_scores.T,\n",
    "                         columns=train_sizes),\n",
    "            var_name='Train Size',\n",
    "            value_name='IC').assign(Data='Valid')])\n",
    "reg_lc_data.info()"
   ]
  },
  {
   "cell_type": "markdown",
   "metadata": {},
   "source": [
    "#### Compare Learning Curves"
   ]
  },
  {
   "cell_type": "code",
   "execution_count": 90,
   "metadata": {
    "ExecuteTime": {
     "end_time": "2020-06-19T13:49:07.687409Z",
     "start_time": "2020-06-19T13:49:06.738241Z"
    }
   },
   "outputs": [
    {
     "data": {
      "image/png": "[encoded data removed]",
      "text/plain": [
       "<Figure size 1008x360 with 2 Axes>"
      ]
     },
     "metadata": {},
     "output_type": "display_data"
    }
   ],
   "source": [
    "fig, axes = plt.subplots(ncols=2, figsize=(14, 5))\n",
    "xmin, xmax = reg_lc_data['Train Size'].min(), reg_lc_data['Train Size'].max()\n",
    "\n",
    "sns.lineplot(data=reg_lc_data,\n",
    "             x='Train Size', y='IC',\n",
    "             hue='Data', ci=95,  ax=axes[0], lw=2)\n",
    "axes[0].set_title('Best Regression Tree')\n",
    "axes[0].set_ylabel('IC')\n",
    "\n",
    "axes[0].xaxis.set_major_formatter(\n",
    "    FuncFormatter(lambda x, _: '{:,.0f}'.format(x)))\n",
    "\n",
    "sns.lineplot(data=clf_lc_data,\n",
    "             x='Train Size',\n",
    "             y='ROC AUC',\n",
    "             hue='Data',\n",
    "             ci=95,\n",
    "             ax=axes[1],\n",
    "             lw=2)\n",
    "axes[1].set_title('Best Classification Tree')\n",
    "axes[1].set_ylabel('ROC AUC')\n",
    "axes[1].xaxis.set_major_formatter(\n",
    "    FuncFormatter(lambda x, _: '{:,.0f}'.format(x)))\n",
    "\n",
    "for i in [0, 1]:\n",
    "    axes[i].tick_params(axis='both', which='major', labelsize=10)\n",
    "    axes[i].tick_params(axis='both', which='minor', labelsize=8)\n",
    "    axes[i].set_xlim(xmin, xmax)\n",
    "\n",
    "fig.suptitle('Learning Curves', fontsize=14)\n",
    "sns.despine()\n",
    "fig.tight_layout()\n",
    "fig.subplots_adjust(top=.9)"
   ]
  },
  {
   "cell_type": "markdown",
   "metadata": {},
   "source": [
    "### Feature Importance"
   ]
  },
  {
   "cell_type": "markdown",
   "metadata": {},
   "source": [
    "Decision trees can not only be visualized to inspect the decision path for a given feature, but also provide a summary measure of the contribution of each feature to the model fit to the training data. \n",
    "\n",
    "The feature importance captures how much the splits produced by the feature helped to optimize the model's metric used to evaluate the split quality, which in our case is the Gini Impurity index. "
   ]
  },
  {
   "cell_type": "code",
   "execution_count": 91,
   "metadata": {
    "ExecuteTime": {
     "end_time": "2020-06-19T13:49:07.692911Z",
     "start_time": "2020-06-19T13:49:07.688456Z"
    }
   },
   "outputs": [],
   "source": [
    "top_n = 15\n",
    "labels = X.columns.str.replace('_', ' ').str.upper()\n",
    "fi_clf = (pd.Series(gridsearch_clf.best_estimator_.feature_importances_, \n",
    "                    index=labels).sort_values(ascending=False).iloc[:top_n])\n",
    "fi_reg = (pd.Series(gridsearch_reg.best_estimator_.feature_importances_, \n",
    "                    index=labels).sort_values(ascending=False).iloc[:top_n])"
   ]
  },
  {
   "cell_type": "code",
   "execution_count": 92,
   "metadata": {
    "ExecuteTime": {
     "end_time": "2020-06-19T13:49:08.104787Z",
     "start_time": "2020-06-19T13:49:07.693889Z"
    }
   },
   "outputs": [
    {
     "data": {
      "image/png": "[encoded data removed]",
      "text/plain": [
       "<Figure size 864x288 with 2 Axes>"
      ]
     },
     "metadata": {},
     "output_type": "display_data"
    }
   ],
   "source": [
    "fig, axes= plt.subplots(ncols=2, figsize=(12,4), sharex=True)\n",
    "color = cm.Blues(np.linspace(.4,.9, top_n))\n",
    "fi_clf.sort_values().plot.barh(ax=axes[1], title='Classification Tree', color=color)\n",
    "fi_reg.sort_values().plot.barh(ax=axes[0], title='Regression Tree', color=color)\n",
    "axes[0].set_xlabel('Feature Importance')\n",
    "axes[1].set_xlabel('Feature Importance')\n",
    "fig.suptitle(f'Top {top_n} Features', fontsize=14)\n",
    "sns.despine()\n",
    "fig.tight_layout()\n",
    "fig.subplots_adjust(top=.9);"
   ]
  }
 ],
 "metadata": {
  "kernelspec": {
   "display_name": "Python 3",
   "language": "python",
   "name": "python3"
  },
  "language_info": {
   "codemirror_mode": {
    "name": "ipython",
    "version": 3
   },
   "file_extension": ".py",
   "mimetype": "text/x-python",
   "name": "python",
   "nbconvert_exporter": "python",
   "pygments_lexer": "ipython3",
   "version": "3.6.12"
  },
  "toc": {
   "base_numbering": 1,
   "nav_menu": {},
   "number_sections": true,
   "sideBar": true,
   "skip_h1_title": true,
   "title_cell": "Table of Contents",
   "title_sidebar": "Contents",
   "toc_cell": false,
   "toc_position": {
    "height": "calc(100% - 180px)",
    "left": "10px",
    "top": "150px",
    "width": "343.837px"
   },
   "toc_section_display": true,
   "toc_window_display": true
  }
 },
 "nbformat": 4,
 "nbformat_minor": 2
}
