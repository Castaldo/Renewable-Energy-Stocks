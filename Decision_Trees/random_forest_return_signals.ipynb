{
 "cells": [
  {
   "cell_type": "markdown",
   "metadata": {},
   "source": [
    "# How to generate long-short trading signals with a Random Forest"
   ]
  },
  {
   "cell_type": "markdown",
   "metadata": {},
   "source": [
    "## Imports & Settings"
   ]
  },
  {
   "cell_type": "code",
   "execution_count": 1,
   "metadata": {
    "ExecuteTime": {
     "end_time": "2020-06-22T15:47:42.562715Z",
     "start_time": "2020-06-22T15:47:42.559121Z"
    }
   },
   "outputs": [],
   "source": [
    "import warnings\n",
    "warnings.filterwarnings('ignore')"
   ]
  },
  {
   "cell_type": "code",
   "execution_count": 2,
   "metadata": {
    "ExecuteTime": {
     "end_time": "2020-06-22T15:47:43.578631Z",
     "start_time": "2020-06-22T15:47:42.880318Z"
    },
    "scrolled": true
   },
   "outputs": [],
   "source": [
    "%matplotlib inline\n",
    "\n",
    "from time import time\n",
    "from io import StringIO\n",
    "import sys, os\n",
    "\n",
    "from itertools import product\n",
    "from pathlib import Path\n",
    "\n",
    "import numpy as np\n",
    "import pandas as pd\n",
    "import statsmodels.api as sm\n",
    "\n",
    "import matplotlib.pyplot as plt\n",
    "import seaborn as sns\n",
    "\n",
    "import lightgbm as lgb\n",
    "\n",
    "from sklearn.linear_model import LinearRegression\n",
    "from scipy.stats import spearmanr"
   ]
  },
  {
   "cell_type": "code",
   "execution_count": 3,
   "metadata": {
    "ExecuteTime": {
     "end_time": "2020-06-22T15:47:43.817684Z",
     "start_time": "2020-06-22T15:47:43.814639Z"
    },
    "scrolled": true
   },
   "outputs": [],
   "source": [
    "sys.path.insert(1, os.path.join(sys.path[0], '..'))\n",
    "from utils import MultipleTimeSeriesCV, format_time"
   ]
  },
  {
   "cell_type": "code",
   "execution_count": 4,
   "metadata": {
    "ExecuteTime": {
     "end_time": "2020-06-22T15:47:44.042164Z",
     "start_time": "2020-06-22T15:47:44.040062Z"
    },
    "scrolled": true
   },
   "outputs": [],
   "source": [
    "sns.set_style('whitegrid')"
   ]
  },
  {
   "cell_type": "code",
   "execution_count": 5,
   "metadata": {
    "ExecuteTime": {
     "end_time": "2020-06-22T15:47:44.267297Z",
     "start_time": "2020-06-22T15:47:44.265163Z"
    }
   },
   "outputs": [],
   "source": [
    "np.random.seed(42)"
   ]
  },
  {
   "cell_type": "code",
   "execution_count": 6,
   "metadata": {
    "ExecuteTime": {
     "end_time": "2020-06-22T15:47:44.522514Z",
     "start_time": "2020-06-22T15:47:44.520038Z"
    },
    "scrolled": true
   },
   "outputs": [],
   "source": [
    "YEAR = 252\n",
    "idx = pd.IndexSlice"
   ]
  },
  {
   "cell_type": "code",
   "execution_count": 7,
   "metadata": {
    "ExecuteTime": {
     "end_time": "2020-06-22T15:47:45.607007Z",
     "start_time": "2020-06-22T15:47:45.605041Z"
    }
   },
   "outputs": [],
   "source": [
    "DATA_DIR = Path('..', 'data')"
   ]
  },
  {
   "cell_type": "code",
   "execution_count": 8,
   "metadata": {
    "ExecuteTime": {
     "end_time": "2020-06-22T15:47:45.925418Z",
     "start_time": "2020-06-22T15:47:45.921236Z"
    }
   },
   "outputs": [],
   "source": [
    "results_path = Path('results', 'return_predictions')\n",
    "if not results_path.exists():\n",
    "    results_path.mkdir(parents=True)"
   ]
  },
  {
   "cell_type": "markdown",
   "metadata": {},
   "source": [
    "## Get Data"
   ]
  },
  {
   "cell_type": "code",
   "execution_count": 9,
   "metadata": {
    "ExecuteTime": {
     "end_time": "2020-06-20T04:02:51.329289Z",
     "start_time": "2020-06-20T04:02:50.750506Z"
    },
    "scrolled": false
   },
   "outputs": [
    {
     "name": "stdout",
     "output_type": "stream",
     "text": [
      "<class 'pandas.core.frame.DataFrame'>\n",
      "MultiIndex: 5040 entries, ('BE', Timestamp('2019-01-07 00:00:00')) to ('VWSYF', Timestamp('2021-01-05 00:00:00'))\n",
      "Data columns (total 23 columns):\n",
      " #   Column           Non-Null Count  Dtype  \n",
      "---  ------           --------------  -----  \n",
      " 0   ret_1            5030 non-null   float64\n",
      " 1   ret_rel_perc_1   5030 non-null   float64\n",
      " 2   ret_5            4990 non-null   float64\n",
      " 3   ret_rel_perc_5   4990 non-null   float64\n",
      " 4   ret_10           4940 non-null   float64\n",
      " 5   ret_rel_perc_10  4940 non-null   float64\n",
      " 6   ret_21           4830 non-null   float64\n",
      " 7   ret_rel_perc_21  4830 non-null   float64\n",
      " 8   ret_63           4410 non-null   float64\n",
      " 9   ret_rel_perc_63  4410 non-null   float64\n",
      " 10  PPO              4790 non-null   float64\n",
      " 11  NATR             4900 non-null   float64\n",
      " 12  RSI              4900 non-null   float64\n",
      " 13  bbl              5000 non-null   float64\n",
      " 14  bbu              5000 non-null   float64\n",
      " 15  weekday          5040 non-null   int64  \n",
      " 16  month            5040 non-null   int64  \n",
      " 17  year             5040 non-null   int64  \n",
      " 18  fwd_ret_01       5030 non-null   float64\n",
      " 19  fwd_ret_05       4990 non-null   float64\n",
      " 20  fwd_ret_10       4940 non-null   float64\n",
      " 21  fwd_ret_21       4830 non-null   float64\n",
      " 22  fwd_ret_63       4410 non-null   float64\n",
      "dtypes: float64(20), int64(3)\n",
      "memory usage: 924.5+ KB\n"
     ]
    }
   ],
   "source": [
    "data = pd.read_hdf('data.h5', 'us/alt_energy_forest/equities', free_raw_data=False)\n",
    "data.index.set_names([\"Ticker\", \"date\"], inplace=True)\n",
    "data.info(null_counts=True)"
   ]
  },
  {
   "cell_type": "markdown",
   "metadata": {},
   "source": [
    "## MultipleTimeSeriesCV"
   ]
  },
  {
   "cell_type": "code",
   "execution_count": 11,
   "metadata": {
    "ExecuteTime": {
     "end_time": "2020-06-20T04:03:01.015288Z",
     "start_time": "2020-06-20T04:03:01.011127Z"
    },
    "scrolled": true
   },
   "outputs": [],
   "source": [
    "cv = MultipleTimeSeriesCV(n_splits=36,\n",
    "                          test_period_length=21,\n",
    "                          lookahead=5,\n",
    "                          train_period_length=150)"
   ]
  },
  {
   "cell_type": "code",
   "execution_count": 12,
   "metadata": {
    "ExecuteTime": {
     "end_time": "2020-06-20T04:03:04.577089Z",
     "start_time": "2020-06-20T04:03:01.019404Z"
    },
    "scrolled": true
   },
   "outputs": [
    {
     "name": "stdout",
     "output_type": "stream",
     "text": [
      "Training: 2020-04-22-2020-11-27  (154 days) | Test: 2020-12-04-2021-01-05 (21 days)\n",
      "Training: 2020-03-23-2020-10-28  (154 days) | Test: 2020-11-04-2020-12-03 (21 days)\n",
      "Training: 2020-02-21-2020-09-29  (154 days) | Test: 2020-10-06-2020-11-03 (21 days)\n",
      "Training: 2020-01-22-2020-08-28  (154 days) | Test: 2020-09-04-2020-10-05 (21 days)\n"
     ]
    }
   ],
   "source": [
    "for i, (train_idx, test_idx) in enumerate(cv.split(X=data)):\n",
    "    train = data.iloc[train_idx]\n",
    "    train_dates = train.index.get_level_values('date')\n",
    "    test = data.iloc[test_idx]\n",
    "    test_dates = test.index.get_level_values('date')\n",
    "    df = train.reset_index().append(test.reset_index())\n",
    "    n = len(df)\n",
    "    assert n== len(df.drop_duplicates())\n",
    "    msg = f'Training: {train_dates.min().date()}-{train_dates.max().date()} '\n",
    "    msg += f' ({train.groupby(level=\"Ticker\").size().value_counts().index[0]:,.0f} days) | '\n",
    "    msg += f'Test: {test_dates.min().date()}-{test_dates.max().date()} '\n",
    "    msg += f'({test.groupby(level=\"Ticker\").size().value_counts().index[0]:,.0f} days)'\n",
    "    print(msg)\n",
    "    if i == 3:\n",
    "        break"
   ]
  },
  {
   "cell_type": "markdown",
   "metadata": {},
   "source": [
    "## Model Selection: Time Period and Horizon"
   ]
  },
  {
   "cell_type": "markdown",
   "metadata": {},
   "source": [
    "Persist the data to save some time when running another experiment:"
   ]
  },
  {
   "cell_type": "markdown",
   "metadata": {},
   "source": [
    "We're picking prediction horizons of 1, 5, 10 and 21 days:"
   ]
  },
  {
   "cell_type": "code",
   "execution_count": 15,
   "metadata": {
    "ExecuteTime": {
     "end_time": "2020-06-22T15:49:03.520326Z",
     "start_time": "2020-06-22T15:49:03.518345Z"
    },
    "scrolled": true
   },
   "outputs": [],
   "source": [
    "lookaheads = [1, 5, 10, 21]"
   ]
  },
  {
   "cell_type": "markdown",
   "metadata": {},
   "source": [
    "## Baseline: Linear Regression"
   ]
  },
  {
   "cell_type": "code",
   "execution_count": 16,
   "metadata": {
    "ExecuteTime": {
     "end_time": "2020-06-20T04:03:05.783701Z",
     "start_time": "2020-06-20T04:03:05.771348Z"
    },
    "scrolled": true
   },
   "outputs": [],
   "source": [
    "lr = LinearRegression()"
   ]
  },
  {
   "cell_type": "code",
   "execution_count": 17,
   "metadata": {
    "ExecuteTime": {
     "end_time": "2020-06-20T04:03:05.796815Z",
     "start_time": "2020-06-20T04:03:05.784890Z"
    }
   },
   "outputs": [],
   "source": [
    "labels = sorted(data.filter(like='fwd').columns)\n",
    "features = data.columns.difference(labels).tolist()"
   ]
  },
  {
   "cell_type": "markdown",
   "metadata": {},
   "source": [
    "### CV Parameters"
   ]
  },
  {
   "cell_type": "markdown",
   "metadata": {},
   "source": [
    "We set five different training lengths from 10 days months to 3 months, and two test periods as follows:"
   ]
  },
  {
   "cell_type": "code",
   "execution_count": 18,
   "metadata": {
    "ExecuteTime": {
     "end_time": "2020-06-20T04:03:05.804923Z",
     "start_time": "2020-06-20T04:03:05.798039Z"
    },
    "scrolled": true
   },
   "outputs": [],
   "source": [
    "train_lengths = [60, 50, 40, 30, 20, 10]\n",
    "test_lengths = [5, 21]"
   ]
  },
  {
   "cell_type": "markdown",
   "metadata": {},
   "source": [
    "Since linear regression has no hyperparameters, our CV parameters are the cartesian product of prediction horizon and train/test period lengths:"
   ]
  },
  {
   "cell_type": "code",
   "execution_count": 19,
   "metadata": {
    "ExecuteTime": {
     "end_time": "2020-06-20T04:03:05.812977Z",
     "start_time": "2020-06-20T04:03:05.806249Z"
    },
    "scrolled": true
   },
   "outputs": [],
   "source": [
    "test_params = list(product(lookaheads, train_lengths, test_lengths))"
   ]
  },
  {
   "cell_type": "markdown",
   "metadata": {},
   "source": [
    "Now we iterate over these parameters and train/validate the linear regression model while capturing the information coefficient of the model predictions, measure both on a daily basis and for each complete fold:"
   ]
  },
  {
   "cell_type": "code",
   "execution_count": 20,
   "metadata": {
    "ExecuteTime": {
     "end_time": "2020-06-20T04:04:53.835412Z",
     "start_time": "2020-06-20T04:03:05.814296Z"
    },
    "scrolled": false
   },
   "outputs": [],
   "source": [
    "lr_metrics = []\n",
    "for lookahead, train_length, test_length in test_params:\n",
    "    label = f'fwd_ret_{lookahead:02}'\n",
    "    df = data.loc[:, features + [label]].dropna()\n",
    "    X, y = df.drop(label, axis=1), df[label]\n",
    "\n",
    "    n_splits = 3\n",
    "    cv = MultipleTimeSeriesCV(n_splits=n_splits,\n",
    "                              test_period_length=test_length,\n",
    "                              lookahead=lookahead,\n",
    "                              train_period_length=train_length)\n",
    "\n",
    "    ic, preds = [], []\n",
    "    for i, (train_idx, test_idx) in enumerate(cv.split(X=X)):\n",
    "        X_train, y_train = X.iloc[train_idx], y.iloc[train_idx]\n",
    "        X_test, y_test = X.iloc[test_idx], y.iloc[test_idx]\n",
    "        lr.fit(X_train, y_train)\n",
    "        y_pred = lr.predict(X_test)\n",
    "        preds.append(y_test.to_frame('y_true').assign(y_pred=y_pred))\n",
    "        ic.append(spearmanr(y_test, y_pred)[0])\n",
    "    preds = pd.concat(preds)\n",
    "    lr_metrics.append([\n",
    "        lookahead, train_length, test_length,\n",
    "        np.mean(ic),\n",
    "        spearmanr(preds.y_true, preds.y_pred)[0]\n",
    "    ])\n",
    "\n",
    "columns = ['lookahead', 'train_length', 'test_length', 'ic_by_day', 'ic']\n",
    "lr_metrics = pd.DataFrame(lr_metrics, columns=columns)"
   ]
  },
  {
   "cell_type": "code",
   "execution_count": 21,
   "metadata": {
    "ExecuteTime": {
     "end_time": "2020-06-20T04:04:53.841483Z",
     "start_time": "2020-06-20T04:04:53.836314Z"
    }
   },
   "outputs": [
    {
     "name": "stdout",
     "output_type": "stream",
     "text": [
      "<class 'pandas.core.frame.DataFrame'>\n",
      "RangeIndex: 48 entries, 0 to 47\n",
      "Data columns (total 5 columns):\n",
      " #   Column        Non-Null Count  Dtype  \n",
      "---  ------        --------------  -----  \n",
      " 0   lookahead     48 non-null     int64  \n",
      " 1   train_length  48 non-null     int64  \n",
      " 2   test_length   48 non-null     int64  \n",
      " 3   ic_by_day     48 non-null     float64\n",
      " 4   ic            48 non-null     float64\n",
      "dtypes: float64(2), int64(3)\n",
      "memory usage: 2.0 KB\n"
     ]
    }
   ],
   "source": [
    "lr_metrics.info()"
   ]
  },
  {
   "cell_type": "markdown",
   "metadata": {},
   "source": [
    "### Information Coefficient distribution by Lookahead"
   ]
  },
  {
   "cell_type": "markdown",
   "metadata": {},
   "source": [
    "Convert the data to long `seaborn`-friendly format:"
   ]
  },
  {
   "cell_type": "code",
   "execution_count": 22,
   "metadata": {
    "ExecuteTime": {
     "end_time": "2020-06-20T04:04:53.893059Z",
     "start_time": "2020-06-20T04:04:53.842363Z"
    }
   },
   "outputs": [
    {
     "name": "stdout",
     "output_type": "stream",
     "text": [
      "<class 'pandas.core.frame.DataFrame'>\n",
      "Int64Index: 96 entries, 0 to 47\n",
      "Data columns (total 5 columns):\n",
      " #   Column        Non-Null Count  Dtype  \n",
      "---  ------        --------------  -----  \n",
      " 0   Lookahead     96 non-null     int64  \n",
      " 1   Train Length  96 non-null     int64  \n",
      " 2   Test Length   96 non-null     int64  \n",
      " 3   IC            96 non-null     float64\n",
      " 4   Measure       96 non-null     object \n",
      "dtypes: float64(1), int64(3), object(1)\n",
      "memory usage: 4.5+ KB\n"
     ]
    }
   ],
   "source": [
    "lr_metrics_long = pd.concat([(lr_metrics.drop('ic', axis=1)\n",
    "                              .rename(columns={'ic_by_day': 'ic'})\n",
    "                              .assign(Measured='By Day')),\n",
    "                             lr_metrics.drop('ic_by_day', axis=1)\n",
    "                             .assign(Measured='Overall')])\n",
    "lr_metrics_long.columns=['Lookahead', 'Train Length', 'Test Length', 'IC', 'Measure']\n",
    "lr_metrics_long.info()"
   ]
  },
  {
   "cell_type": "markdown",
   "metadata": {},
   "source": [
    "Plot both IC measures for the various CV parameters:"
   ]
  },
  {
   "cell_type": "code",
   "execution_count": 23,
   "metadata": {
    "ExecuteTime": {
     "end_time": "2020-06-20T04:04:55.277895Z",
     "start_time": "2020-06-20T04:04:53.899522Z"
    }
   },
   "outputs": [
    {
     "data": {
      "text/plain": [
       "<seaborn.axisgrid.FacetGrid at 0x7fde45684470>"
      ]
     },
     "execution_count": 23,
     "metadata": {},
     "output_type": "execute_result"
    },
    {
     "data": {
      "image/png": "[encoded data removed]",
      "text/plain": [
       "<Figure size 1499.88x720 with 8 Axes>"
      ]
     },
     "metadata": {},
     "output_type": "display_data"
    }
   ],
   "source": [
    "sns.catplot(x='Train Length',\n",
    "            y='IC',\n",
    "            hue='Test Length',\n",
    "            col='Lookahead',\n",
    "            row='Measure',\n",
    "            data=lr_metrics_long,\n",
    "            kind='bar')"
   ]
  },
  {
   "cell_type": "markdown",
   "metadata": {},
   "source": [
    "Compare the distributions of each IC metric for the different prediction horizons:"
   ]
  },
  {
   "cell_type": "code",
   "execution_count": 24,
   "metadata": {
    "ExecuteTime": {
     "end_time": "2020-06-20T04:04:55.561447Z",
     "start_time": "2020-06-20T04:04:55.278988Z"
    }
   },
   "outputs": [
    {
     "data": {
      "image/png": "[encoded data removed]",
      "text/plain": [
       "<Figure size 1008x360 with 2 Axes>"
      ]
     },
     "metadata": {},
     "output_type": "display_data"
    }
   ],
   "source": [
    "fig, axes =plt.subplots(ncols=2, figsize=(14,5), sharey=True)\n",
    "sns.boxplot(x='lookahead', y='ic_by_day',data=lr_metrics, ax=axes[0])\n",
    "axes[0].set_title('IC by Day')\n",
    "sns.boxplot(x='lookahead', y='ic',data=lr_metrics, ax=axes[1])\n",
    "axes[1].set_title('IC Overall')\n",
    "axes[0].set_ylabel('Information Coefficient')\n",
    "axes[1].set_ylabel('')\n",
    "sns.despine()\n",
    "fig.tight_layout()"
   ]
  },
  {
   "cell_type": "markdown",
   "metadata": {},
   "source": [
    "### Best Train/Test Period Lengths"
   ]
  },
  {
   "cell_type": "markdown",
   "metadata": {},
   "source": [
    "Show the best train/test period settings for the four prediction horizons:"
   ]
  },
  {
   "cell_type": "code",
   "execution_count": 25,
   "metadata": {
    "ExecuteTime": {
     "end_time": "2020-06-20T04:04:55.584251Z",
     "start_time": "2020-06-20T04:04:55.562677Z"
    },
    "scrolled": true
   },
   "outputs": [
    {
     "data": {
      "text/html": [
       "<div>\n",
       "<style scoped>\n",
       "    .dataframe tbody tr th:only-of-type {\n",
       "        vertical-align: middle;\n",
       "    }\n",
       "\n",
       "    .dataframe tbody tr th {\n",
       "        vertical-align: top;\n",
       "    }\n",
       "\n",
       "    .dataframe thead th {\n",
       "        text-align: right;\n",
       "    }\n",
       "</style>\n",
       "<table border=\"1\" class=\"dataframe\">\n",
       "  <thead>\n",
       "    <tr style=\"text-align: right;\">\n",
       "      <th></th>\n",
       "      <th>lookahead</th>\n",
       "      <th>train_length</th>\n",
       "      <th>test_length</th>\n",
       "      <th>ic_by_day</th>\n",
       "      <th>ic</th>\n",
       "    </tr>\n",
       "  </thead>\n",
       "  <tbody>\n",
       "    <tr>\n",
       "      <th>5</th>\n",
       "      <td>1</td>\n",
       "      <td>40</td>\n",
       "      <td>21</td>\n",
       "      <td>0.041608</td>\n",
       "      <td>0.046220</td>\n",
       "    </tr>\n",
       "    <tr>\n",
       "      <th>1</th>\n",
       "      <td>1</td>\n",
       "      <td>60</td>\n",
       "      <td>21</td>\n",
       "      <td>0.028411</td>\n",
       "      <td>0.043734</td>\n",
       "    </tr>\n",
       "    <tr>\n",
       "      <th>7</th>\n",
       "      <td>1</td>\n",
       "      <td>30</td>\n",
       "      <td>21</td>\n",
       "      <td>-0.003296</td>\n",
       "      <td>0.031797</td>\n",
       "    </tr>\n",
       "    <tr>\n",
       "      <th>15</th>\n",
       "      <td>5</td>\n",
       "      <td>50</td>\n",
       "      <td>21</td>\n",
       "      <td>0.101867</td>\n",
       "      <td>0.226292</td>\n",
       "    </tr>\n",
       "    <tr>\n",
       "      <th>13</th>\n",
       "      <td>5</td>\n",
       "      <td>60</td>\n",
       "      <td>21</td>\n",
       "      <td>0.136248</td>\n",
       "      <td>0.224139</td>\n",
       "    </tr>\n",
       "    <tr>\n",
       "      <th>21</th>\n",
       "      <td>5</td>\n",
       "      <td>20</td>\n",
       "      <td>21</td>\n",
       "      <td>0.133669</td>\n",
       "      <td>0.224035</td>\n",
       "    </tr>\n",
       "    <tr>\n",
       "      <th>27</th>\n",
       "      <td>10</td>\n",
       "      <td>50</td>\n",
       "      <td>21</td>\n",
       "      <td>0.364772</td>\n",
       "      <td>0.421542</td>\n",
       "    </tr>\n",
       "    <tr>\n",
       "      <th>25</th>\n",
       "      <td>10</td>\n",
       "      <td>60</td>\n",
       "      <td>21</td>\n",
       "      <td>0.336225</td>\n",
       "      <td>0.421170</td>\n",
       "    </tr>\n",
       "    <tr>\n",
       "      <th>29</th>\n",
       "      <td>10</td>\n",
       "      <td>40</td>\n",
       "      <td>21</td>\n",
       "      <td>0.339172</td>\n",
       "      <td>0.361671</td>\n",
       "    </tr>\n",
       "    <tr>\n",
       "      <th>47</th>\n",
       "      <td>21</td>\n",
       "      <td>10</td>\n",
       "      <td>21</td>\n",
       "      <td>0.311454</td>\n",
       "      <td>0.434467</td>\n",
       "    </tr>\n",
       "    <tr>\n",
       "      <th>45</th>\n",
       "      <td>21</td>\n",
       "      <td>20</td>\n",
       "      <td>21</td>\n",
       "      <td>0.272949</td>\n",
       "      <td>0.410831</td>\n",
       "    </tr>\n",
       "    <tr>\n",
       "      <th>43</th>\n",
       "      <td>21</td>\n",
       "      <td>30</td>\n",
       "      <td>21</td>\n",
       "      <td>0.279922</td>\n",
       "      <td>0.400040</td>\n",
       "    </tr>\n",
       "  </tbody>\n",
       "</table>\n",
       "</div>"
      ],
      "text/plain": [
       "    lookahead  train_length  test_length  ic_by_day        ic\n",
       "5           1            40           21   0.041608  0.046220\n",
       "1           1            60           21   0.028411  0.043734\n",
       "7           1            30           21  -0.003296  0.031797\n",
       "15          5            50           21   0.101867  0.226292\n",
       "13          5            60           21   0.136248  0.224139\n",
       "21          5            20           21   0.133669  0.224035\n",
       "27         10            50           21   0.364772  0.421542\n",
       "25         10            60           21   0.336225  0.421170\n",
       "29         10            40           21   0.339172  0.361671\n",
       "47         21            10           21   0.311454  0.434467\n",
       "45         21            20           21   0.272949  0.410831\n",
       "43         21            30           21   0.279922  0.400040"
      ]
     },
     "execution_count": 25,
     "metadata": {},
     "output_type": "execute_result"
    }
   ],
   "source": [
    "(lr_metrics.groupby('lookahead', group_keys=False)\n",
    " .apply(lambda x: x.nlargest(3, 'ic')))"
   ]
  },
  {
   "cell_type": "code",
   "execution_count": 26,
   "metadata": {
    "ExecuteTime": {
     "end_time": "2020-06-20T04:04:55.590418Z",
     "start_time": "2020-06-20T04:04:55.585399Z"
    }
   },
   "outputs": [],
   "source": [
    "lr_metrics.to_csv(results_path / 'lin_reg_performance.csv', index=False)"
   ]
  },
  {
   "cell_type": "markdown",
   "metadata": {},
   "source": [
    "## LightGBM Random Forest Model Tuning"
   ]
  },
  {
   "cell_type": "markdown",
   "metadata": {},
   "source": [
    "Helper function to obtain the LightGBM feature importance metrics:"
   ]
  },
  {
   "cell_type": "code",
   "execution_count": 27,
   "metadata": {
    "ExecuteTime": {
     "end_time": "2020-06-20T04:04:55.602085Z",
     "start_time": "2020-06-20T04:04:55.591597Z"
    }
   },
   "outputs": [],
   "source": [
    "def get_fi(model):\n",
    "    fi = model.feature_importance(importance_type='gain')\n",
    "    return (pd.Series(fi / fi.sum(),\n",
    "                      index=model.feature_name()))"
   ]
  },
  {
   "cell_type": "markdown",
   "metadata": {},
   "source": [
    "LightGBM base parameter settings that are independent of hyperparameter tuning:"
   ]
  },
  {
   "cell_type": "code",
   "execution_count": 28,
   "metadata": {
    "ExecuteTime": {
     "end_time": "2020-06-20T04:04:55.609885Z",
     "start_time": "2020-06-20T04:04:55.602958Z"
    },
    "scrolled": true
   },
   "outputs": [],
   "source": [
    "base_params = dict(boosting_type='rf',\n",
    "                   objective='regression',\n",
    "                   bagging_freq=1,\n",
    "                   verbose=-1)"
   ]
  },
  {
   "cell_type": "markdown",
   "metadata": {},
   "source": [
    "### Hyperparameter Options"
   ]
  },
  {
   "cell_type": "markdown",
   "metadata": {},
   "source": [
    "We run this experiment with different parameters for the bagging and feature fractions that determine the degree of randomization as well as the minimum number of samples for a split to control overfitting:"
   ]
  },
  {
   "cell_type": "code",
   "execution_count": 29,
   "metadata": {
    "ExecuteTime": {
     "end_time": "2020-06-20T04:04:55.618194Z",
     "start_time": "2020-06-20T04:04:55.610715Z"
    },
    "scrolled": true
   },
   "outputs": [],
   "source": [
    "bagging_fraction_opts = [.5, .75, .95]\n",
    "feature_fraction_opts = [.75, .95]\n",
    "min_data_in_leaf_opts = [5, 25, 50, 100]"
   ]
  },
  {
   "cell_type": "code",
   "execution_count": 30,
   "metadata": {
    "ExecuteTime": {
     "end_time": "2020-06-20T04:04:55.648202Z",
     "start_time": "2020-06-20T04:04:55.619008Z"
    },
    "scrolled": true
   },
   "outputs": [
    {
     "data": {
      "text/plain": [
       "24"
      ]
     },
     "execution_count": 30,
     "metadata": {},
     "output_type": "execute_result"
    }
   ],
   "source": [
    "cv_params = list(product(bagging_fraction_opts,\n",
    "                         feature_fraction_opts,\n",
    "                         min_data_in_leaf_opts))\n",
    "n_cv_params = len(cv_params)\n",
    "n_cv_params"
   ]
  },
  {
   "cell_type": "markdown",
   "metadata": {},
   "source": [
    "#### Random Sample"
   ]
  },
  {
   "cell_type": "markdown",
   "metadata": {},
   "source": [
    "To limit the running time, we can randomly sample a subset of the parameter combinations (here: 50%):"
   ]
  },
  {
   "cell_type": "code",
   "execution_count": 31,
   "metadata": {
    "ExecuteTime": {
     "end_time": "2020-06-20T04:04:55.657255Z",
     "start_time": "2020-06-20T04:04:55.649117Z"
    }
   },
   "outputs": [
    {
     "name": "stdout",
     "output_type": "stream",
     "text": [
      "# CV parameters: 12\n"
     ]
    }
   ],
   "source": [
    "sample_proportion = .5\n",
    "sample_size = int(sample_proportion * n_cv_params)\n",
    "\n",
    "cv_param_sample = np.random.choice(list(range(n_cv_params)), \n",
    "                                     size=int(sample_size), \n",
    "                                     replace=False)\n",
    "cv_params_ = [cv_params[i] for i in cv_param_sample]\n",
    "print('# CV parameters:', len(cv_params_))"
   ]
  },
  {
   "cell_type": "markdown",
   "metadata": {},
   "source": [
    "We tune the number of trees by evaluating a fully grown forest for various smaller sizes:"
   ]
  },
  {
   "cell_type": "code",
   "execution_count": 32,
   "metadata": {
    "ExecuteTime": {
     "end_time": "2020-06-20T04:04:55.664851Z",
     "start_time": "2020-06-20T04:04:55.658506Z"
    },
    "scrolled": true
   },
   "outputs": [],
   "source": [
    "num_iterations = [25] + list(range(50, 501, 25))\n",
    "num_boost_round = num_iterations[-1]"
   ]
  },
  {
   "cell_type": "markdown",
   "metadata": {},
   "source": [
    "### Train/Test Period Lenghts"
   ]
  },
  {
   "cell_type": "markdown",
   "metadata": {},
   "source": [
    "As above for linear regression, we define a range of train/test period length:"
   ]
  },
  {
   "cell_type": "markdown",
   "metadata": {},
   "source": [
    "#### Define parameters"
   ]
  },
  {
   "cell_type": "code",
   "execution_count": 33,
   "metadata": {
    "ExecuteTime": {
     "end_time": "2020-06-20T04:04:55.672855Z",
     "start_time": "2020-06-20T04:04:55.666176Z"
    },
    "scrolled": true
   },
   "outputs": [],
   "source": [
    "train_lengths = [60, 50, 40, 30, 20, 10]\n",
    "test_lengths = [7, 14]"
   ]
  },
  {
   "cell_type": "code",
   "execution_count": 34,
   "metadata": {
    "ExecuteTime": {
     "end_time": "2020-06-20T04:04:55.692038Z",
     "start_time": "2020-06-20T04:04:55.673954Z"
    }
   },
   "outputs": [],
   "source": [
    "test_params = list(product(train_lengths, test_lengths))\n",
    "n_test_params = len(test_params)"
   ]
  },
  {
   "cell_type": "markdown",
   "metadata": {},
   "source": [
    "#### Random sample"
   ]
  },
  {
   "cell_type": "markdown",
   "metadata": {},
   "source": [
    "Just as for the model parameters, we can randomly sample from the 5 x 2 = 8 training configurations (here: 50%):"
   ]
  },
  {
   "cell_type": "code",
   "execution_count": 35,
   "metadata": {
    "ExecuteTime": {
     "end_time": "2020-06-20T04:04:55.701325Z",
     "start_time": "2020-06-20T04:04:55.696457Z"
    },
    "scrolled": false
   },
   "outputs": [
    {
     "name": "stdout",
     "output_type": "stream",
     "text": [
      "Train configs: 12\n",
      "CV Iterations: 144\n"
     ]
    }
   ],
   "source": [
    "sample_proportion = 1.0\n",
    "sample_size = int(sample_proportion * n_test_params)\n",
    "\n",
    "test_param_sample = np.random.choice(list(range(n_test_params)), \n",
    "                                     size=int(sample_size), \n",
    "                                     replace=False)\n",
    "test_params_ = [test_params[i] for i in test_param_sample]\n",
    "print('Train configs:', len(test_params_))\n",
    "print('CV Iterations:', len(cv_params_) * len(test_params_))"
   ]
  },
  {
   "cell_type": "markdown",
   "metadata": {},
   "source": [
    "### Categorical Variables"
   ]
  },
  {
   "cell_type": "markdown",
   "metadata": {},
   "source": [
    "To leverage LightGBM's ability to handle categorical variables, we need to define them; we'll also `factorize` them so they are both integer-encoded and start at zero (optional, but otherwise throws a warning) as expected by LightGBM:"
   ]
  },
  {
   "cell_type": "code",
   "execution_count": 36,
   "metadata": {
    "ExecuteTime": {
     "end_time": "2020-06-20T04:04:55.780640Z",
     "start_time": "2020-06-20T04:04:55.702497Z"
    },
    "scrolled": true
   },
   "outputs": [],
   "source": [
    "categoricals = ['weekday', 'month']\n",
    "for feature in categoricals:\n",
    "    data[feature] = pd.factorize(data[feature], sort=True)[0]"
   ]
  },
  {
   "cell_type": "markdown",
   "metadata": {},
   "source": [
    "### Run Cross-Validation"
   ]
  },
  {
   "cell_type": "markdown",
   "metadata": {},
   "source": [
    "Set up some helper variabels and storage locations to faciliate the CV process and result storage:"
   ]
  },
  {
   "cell_type": "code",
   "execution_count": 37,
   "metadata": {
    "ExecuteTime": {
     "end_time": "2020-06-20T04:04:55.789497Z",
     "start_time": "2020-06-20T04:04:55.781634Z"
    },
    "scrolled": true
   },
   "outputs": [],
   "source": [
    "labels = sorted(data.filter(like='fwd').columns)\n",
    "features = data.columns.difference(labels).tolist()"
   ]
  },
  {
   "cell_type": "code",
   "execution_count": 38,
   "metadata": {
    "ExecuteTime": {
     "end_time": "2020-06-20T04:04:55.797240Z",
     "start_time": "2020-06-20T04:04:55.790541Z"
    },
    "scrolled": true
   },
   "outputs": [],
   "source": [
    "label_dict = dict(zip(lookaheads, labels))"
   ]
  },
  {
   "cell_type": "code",
   "execution_count": 39,
   "metadata": {
    "ExecuteTime": {
     "end_time": "2020-06-22T15:48:14.787163Z",
     "start_time": "2020-06-22T15:48:14.785100Z"
    },
    "scrolled": true
   },
   "outputs": [],
   "source": [
    "cv_store = Path(results_path / 'parameter_tuning.h5')"
   ]
  },
  {
   "cell_type": "code",
   "execution_count": 40,
   "metadata": {
    "ExecuteTime": {
     "end_time": "2020-06-20T04:04:55.812602Z",
     "start_time": "2020-06-20T04:04:55.806130Z"
    }
   },
   "outputs": [],
   "source": [
    "ic_cols = ['bagging_fraction',\n",
    "           'feature_fraction',\n",
    "           'min_data_in_leaf',\n",
    "           't'] + [str(n) for n in num_iterations]"
   ]
  },
  {
   "cell_type": "markdown",
   "metadata": {},
   "source": [
    "Now we take the following steps:\n",
    "- we iterate over the prediction horizons and train/test period length, \n",
    "- set up the `MultipleTimeSeriesCV` accordingly\n",
    "- create the binary LightGBM dataset with the appropriate target, and\n",
    "- iterate over the model hyperparamters to train and validate the model while capturing the relevant performance metrics:"
   ]
  },
  {
   "cell_type": "code",
   "execution_count": 41,
   "metadata": {
    "ExecuteTime": {
     "end_time": "2020-06-20T13:37:54.346461Z",
     "start_time": "2020-06-20T04:04:55.813656Z"
    },
    "scrolled": false
   },
   "outputs": [
    {
     "name": "stdout",
     "output_type": "stream",
     "text": [
      "Lookahead:  1 | Train:  30 | Test: 14 | Params:  12\n",
      "  0 | 00:00:02 | 75% | 75% |     5 |  2.82% |  0.65% |  0.61%\n",
      "  1 | 00:00:05 | 95% | 75% |     5 |  4.15% |  3.85% | -1.82%\n",
      "  2 | 00:00:07 | 50% | 75% |     5 | 10.50% |  7.92% |  9.70%\n",
      "  3 | 00:00:08 | 95% | 75% |    50 |  1.35% |  3.58% |  14.55%\n",
      "  4 | 00:00:09 | 75% | 75% |   100 |  1.11% |  4.24% |  0.31%\n",
      "  5 | 00:00:10 | 75% | 75% |    25 |  2.04% |  1.90% |  1.82%\n",
      "  6 | 00:00:11 | 75% | 95% |    25 |  5.69% |  4.27% |  4.85%\n",
      "  7 | 00:00:12 | 50% | 75% |    25 | -0.01% |  1.30% |  6.06%\n",
      "  8 | 00:00:13 | 95% | 95% |    25 |  7.30% |  1.77% |  10.30%\n",
      "  9 | 00:00:14 | 50% | 95% |    25 |  2.34% |  2.38% |  6.06%\n",
      " 10 | 00:00:15 | 50% | 75% |    50 |  4.59% | -0.35% |  0.61%\n",
      " 11 | 00:00:17 | 75% | 95% |     5 |  4.16% |  6.19% |  7.27%\n",
      "Lookahead:  1 | Train:  40 | Test:  7 | Params:  12\n",
      "  0 | 00:00:01 | 75% | 75% |     5 | -9.38% |  5.28% |  8.48%\n",
      "  1 | 00:00:03 | 95% | 75% |     5 | -18.13% | -2.86% | -6.67%\n",
      "  2 | 00:00:04 | 50% | 75% |     5 | -9.49% |  7.53% |  18.79%\n",
      "  3 | 00:00:05 | 95% | 75% |    50 | -23.47% | -1.61% |  0.91%\n",
      "  4 | 00:00:06 | 75% | 75% |   100 | -18.54% | -5.05% | -2.42%\n",
      "  5 | 00:00:07 | 75% | 75% |    25 | -24.18% | -4.59% | -7.27%\n",
      "  6 | 00:00:08 | 75% | 95% |    25 | -27.68% | -7.27% | -7.27%\n",
      "  7 | 00:00:08 | 50% | 75% |    25 | -27.16% | -6.15% | -8.48%\n",
      "  8 | 00:00:09 | 95% | 95% |    25 | -20.69% | -3.90% | -5.45%\n",
      "  9 | 00:00:10 | 50% | 95% |    25 | -25.15% | -3.29% | -6.67%\n",
      " 10 | 00:00:10 | 50% | 75% |    50 | -23.83% | -8.24% | -6.67%\n",
      " 11 | 00:00:12 | 75% | 95% |     5 | -13.32% | -1.90% |  7.27%\n",
      "Lookahead:  1 | Train:  10 | Test:  7 | Params:  12\n",
      "  0 | 00:00:01 | 75% | 75% |     5 | -23.74% | -5.02% |  12.12%\n",
      "  1 | 00:00:02 | 95% | 75% |     5 | -20.59% | -7.19% |  7.88%\n",
      "  2 | 00:00:02 | 50% | 75% |     5 | -23.47% | -5.54% |  12.73%\n",
      "  3 | 00:00:03 | 95% | 75% |    50 |   nan% | -5.11% |  10.98%\n",
      "  4 | 00:00:03 | 75% | 75% |   100 |   nan% |   nan% |   nan%\n",
      "  5 | 00:00:04 | 75% | 75% |    25 | -20.78% |  0.11% |  11.85%\n",
      "  6 | 00:00:04 | 75% | 95% |    25 | -20.08% | -0.60% |  12.73%\n",
      "  7 | 00:00:05 | 50% | 75% |    25 | -25.28% | -3.67% | -1.21%\n",
      "  8 | 00:00:05 | 95% | 95% |    25 | -22.84% | -7.78% |  4.18%\n",
      "  9 | 00:00:06 | 50% | 95% |    25 | -25.24% | -5.39% | -0.61%\n",
      " 10 | 00:00:06 | 50% | 75% |    50 |   nan% |   nan% |   nan%\n",
      " 11 | 00:00:07 | 75% | 95% |     5 | -22.82% | -3.55% |  13.94%\n",
      "Lookahead:  1 | Train:  50 | Test: 14 | Params:  12\n",
      "  0 | 00:00:01 | 75% | 75% |     5 | -0.30% |  5.15% |  16.97%\n",
      "  1 | 00:00:03 | 95% | 75% |     5 |  1.52% |  5.41% |  15.76%\n",
      "  2 | 00:00:05 | 50% | 75% |     5 | -0.36% |  1.52% |  18.79%\n",
      "  3 | 00:00:06 | 95% | 75% |    50 | -1.81% |  3.29% |  8.48%\n",
      "  4 | 00:00:07 | 75% | 75% |   100 | -1.06% | -0.09% |  3.64%\n",
      "  5 | 00:00:08 | 75% | 75% |    25 |  2.77% |  4.24% |  17.58%\n",
      "  6 | 00:00:09 | 75% | 95% |    25 |  2.41% |  1.56% |  13.94%\n",
      "  7 | 00:00:10 | 50% | 75% |    25 | -0.45% | -1.08% |  7.88%\n",
      "  8 | 00:00:11 | 95% | 95% |    25 |  2.31% |  1.77% |  20.00%\n",
      "  9 | 00:00:12 | 50% | 95% |    25 | -1.32% | -1.17% |  6.06%\n",
      " 10 | 00:00:13 | 50% | 75% |    50 | -0.20% | -0.04% |  0.61%\n",
      " 11 | 00:00:14 | 75% | 95% |     5 |  4.03% |  5.84% |  12.73%\n",
      "Lookahead:  1 | Train:  60 | Test: 14 | Params:  12\n",
      "  0 | 00:00:02 | 75% | 75% |     5 |  3.95% | -0.56% |  2.42%\n",
      "  1 | 00:00:03 | 95% | 75% |     5 | 10.84% |  1.65% |  3.03%\n",
      "  2 | 00:00:05 | 50% | 75% |     5 |  2.99% |  0.74% |  7.88%\n",
      "  3 | 00:00:06 | 95% | 75% |    50 |  5.47% |  1.47% |  16.36%\n",
      "  4 | 00:00:07 | 75% | 75% |   100 |  4.03% | -2.77% |  0.61%\n",
      "  5 | 00:00:08 | 75% | 75% |    25 |  3.48% |  1.04% |  12.12%\n",
      "  6 | 00:00:09 | 75% | 95% |    25 |  2.96% | -0.04% |  12.12%\n",
      "  7 | 00:00:10 | 50% | 75% |    25 |  3.08% | -2.12% |  6.67%\n",
      "  8 | 00:00:11 | 95% | 95% |    25 |  6.57% |  2.47% |  11.52%\n",
      "  9 | 00:00:12 | 50% | 95% |    25 |  4.69% | -0.78% |  10.30%\n",
      " 10 | 00:00:13 | 50% | 75% |    50 |  5.67% | -2.03% |  2.42%\n",
      " 11 | 00:00:14 | 75% | 95% |     5 |  6.78% |  3.51% |  5.45%\n",
      "Lookahead:  1 | Train:  30 | Test:  7 | Params:  12\n",
      "  0 | 00:00:01 | 75% | 75% |     5 | -11.92% |  2.34% |  7.27%\n",
      "  1 | 00:00:02 | 95% | 75% |     5 | -6.04% |  8.92% |  11.52%\n",
      "  2 | 00:00:03 | 50% | 75% |     5 | -7.42% |  10.39% |  10.30%\n",
      "  3 | 00:00:04 | 95% | 75% |    50 | -21.70% | -3.20% |  4.85%\n",
      "  4 | 00:00:05 | 75% | 75% |   100 | -13.33% | -0.39% |  4.88%\n",
      "  5 | 00:00:06 | 75% | 75% |    25 | -23.54% | -1.21% |  1.82%\n",
      "  6 | 00:00:06 | 75% | 95% |    25 | -21.68% |  3.46% |  7.88%\n",
      "  7 | 00:00:07 | 50% | 75% |    25 | -25.17% | -5.19% |  1.21%\n",
      "  8 | 00:00:08 | 95% | 95% |    25 | -16.85% |  1.39% |  7.88%\n",
      "  9 | 00:00:08 | 50% | 95% |    25 | -25.15% | -5.71% |  1.21%\n",
      " 10 | 00:00:09 | 50% | 75% |    50 | -21.43% | -8.72% | -1.21%\n",
      " 11 | 00:00:10 | 75% | 95% |     5 | -10.55% |  5.63% |  6.67%\n",
      "Lookahead:  1 | Train:  50 | Test:  7 | Params:  12\n",
      "  0 | 00:00:01 | 75% | 75% |     5 |  1.82% |  8.92% |  20.61%\n",
      "  1 | 00:00:02 | 95% | 75% |     5 | -8.84% | -3.90% | -9.09%\n",
      "  2 | 00:00:04 | 50% | 75% |     5 | -11.76% |  3.98% |  18.79%\n",
      "  3 | 00:00:04 | 95% | 75% |    50 | -15.39% | -3.81% | -3.03%\n",
      "  4 | 00:00:05 | 75% | 75% |   100 | -6.79% |  7.10% |  3.03%\n",
      "  5 | 00:00:06 | 75% | 75% |    25 | -9.00% | -5.28% |  7.27%\n",
      "  6 | 00:00:07 | 75% | 95% |    25 | -3.25% |  0.00% |  5.45%\n",
      "  7 | 00:00:07 | 50% | 75% |    25 | -10.16% |  0.43% |  12.12%\n",
      "  8 | 00:00:08 | 95% | 95% |    25 | -14.05% | -9.26% | -9.09%\n",
      "  9 | 00:00:09 | 50% | 95% |    25 | -5.67% |  1.99% |  10.30%\n",
      " 10 | 00:00:10 | 50% | 75% |    50 | -9.28% |  4.59% |  8.48%\n",
      " 11 | 00:00:11 | 75% | 95% |     5 | -7.35% | -2.25% | -1.82%\n",
      "Lookahead:  1 | Train:  60 | Test:  7 | Params:  12\n",
      "  0 | 00:00:01 | 75% | 75% |     5 | -17.06% | -9.78% | -16.36%\n",
      "  1 | 00:00:02 | 95% | 75% |     5 | -16.28% | -11.26% | -8.48%\n",
      "  2 | 00:00:04 | 50% | 75% |     5 | -14.90% | -9.96% | -15.15%\n",
      "  3 | 00:00:05 | 95% | 75% |    50 | -8.88% | -7.53% |  1.82%\n",
      "  4 | 00:00:05 | 75% | 75% |   100 | -14.46% | -9.18% | -7.27%\n",
      "  5 | 00:00:06 | 75% | 75% |    25 | -14.31% | -7.88% | -12.12%\n",
      "  6 | 00:00:07 | 75% | 95% |    25 | -13.52% | -7.79% | -16.97%\n",
      "  7 | 00:00:08 | 50% | 75% |    25 | -15.03% | -8.05% |  2.42%\n",
      "  8 | 00:00:08 | 95% | 95% |    25 | -12.12% | -12.55% | -15.15%\n",
      "  9 | 00:00:09 | 50% | 95% |    25 | -13.01% | -7.19% |  1.21%\n",
      " 10 | 00:00:10 | 50% | 75% |    50 | -15.46% | -8.74% | -3.64%\n",
      " 11 | 00:00:11 | 75% | 95% |     5 | -13.34% | -9.26% | -8.48%\n",
      "Lookahead:  1 | Train:  20 | Test:  7 | Params:  12\n",
      "  0 | 00:00:01 | 75% | 75% |     5 | -10.42% |  7.36% |  6.67%\n",
      "  1 | 00:00:03 | 95% | 75% |     5 | -4.78% |  15.41% |  27.27%\n",
      "  2 | 00:00:03 | 50% | 75% |     5 | -10.23% |  8.57% |  15.76%\n",
      "  3 | 00:00:04 | 95% | 75% |    50 | -29.06% | -4.25% |  0.30%\n",
      "  4 | 00:00:04 | 75% | 75% |   100 |   nan% |   nan% |   nan%\n",
      "  5 | 00:00:05 | 75% | 75% |    25 | -20.09% | -0.87% |  4.85%\n",
      "  6 | 00:00:06 | 75% | 95% |    25 | -18.59% |  3.65% |  7.27%\n",
      "  7 | 00:00:06 | 50% | 75% |    25 | -24.19% | -0.87% |  14.55%\n",
      "  8 | 00:00:07 | 95% | 95% |    25 | -16.14% |  4.75% |  21.21%\n",
      "  9 | 00:00:07 | 50% | 95% |    25 | -24.19% | -0.95% |  9.70%\n",
      " 10 | 00:00:08 | 50% | 75% |    50 | -17.41% |  1.64% |  18.50%\n",
      " 11 | 00:00:10 | 75% | 95% |     5 | -8.76% |  5.80% |  15.76%\n",
      "Lookahead:  1 | Train:  40 | Test: 14 | Params:  12\n",
      "  0 | 00:00:01 | 75% | 75% |     5 |  0.74% |  3.12% |  7.88%\n",
      "  1 | 00:00:03 | 95% | 75% |     5 |  3.28% |  2.81% |  12.12%\n",
      "  2 | 00:00:05 | 50% | 75% |     5 |  4.91% |  4.33% |  13.33%\n",
      "  3 | 00:00:05 | 95% | 75% |    50 | -0.95% |  5.24% |  13.94%\n",
      "  4 | 00:00:06 | 75% | 75% |   100 | -5.44% | -0.73% |  1.82%\n",
      "  5 | 00:00:07 | 75% | 75% |    25 |  0.14% |  4.29% |  18.79%\n",
      "  6 | 00:00:08 | 75% | 95% |    25 | -0.49% |  1.86% |  16.97%\n",
      "  7 | 00:00:09 | 50% | 75% |    25 | -1.10% |  3.07% |  17.58%\n",
      "  8 | 00:00:10 | 95% | 95% |    25 |  3.42% |  4.27% |  18.79%\n",
      "  9 | 00:00:11 | 50% | 95% |    25 | -1.93% |  3.94% |  15.15%\n",
      " 10 | 00:00:12 | 50% | 75% |    50 | -4.82% | -0.95% |  8.48%\n",
      " 11 | 00:00:14 | 75% | 95% |     5 | -0.25% |  0.17% |  10.30%\n",
      "Lookahead:  1 | Train:  20 | Test: 14 | Params:  12\n",
      "  0 | 00:00:01 | 75% | 75% |     5 |  1.73% |  1.21% | -3.03%\n",
      "  1 | 00:00:03 | 95% | 75% |     5 |  4.54% |  4.50% |  3.03%\n"
     ]
    },
    {
     "name": "stdout",
     "output_type": "stream",
     "text": [
      "  2 | 00:00:04 | 50% | 75% |     5 | -3.61% | -1.86% |  1.21%\n",
      "  3 | 00:00:05 | 95% | 75% |    50 | -2.57% |  3.65% |  6.37%\n",
      "  4 | 00:00:05 | 75% | 75% |   100 |   nan% |   nan% |   nan%\n",
      "  5 | 00:00:06 | 75% | 75% |    25 | -1.79% | -0.65% |  6.06%\n",
      "  6 | 00:00:07 | 75% | 95% |    25 |  0.85% |  1.84% |  7.27%\n",
      "  7 | 00:00:08 | 50% | 75% |    25 | -3.11% |  2.19% |  4.85%\n",
      "  8 | 00:00:09 | 95% | 95% |    25 |  1.64% |  4.20% |  14.55%\n",
      "  9 | 00:00:10 | 50% | 95% |    25 | -3.39% |  2.69% |  9.09%\n",
      " 10 | 00:00:10 | 50% | 75% |    50 | -1.47% |  3.17% | -1.79%\n",
      " 11 | 00:00:12 | 75% | 95% |     5 |  1.50% |  1.86% |  3.03%\n",
      "Lookahead:  1 | Train:  10 | Test: 14 | Params:  12\n",
      "  0 | 00:00:01 | 75% | 75% |     5 | -7.47% |  4.24% |  16.97%\n",
      "  1 | 00:00:02 | 95% | 75% |     5 | -6.93% |  2.29% |  9.70%\n",
      "  2 | 00:00:03 | 50% | 75% |     5 | -7.15% |  5.97% |  16.36%\n",
      "  3 | 00:00:04 | 95% | 75% |    50 |   nan% | -0.27% | -4.50%\n",
      "  4 | 00:00:04 | 75% | 75% |   100 |   nan% |   nan% |   nan%\n",
      "  5 | 00:00:05 | 75% | 75% |    25 | -10.72% |  4.05% |  4.85%\n",
      "  6 | 00:00:06 | 75% | 95% |    25 | -10.87% |  3.36% |  6.06%\n",
      "  7 | 00:00:07 | 50% | 75% |    25 | -10.11% |  1.34% |  6.67%\n",
      "  8 | 00:00:08 | 95% | 95% |    25 | -4.14% |  8.98% |  11.57%\n",
      "  9 | 00:00:08 | 50% | 95% |    25 | -10.27% |  1.77% |  1.82%\n",
      " 10 | 00:00:09 | 50% | 75% |    50 |   nan% |   nan% |   nan%\n",
      " 11 | 00:00:10 | 75% | 95% |     5 | -7.32% |  2.94% |  13.94%\n",
      "Lookahead:  5 | Train:  30 | Test: 14 | Params:  12\n",
      "  0 | 00:00:01 | 75% | 75% |     5 | 12.96% |  1.08% |  7.27%\n",
      "  1 | 00:00:03 | 95% | 75% |     5 |  7.07% |  1.30% |  8.48%\n",
      "  2 | 00:00:04 | 50% | 75% |     5 |  7.02% |  0.13% | -3.64%\n",
      "  3 | 00:00:05 | 95% | 75% |    50 | 13.97% |  7.01% |  9.09%\n",
      "  4 | 00:00:06 | 75% | 75% |   100 |  6.16% |  0.46% |  7.91%\n",
      "  5 | 00:00:07 | 75% | 75% |    25 | 13.40% |  5.06% |  4.85%\n",
      "  6 | 00:00:08 | 75% | 95% |    25 |  4.09% |  1.90% |  5.45%\n",
      "  7 | 00:00:09 | 50% | 75% |    25 |  6.88% |  4.55% |  10.30%\n",
      "  8 | 00:00:10 | 95% | 95% |    25 |  1.11% |  0.48% |  4.24%\n",
      "  9 | 00:00:11 | 50% | 95% |    25 |  6.43% |  3.81% |  2.42%\n",
      " 10 | 00:00:12 | 50% | 75% |    50 | -0.67% | -2.28% |  2.43%\n",
      " 11 | 00:00:13 | 75% | 95% |     5 |  7.37% |  0.82% |  5.45%\n",
      "Lookahead:  5 | Train:  40 | Test:  7 | Params:  12\n",
      "  0 | 00:00:01 | 75% | 75% |     5 | 22.43% | -3.98% | -1.82%\n",
      "  1 | 00:00:02 | 95% | 75% |     5 | 12.03% | -4.16% | -5.45%\n",
      "  2 | 00:00:04 | 50% | 75% |     5 | 22.87% | -1.65% | -6.67%\n",
      "  3 | 00:00:05 | 95% | 75% |    50 | 17.25% |  4.68% |  5.45%\n",
      "  4 | 00:00:05 | 75% | 75% |   100 | 17.46% |  7.28% |  12.77%\n",
      "  5 | 00:00:06 | 75% | 75% |    25 | 23.83% |  1.90% |  1.21%\n",
      "  6 | 00:00:07 | 75% | 95% |    25 | 22.76% |  4.68% |  4.85%\n",
      "  7 | 00:00:07 | 50% | 75% |    25 | 21.58% |  2.25% |  4.85%\n",
      "  8 | 00:00:08 | 95% | 95% |    25 | 15.08% |  6.49% |  7.27%\n",
      "  9 | 00:00:09 | 50% | 95% |    25 | 20.56% |  0.43% |  5.45%\n",
      " 10 | 00:00:10 | 50% | 75% |    50 | 20.50% |  8.57% |  10.91%\n",
      " 11 | 00:00:11 | 75% | 95% |     5 | 20.09% | -5.11% | -10.30%\n",
      "Lookahead:  5 | Train:  10 | Test:  7 | Params:  12\n",
      "  0 | 00:00:01 | 75% | 75% |     5 | 34.43% |  8.05% |  9.09%\n",
      "  1 | 00:00:02 | 95% | 75% |     5 | 24.14% | -0.52% |  4.85%\n",
      "  2 | 00:00:03 | 50% | 75% |     5 | 40.71% |  11.95% |  16.36%\n",
      "  3 | 00:00:03 | 95% | 75% |    50 | 31.05% |  5.40% |  11.66%\n",
      "  4 | 00:00:04 | 75% | 75% |   100 |   nan% |   nan% |   nan%\n",
      "  5 | 00:00:04 | 75% | 75% |    25 | 27.33% |  3.55% |  7.88%\n",
      "  6 | 00:00:05 | 75% | 95% |    25 | 19.20% | -2.78% |  2.43%\n",
      "  7 | 00:00:05 | 50% | 75% |    25 | 30.62% |  1.90% |  3.03%\n",
      "  8 | 00:00:06 | 95% | 95% |    25 | 14.12% | -2.16% | -4.24%\n",
      "  9 | 00:00:07 | 50% | 95% |    25 | 30.12% |  1.74% |  3.64%\n",
      " 10 | 00:00:07 | 50% | 75% |    50 |   nan% |   nan% |   nan%\n",
      " 11 | 00:00:08 | 75% | 95% |     5 | 31.12% |  5.45% |  7.88%\n",
      "Lookahead:  5 | Train:  50 | Test: 14 | Params:  12\n",
      "  0 | 00:00:01 | 75% | 75% |     5 | 15.63% |  2.64% |  3.64%\n",
      "  1 | 00:00:03 | 95% | 75% |     5 | 15.32% |  3.55% |  9.70%\n",
      "  2 | 00:00:04 | 50% | 75% |     5 | 14.22% |  3.20% |  7.88%\n",
      "  3 | 00:00:06 | 95% | 75% |    50 | 17.07% |  5.28% |  1.82%\n",
      "  4 | 00:00:06 | 75% | 75% |   100 | 17.69% |  2.15% |  9.09%\n",
      "  5 | 00:00:07 | 75% | 75% |    25 | 16.08% |  7.27% | -3.03%\n",
      "  6 | 00:00:08 | 75% | 95% |    25 | 15.60% |  6.02% |  0.00%\n",
      "  7 | 00:00:09 | 50% | 75% |    25 | 19.62% |  7.27% |  4.85%\n",
      "  8 | 00:00:11 | 95% | 95% |    25 | 15.19% |  1.26% | -2.42%\n",
      "  9 | 00:00:12 | 50% | 95% |    25 | 19.11% |  6.02% |  0.00%\n",
      " 10 | 00:00:13 | 50% | 75% |    50 | 21.71% |  11.43% |  9.70%\n",
      " 11 | 00:00:14 | 75% | 95% |     5 | 13.75% | -1.26% | -0.61%\n",
      "Lookahead:  5 | Train:  60 | Test: 14 | Params:  12\n",
      "  0 | 00:00:02 | 75% | 75% |     5 |  6.44% |  5.15% | -1.82%\n",
      "  1 | 00:00:03 | 95% | 75% |     5 |  6.24% |  3.07% | -8.48%\n",
      "  2 | 00:00:05 | 50% | 75% |     5 |  6.26% |  4.72% |  3.64%\n",
      "  3 | 00:00:06 | 95% | 75% |    50 |  6.84% |  2.21% |  1.21%\n",
      "  4 | 00:00:07 | 75% | 75% |   100 | 19.20% |  11.69% |  12.73%\n",
      "  5 | 00:00:08 | 75% | 75% |    25 |  3.94% |  3.90% | -2.42%\n",
      "  6 | 00:00:09 | 75% | 95% |    25 |  4.72% |  0.56% | -5.45%\n",
      "  7 | 00:00:10 | 50% | 75% |    25 | 10.94% |  6.32% |  5.45%\n",
      "  8 | 00:00:11 | 95% | 95% |    25 | -1.30% | -0.78% | -5.45%\n",
      "  9 | 00:00:12 | 50% | 95% |    25 | 12.06% |  6.32% |  4.24%\n",
      " 10 | 00:00:13 | 50% | 75% |    50 | 19.90% |  13.42% |  9.70%\n",
      " 11 | 00:00:15 | 75% | 95% |     5 |  8.19% |  3.90% |  0.61%\n",
      "Lookahead:  5 | Train:  30 | Test:  7 | Params:  12\n",
      "  0 | 00:00:01 | 75% | 75% |     5 | 16.81% | -1.82% | -3.03%\n",
      "  1 | 00:00:02 | 95% | 75% |     5 |  5.73% | -11.26% | -9.09%\n",
      "  2 | 00:00:03 | 50% | 75% |     5 | 16.14% | -8.57% | -9.70%\n",
      "  3 | 00:00:04 | 95% | 75% |    50 | 13.56% | -10.48% | -10.30%\n",
      "  4 | 00:00:05 | 75% | 75% |   100 | -22.72% | -11.96% | -1.53%\n",
      "  5 | 00:00:05 | 75% | 75% |    25 | 19.61% | -6.41% | -5.45%\n",
      "  6 | 00:00:06 | 75% | 95% |    25 | 11.07% | -9.18% | -4.24%\n",
      "  7 | 00:00:07 | 50% | 75% |    25 |  9.21% | -7.53% |  3.03%\n",
      "  8 | 00:00:08 | 95% | 95% |    25 |  1.40% | -19.31% | -18.79%\n",
      "  9 | 00:00:08 | 50% | 95% |    25 | 10.10% | -7.28% |  3.03%\n",
      " 10 | 00:00:09 | 50% | 75% |    50 | -0.37% | -11.43% | -2.42%\n",
      " 11 | 00:00:10 | 75% | 95% |     5 | 16.11% | -0.61% | -4.85%\n",
      "Lookahead:  5 | Train:  50 | Test:  7 | Params:  12\n",
      "  0 | 00:00:01 | 75% | 75% |     5 | -2.84% | -10.22% | -3.64%\n",
      "  1 | 00:00:02 | 95% | 75% |     5 |  0.28% | -1.21% |  1.82%\n",
      "  2 | 00:00:04 | 50% | 75% |     5 | -0.65% |  0.52% |  1.82%\n",
      "  3 | 00:00:04 | 95% | 75% |    50 | -1.06% |  2.86% |  1.82%\n",
      "  4 | 00:00:05 | 75% | 75% |   100 | 17.82% |  15.11% |  17.58%\n",
      "  5 | 00:00:06 | 75% | 75% |    25 |  3.50% |  4.42% |  0.61%\n",
      "  6 | 00:00:07 | 75% | 95% |    25 | -1.98% |  1.13% |  6.06%\n",
      "  7 | 00:00:07 | 50% | 75% |    25 |  3.67% |  9.70% |  7.27%\n",
      "  8 | 00:00:08 | 95% | 95% |    25 | -16.28% | -16.97% | -12.12%\n",
      "  9 | 00:00:09 | 50% | 95% |    25 |  3.53% |  9.44% |  7.27%\n",
      " 10 | 00:00:10 | 50% | 75% |    50 | 11.22% |  18.10% |  15.15%\n",
      " 11 | 00:00:11 | 75% | 95% |     5 | -10.57% | -10.91% | -6.06%\n",
      "Lookahead:  5 | Train:  60 | Test:  7 | Params:  12\n",
      "  0 | 00:00:01 | 75% | 75% |     5 | -18.77% | -8.92% | -1.82%\n",
      "  1 | 00:00:03 | 95% | 75% |     5 | -11.94% | -10.65% | -13.94%\n",
      "  2 | 00:00:04 | 50% | 75% |     5 | -16.41% | -5.19% | -1.82%\n",
      "  3 | 00:00:04 | 95% | 75% |    50 | -14.55% | -8.05% | -4.24%\n",
      "  4 | 00:00:05 | 75% | 75% |   100 | 11.55% |  18.27% |  29.70%\n",
      "  5 | 00:00:06 | 75% | 75% |    25 | -16.18% | -0.87% |  1.21%\n",
      "  6 | 00:00:07 | 75% | 95% |    25 | -17.84% | -5.80% |  0.00%\n",
      "  7 | 00:00:08 | 50% | 75% |    25 | -14.92% | -3.81% | -0.61%\n",
      "  8 | 00:00:09 | 95% | 95% |    25 | -17.56% | -6.67% | -3.03%\n",
      "  9 | 00:00:09 | 50% | 95% |    25 | -18.71% | -6.15% | -7.88%\n",
      " 10 | 00:00:10 | 50% | 75% |    50 | -8.88% |  0.43% |  4.24%\n",
      " 11 | 00:00:11 | 75% | 95% |     5 | -21.01% | -15.15% | -11.52%\n",
      "Lookahead:  5 | Train:  20 | Test:  7 | Params:  12\n",
      "  0 | 00:00:01 | 75% | 75% |     5 | 19.65% | -6.41% | -11.52%\n",
      "  1 | 00:00:02 | 95% | 75% |     5 | 11.19% | -11.69% | -13.33%\n",
      "  2 | 00:00:03 | 50% | 75% |     5 | 16.12% | -10.22% | -6.06%\n",
      "  3 | 00:00:04 | 95% | 75% |    50 | -6.74% | -10.05% | -6.08%\n",
      "  4 | 00:00:04 | 75% | 75% |   100 |   nan% |   nan% |   nan%\n"
     ]
    },
    {
     "name": "stdout",
     "output_type": "stream",
     "text": [
      "  5 | 00:00:05 | 75% | 75% |    25 |  9.62% | -9.44% | -3.03%\n",
      "  6 | 00:00:05 | 75% | 95% |    25 |  6.52% | -6.84% |  3.64%\n",
      "  7 | 00:00:06 | 50% | 75% |    25 | -2.22% | -11.86% | -5.45%\n",
      "  8 | 00:00:07 | 95% | 95% |    25 |  7.89% | -2.68% |  8.48%\n",
      "  9 | 00:00:07 | 50% | 95% |    25 | -5.13% | -7.01% |  4.24%\n",
      " 10 | 00:00:08 | 50% | 75% |    50 | -12.40% | -9.52% | -10.01%\n",
      " 11 | 00:00:09 | 75% | 95% |     5 | 20.31% | -5.02% | -9.09%\n",
      "Lookahead:  5 | Train:  40 | Test: 14 | Params:  12\n",
      "  0 | 00:00:01 | 75% | 75% |     5 | 15.92% |  2.16% | -1.82%\n",
      "  1 | 00:00:03 | 95% | 75% |     5 | 13.87% | -2.21% | -8.48%\n",
      "  2 | 00:00:04 | 50% | 75% |     5 | 13.21% |  4.85% |  0.61%\n",
      "  3 | 00:00:05 | 95% | 75% |    50 | 20.55% |  9.48% |  5.45%\n",
      "  4 | 00:00:06 | 75% | 75% |   100 |  8.57% |  5.67% |  13.37%\n",
      "  5 | 00:00:07 | 75% | 75% |    25 | 19.45% |  4.55% |  2.42%\n",
      "  6 | 00:00:08 | 75% | 95% |    25 | 19.20% |  3.68% |  3.64%\n",
      "  7 | 00:00:09 | 50% | 75% |    25 | 19.51% |  9.44% |  6.06%\n",
      "  8 | 00:00:10 | 95% | 95% |    25 | 18.13% |  4.07% |  4.85%\n",
      "  9 | 00:00:11 | 50% | 95% |    25 | 19.71% |  5.67% |  4.85%\n",
      " 10 | 00:00:12 | 50% | 75% |    50 | 19.31% |  9.74% |  9.70%\n",
      " 11 | 00:00:13 | 75% | 95% |     5 | 15.16% | -2.03% | -4.24%\n",
      "Lookahead:  5 | Train:  20 | Test: 14 | Params:  12\n",
      "  0 | 00:00:01 | 75% | 75% |     5 | 13.32% | -7.88% | -7.88%\n",
      "  1 | 00:00:03 | 95% | 75% |     5 | 12.28% | -6.23% | -10.91%\n",
      "  2 | 00:00:04 | 50% | 75% |     5 | 16.36% | -2.90% | -2.42%\n",
      "  3 | 00:00:05 | 95% | 75% |    50 | 12.43% |  2.39% |  7.27%\n",
      "  4 | 00:00:06 | 75% | 75% |   100 |   nan% |   nan% |   nan%\n",
      "  5 | 00:00:07 | 75% | 75% |    25 | 14.70% |  0.56% |  3.03%\n",
      "  6 | 00:00:09 | 75% | 95% |    25 | 12.85% | -1.10% |  4.24%\n",
      "  7 | 00:00:10 | 50% | 75% |    25 | 13.51% |  3.79% |  9.09%\n",
      "  8 | 00:00:11 | 95% | 95% |    25 | 14.40% | -2.90% | -0.61%\n",
      "  9 | 00:00:12 | 50% | 95% |    25 | 11.42% |  3.40% |  9.09%\n",
      " 10 | 00:00:13 | 50% | 75% |    50 | 15.34% | -5.23% |  1.21%\n",
      " 11 | 00:00:15 | 75% | 95% |     5 | 13.95% | -8.53% | -1.82%\n",
      "Lookahead:  5 | Train:  10 | Test: 14 | Params:  12\n",
      "  0 | 00:00:01 | 75% | 75% |     5 | 35.24% |  13.12% |  13.33%\n",
      "  1 | 00:00:02 | 95% | 75% |     5 | 38.44% |  11.00% |  12.73%\n",
      "  2 | 00:00:03 | 50% | 75% |     5 | 35.35% |  13.33% |  9.09%\n",
      "  3 | 00:00:04 | 95% | 75% |    50 | 25.40% |  6.11% |  8.85%\n",
      "  4 | 00:00:05 | 75% | 75% |   100 |   nan% |   nan% |   nan%\n",
      "  5 | 00:00:05 | 75% | 75% |    25 | 22.79% |  4.81% |  4.99%\n",
      "  6 | 00:00:06 | 75% | 95% |    25 | 20.67% |  5.47% |  9.26%\n",
      "  7 | 00:00:07 | 50% | 75% |    25 | 24.51% |  6.71% |  15.76%\n",
      "  8 | 00:00:08 | 95% | 95% |    25 | 23.73% |  3.01% |  6.09%\n",
      "  9 | 00:00:09 | 50% | 95% |    25 | 25.10% |  9.57% |  15.15%\n",
      " 10 | 00:00:09 | 50% | 75% |    50 |   nan% |   nan% |   nan%\n",
      " 11 | 00:00:10 | 75% | 95% |     5 | 35.11% |  11.30% |  13.33%\n",
      "Lookahead: 10 | Train:  30 | Test: 14 | Params:  12\n",
      "  0 | 00:00:01 | 75% | 75% |     5 | 17.14% |  10.09% |  18.79%\n",
      "  1 | 00:00:03 | 95% | 75% |     5 | 17.76% |  5.76% |  5.45%\n",
      "  2 | 00:00:04 | 50% | 75% |     5 | 21.58% |  17.79% |  23.64%\n",
      "  3 | 00:00:05 | 95% | 75% |    50 | 18.75% |  10.13% |  17.58%\n",
      "  4 | 00:00:06 | 75% | 75% |   100 | 16.95% | -0.73% |  6.27%\n",
      "  5 | 00:00:07 | 75% | 75% |    25 | 18.26% |  14.42% |  21.82%\n",
      "  6 | 00:00:08 | 75% | 95% |    25 | 16.42% |  22.01% |  36.97%\n",
      "  7 | 00:00:09 | 50% | 75% |    25 | 19.26% |  11.43% |  21.21%\n",
      "  8 | 00:00:10 | 95% | 95% |    25 | 23.07% |  29.26% |  43.03%\n",
      "  9 | 00:00:11 | 50% | 95% |    25 | 16.70% |  8.65% |  18.79%\n",
      " 10 | 00:00:12 | 50% | 75% |    50 | 21.77% |  4.07% |  7.27%\n",
      " 11 | 00:00:13 | 75% | 95% |     5 | 19.44% |  14.98% |  18.79%\n",
      "Lookahead: 10 | Train:  40 | Test:  7 | Params:  12\n",
      "  0 | 00:00:01 | 75% | 75% |     5 | 23.71% |  18.79% |  26.06%\n",
      "  1 | 00:00:02 | 95% | 75% |     5 | 25.08% |  22.77% |  27.27%\n",
      "  2 | 00:00:04 | 50% | 75% |     5 | 31.95% |  21.04% |  29.09%\n",
      "  3 | 00:00:05 | 95% | 75% |    50 | 28.04% |  20.87% |  27.27%\n",
      "  4 | 00:00:05 | 75% | 75% |   100 | -2.24% | -16.80% | -14.88%\n",
      "  5 | 00:00:06 | 75% | 75% |    25 | 24.72% |  14.98% |  20.00%\n",
      "  6 | 00:00:07 | 75% | 95% |    25 | 26.39% |  13.33% |  15.76%\n",
      "  7 | 00:00:08 | 50% | 75% |    25 | 30.10% |  21.47% |  24.24%\n",
      "  8 | 00:00:09 | 95% | 95% |    25 | 19.22% |  7.79% |  9.09%\n",
      "  9 | 00:00:09 | 50% | 95% |    25 | 31.79% |  25.28% |  28.48%\n",
      " 10 | 00:00:10 | 50% | 75% |    50 | 13.74% |  4.85% |  9.09%\n",
      " 11 | 00:00:11 | 75% | 95% |     5 | 25.74% |  20.00% |  25.45%\n",
      "Lookahead: 10 | Train:  10 | Test:  7 | Params:  12\n",
      "  0 | 00:00:01 | 75% | 75% |     5 |  5.70% | -1.56% |  6.06%\n",
      "  1 | 00:00:02 | 95% | 75% |     5 |  5.11% |  1.04% |  12.12%\n",
      "  2 | 00:00:03 | 50% | 75% |     5 | 11.16% |  5.97% |  18.18%\n",
      "  3 | 00:00:04 | 95% | 75% |    50 | -12.30% | -22.59% | -13.46%\n",
      "  4 | 00:00:04 | 75% | 75% |   100 |   nan% |   nan% |   nan%\n",
      "  5 | 00:00:05 | 75% | 75% |    25 |  5.43% | -1.99% |  1.21%\n",
      "  6 | 00:00:05 | 75% | 95% |    25 |  8.37% |  2.51% |  8.49%\n",
      "  7 | 00:00:06 | 50% | 75% |    25 | -11.97% | -19.83% | -11.52%\n",
      "  8 | 00:00:07 | 95% | 95% |    25 |  4.05% | -0.16% |  18.81%\n",
      "  9 | 00:00:07 | 50% | 95% |    25 | -16.37% | -22.34% | -13.33%\n",
      " 10 | 00:00:08 | 50% | 75% |    50 | -0.71% | -10.70% | -11.04%\n",
      " 11 | 00:00:09 | 75% | 95% |     5 |  9.63% |  4.42% |  9.70%\n",
      "Lookahead: 10 | Train:  50 | Test: 14 | Params:  12\n",
      "  0 | 00:00:01 | 75% | 75% |     5 | 11.99% |  8.74% |  15.76%\n",
      "  1 | 00:00:03 | 95% | 75% |     5 | 16.10% |  17.84% |  23.03%\n",
      "  2 | 00:00:05 | 50% | 75% |     5 | 12.42% |  11.47% |  13.33%\n",
      "  3 | 00:00:06 | 95% | 75% |    50 | 20.54% |  21.76% |  23.64%\n",
      "  4 | 00:00:07 | 75% | 75% |   100 | 20.12% |  11.43% |  12.74%\n",
      "  5 | 00:00:08 | 75% | 75% |    25 | 15.33% |  16.93% |  24.24%\n",
      "  6 | 00:00:09 | 75% | 95% |    25 | 15.42% |  18.10% |  26.67%\n",
      "  7 | 00:00:10 | 50% | 75% |    25 | 17.13% |  15.43% |  23.03%\n",
      "  8 | 00:00:11 | 95% | 95% |    25 | 13.11% |  16.53% |  19.39%\n",
      "  9 | 00:00:12 | 50% | 95% |    25 | 13.50% |  16.91% |  25.45%\n",
      " 10 | 00:00:13 | 50% | 75% |    50 | 19.53% |  9.62% |  10.91%\n",
      " 11 | 00:00:14 | 75% | 95% |     5 |  9.72% |  9.87% |  15.76%\n",
      "Lookahead: 10 | Train:  60 | Test: 14 | Params:  12\n",
      "  0 | 00:00:02 | 75% | 75% |     5 | 18.41% |  12.34% |  15.15%\n",
      "  1 | 00:00:03 | 95% | 75% |     5 | 16.54% |  12.03% |  15.15%\n",
      "  2 | 00:00:04 | 50% | 75% |     5 | 21.07% |  14.94% |  15.76%\n",
      "  3 | 00:00:05 | 95% | 75% |    50 | 29.95% |  16.19% |  26.67%\n",
      "  4 | 00:00:06 | 75% | 75% |   100 | 26.73% |  8.46% |  13.94%\n",
      "  5 | 00:00:07 | 75% | 75% |    25 | 20.83% |  13.90% |  19.39%\n",
      "  6 | 00:00:09 | 75% | 95% |    25 | 12.05% |  14.94% |  23.03%\n",
      "  7 | 00:00:10 | 50% | 75% |    25 | 26.97% |  19.83% |  20.00%\n",
      "  8 | 00:00:11 | 95% | 95% |    25 |  1.77% |  12.45% |  23.64%\n",
      "  9 | 00:00:12 | 50% | 95% |    25 | 24.99% |  17.23% |  18.18%\n",
      " 10 | 00:00:13 | 50% | 75% |    50 | 33.78% |  13.47% |  15.78%\n",
      " 11 | 00:00:15 | 75% | 95% |     5 | 15.99% |  14.25% |  18.18%\n",
      "Lookahead: 10 | Train:  30 | Test:  7 | Params:  12\n",
      "  0 | 00:00:01 | 75% | 75% |     5 |  8.92% |  2.86% |  16.36%\n",
      "  1 | 00:00:02 | 95% | 75% |     5 |  6.29% |  1.13% |  21.21%\n",
      "  2 | 00:00:03 | 50% | 75% |     5 | 15.31% |  7.97% |  20.61%\n",
      "  3 | 00:00:04 | 95% | 75% |    50 | 11.84% |  7.71% |  16.36%\n",
      "  4 | 00:00:05 | 75% | 75% |   100 | -3.39% | -16.89% | -14.33%\n",
      "  5 | 00:00:06 | 75% | 75% |    25 | 16.65% |  3.81% |  19.39%\n",
      "  6 | 00:00:07 | 75% | 95% |    25 | 10.17% |  7.62% |  16.97%\n",
      "  7 | 00:00:07 | 50% | 75% |    25 |  6.72% |  0.78% |  5.45%\n",
      "  8 | 00:00:08 | 95% | 95% |    25 |  7.85% |  1.90% |  8.48%\n",
      "  9 | 00:00:09 | 50% | 95% |    25 |  8.94% |  5.28% |  15.15%\n",
      " 10 | 00:00:09 | 50% | 75% |    50 | -6.10% | -11.47% | -6.98%\n",
      " 11 | 00:00:11 | 75% | 95% |     5 | 10.41% |  2.42% |  15.15%\n",
      "Lookahead: 10 | Train:  50 | Test:  7 | Params:  12\n",
      "  0 | 00:00:01 | 75% | 75% |     5 | 24.07% |  13.07% |  14.55%\n",
      "  1 | 00:00:02 | 95% | 75% |     5 | 33.30% |  28.92% |  34.55%\n",
      "  2 | 00:00:04 | 50% | 75% |     5 | 24.67% |  11.60% |  12.12%\n",
      "  3 | 00:00:04 | 95% | 75% |    50 | 21.11% |  17.32% |  18.18%\n",
      "  4 | 00:00:05 | 75% | 75% |   100 |  6.20% | -0.09% |  0.61%\n",
      "  5 | 00:00:06 | 75% | 75% |    25 | 28.36% |  17.32% |  18.18%\n",
      "  6 | 00:00:07 | 75% | 95% |    25 | 27.83% |  16.80% |  18.18%\n"
     ]
    },
    {
     "name": "stdout",
     "output_type": "stream",
     "text": [
      "  7 | 00:00:08 | 50% | 75% |    25 | 20.17% |  8.40% |  9.09%\n",
      "  8 | 00:00:08 | 95% | 95% |    25 | 25.64% |  18.61% |  18.18%\n",
      "  9 | 00:00:09 | 50% | 95% |    25 | 20.43% |  10.82% |  9.09%\n",
      " 10 | 00:00:10 | 50% | 75% |    50 |  8.82% | -0.26% |  12.12%\n",
      " 11 | 00:00:11 | 75% | 95% |     5 | 19.99% |  11.43% |  19.39%\n",
      "Lookahead: 10 | Train:  60 | Test:  7 | Params:  12\n",
      "  0 | 00:00:01 | 75% | 75% |     5 | 20.43% |  11.43% |  14.55%\n",
      "  1 | 00:00:03 | 95% | 75% |     5 | 15.53% |  12.64% |  20.00%\n",
      "  2 | 00:00:04 | 50% | 75% |     5 | 18.40% |  13.77% |  15.76%\n",
      "  3 | 00:00:05 | 95% | 75% |    50 | 21.11% |  13.33% |  17.58%\n",
      "  4 | 00:00:06 | 75% | 75% |   100 |  9.46% |  4.33% |  7.27%\n",
      "  5 | 00:00:06 | 75% | 75% |    25 | 23.37% |  13.51% |  13.94%\n",
      "  6 | 00:00:07 | 75% | 95% |    25 | 17.53% |  15.41% |  21.21%\n",
      "  7 | 00:00:08 | 50% | 75% |    25 | 24.33% |  14.11% |  14.55%\n",
      "  8 | 00:00:09 | 95% | 95% |    25 | 19.11% |  18.35% |  24.85%\n",
      "  9 | 00:00:10 | 50% | 95% |    25 | 20.74% |  13.94% |  16.36%\n",
      " 10 | 00:00:10 | 50% | 75% |    50 | 19.22% |  9.09% |  10.91%\n",
      " 11 | 00:00:12 | 75% | 95% |     5 | 12.40% |  9.87% |  15.15%\n",
      "Lookahead: 10 | Train:  20 | Test:  7 | Params:  12\n",
      "  0 | 00:00:01 | 75% | 75% |     5 |  8.83% |  3.72% |  12.73%\n",
      "  1 | 00:00:03 | 95% | 75% |     5 |  6.08% | -3.38% | -1.21%\n",
      "  2 | 00:00:04 | 50% | 75% |     5 | 12.76% |  7.45% |  16.97%\n",
      "  3 | 00:00:04 | 95% | 75% |    50 |  2.15% |  2.51% |  3.03%\n",
      "  4 | 00:00:05 | 75% | 75% |   100 | -18.63% | -22.93% | -20.51%\n",
      "  5 | 00:00:06 | 75% | 75% |    25 |  1.66% |  3.38% |  13.33%\n",
      "  6 | 00:00:06 | 75% | 95% |    25 | -1.28% |  1.39% |  12.73%\n",
      "  7 | 00:00:07 | 50% | 75% |    25 | -1.69% |  5.71% |  6.06%\n",
      "  8 | 00:00:08 | 95% | 95% |    25 | -2.49% | -1.21% |  9.09%\n",
      "  9 | 00:00:08 | 50% | 95% |    25 |  0.74% |  9.26% |  13.94%\n",
      " 10 | 00:00:09 | 50% | 75% |    50 | -19.75% | -19.82% | -23.85%\n",
      " 11 | 00:00:10 | 75% | 95% |     5 | 10.24% |  3.38% |  10.30%\n",
      "Lookahead: 10 | Train:  40 | Test: 14 | Params:  12\n",
      "  0 | 00:00:01 | 75% | 75% |     5 | 20.46% |  15.84% |  22.42%\n",
      "  1 | 00:00:03 | 95% | 75% |     5 | 19.36% |  18.10% |  16.97%\n",
      "  2 | 00:00:05 | 50% | 75% |     5 | 23.23% |  18.48% |  23.64%\n",
      "  3 | 00:00:05 | 95% | 75% |    50 | 23.08% |  18.31% |  23.03%\n",
      "  4 | 00:00:06 | 75% | 75% |   100 |  6.38% | -1.59% |  4.85%\n",
      "  5 | 00:00:07 | 75% | 75% |    25 | 21.00% |  19.70% |  25.45%\n",
      "  6 | 00:00:08 | 75% | 95% |    25 | 19.39% |  19.91% |  23.03%\n",
      "  7 | 00:00:09 | 50% | 75% |    25 | 22.96% |  19.05% |  18.18%\n",
      "  8 | 00:00:10 | 95% | 95% |    25 | 17.82% |  18.48% |  20.94%\n",
      "  9 | 00:00:11 | 50% | 95% |    25 | 22.48% |  20.51% |  21.82%\n",
      " 10 | 00:00:12 | 50% | 75% |    50 | 23.47% |  12.47% |  16.97%\n",
      " 11 | 00:00:14 | 75% | 95% |     5 | 15.53% |  16.10% |  22.42%\n",
      "Lookahead: 10 | Train:  20 | Test: 14 | Params:  12\n",
      "  0 | 00:00:01 | 75% | 75% |     5 |  5.70% |  10.00% |  9.09%\n",
      "  1 | 00:00:03 | 95% | 75% |     5 |  2.26% |  7.45% |  3.64%\n",
      "  2 | 00:00:04 | 50% | 75% |     5 |  7.82% |  9.31% |  10.91%\n",
      "  3 | 00:00:05 | 95% | 75% |    50 |  4.78% |  0.00% |  1.82%\n",
      "  4 | 00:00:06 | 75% | 75% |   100 | -6.75% | -1.78% |  0.96%\n",
      "  5 | 00:00:07 | 75% | 75% |    25 |  1.73% | -0.00% |  1.21%\n",
      "  6 | 00:00:08 | 75% | 95% |    25 | -8.76% | -2.94% | -0.61%\n",
      "  7 | 00:00:09 | 50% | 75% |    25 |  6.88% | -1.82% |  1.21%\n",
      "  8 | 00:00:10 | 95% | 95% |    25 | -25.16% | -2.47% | -10.30%\n",
      "  9 | 00:00:10 | 50% | 95% |    25 |  1.73% | -8.65% | -9.70%\n",
      " 10 | 00:00:11 | 50% | 75% |    50 |  8.86% | -3.82% |  7.11%\n",
      " 11 | 00:00:13 | 75% | 95% |     5 |  9.15% |  11.99% |  12.73%\n",
      "Lookahead: 10 | Train:  10 | Test: 14 | Params:  12\n",
      "  0 | 00:00:01 | 75% | 75% |     5 |  7.01% |  4.50% |  9.09%\n",
      "  1 | 00:00:03 | 95% | 75% |     5 | -0.22% |  0.95% | -1.82%\n",
      "  2 | 00:00:04 | 50% | 75% |     5 |  6.94% | -0.87% | -1.82%\n",
      "  3 | 00:00:04 | 95% | 75% |    50 |  7.28% | -23.47% | -18.85%\n",
      "  4 | 00:00:05 | 75% | 75% |   100 |   nan% |   nan% |   nan%\n",
      "  5 | 00:00:06 | 75% | 75% |    25 | -11.30% | -11.06% | -24.85%\n",
      "  6 | 00:00:07 | 75% | 95% |    25 | -18.12% | -10.69% | -19.45%\n",
      "  7 | 00:00:08 | 50% | 75% |    25 | -0.42% | -27.61% | -29.09%\n",
      "  8 | 00:00:09 | 95% | 95% |    25 | -29.28% | -16.52% | -24.85%\n",
      "  9 | 00:00:09 | 50% | 95% |    25 | -2.91% | -22.94% | -18.65%\n",
      " 10 | 00:00:10 | 50% | 75% |    50 | 11.02% | -18.86% | -19.44%\n",
      " 11 | 00:00:11 | 75% | 95% |     5 | 17.64% |  13.03% |  20.61%\n",
      "Lookahead: 21 | Train:  30 | Test: 14 | Params:  12\n",
      "  0 | 00:00:01 | 75% | 75% |     5 | 22.39% |  27.32% |  36.97%\n",
      "  1 | 00:00:03 | 95% | 75% |     5 | 18.19% |  21.43% |  34.55%\n",
      "  2 | 00:00:04 | 50% | 75% |     5 | 27.59% |  32.03% |  40.00%\n",
      "  3 | 00:00:06 | 95% | 75% |    50 | 18.94% |  24.58% |  38.18%\n",
      "  4 | 00:00:06 | 75% | 75% |   100 |  4.57% |  8.17% |  18.83%\n",
      "  5 | 00:00:07 | 75% | 75% |    25 | 21.61% |  25.67% |  36.97%\n",
      "  6 | 00:00:09 | 75% | 95% |    25 | 26.41% |  28.32% |  41.82%\n",
      "  7 | 00:00:10 | 50% | 75% |    25 | 23.84% |  24.20% |  33.94%\n",
      "  8 | 00:00:11 | 95% | 95% |    25 | 29.83% |  34.26% |  44.62%\n",
      "  9 | 00:00:12 | 50% | 95% |    25 | 25.43% |  24.98% |  33.94%\n",
      " 10 | 00:00:12 | 50% | 75% |    50 | 11.49% |  16.21% |  30.13%\n",
      " 11 | 00:00:14 | 75% | 95% |     5 | 27.74% |  29.78% |  35.76%\n",
      "Lookahead: 21 | Train:  40 | Test:  7 | Params:  12\n",
      "  0 | 00:00:01 | 75% | 75% |     5 |  9.06% |  6.84% |  4.85%\n",
      "  1 | 00:00:03 | 95% | 75% |     5 | -0.63% | -4.76% |  0.61%\n",
      "  2 | 00:00:04 | 50% | 75% |     5 | 20.63% |  14.11% |  13.94%\n",
      "  3 | 00:00:05 | 95% | 75% |    50 | 10.27% |  10.04% |  10.30%\n",
      "  4 | 00:00:05 | 75% | 75% |   100 | -8.03% | -14.00% | -6.37%\n",
      "  5 | 00:00:06 | 75% | 75% |    25 |  4.07% |  4.24% | -4.85%\n",
      "  6 | 00:00:07 | 75% | 95% |    25 |  3.99% |  5.11% | -1.21%\n",
      "  7 | 00:00:08 | 50% | 75% |    25 |  8.95% |  6.15% |  3.64%\n",
      "  8 | 00:00:08 | 95% | 95% |    25 |  2.62% |  1.86% | -4.56%\n",
      "  9 | 00:00:09 | 50% | 95% |    25 |  9.94% |  7.01% |  0.00%\n",
      " 10 | 00:00:10 | 50% | 75% |    50 | -0.38% | -3.80% | -3.64%\n",
      " 11 | 00:00:12 | 75% | 95% |     5 |  5.05% |  1.30% | -1.21%\n",
      "Lookahead: 21 | Train:  10 | Test:  7 | Params:  12\n",
      "  0 | 00:00:01 | 75% | 75% |     5 | -2.44% | -0.26% | -4.24%\n",
      "  1 | 00:00:02 | 95% | 75% |     5 | -9.15% | -10.04% | -10.30%\n",
      "  2 | 00:00:03 | 50% | 75% |     5 |  6.09% |  6.84% |  7.27%\n",
      "  3 | 00:00:04 | 95% | 75% |    50 | -8.73% | -15.95% | -20.70%\n",
      "  4 | 00:00:04 | 75% | 75% |   100 | -18.42% | -29.98% | -29.13%\n",
      "  5 | 00:00:05 | 75% | 75% |    25 | -7.37% | -16.03% | -6.06%\n",
      "  6 | 00:00:06 | 75% | 95% |    25 | -12.79% | -17.84% | -12.73%\n",
      "  7 | 00:00:06 | 50% | 75% |    25 | -6.98% | -15.19% | -9.70%\n",
      "  8 | 00:00:07 | 95% | 95% |    25 | -14.47% | -20.26% | -19.39%\n",
      "  9 | 00:00:08 | 50% | 95% |    25 | -7.57% | -17.40% | -8.48%\n",
      " 10 | 00:00:08 | 50% | 75% |    50 | -24.81% | -30.56% | -28.48%\n",
      " 11 | 00:00:10 | 75% | 95% |     5 | -3.84% | -6.67% | -7.88%\n",
      "Lookahead: 21 | Train:  50 | Test: 14 | Params:  12\n",
      "  0 | 00:00:02 | 75% | 75% |     5 | 11.31% |  21.34% |  33.33%\n",
      "  1 | 00:00:03 | 95% | 75% |     5 |  3.36% |  12.42% |  23.64%\n",
      "  2 | 00:00:05 | 50% | 75% |     5 | 14.10% |  26.06% |  37.58%\n",
      "  3 | 00:00:06 | 95% | 75% |    50 | 10.05% |  27.49% |  38.79%\n",
      "  4 | 00:00:06 | 75% | 75% |   100 |  3.52% |  5.71% |  17.58%\n",
      "  5 | 00:00:07 | 75% | 75% |    25 | 12.29% |  24.40% |  36.97%\n",
      "  6 | 00:00:09 | 75% | 95% |    25 |  7.38% |  18.69% |  26.06%\n",
      "  7 | 00:00:10 | 50% | 75% |    25 | 15.07% |  28.57% |  36.97%\n",
      "  8 | 00:00:11 | 95% | 95% |    25 |  4.06% |  16.84% |  21.82%\n",
      "  9 | 00:00:12 | 50% | 95% |    25 |  8.90% |  20.43% |  33.94%\n",
      " 10 | 00:00:13 | 50% | 75% |    50 |  6.20% |  17.12% |  20.00%\n",
      " 11 | 00:00:14 | 75% | 95% |     5 |  3.94% |  13.25% |  20.61%\n",
      "Lookahead: 21 | Train:  60 | Test: 14 | Params:  12\n",
      "  0 | 00:00:02 | 75% | 75% |     5 | 13.96% |  23.29% |  26.67%\n",
      "  1 | 00:00:03 | 95% | 75% |     5 | 13.71% |  22.73% |  21.82%\n",
      "  2 | 00:00:05 | 50% | 75% |     5 | 21.31% |  32.86% |  36.36%\n",
      "  3 | 00:00:06 | 95% | 75% |    50 |  9.57% |  15.84% |  22.42%\n",
      "  4 | 00:00:07 | 75% | 75% |   100 |  5.07% |  5.18% |  9.09%\n",
      "  5 | 00:00:08 | 75% | 75% |    25 | 15.40% |  25.97% |  26.67%\n",
      "  6 | 00:00:09 | 75% | 95% |    25 | 14.04% |  22.14% |  23.64%\n",
      "  7 | 00:00:10 | 50% | 75% |    25 | 17.59% |  25.11% |  26.06%\n",
      "  8 | 00:00:11 | 95% | 95% |    25 | 13.79% |  21.65% |  21.82%\n"
     ]
    },
    {
     "name": "stdout",
     "output_type": "stream",
     "text": [
      "  9 | 00:00:12 | 50% | 95% |    25 | 13.23% |  19.22% |  26.06%\n",
      " 10 | 00:00:13 | 50% | 75% |    50 |  8.54% |  13.31% |  18.79%\n",
      " 11 | 00:00:15 | 75% | 95% |     5 | 12.04% |  18.34% |  19.12%\n",
      "Lookahead: 21 | Train:  30 | Test:  7 | Params:  12\n",
      "  0 | 00:00:01 | 75% | 75% |     5 | 22.59% |  20.52% |  21.21%\n",
      "  1 | 00:00:02 | 95% | 75% |     5 | 12.33% |  10.30% |  9.09%\n",
      "  2 | 00:00:04 | 50% | 75% |     5 | 25.83% |  24.33% |  30.30%\n",
      "  3 | 00:00:05 | 95% | 75% |    50 |  7.73% |  2.86% |  1.82%\n",
      "  4 | 00:00:06 | 75% | 75% |   100 | -26.09% | -28.35% | -23.11%\n",
      "  5 | 00:00:07 | 75% | 75% |    25 | 14.46% |  10.30% |  17.58%\n",
      "  6 | 00:00:08 | 75% | 95% |    25 |  9.14% |  4.76% |  11.52%\n",
      "  7 | 00:00:09 | 50% | 75% |    25 | 12.45% |  6.06% |  13.33%\n",
      "  8 | 00:00:10 | 95% | 95% |    25 | 10.64% |  8.31% |  9.70%\n",
      "  9 | 00:00:11 | 50% | 95% |    25 | 13.76% |  6.49% |  15.15%\n",
      " 10 | 00:00:12 | 50% | 75% |    50 | -4.12% | -5.19% |  0.00%\n",
      " 11 | 00:00:15 | 75% | 95% |     5 | 22.03% |  16.28% |  24.85%\n",
      "Lookahead: 21 | Train:  50 | Test:  7 | Params:  12\n",
      "  0 | 00:00:02 | 75% | 75% |     5 |  7.14% |  1.82% |  1.82%\n",
      "  1 | 00:00:04 | 95% | 75% |     5 |  4.22% | -0.78% | -3.03%\n",
      "  2 | 00:00:05 | 50% | 75% |     5 |  9.28% |  6.84% |  4.85%\n",
      "  3 | 00:00:06 | 95% | 75% |    50 |  8.10% |  4.50% |  7.88%\n",
      "  4 | 00:00:07 | 75% | 75% |   100 | -7.19% | -9.61% | -7.88%\n",
      "  5 | 00:00:08 | 75% | 75% |    25 |  8.69% |  3.90% |  2.42%\n",
      "  6 | 00:00:09 | 75% | 95% |    25 | -3.85% | -9.52% | -4.85%\n",
      "  7 | 00:00:10 | 50% | 75% |    25 | 17.70% |  12.90% |  18.79%\n",
      "  8 | 00:00:11 | 95% | 95% |    25 | -13.62% | -14.11% | -9.09%\n",
      "  9 | 00:00:11 | 50% | 95% |    25 |  8.22% |  3.38% |  3.64%\n",
      " 10 | 00:00:12 | 50% | 75% |    50 | 11.97% |  5.09% |  7.27%\n",
      " 11 | 00:00:13 | 75% | 95% |     5 |  0.86% | -4.85% | -10.91%\n",
      "Lookahead: 21 | Train:  60 | Test:  7 | Params:  12\n",
      "  0 | 00:00:01 | 75% | 75% |     5 |  7.51% |  3.72% |  6.06%\n",
      "  1 | 00:00:03 | 95% | 75% |     5 |  6.40% |  2.16% |  3.64%\n",
      "  2 | 00:00:04 | 50% | 75% |     5 | 18.61% |  13.94% |  20.00%\n",
      "  3 | 00:00:05 | 95% | 75% |    50 |  6.79% |  6.49% |  9.70%\n",
      "  4 | 00:00:06 | 75% | 75% |   100 | -6.68% | -8.40% |  0.00%\n",
      "  5 | 00:00:07 | 75% | 75% |    25 | 15.23% |  7.19% |  9.09%\n",
      "  6 | 00:00:07 | 75% | 95% |    25 |  5.44% |  0.17% |  10.91%\n",
      "  7 | 00:00:08 | 50% | 75% |    25 | 26.65% |  17.49% |  18.79%\n",
      "  8 | 00:00:09 | 95% | 95% |    25 |  0.50% |  4.50% |  14.55%\n",
      "  9 | 00:00:10 | 50% | 95% |    25 |  7.90% |  4.94% |  8.48%\n",
      " 10 | 00:00:11 | 50% | 75% |    50 |  5.35% |  0.18% |  3.03%\n",
      " 11 | 00:00:12 | 75% | 95% |     5 | -5.36% | -8.31% |  0.61%\n",
      "Lookahead: 21 | Train:  20 | Test:  7 | Params:  12\n",
      "  0 | 00:00:01 | 75% | 75% |     5 | 10.73% |  11.77% |  11.52%\n",
      "  1 | 00:00:02 | 95% | 75% |     5 |  8.05% |  6.67% |  6.67%\n",
      "  2 | 00:00:04 | 50% | 75% |     5 | 25.44% |  20.09% |  29.70%\n",
      "  3 | 00:00:04 | 95% | 75% |    50 | -7.81% | -12.21% | -12.12%\n",
      "  4 | 00:00:05 | 75% | 75% |   100 | -5.83% | -19.18% | -19.74%\n",
      "  5 | 00:00:06 | 75% | 75% |    25 | -2.84% | -7.71% | -0.61%\n",
      "  6 | 00:00:06 | 75% | 95% |    25 | -9.56% | -12.55% | -5.45%\n",
      "  7 | 00:00:07 | 50% | 75% |    25 |  8.35% |  0.43% |  4.85%\n",
      "  8 | 00:00:08 | 95% | 95% |    25 | -12.90% | -12.99% | -6.67%\n",
      "  9 | 00:00:08 | 50% | 95% |    25 |  6.53% | -3.20% |  2.42%\n",
      " 10 | 00:00:09 | 50% | 75% |    50 | -5.80% | -9.69% | -8.20%\n",
      " 11 | 00:00:11 | 75% | 95% |     5 | -2.21% | -2.94% | -2.42%\n",
      "Lookahead: 21 | Train:  40 | Test: 14 | Params:  12\n",
      "  0 | 00:00:02 | 75% | 75% |     5 | 11.05% |  22.51% |  34.55%\n",
      "  1 | 00:00:03 | 95% | 75% |     5 |  8.14% |  18.40% |  29.70%\n",
      "  2 | 00:00:05 | 50% | 75% |     5 | 25.55% |  34.59% |  40.00%\n",
      "  3 | 00:00:06 | 95% | 75% |    50 | 18.71% |  35.17% |  48.48%\n",
      "  4 | 00:00:07 | 75% | 75% |   100 |  8.45% |  10.00% |  10.94%\n",
      "  5 | 00:00:08 | 75% | 75% |    25 | 14.47% |  25.71% |  33.94%\n",
      "  6 | 00:00:09 | 75% | 95% |    25 | 17.17% |  28.29% |  38.79%\n",
      "  7 | 00:00:10 | 50% | 75% |    25 | 20.76% |  29.61% |  41.21%\n",
      "  8 | 00:00:11 | 95% | 95% |    25 | 12.02% |  24.99% |  37.58%\n",
      "  9 | 00:00:12 | 50% | 95% |    25 | 19.64% |  29.44% |  43.64%\n",
      " 10 | 00:00:13 | 50% | 75% |    50 | 10.59% |  14.71% |  21.82%\n",
      " 11 | 00:00:14 | 75% | 95% |     5 |  9.78% |  19.61% |  32.12%\n",
      "Lookahead: 21 | Train:  20 | Test: 14 | Params:  12\n",
      "  0 | 00:00:02 | 75% | 75% |     5 | 14.43% |  25.71% |  35.76%\n",
      "  1 | 00:00:03 | 95% | 75% |     5 |  8.56% |  15.54% |  30.91%\n",
      "  2 | 00:00:04 | 50% | 75% |     5 | 28.21% |  34.37% |  43.03%\n",
      "  3 | 00:00:06 | 95% | 75% |    50 |  8.31% |  17.31% |  23.64%\n",
      "  4 | 00:00:06 | 75% | 75% |   100 |  2.41% |  7.65% |  12.59%\n",
      "  5 | 00:00:07 | 75% | 75% |    25 | 10.48% |  21.08% |  35.15%\n",
      "  6 | 00:00:08 | 75% | 95% |    25 |  9.76% |  22.53% |  34.55%\n",
      "  7 | 00:00:09 | 50% | 75% |    25 | 17.64% |  24.87% |  37.58%\n",
      "  8 | 00:00:10 | 95% | 95% |    25 |  7.80% |  20.03% |  36.36%\n",
      "  9 | 00:00:12 | 50% | 95% |    25 | 14.68% |  22.34% |  36.97%\n",
      " 10 | 00:00:13 | 50% | 75% |    50 |  7.63% |  11.75% |  29.27%\n",
      " 11 | 00:00:14 | 75% | 95% |     5 | 10.07% |  22.77% |  35.15%\n",
      "Lookahead: 21 | Train:  10 | Test: 14 | Params:  12\n",
      "  0 | 00:00:02 | 75% | 75% |     5 |  7.84% |  19.74% |  36.97%\n",
      "  1 | 00:00:03 | 95% | 75% |     5 |  5.26% |  14.85% |  34.55%\n",
      "  2 | 00:00:05 | 50% | 75% |     5 | 10.17% |  25.15% |  35.76%\n",
      "  3 | 00:00:06 | 95% | 75% |    50 | -0.61% |  14.06% |  21.82%\n",
      "  4 | 00:00:06 | 75% | 75% |   100 |  2.44% |  6.35% |  16.32%\n",
      "  5 | 00:00:07 | 75% | 75% |    25 |  6.91% |  18.52% |  23.03%\n",
      "  6 | 00:00:08 | 75% | 95% |    25 |  5.90% |  17.75% |  24.24%\n",
      "  7 | 00:00:09 | 50% | 75% |    25 |  7.63% |  22.28% |  34.55%\n",
      "  8 | 00:00:10 | 95% | 95% |    25 |  3.47% |  15.61% |  27.88%\n",
      "  9 | 00:00:11 | 50% | 95% |    25 |  6.96% |  19.56% |  29.70%\n",
      " 10 | 00:00:12 | 50% | 75% |    50 | -0.20% |  11.58% |  21.84%\n",
      " 11 | 00:00:13 | 75% | 95% |     5 |  6.02% |  20.30% |  40.61%\n"
     ]
    }
   ],
   "source": [
    "for lookahead in lookaheads:\n",
    "    for train_length, test_length in test_params_:\n",
    "        n_splits = 2\n",
    "        print(f'Lookahead: {lookahead:2.0f} | Train: {train_length:3.0f} | '\n",
    "              f'Test: {test_length:2.0f} | Params: {len(cv_params_):3.0f}')\n",
    "\n",
    "        cv = MultipleTimeSeriesCV(n_splits=n_splits,\n",
    "                                  test_period_length=test_length,\n",
    "                                  train_period_length=train_length,\n",
    "                                  lookahead=lookahead)\n",
    "\n",
    "        label = label_dict[lookahead]\n",
    "        outcome_data = data.loc[:, features + [label]].dropna()\n",
    "\n",
    "        lgb_data = lgb.Dataset(data=outcome_data.drop(label, axis=1),\n",
    "                               label=outcome_data[label],\n",
    "                               #categorical_feature=categoricals,\n",
    "                               free_raw_data=False)\n",
    "        \n",
    "        predictions, daily_ic, ic, feature_importance = [], [], [], []\n",
    "        key = f'{lookahead}/{train_length}/{test_length}'\n",
    "        T = 0\n",
    "        for p, (bagging_fraction, feature_fraction, min_data_in_leaf) in enumerate(cv_params_):\n",
    "            params = base_params.copy()\n",
    "            params.update(dict(bagging_fraction=bagging_fraction,\n",
    "                               feature_fraction=feature_fraction,\n",
    "                               min_data_in_leaf=min_data_in_leaf))\n",
    "\n",
    "            start = time()\n",
    "            cv_preds, nrounds = [], []\n",
    "            for i, (train_idx, test_idx) in enumerate(cv.split(X=outcome_data)):\n",
    "                \n",
    "                lgb_train = lgb_data.subset(train_idx.tolist()).construct()\n",
    "                lgb_test = lgb_data.subset(test_idx.tolist()).construct()\n",
    "\n",
    "                model = lgb.train(params=params,\n",
    "                                  train_set=lgb_train,\n",
    "                                  num_boost_round=num_boost_round,\n",
    "                                  verbose_eval=False)\n",
    "                if i == 0:\n",
    "                    fi = get_fi(model).to_frame()\n",
    "                else:\n",
    "                    fi[i] = get_fi(model)\n",
    "\n",
    "                test_set = outcome_data.iloc[test_idx, :]\n",
    "                X_test = test_set.loc[:, model.feature_name()]\n",
    "                y_test = test_set.loc[:, label]\n",
    "                y_pred = {str(n): model.predict(X_test, num_iteration=n)\n",
    "                          for n in num_iterations}\n",
    "                cv_preds.append(y_test.to_frame(\n",
    "                    'y_test').assign(**y_pred).assign(i=i))\n",
    "                nrounds.append(model.best_iteration)\n",
    "            feature_importance.append(fi.T.describe().T.assign(bagging_fraction=bagging_fraction,\n",
    "                                                               feature_fraction=feature_fraction,\n",
    "                                                               min_data_in_leaf=min_data_in_leaf))\n",
    "            cv_preds = pd.concat(cv_preds).assign(bagging_fraction=bagging_fraction,\n",
    "                                                  feature_fraction=feature_fraction,\n",
    "                                                  min_data_in_leaf=min_data_in_leaf)\n",
    "\n",
    "            predictions.append(cv_preds)\n",
    "            by_day = cv_preds.groupby(level='date')\n",
    "            ic_by_day = pd.concat([by_day.apply(lambda x: spearmanr(x.y_test,\n",
    "                                                                    x[str(n)])[0]).to_frame(n)\n",
    "                                   for n in num_iterations], axis=1)\n",
    "\n",
    "            daily_ic.append(ic_by_day.assign(bagging_fraction=bagging_fraction,\n",
    "                                             feature_fraction=feature_fraction,\n",
    "                                             min_data_in_leaf=min_data_in_leaf))\n",
    "\n",
    "            cv_ic = [spearmanr(cv_preds.y_test, cv_preds[str(n)])[0]\n",
    "                  for n in num_iterations]\n",
    "\n",
    "            T += time() - start\n",
    "            ic.append([bagging_fraction, feature_fraction,\n",
    "                       min_data_in_leaf, lookahead] + cv_ic)\n",
    "\n",
    "            msg = f'{p:3.0f} | {format_time(T)} | '\n",
    "            msg += f'{bagging_fraction:3.0%} | {feature_fraction:3.0%} | {min_data_in_leaf:5,.0f} | '\n",
    "            msg += f'{max(cv_ic):6.2%} | {ic_by_day.mean().max(): 6.2%} | {ic_by_day.median().max(): 6.2%}'\n",
    "            print(msg)\n",
    "\n",
    "        m = pd.DataFrame(ic, columns=ic_cols)\n",
    "        m.to_hdf(cv_store, 'ic/' + key)\n",
    "        pd.concat(daily_ic).to_hdf(cv_store, 'daily_ic/' + key)\n",
    "        pd.concat(feature_importance).to_hdf(cv_store, 'fi/' + key)\n",
    "        pd.concat(predictions).to_hdf(cv_store, 'predictions/' + key)"
   ]
  },
  {
   "cell_type": "markdown",
   "metadata": {},
   "source": [
    "## Analyse Cross-Validation Results"
   ]
  },
  {
   "cell_type": "markdown",
   "metadata": {},
   "source": [
    "### Collect Data"
   ]
  },
  {
   "cell_type": "markdown",
   "metadata": {},
   "source": [
    "We'll now combine the CV results that we stored separately for each fold (to avoid loosing results in case something goes wrong along the way):"
   ]
  },
  {
   "cell_type": "code",
   "execution_count": 42,
   "metadata": {
    "ExecuteTime": {
     "end_time": "2020-06-22T15:52:23.189658Z",
     "start_time": "2020-06-22T15:52:23.187264Z"
    }
   },
   "outputs": [],
   "source": [
    "id_vars = ['train_length',\n",
    "           'test_length',\n",
    "           'bagging_fraction',\n",
    "           'feature_fraction',\n",
    "           'min_data_in_leaf',\n",
    "           't', 'date']"
   ]
  },
  {
   "cell_type": "markdown",
   "metadata": {},
   "source": [
    "We'll look at the financial performance in the notebook `alphalens_signal_quality`."
   ]
  },
  {
   "cell_type": "code",
   "execution_count": 43,
   "metadata": {
    "ExecuteTime": {
     "end_time": "2020-06-22T15:52:25.964620Z",
     "start_time": "2020-06-22T15:52:24.006439Z"
    },
    "scrolled": true
   },
   "outputs": [
    {
     "name": "stdout",
     "output_type": "stream",
     "text": [
      "1\n",
      "60 14\n",
      "60 7\n",
      "50 14\n",
      "50 7\n",
      "40 14\n",
      "40 7\n",
      "30 14\n",
      "30 7\n",
      "20 14\n",
      "20 7\n",
      "10 14\n",
      "10 7\n",
      "60 14\n",
      "60 7\n",
      "50 14\n",
      "50 7\n",
      "40 14\n",
      "40 7\n",
      "30 14\n",
      "30 7\n",
      "20 14\n",
      "20 7\n",
      "10 14\n",
      "10 7\n",
      "5\n",
      "60 14\n",
      "60 7\n",
      "50 14\n",
      "50 7\n",
      "40 14\n",
      "40 7\n",
      "30 14\n",
      "30 7\n",
      "20 14\n",
      "20 7\n",
      "10 14\n",
      "10 7\n",
      "10\n",
      "60 14\n",
      "60 7\n",
      "50 14\n",
      "50 7\n",
      "40 14\n",
      "40 7\n",
      "30 14\n",
      "30 7\n",
      "20 14\n",
      "20 7\n",
      "10 14\n",
      "10 7\n",
      "21\n",
      "60 14\n",
      "60 7\n",
      "50 14\n",
      "50 7\n",
      "40 14\n",
      "40 7\n",
      "30 14\n",
      "30 7\n",
      "20 14\n",
      "20 7\n",
      "10 14\n",
      "10 7\n"
     ]
    }
   ],
   "source": [
    "daily_ic, ic = [], []\n",
    "for t in lookaheads:\n",
    "    print(t)\n",
    "    with pd.HDFStore(cv_store) as store:\n",
    "        keys = [k[1:] for k in store.keys() if k.startswith(f'/fi/{t}')]\n",
    "        for key in keys:\n",
    "            train_length, test_length = key.split('/')[2:]\n",
    "            print(train_length, test_length)\n",
    "            k = f'{t}/{train_length}/{test_length}'\n",
    "            cols = {'t': t,\n",
    "                    'train_length': int(train_length),\n",
    "                    'test_length': int(test_length)}\n",
    "\n",
    "            ic.append(pd.melt(store['ic/' + k]\n",
    "                              .assign(**cols),\n",
    "                              id_vars=id_vars[:-1],\n",
    "                              value_name='ic',\n",
    "                              var_name='rounds')\n",
    "                      .apply(pd.to_numeric))\n",
    "\n",
    "            df = store['daily_ic/' + k].assign(**cols).reset_index()\n",
    "            daily_ic.append(pd.melt(df,\n",
    "                                    id_vars=id_vars,\n",
    "                                    value_name='daily_ic',\n",
    "                                    var_name='rounds')\n",
    "                            .set_index('date')\n",
    "                            .apply(pd.to_numeric)\n",
    "                            .reset_index())            \n",
    "ic = pd.concat(ic, ignore_index=True)\n",
    "daily_ic = pd.concat(daily_ic, ignore_index=True)"
   ]
  },
  {
   "cell_type": "markdown",
   "metadata": {},
   "source": [
    "### Predictive Performance: CV Information Coefficient by Day"
   ]
  },
  {
   "cell_type": "code",
   "execution_count": 44,
   "metadata": {
    "ExecuteTime": {
     "end_time": "2020-06-22T15:55:14.425544Z",
     "start_time": "2020-06-22T15:55:14.148391Z"
    }
   },
   "outputs": [
    {
     "data": {
      "text/html": [
       "<div>\n",
       "<style scoped>\n",
       "    .dataframe tbody tr th:only-of-type {\n",
       "        vertical-align: middle;\n",
       "    }\n",
       "\n",
       "    .dataframe tbody tr th {\n",
       "        vertical-align: top;\n",
       "    }\n",
       "\n",
       "    .dataframe thead th {\n",
       "        text-align: right;\n",
       "    }\n",
       "</style>\n",
       "<table border=\"1\" class=\"dataframe\">\n",
       "  <thead>\n",
       "    <tr style=\"text-align: right;\">\n",
       "      <th></th>\n",
       "      <th>t</th>\n",
       "      <th>train_length</th>\n",
       "      <th>test_length</th>\n",
       "      <th>bagging_fraction</th>\n",
       "      <th>feature_fraction</th>\n",
       "      <th>min_data_in_leaf</th>\n",
       "      <th>rounds</th>\n",
       "      <th>ic</th>\n",
       "    </tr>\n",
       "  </thead>\n",
       "  <tbody>\n",
       "    <tr>\n",
       "      <th>660</th>\n",
       "      <td>1</td>\n",
       "      <td>20</td>\n",
       "      <td>7</td>\n",
       "      <td>0.95</td>\n",
       "      <td>0.75</td>\n",
       "      <td>5</td>\n",
       "      <td>25</td>\n",
       "      <td>0.154113</td>\n",
       "    </tr>\n",
       "    <tr>\n",
       "      <th>661</th>\n",
       "      <td>1</td>\n",
       "      <td>20</td>\n",
       "      <td>7</td>\n",
       "      <td>0.95</td>\n",
       "      <td>0.75</td>\n",
       "      <td>5</td>\n",
       "      <td>50</td>\n",
       "      <td>0.135065</td>\n",
       "    </tr>\n",
       "    <tr>\n",
       "      <th>662</th>\n",
       "      <td>1</td>\n",
       "      <td>20</td>\n",
       "      <td>7</td>\n",
       "      <td>0.95</td>\n",
       "      <td>0.75</td>\n",
       "      <td>5</td>\n",
       "      <td>75</td>\n",
       "      <td>0.119481</td>\n",
       "    </tr>\n",
       "    <tr>\n",
       "      <th>5401</th>\n",
       "      <td>5</td>\n",
       "      <td>60</td>\n",
       "      <td>7</td>\n",
       "      <td>0.75</td>\n",
       "      <td>0.75</td>\n",
       "      <td>100</td>\n",
       "      <td>50</td>\n",
       "      <td>0.182684</td>\n",
       "    </tr>\n",
       "    <tr>\n",
       "      <th>4841</th>\n",
       "      <td>5</td>\n",
       "      <td>50</td>\n",
       "      <td>7</td>\n",
       "      <td>0.50</td>\n",
       "      <td>0.75</td>\n",
       "      <td>50</td>\n",
       "      <td>50</td>\n",
       "      <td>0.180952</td>\n",
       "    </tr>\n",
       "    <tr>\n",
       "      <th>4840</th>\n",
       "      <td>5</td>\n",
       "      <td>50</td>\n",
       "      <td>7</td>\n",
       "      <td>0.50</td>\n",
       "      <td>0.75</td>\n",
       "      <td>50</td>\n",
       "      <td>25</td>\n",
       "      <td>0.175758</td>\n",
       "    </tr>\n",
       "    <tr>\n",
       "      <th>7180</th>\n",
       "      <td>10</td>\n",
       "      <td>30</td>\n",
       "      <td>14</td>\n",
       "      <td>0.95</td>\n",
       "      <td>0.95</td>\n",
       "      <td>25</td>\n",
       "      <td>25</td>\n",
       "      <td>0.292614</td>\n",
       "    </tr>\n",
       "    <tr>\n",
       "      <th>7863</th>\n",
       "      <td>10</td>\n",
       "      <td>50</td>\n",
       "      <td>7</td>\n",
       "      <td>0.95</td>\n",
       "      <td>0.75</td>\n",
       "      <td>5</td>\n",
       "      <td>100</td>\n",
       "      <td>0.289177</td>\n",
       "    </tr>\n",
       "    <tr>\n",
       "      <th>7199</th>\n",
       "      <td>10</td>\n",
       "      <td>30</td>\n",
       "      <td>14</td>\n",
       "      <td>0.95</td>\n",
       "      <td>0.95</td>\n",
       "      <td>25</td>\n",
       "      <td>500</td>\n",
       "      <td>0.277324</td>\n",
       "    </tr>\n",
       "    <tr>\n",
       "      <th>10520</th>\n",
       "      <td>21</td>\n",
       "      <td>40</td>\n",
       "      <td>14</td>\n",
       "      <td>0.95</td>\n",
       "      <td>0.75</td>\n",
       "      <td>50</td>\n",
       "      <td>25</td>\n",
       "      <td>0.351708</td>\n",
       "    </tr>\n",
       "    <tr>\n",
       "      <th>10320</th>\n",
       "      <td>21</td>\n",
       "      <td>40</td>\n",
       "      <td>14</td>\n",
       "      <td>0.50</td>\n",
       "      <td>0.75</td>\n",
       "      <td>5</td>\n",
       "      <td>25</td>\n",
       "      <td>0.345887</td>\n",
       "    </tr>\n",
       "    <tr>\n",
       "      <th>9362</th>\n",
       "      <td>21</td>\n",
       "      <td>20</td>\n",
       "      <td>14</td>\n",
       "      <td>0.50</td>\n",
       "      <td>0.75</td>\n",
       "      <td>5</td>\n",
       "      <td>75</td>\n",
       "      <td>0.343723</td>\n",
       "    </tr>\n",
       "  </tbody>\n",
       "</table>\n",
       "</div>"
      ],
      "text/plain": [
       "        t  train_length  test_length  bagging_fraction  feature_fraction  \\\n",
       "660     1            20            7              0.95              0.75   \n",
       "661     1            20            7              0.95              0.75   \n",
       "662     1            20            7              0.95              0.75   \n",
       "5401    5            60            7              0.75              0.75   \n",
       "4841    5            50            7              0.50              0.75   \n",
       "4840    5            50            7              0.50              0.75   \n",
       "7180   10            30           14              0.95              0.95   \n",
       "7863   10            50            7              0.95              0.75   \n",
       "7199   10            30           14              0.95              0.95   \n",
       "10520  21            40           14              0.95              0.75   \n",
       "10320  21            40           14              0.50              0.75   \n",
       "9362   21            20           14              0.50              0.75   \n",
       "\n",
       "       min_data_in_leaf  rounds        ic  \n",
       "660                   5      25  0.154113  \n",
       "661                   5      50  0.135065  \n",
       "662                   5      75  0.119481  \n",
       "5401                100      50  0.182684  \n",
       "4841                 50      50  0.180952  \n",
       "4840                 50      25  0.175758  \n",
       "7180                 25      25  0.292614  \n",
       "7863                  5     100  0.289177  \n",
       "7199                 25     500  0.277324  \n",
       "10520                50      25  0.351708  \n",
       "10320                 5      25  0.345887  \n",
       "9362                  5      75  0.343723  "
      ]
     },
     "execution_count": 44,
     "metadata": {},
     "output_type": "execute_result"
    }
   ],
   "source": [
    "group_cols = ['t','train_length', 'test_length', \n",
    "              'bagging_fraction', 'feature_fraction', 'min_data_in_leaf']\n",
    "daily_ic_avg = daily_ic.groupby(group_cols + ['rounds']).daily_ic.mean().to_frame('ic').reset_index()\n",
    "daily_ic_avg.groupby('t', group_keys=False).apply(lambda x: x.nlargest(3, 'ic'))"
   ]
  },
  {
   "cell_type": "code",
   "execution_count": 45,
   "metadata": {
    "ExecuteTime": {
     "end_time": "2020-06-20T13:37:55.827034Z",
     "start_time": "2020-06-20T13:37:55.821458Z"
    }
   },
   "outputs": [
    {
     "name": "stdout",
     "output_type": "stream",
     "text": [
      "<class 'pandas.core.frame.DataFrame'>\n",
      "RangeIndex: 11520 entries, 0 to 11519\n",
      "Data columns (total 8 columns):\n",
      " #   Column            Non-Null Count  Dtype  \n",
      "---  ------            --------------  -----  \n",
      " 0   t                 11520 non-null  int64  \n",
      " 1   train_length      11520 non-null  int64  \n",
      " 2   test_length       11520 non-null  int64  \n",
      " 3   bagging_fraction  11520 non-null  float64\n",
      " 4   feature_fraction  11520 non-null  float64\n",
      " 5   min_data_in_leaf  11520 non-null  int64  \n",
      " 6   rounds            11520 non-null  int64  \n",
      " 7   ic                11238 non-null  float64\n",
      "dtypes: float64(3), int64(5)\n",
      "memory usage: 720.1 KB\n"
     ]
    }
   ],
   "source": [
    "daily_ic_avg.info(null_counts=True)"
   ]
  },
  {
   "cell_type": "markdown",
   "metadata": {},
   "source": [
    "For a 1-day forecast horizon, over 75% of the predictions yield a positive daily IC; the same is true for 21 days which, unsurprisingly, also shows a wider range."
   ]
  },
  {
   "cell_type": "code",
   "execution_count": 46,
   "metadata": {
    "ExecuteTime": {
     "end_time": "2020-06-20T13:37:55.975544Z",
     "start_time": "2020-06-20T13:37:55.828099Z"
    }
   },
   "outputs": [
    {
     "data": {
      "image/png": "[encoded data removed]",
      "text/plain": [
       "<Figure size 432x288 with 1 Axes>"
      ]
     },
     "metadata": {},
     "output_type": "display_data"
    }
   ],
   "source": [
    "ax = sns.boxenplot(x='t', y='ic', data=daily_ic_avg)\n",
    "ax.axhline(0, ls='--', lw=1, c='k');"
   ]
  },
  {
   "cell_type": "code",
   "execution_count": 47,
   "metadata": {
    "ExecuteTime": {
     "end_time": "2020-06-20T13:37:56.790436Z",
     "start_time": "2020-06-20T13:37:55.976638Z"
    }
   },
   "outputs": [
    {
     "data": {
      "image/png": "[encoded data removed]",
      "text/plain": [
       "<Figure size 2160x360 with 6 Axes>"
      ]
     },
     "metadata": {},
     "output_type": "display_data"
    }
   ],
   "source": [
    "g = sns.catplot(x='t',\n",
    "                y='ic',\n",
    "                col='train_length',\n",
    "                row='test_length',\n",
    "                data=daily_ic_avg[(daily_ic_avg.test_length == 7)],\n",
    "                kind='boxen')\n",
    "\n",
    "g.savefig(results_path / 'daily_ic_test_21', dpi=300);"
   ]
  },
  {
   "cell_type": "markdown",
   "metadata": {},
   "source": [
    "### HyperParameter Impact: Linear Regression"
   ]
  },
  {
   "cell_type": "code",
   "execution_count": 48,
   "metadata": {
    "ExecuteTime": {
     "end_time": "2020-06-20T13:37:56.828564Z",
     "start_time": "2020-06-20T13:37:56.791564Z"
    }
   },
   "outputs": [],
   "source": [
    "lin_reg = {}\n",
    "for t in [1, 5]:\n",
    "    df_ = daily_ic_avg[(daily_ic_avg.t==t)&(daily_ic_avg.rounds<=250)].dropna()\n",
    "    y, X = df_.ic, df_.drop(['ic', 't'], axis=1)\n",
    "    X = sm.add_constant(pd.get_dummies(X, columns=X.columns, drop_first=True))\n",
    "    model = sm.OLS(endog=y, exog=X)\n",
    "    lin_reg[t] = model.fit()\n",
    "    s = lin_reg[t].summary()\n",
    "    coefs = pd.read_csv(StringIO(s.tables[1].as_csv())).rename(\n",
    "        columns=lambda x: x.strip())\n",
    "    coefs.columns = ['variable', 'coef', 'std_err',\n",
    "                     't', 'p_value', 'ci_low', 'ci_high']\n",
    "    coefs.to_csv(results_path / f'lr_result_{t:02}.csv', index=False)"
   ]
  },
  {
   "cell_type": "code",
   "execution_count": 49,
   "metadata": {
    "ExecuteTime": {
     "end_time": "2020-06-20T13:37:56.840477Z",
     "start_time": "2020-06-20T13:37:56.829569Z"
    }
   },
   "outputs": [],
   "source": [
    "def visualize_lr_result(model, ax):\n",
    "    \n",
    "    ci = model.conf_int()\n",
    "    errors = ci[1].sub(ci[0]).div(2)\n",
    "\n",
    "    coefs = (model.params.to_frame('coef').assign(error=errors)\n",
    "             .reset_index().rename(columns={'index': 'variable'}))\n",
    "    coefs = coefs[~coefs['variable'].str.startswith(\n",
    "        'date') & (coefs.variable != 'const')]\n",
    "    coefs.variable = coefs.variable.str.split('_').str[-1]\n",
    "\n",
    "    coefs.plot(x='variable', y='coef', kind='bar', ax=ax, \n",
    "               color='none', capsize=3, yerr='error', legend=False, rot=0)    \n",
    "    ax.set_ylabel('IC')\n",
    "    ax.set_xlabel('')\n",
    "    ax.scatter(x=pd.np.arange(len(coefs)), marker='_', s=120, y=coefs['coef'], color='black')\n",
    "    ax.axhline(y=0, linestyle='--', color='black', linewidth=1)\n",
    "    ax.xaxis.set_ticks_position('none')\n",
    "\n",
    "    ax.annotate('Train\\nLength', xy=(.09, -0.1), xytext=(.09, -0.2),\n",
    "                xycoords='axes fraction',\n",
    "                textcoords='axes fraction',\n",
    "                fontsize=11, ha='center', va='bottom',\n",
    "                bbox=dict(boxstyle='square', fc='white', ec='black'),\n",
    "                arrowprops=dict(arrowstyle='-[, widthB=5, lengthB=0.8', lw=1.0, color='black'))\n",
    "\n",
    "    ax.annotate('Test\\nLength', xy=(.23, -0.1), xytext=(.23, -0.2),\n",
    "                xycoords='axes fraction',\n",
    "                textcoords='axes fraction',\n",
    "                fontsize=11, ha='center', va='bottom',\n",
    "                bbox=dict(boxstyle='square', fc='white', ec='black'),\n",
    "                arrowprops=dict(arrowstyle='-[, widthB=2, lengthB=0.8', lw=1.0, color='black'))\n",
    "\n",
    "    ax.annotate('Bagging\\nFraction', xy=(.32, -0.1), xytext=(.32, -0.2),\n",
    "                xycoords='axes fraction',\n",
    "                textcoords='axes fraction',\n",
    "                fontsize=11, ha='center', va='bottom',\n",
    "                bbox=dict(boxstyle='square', fc='white', ec='black'),\n",
    "                arrowprops=dict(arrowstyle='-[, widthB=2.7, lengthB=0.8', lw=1.0, color='black'))\n",
    "\n",
    "\n",
    "    ax.annotate('Feature\\nFraction', xy=(.44, -0.1), xytext=(.44, -0.2),\n",
    "                xycoords='axes fraction',\n",
    "                textcoords='axes fraction',\n",
    "                fontsize=11, ha='center', va='bottom',\n",
    "                bbox=dict(boxstyle='square', fc='white', ec='black'),\n",
    "                arrowprops=dict(arrowstyle='-[, widthB=3.4, lengthB=1.0', lw=1.0, color='black'))\n",
    "    \n",
    "\n",
    "    ax.annotate('Min.\\nSamples', xy=(.55, -0.1), xytext=(.55, -0.2),\n",
    "                xycoords='axes fraction',\n",
    "                textcoords='axes fraction',\n",
    "                fontsize=11, ha='center', va='bottom',\n",
    "                bbox=dict(boxstyle='square', fc='white', ec='black'),\n",
    "                arrowprops=dict(arrowstyle='-[, widthB=2.5, lengthB=1.0', lw=1.0, color='black'))    \n",
    "    \n",
    "    ax.annotate('Number of\\nRounds', xy=(.8, -0.1), xytext=(.8, -0.2),\n",
    "                xycoords='axes fraction',\n",
    "                textcoords='axes fraction',\n",
    "                fontsize=11, ha='center', va='bottom',\n",
    "                bbox=dict(boxstyle='square', fc='white', ec='black'),\n",
    "                arrowprops=dict(arrowstyle='-[, widthB=11.2, lengthB=1.0', lw=1.0, color='black'))"
   ]
  },
  {
   "cell_type": "markdown",
   "metadata": {},
   "source": [
    "The below plot shows the regression coefficient values and their confidence intervals. The intercept (not shown) has a small positive value and is statistically signifant; it captures the impact of the dropped categories (the smallest value for each parameter).\n",
    "\n",
    "For 1-day forecasts, some but not all results are insightful: 21-day testing is better, and so is `min_samples_leaf` of 500 or 1,000. 100-200 trees seem to work best, but both shorter and longer training periods are better than intermediate values."
   ]
  },
  {
   "cell_type": "code",
   "execution_count": 50,
   "metadata": {
    "ExecuteTime": {
     "end_time": "2020-06-20T15:48:55.239985Z",
     "start_time": "2020-06-20T15:48:54.749413Z"
    }
   },
   "outputs": [
    {
     "data": {
      "image/png": "[encoded data removed]",
      "text/plain": [
       "<Figure size 1440x432 with 2 Axes>"
      ]
     },
     "metadata": {},
     "output_type": "display_data"
    }
   ],
   "source": [
    "with sns.axes_style('white'):\n",
    "    fig, axes = plt.subplots(nrows=1, ncols=2, figsize=(20, 6))\n",
    "    axes = axes.flatten()\n",
    "    for i, t in enumerate([1, 5]):\n",
    "        visualize_lr_result(lin_reg[t], axes[i])\n",
    "        axes[i].set_title(f'Lookahead: {t} Day(s)')\n",
    "    fig.suptitle('OLS Coefficients & Confidence Intervals', fontsize=20)\n",
    "    fig.tight_layout()\n",
    "    fig.subplots_adjust(top=.92)"
   ]
  },
  {
   "cell_type": "markdown",
   "metadata": {},
   "source": [
    "### Information Coefficient: Overall"
   ]
  },
  {
   "cell_type": "markdown",
   "metadata": {},
   "source": [
    "We'll also take a look at the overall IC value, which is often reported but does not necessarily match the goal of a daily trading strategy that uses the model return predictions as well as the daily IC."
   ]
  },
  {
   "cell_type": "code",
   "execution_count": 51,
   "metadata": {
    "ExecuteTime": {
     "end_time": "2020-06-20T13:37:57.378536Z",
     "start_time": "2020-06-20T13:37:57.373436Z"
    }
   },
   "outputs": [
    {
     "name": "stdout",
     "output_type": "stream",
     "text": [
      "<class 'pandas.core.frame.DataFrame'>\n",
      "RangeIndex: 14400 entries, 0 to 14399\n",
      "Data columns (total 8 columns):\n",
      " #   Column            Non-Null Count  Dtype  \n",
      "---  ------            --------------  -----  \n",
      " 0   train_length      14400 non-null  int64  \n",
      " 1   test_length       14400 non-null  int64  \n",
      " 2   bagging_fraction  14400 non-null  float64\n",
      " 3   feature_fraction  14400 non-null  float64\n",
      " 4   min_data_in_leaf  14400 non-null  int64  \n",
      " 5   t                 14400 non-null  int64  \n",
      " 6   rounds            14400 non-null  int64  \n",
      " 7   ic                13996 non-null  float64\n",
      "dtypes: float64(3), int64(5)\n",
      "memory usage: 900.1 KB\n"
     ]
    }
   ],
   "source": [
    "ic.info()"
   ]
  },
  {
   "cell_type": "markdown",
   "metadata": {},
   "source": [
    "#### Best Parameters"
   ]
  },
  {
   "cell_type": "markdown",
   "metadata": {},
   "source": [
    "Directionally, and for shorter periods, similar hyperparameter settings work best (while the IC values are higher):"
   ]
  },
  {
   "cell_type": "code",
   "execution_count": 52,
   "metadata": {
    "ExecuteTime": {
     "end_time": "2020-06-20T13:37:57.399122Z",
     "start_time": "2020-06-20T13:37:57.379375Z"
    }
   },
   "outputs": [
    {
     "data": {
      "text/html": [
       "<div>\n",
       "<style scoped>\n",
       "    .dataframe tbody tr th:only-of-type {\n",
       "        vertical-align: middle;\n",
       "    }\n",
       "\n",
       "    .dataframe tbody tr th {\n",
       "        vertical-align: top;\n",
       "    }\n",
       "\n",
       "    .dataframe thead th {\n",
       "        text-align: right;\n",
       "    }\n",
       "</style>\n",
       "<table border=\"1\" class=\"dataframe\">\n",
       "  <thead>\n",
       "    <tr style=\"text-align: right;\">\n",
       "      <th></th>\n",
       "      <th></th>\n",
       "      <th>train_length</th>\n",
       "      <th>test_length</th>\n",
       "      <th>bagging_fraction</th>\n",
       "      <th>feature_fraction</th>\n",
       "      <th>min_data_in_leaf</th>\n",
       "      <th>t</th>\n",
       "      <th>rounds</th>\n",
       "      <th>ic</th>\n",
       "    </tr>\n",
       "    <tr>\n",
       "      <th>t</th>\n",
       "      <th></th>\n",
       "      <th></th>\n",
       "      <th></th>\n",
       "      <th></th>\n",
       "      <th></th>\n",
       "      <th></th>\n",
       "      <th></th>\n",
       "      <th></th>\n",
       "      <th></th>\n",
       "    </tr>\n",
       "  </thead>\n",
       "  <tbody>\n",
       "    <tr>\n",
       "      <th rowspan=\"3\" valign=\"top\">1</th>\n",
       "      <th>85</th>\n",
       "      <td>60</td>\n",
       "      <td>14</td>\n",
       "      <td>0.95</td>\n",
       "      <td>0.75</td>\n",
       "      <td>5</td>\n",
       "      <td>1</td>\n",
       "      <td>200</td>\n",
       "      <td>0.108382</td>\n",
       "    </tr>\n",
       "    <tr>\n",
       "      <th>2965</th>\n",
       "      <td>60</td>\n",
       "      <td>14</td>\n",
       "      <td>0.95</td>\n",
       "      <td>0.75</td>\n",
       "      <td>5</td>\n",
       "      <td>1</td>\n",
       "      <td>200</td>\n",
       "      <td>0.108382</td>\n",
       "    </tr>\n",
       "    <tr>\n",
       "      <th>97</th>\n",
       "      <td>60</td>\n",
       "      <td>14</td>\n",
       "      <td>0.95</td>\n",
       "      <td>0.75</td>\n",
       "      <td>5</td>\n",
       "      <td>1</td>\n",
       "      <td>225</td>\n",
       "      <td>0.107838</td>\n",
       "    </tr>\n",
       "    <tr>\n",
       "      <th rowspan=\"3\" valign=\"top\">5</th>\n",
       "      <th>8414</th>\n",
       "      <td>10</td>\n",
       "      <td>7</td>\n",
       "      <td>0.50</td>\n",
       "      <td>0.75</td>\n",
       "      <td>5</td>\n",
       "      <td>5</td>\n",
       "      <td>50</td>\n",
       "      <td>0.407133</td>\n",
       "    </tr>\n",
       "    <tr>\n",
       "      <th>8438</th>\n",
       "      <td>10</td>\n",
       "      <td>7</td>\n",
       "      <td>0.50</td>\n",
       "      <td>0.75</td>\n",
       "      <td>5</td>\n",
       "      <td>5</td>\n",
       "      <td>100</td>\n",
       "      <td>0.395137</td>\n",
       "    </tr>\n",
       "    <tr>\n",
       "      <th>8426</th>\n",
       "      <td>10</td>\n",
       "      <td>7</td>\n",
       "      <td>0.50</td>\n",
       "      <td>0.75</td>\n",
       "      <td>5</td>\n",
       "      <td>5</td>\n",
       "      <td>75</td>\n",
       "      <td>0.385826</td>\n",
       "    </tr>\n",
       "    <tr>\n",
       "      <th rowspan=\"3\" valign=\"top\">10</th>\n",
       "      <th>8650</th>\n",
       "      <td>60</td>\n",
       "      <td>14</td>\n",
       "      <td>0.50</td>\n",
       "      <td>0.75</td>\n",
       "      <td>50</td>\n",
       "      <td>10</td>\n",
       "      <td>25</td>\n",
       "      <td>0.337772</td>\n",
       "    </tr>\n",
       "    <tr>\n",
       "      <th>9385</th>\n",
       "      <td>50</td>\n",
       "      <td>7</td>\n",
       "      <td>0.95</td>\n",
       "      <td>0.75</td>\n",
       "      <td>5</td>\n",
       "      <td>10</td>\n",
       "      <td>75</td>\n",
       "      <td>0.333035</td>\n",
       "    </tr>\n",
       "    <tr>\n",
       "      <th>8662</th>\n",
       "      <td>60</td>\n",
       "      <td>14</td>\n",
       "      <td>0.50</td>\n",
       "      <td>0.75</td>\n",
       "      <td>50</td>\n",
       "      <td>10</td>\n",
       "      <td>50</td>\n",
       "      <td>0.332002</td>\n",
       "    </tr>\n",
       "    <tr>\n",
       "      <th rowspan=\"3\" valign=\"top\">21</th>\n",
       "      <th>12968</th>\n",
       "      <td>30</td>\n",
       "      <td>14</td>\n",
       "      <td>0.95</td>\n",
       "      <td>0.95</td>\n",
       "      <td>25</td>\n",
       "      <td>21</td>\n",
       "      <td>25</td>\n",
       "      <td>0.298261</td>\n",
       "    </tr>\n",
       "    <tr>\n",
       "      <th>13442</th>\n",
       "      <td>20</td>\n",
       "      <td>14</td>\n",
       "      <td>0.50</td>\n",
       "      <td>0.75</td>\n",
       "      <td>5</td>\n",
       "      <td>21</td>\n",
       "      <td>25</td>\n",
       "      <td>0.282100</td>\n",
       "    </tr>\n",
       "    <tr>\n",
       "      <th>12971</th>\n",
       "      <td>30</td>\n",
       "      <td>14</td>\n",
       "      <td>0.75</td>\n",
       "      <td>0.95</td>\n",
       "      <td>5</td>\n",
       "      <td>21</td>\n",
       "      <td>25</td>\n",
       "      <td>0.277416</td>\n",
       "    </tr>\n",
       "  </tbody>\n",
       "</table>\n",
       "</div>"
      ],
      "text/plain": [
       "          train_length  test_length  bagging_fraction  feature_fraction  \\\n",
       "t                                                                         \n",
       "1  85               60           14              0.95              0.75   \n",
       "   2965             60           14              0.95              0.75   \n",
       "   97               60           14              0.95              0.75   \n",
       "5  8414             10            7              0.50              0.75   \n",
       "   8438             10            7              0.50              0.75   \n",
       "   8426             10            7              0.50              0.75   \n",
       "10 8650             60           14              0.50              0.75   \n",
       "   9385             50            7              0.95              0.75   \n",
       "   8662             60           14              0.50              0.75   \n",
       "21 12968            30           14              0.95              0.95   \n",
       "   13442            20           14              0.50              0.75   \n",
       "   12971            30           14              0.75              0.95   \n",
       "\n",
       "          min_data_in_leaf   t  rounds        ic  \n",
       "t                                                 \n",
       "1  85                    5   1     200  0.108382  \n",
       "   2965                  5   1     200  0.108382  \n",
       "   97                    5   1     225  0.107838  \n",
       "5  8414                  5   5      50  0.407133  \n",
       "   8438                  5   5     100  0.395137  \n",
       "   8426                  5   5      75  0.385826  \n",
       "10 8650                 50  10      25  0.337772  \n",
       "   9385                  5  10      75  0.333035  \n",
       "   8662                 50  10      50  0.332002  \n",
       "21 12968                25  21      25  0.298261  \n",
       "   13442                 5  21      25  0.282100  \n",
       "   12971                 5  21      25  0.277416  "
      ]
     },
     "execution_count": 52,
     "metadata": {},
     "output_type": "execute_result"
    }
   ],
   "source": [
    "ic.groupby('t').apply(lambda x: x.nlargest(3, 'ic'))"
   ]
  },
  {
   "cell_type": "markdown",
   "metadata": {},
   "source": [
    "#### Visualiztion"
   ]
  },
  {
   "cell_type": "code",
   "execution_count": 53,
   "metadata": {
    "ExecuteTime": {
     "end_time": "2020-06-20T13:37:57.764825Z",
     "start_time": "2020-06-20T13:37:57.399963Z"
    }
   },
   "outputs": [
    {
     "data": {
      "image/png": "[encoded data removed]",
      "text/plain": [
       "<Figure size 2160x360 with 6 Axes>"
      ]
     },
     "metadata": {},
     "output_type": "display_data"
    }
   ],
   "source": [
    "g = sns.catplot(x='t',\n",
    "                y='ic',\n",
    "                col='train_length',\n",
    "                row='test_length',\n",
    "                data=ic[(ic.test_length == 14) & (ic.t < 14)],\n",
    "                kind='box')"
   ]
  },
  {
   "cell_type": "code",
   "execution_count": 54,
   "metadata": {
    "ExecuteTime": {
     "end_time": "2020-06-20T15:25:12.093263Z",
     "start_time": "2020-06-20T15:25:05.499589Z"
    }
   },
   "outputs": [
    {
     "data": {
      "image/png": "[encoded data removed]",
      "text/plain": [
       "<Figure size 802.75x1440 with 8 Axes>"
      ]
     },
     "metadata": {},
     "output_type": "display_data"
    }
   ],
   "source": [
    "t = 1\n",
    "train_length = 20\n",
    "test_length = 7\n",
    "g = sns.catplot(x='rounds',\n",
    "    y='ic',\n",
    "    col='feature_fraction',\n",
    "    hue='bagging_fraction',\n",
    "    row='min_data_in_leaf',\n",
    "    data=ic[(ic.t == t) &\n",
    "            (ic.train_length == train_length) &\n",
    "            (ic.test_length == test_length)],\n",
    "    kind='swarm');"
   ]
  },
  {
   "cell_type": "markdown",
   "metadata": {},
   "source": [
    "### Random Forest vs Linear Regression "
   ]
  },
  {
   "cell_type": "markdown",
   "metadata": {},
   "source": [
    "Let's compare the best-performing (in-sample) random forest models to our linear regression baseline:"
   ]
  },
  {
   "cell_type": "code",
   "execution_count": 56,
   "metadata": {
    "ExecuteTime": {
     "end_time": "2020-06-20T15:25:55.713387Z",
     "start_time": "2020-06-20T15:25:55.704607Z"
    }
   },
   "outputs": [
    {
     "name": "stdout",
     "output_type": "stream",
     "text": [
      "<class 'pandas.core.frame.DataFrame'>\n",
      "RangeIndex: 11520 entries, 0 to 11519\n",
      "Data columns (total 8 columns):\n",
      " #   Column            Non-Null Count  Dtype  \n",
      "---  ------            --------------  -----  \n",
      " 0   t                 11520 non-null  int64  \n",
      " 1   train_length      11520 non-null  int64  \n",
      " 2   test_length       11520 non-null  int64  \n",
      " 3   bagging_fraction  11520 non-null  float64\n",
      " 4   feature_fraction  11520 non-null  float64\n",
      " 5   min_data_in_leaf  11520 non-null  int64  \n",
      " 6   rounds            11520 non-null  int64  \n",
      " 7   ic                11238 non-null  float64\n",
      "dtypes: float64(3), int64(5)\n",
      "memory usage: 720.1 KB\n"
     ]
    }
   ],
   "source": [
    "daily_ic_avg.info()"
   ]
  },
  {
   "cell_type": "markdown",
   "metadata": {},
   "source": [
    "The results are mixed: for the shortest and longest horizons, the random forest outperforms (slightly for 1 day), while linear regression is competitive for the intermediate horizons:"
   ]
  },
  {
   "cell_type": "code",
   "execution_count": 57,
   "metadata": {
    "ExecuteTime": {
     "end_time": "2020-06-20T15:48:28.232579Z",
     "start_time": "2020-06-20T15:48:28.030255Z"
    }
   },
   "outputs": [
    {
     "data": {
      "image/png": "[encoded data removed]",
      "text/plain": [
       "<Figure size 432x288 with 1 Axes>"
      ]
     },
     "metadata": {},
     "output_type": "display_data"
    }
   ],
   "source": [
    "with sns.axes_style(\"white\"):\n",
    "    ax = (ic.groupby('t').ic.max().to_frame('Random Forest')\n",
    "     .join(lr_metrics.groupby('lookahead').ic.max().to_frame('Linear Regression')).plot.barh())\n",
    "    ax.set_ylabel('Lookahead')\n",
    "    ax.set_xlabel('Information Coefficient')\n",
    "    sns.despine()\n",
    "    plt.tight_layout();"
   ]
  },
  {
   "cell_type": "markdown",
   "metadata": {},
   "source": [
    "## Generate predictions"
   ]
  },
  {
   "cell_type": "code",
   "execution_count": 58,
   "metadata": {
    "ExecuteTime": {
     "end_time": "2020-06-20T15:26:19.857933Z",
     "start_time": "2020-06-20T15:26:19.850525Z"
    }
   },
   "outputs": [],
   "source": [
    "param_cols = ['train_length', 'test_length', 'bagging_fraction',\n",
    "              'feature_fraction', 'min_data_in_leaf', 'rounds']"
   ]
  },
  {
   "cell_type": "code",
   "execution_count": 59,
   "metadata": {
    "ExecuteTime": {
     "end_time": "2020-06-20T15:26:20.074859Z",
     "start_time": "2020-06-20T15:26:20.069456Z"
    }
   },
   "outputs": [],
   "source": [
    "def get_params(data, t=2, best=0):\n",
    "    df = data[data.t == t].sort_values('ic', ascending=False).iloc[best]\n",
    "    df = df.loc[param_cols]\n",
    "    rounds = int(df.rounds)\n",
    "    params = pd.to_numeric(df.drop('rounds'))\n",
    "    return params, rounds"
   ]
  },
  {
   "cell_type": "code",
   "execution_count": 60,
   "metadata": {
    "ExecuteTime": {
     "end_time": "2020-06-20T15:26:20.423293Z",
     "start_time": "2020-06-20T15:26:20.417898Z"
    }
   },
   "outputs": [],
   "source": [
    "base_params = dict(boosting_type='rf',\n",
    "                   objective='regression',\n",
    "                   bagging_freq=1,\n",
    "                   verbose=-1)\n",
    "\n",
    "store = ('/Users/chris/Desktop/Stocks/Decision_Tree/results/predictions.h5')"
   ]
  },
  {
   "cell_type": "code",
   "execution_count": 61,
   "metadata": {},
   "outputs": [
    {
     "name": "stdout",
     "output_type": "stream",
     "text": [
      "5\n"
     ]
    }
   ],
   "source": [
    "print(int(params['min_data_in_leaf']))"
   ]
  },
  {
   "cell_type": "code",
   "execution_count": 62,
   "metadata": {
    "ExecuteTime": {
     "end_time": "2020-06-20T15:29:17.726690Z",
     "start_time": "2020-06-20T15:26:33.694592Z"
    }
   },
   "outputs": [
    {
     "name": "stdout",
     "output_type": "stream",
     "text": [
      "\n",
      "Lookahead: 01\n",
      "\tPosition: 00\n",
      "\tPosition: 01\n",
      "\tPosition: 02\n",
      "\tPosition: 03\n",
      "\tPosition: 04\n",
      "\tPosition: 05\n",
      "\tPosition: 06\n",
      "\tPosition: 07\n",
      "\tPosition: 08\n",
      "\tPosition: 09\n"
     ]
    }
   ],
   "source": [
    "for lookahead in [1, 5, 10, 21]:\n",
    "    \n",
    "    if lookahead > 1: \n",
    "        continue\n",
    "        \n",
    "    print(f'\\nLookahead: {lookahead:02}')\n",
    "    \n",
    "    data = (pd.read_hdf('data.h5', 'us/alt_energy_fores/equities').dropna())\n",
    "    data.index.set_names([\"Ticker\", \"date\"], inplace=True)\n",
    "    \n",
    "    labels = sorted(data.filter(like='fwd').columns)\n",
    "    features = data.columns.difference(labels).tolist()\n",
    "    label = f'fwd_ret_{lookahead:02}'\n",
    "    data = data.reindex(columns = features + [label])\n",
    "    #data = data.loc[:, features + [label]].dropna()\n",
    "\n",
    "    categoricals = ['weekday', 'month']\n",
    "    for feature in categoricals:\n",
    "        data[feature] = pd.factorize(data[feature], sort=True)[0]\n",
    "\n",
    "    lgb_data = lgb.Dataset(data=data[features],\n",
    "                           label=data[label],\n",
    "                           #categorical_feature=categoricals,\n",
    "                           free_raw_data=False)\n",
    "    \n",
    "    for position in range(10):\n",
    "        params, num_boost_round = get_params(daily_ic_avg,\n",
    "                                             t=lookahead,\n",
    "                                             best=position)\n",
    "        params = params.to_dict()\n",
    "        params['min_data_in_leaf'] = int(15)\n",
    "        train_length = int(params.pop('train_length'))\n",
    "        test_length = int(params.pop('test_length'))\n",
    "        params.update(base_params)\n",
    "\n",
    "        print(f'\\tPosition: {position:02}')\n",
    "\n",
    "        n_splits = 5\n",
    "        cv = MultipleTimeSeriesCV(n_splits=n_splits,\n",
    "                                  test_period_length=test_length,\n",
    "                                  lookahead=lookahead,\n",
    "                                  train_period_length=train_length)\n",
    "\n",
    "        predictions = []\n",
    "        start = time()\n",
    "        for i, (train_idx, test_idx) in enumerate(cv.split(X=data), 1):\n",
    "            lgb_train = lgb_data.subset(train_idx.tolist()).construct()\n",
    "\n",
    "            model = lgb.train(params=params,\n",
    "                              train_set=lgb_train,\n",
    "                              num_boost_round=num_boost_round,\n",
    "                              verbose_eval=False)\n",
    "\n",
    "            test_set = data.iloc[test_idx, :]\n",
    "            y_test = test_set.loc[:, label].to_frame('y_test')\n",
    "            y_pred = model.predict(test_set.loc[:, model.feature_name()])\n",
    "            predictions.append(y_test.assign(prediction=y_pred))\n",
    "\n",
    "        if position == 0:\n",
    "            test_predictions = (pd.concat(predictions)\n",
    "                                .rename(columns={'prediction': position}))\n",
    "        else:\n",
    "            test_predictions[position] = pd.concat(predictions).prediction\n",
    "        \n",
    "\n",
    "    by_day = test_predictions.groupby(level='date')\n",
    "    for position in range(10):\n",
    "        if position == 0:\n",
    "            ic_by_day = by_day.apply(lambda x: spearmanr(x.y_test, x[position])[0]).to_frame()\n",
    "        else:\n",
    "            ic_by_day[position] = by_day.apply(lambda x: spearmanr(x.y_test, x[position])[0])\n",
    "\n",
    "    test_predictions.to_hdf(store, f'test/{lookahead:02}')"
   ]
  },
  {
   "cell_type": "code",
   "execution_count": null,
   "metadata": {},
   "outputs": [],
   "source": []
  }
 ],
 "metadata": {
  "kernelspec": {
   "display_name": "Python 3",
   "language": "python",
   "name": "python3"
  },
  "language_info": {
   "codemirror_mode": {
    "name": "ipython",
    "version": 3
   },
   "file_extension": ".py",
   "mimetype": "text/x-python",
   "name": "python",
   "nbconvert_exporter": "python",
   "pygments_lexer": "ipython3",
   "version": "3.6.12"
  },
  "toc": {
   "base_numbering": 1,
   "nav_menu": {},
   "number_sections": true,
   "sideBar": true,
   "skip_h1_title": true,
   "title_cell": "Table of Contents",
   "title_sidebar": "Contents",
   "toc_cell": false,
   "toc_position": {
    "height": "calc(100% - 180px)",
    "left": "10px",
    "top": "150px",
    "width": "374.162px"
   },
   "toc_section_display": true,
   "toc_window_display": true
  }
 },
 "nbformat": 4,
 "nbformat_minor": 2
}
