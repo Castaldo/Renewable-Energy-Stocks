{
 "cells": [
  {
   "cell_type": "markdown",
   "metadata": {},
   "source": [
    "# Statistical inference of Alternative Energy Stock returns\n",
    "\n",
    "In this notebook we use Ordinary Least Squares Regression to predict 1 day, 5 day, 10 day, and 30 day returns. "
   ]
  },
  {
   "cell_type": "markdown",
   "metadata": {},
   "source": [
    "## Imports & Settings"
   ]
  },
  {
   "cell_type": "code",
   "execution_count": 1,
   "metadata": {
    "ExecuteTime": {
     "end_time": "2020-06-17T19:16:01.990515Z",
     "start_time": "2020-06-17T19:16:01.987955Z"
    }
   },
   "outputs": [],
   "source": [
    "import warnings\n",
    "warnings.filterwarnings('ignore')"
   ]
  },
  {
   "cell_type": "code",
   "execution_count": 2,
   "metadata": {
    "ExecuteTime": {
     "end_time": "2020-06-17T19:16:02.574792Z",
     "start_time": "2020-06-17T19:16:01.991964Z"
    }
   },
   "outputs": [],
   "source": [
    "%matplotlib inline\n",
    "\n",
    "import pandas as pd\n",
    "\n",
    "from statsmodels.api import OLS, add_constant, graphics\n",
    "from statsmodels.graphics.tsaplots import plot_acf\n",
    "from scipy.stats import norm\n",
    "\n",
    "import seaborn as sns\n",
    "import matplotlib.pyplot as plt"
   ]
  },
  {
   "cell_type": "code",
   "execution_count": 3,
   "metadata": {
    "ExecuteTime": {
     "end_time": "2020-06-17T19:16:02.577751Z",
     "start_time": "2020-06-17T19:16:02.575748Z"
    }
   },
   "outputs": [],
   "source": [
    "sns.set_style('whitegrid')\n",
    "idx = pd.IndexSlice"
   ]
  },
  {
   "cell_type": "markdown",
   "metadata": {},
   "source": [
    "## Load Data"
   ]
  },
  {
   "cell_type": "code",
   "execution_count": 4,
   "metadata": {
    "ExecuteTime": {
     "end_time": "2020-06-17T19:16:04.405437Z",
     "start_time": "2020-06-17T19:16:02.578559Z"
    }
   },
   "outputs": [],
   "source": [
    "with pd.HDFStore('data.h5') as store:\n",
    "    data = (store['model_data']\n",
    "            .dropna()\n",
    "            .drop(['Open', 'Close', 'Low', 'High'], axis=1))"
   ]
  },
  {
   "cell_type": "markdown",
   "metadata": {},
   "source": [
    "### Create Model Data"
   ]
  },
  {
   "cell_type": "code",
   "execution_count": 5,
   "metadata": {
    "ExecuteTime": {
     "end_time": "2020-06-17T19:16:04.470622Z",
     "start_time": "2020-06-17T19:16:04.451344Z"
    }
   },
   "outputs": [],
   "source": [
    "y = data.filter(like='target')\n",
    "X = data.drop(y.columns, axis=1)\n",
    "X = X.drop(['dollar_vol', 'dollar_vol_rank', 'Volume'], axis=1)"
   ]
  },
  {
   "cell_type": "markdown",
   "metadata": {},
   "source": [
    "## Correlation Measurements"
   ]
  },
  {
   "cell_type": "markdown",
   "metadata": {},
   "source": [
    "These next cells return the top ten values with the highest levels of correlation in the dataset"
   ]
  },
  {
   "cell_type": "code",
   "execution_count": 6,
   "metadata": {
    "ExecuteTime": {
     "end_time": "2020-06-17T19:16:06.329126Z",
     "start_time": "2020-06-17T19:16:05.856465Z"
    }
   },
   "outputs": [],
   "source": [
    "corr_mat = X.corr().stack().reset_index()\n",
    "corr_mat.columns=['var1', 'var2', 'corr']\n",
    "corr_mat = corr_mat[corr_mat.var1!=corr_mat.var2].sort_values(by='corr', ascending=False)"
   ]
  },
  {
   "cell_type": "code",
   "execution_count": 7,
   "metadata": {
    "ExecuteTime": {
     "end_time": "2020-06-17T19:16:06.336963Z",
     "start_time": "2020-06-17T19:16:06.330037Z"
    },
    "scrolled": true
   },
   "outputs": [
    {
     "data": {
      "text/html": [
       "<div>\n",
       "<style scoped>\n",
       "    .dataframe tbody tr th:only-of-type {\n",
       "        vertical-align: middle;\n",
       "    }\n",
       "\n",
       "    .dataframe tbody tr th {\n",
       "        vertical-align: top;\n",
       "    }\n",
       "\n",
       "    .dataframe thead th {\n",
       "        text-align: right;\n",
       "    }\n",
       "</style>\n",
       "<table border=\"1\" class=\"dataframe\">\n",
       "  <thead>\n",
       "    <tr style=\"text-align: right;\">\n",
       "      <th></th>\n",
       "      <th>var1</th>\n",
       "      <th>var2</th>\n",
       "      <th>corr</th>\n",
       "    </tr>\n",
       "  </thead>\n",
       "  <tbody>\n",
       "    <tr>\n",
       "      <th>460</th>\n",
       "      <td>return_42d</td>\n",
       "      <td>return_63d</td>\n",
       "      <td>0.803484</td>\n",
       "    </tr>\n",
       "    <tr>\n",
       "      <th>509</th>\n",
       "      <td>return_63d</td>\n",
       "      <td>return_42d</td>\n",
       "      <td>0.803484</td>\n",
       "    </tr>\n",
       "    <tr>\n",
       "      <th>8</th>\n",
       "      <td>rsi</td>\n",
       "      <td>return_21d</td>\n",
       "      <td>0.752417</td>\n",
       "    </tr>\n",
       "    <tr>\n",
       "      <th>400</th>\n",
       "      <td>return_21d</td>\n",
       "      <td>rsi</td>\n",
       "      <td>0.752417</td>\n",
       "    </tr>\n",
       "    <tr>\n",
       "      <th>1468</th>\n",
       "      <td>return_10d_lag5</td>\n",
       "      <td>return_21d_lag2</td>\n",
       "      <td>0.751635</td>\n",
       "    </tr>\n",
       "    <tr>\n",
       "      <th>351</th>\n",
       "      <td>return_10d</td>\n",
       "      <td>bb_high</td>\n",
       "      <td>-0.701080</td>\n",
       "    </tr>\n",
       "    <tr>\n",
       "      <th>50</th>\n",
       "      <td>bb_high</td>\n",
       "      <td>rsi</td>\n",
       "      <td>-0.729521</td>\n",
       "    </tr>\n",
       "    <tr>\n",
       "      <th>1</th>\n",
       "      <td>rsi</td>\n",
       "      <td>bb_high</td>\n",
       "      <td>-0.729521</td>\n",
       "    </tr>\n",
       "    <tr>\n",
       "      <th>1631</th>\n",
       "      <td>year_2020</td>\n",
       "      <td>year_2019</td>\n",
       "      <td>-1.000000</td>\n",
       "    </tr>\n",
       "    <tr>\n",
       "      <th>1582</th>\n",
       "      <td>year_2019</td>\n",
       "      <td>year_2020</td>\n",
       "      <td>-1.000000</td>\n",
       "    </tr>\n",
       "  </tbody>\n",
       "</table>\n",
       "</div>"
      ],
      "text/plain": [
       "                 var1             var2      corr\n",
       "460        return_42d       return_63d  0.803484\n",
       "509        return_63d       return_42d  0.803484\n",
       "8                 rsi       return_21d  0.752417\n",
       "400        return_21d              rsi  0.752417\n",
       "1468  return_10d_lag5  return_21d_lag2  0.751635\n",
       "351        return_10d          bb_high -0.701080\n",
       "50            bb_high              rsi -0.729521\n",
       "1                 rsi          bb_high -0.729521\n",
       "1631        year_2020        year_2019 -1.000000\n",
       "1582        year_2019        year_2020 -1.000000"
      ]
     },
     "execution_count": 7,
     "metadata": {},
     "output_type": "execute_result"
    }
   ],
   "source": [
    "corr_mat.head().append(corr_mat.tail())"
   ]
  },
  {
   "cell_type": "code",
   "execution_count": 8,
   "metadata": {
    "ExecuteTime": {
     "end_time": "2020-06-17T19:16:06.468704Z",
     "start_time": "2020-06-17T19:16:06.338368Z"
    }
   },
   "outputs": [
    {
     "data": {
      "image/png": "[encoded data removed]",
      "text/plain": [
       "<Figure size 432x288 with 1 Axes>"
      ]
     },
     "metadata": {},
     "output_type": "display_data"
    }
   ],
   "source": [
    "y.boxplot();"
   ]
  },
  {
   "cell_type": "markdown",
   "metadata": {},
   "source": [
    "## Linear Regression for Statistical Inference: OLS with statsmodels"
   ]
  },
  {
   "cell_type": "markdown",
   "metadata": {},
   "source": [
    "### Ticker-wise standardization"
   ]
  },
  {
   "cell_type": "markdown",
   "metadata": {},
   "source": [
    "`statsmodels` warns of high design matrix condition numbers. This can arise when the variables are not standardized and the Eigenvalues differ due to scaling. The following step avoids this warning."
   ]
  },
  {
   "cell_type": "code",
   "execution_count": 9,
   "metadata": {
    "ExecuteTime": {
     "end_time": "2020-06-17T19:16:12.388379Z",
     "start_time": "2020-06-17T19:16:06.469584Z"
    }
   },
   "outputs": [],
   "source": [
    "sectors = X.iloc[:, -10:]\n",
    "X = (X.drop(sectors.columns, axis=1)\n",
    "     .groupby(level='Ticker')\n",
    "     .transform(lambda x: (x - x.mean()) / x.std())\n",
    "    .join(sectors)\n",
    "    .fillna(0))"
   ]
  },
  {
   "cell_type": "markdown",
   "metadata": {},
   "source": [
    "### 1-Day Returns"
   ]
  },
  {
   "cell_type": "markdown",
   "metadata": {},
   "source": [
    "**R-squared:** R-squared is a goodness-of-fit measure for linear regression models. This statistic indicates the percentage of the variance in the dependent variable that the independent variables explain collectively. Our score in this model is **0.071** which indictaes a weak fit for the model. \n",
    "\n",
    "**Prob(F-Statistic):** Prob(F-statistics) depicts the probability of null hypothesis being true. As per the above results, probability is nearing to zero. This implies that overall the regression is somewhat meaningful.\n",
    "\n",
    "**Prob(Omnibus):** One of the assumptions of OLS is that the errors are normally distributed. Omnibus test is performed in order to check this. Prob(Omnibus) is supposed to be close to the 1 in order for it to satisfy the OLS assumption. In this case Prob(Omnibus) is **0.0000**, which implies that the OLS assumption is not satisfied.\n",
    "\n",
    "**Durbin-watson:** Another assumption of OLS is of homoscedasticity. This implies that the variance of errors is constant. Here, it is **~2** implying a high positive autocorrelation in the values\n",
    "\n",
    "**Skewness:** It is the degree of distortion from the symmetrical bell curve or the normal distribution. It measures the lack of symmetry in data distribution. This model is somewaht positivly skewed\n",
    "\n",
    "**Kurtosis**: It is used to describe the extreme values in one versus the other tail. Here the Kurtosis is **Leptokurtic** meaning that the data are heavy-tailed or profusion of outliers.\n",
    "\n",
    "We notice, unsurprisingly, that most of the parameters in the dataset have a p-value higher than 0.05 indicating no statistical significance. "
   ]
  },
  {
   "cell_type": "code",
   "execution_count": 10,
   "metadata": {
    "ExecuteTime": {
     "end_time": "2020-06-17T19:16:12.697331Z",
     "start_time": "2020-06-17T19:16:12.389843Z"
    },
    "scrolled": false
   },
   "outputs": [
    {
     "name": "stdout",
     "output_type": "stream",
     "text": [
      "                            OLS Regression Results                            \n",
      "==============================================================================\n",
      "Dep. Variable:              target_1d   R-squared:                       0.082\n",
      "Model:                            OLS   Adj. R-squared:                  0.071\n",
      "Method:                 Least Squares   F-statistic:                     7.360\n",
      "Date:                Fri, 08 Jan 2021   Prob (F-statistic):           9.03e-45\n",
      "Time:                        11:19:22   Log-Likelihood:                 6692.8\n",
      "No. Observations:                3927   AIC:                        -1.329e+04\n",
      "Df Residuals:                    3879   BIC:                        -1.299e+04\n",
      "Df Model:                          47                                         \n",
      "Covariance Type:            nonrobust                                         \n",
      "===================================================================================\n",
      "                      coef    std err          t      P>|t|      [0.025      0.975]\n",
      "-----------------------------------------------------------------------------------\n",
      "const               0.0024      0.001      4.063      0.000       0.001       0.003\n",
      "rsi                 0.0061      0.002      2.517      0.012       0.001       0.011\n",
      "bb_high            -0.0063      0.003     -1.862      0.063      -0.013       0.000\n",
      "bb_low              0.0084      0.003      2.859      0.004       0.003       0.014\n",
      "atr                -0.0003      0.001     -0.298      0.766      -0.002       0.002\n",
      "macd               -0.0078      0.002     -3.142      0.002      -0.013      -0.003\n",
      "return_1d           0.0079      0.004      2.109      0.035       0.001       0.015\n",
      "return_5d          -0.0709      0.023     -3.033      0.002      -0.117      -0.025\n",
      "return_10d          0.0455      0.028      1.617      0.106      -0.010       0.101\n",
      "return_21d          0.0133      0.008      1.729      0.084      -0.002       0.028\n",
      "return_42d         -0.0165      0.009     -1.753      0.080      -0.035       0.002\n",
      "return_63d         -0.0022      0.007     -0.320      0.749      -0.015       0.011\n",
      "return_1d_lag1      0.0126      0.004      3.381      0.001       0.005       0.020\n",
      "return_5d_lag1     -0.0385      0.019     -2.021      0.043      -0.076      -0.001\n",
      "return_10d_lag1     0.0040      0.026      0.157      0.875      -0.046       0.054\n",
      "return_21d_lag1     0.0121      0.007      1.812      0.070      -0.001       0.025\n",
      "return_1d_lag2      0.0124      0.004      3.321      0.001       0.005       0.020\n",
      "return_5d_lag2     -0.0067      0.017     -0.392      0.695      -0.041       0.027\n",
      "return_10d_lag2     0.0230      0.022      1.057      0.291      -0.020       0.066\n",
      "return_21d_lag2     0.0015      0.005      0.314      0.753      -0.008       0.011\n",
      "return_1d_lag3      0.0124      0.004      3.332      0.001       0.005       0.020\n",
      "return_5d_lag3     -0.0077      0.017     -0.444      0.657      -0.042       0.026\n",
      "return_10d_lag3     0.0018      0.002      0.743      0.458      -0.003       0.007\n",
      "return_21d_lag3    -0.0042      0.001     -4.153      0.000      -0.006      -0.002\n",
      "return_1d_lag4      0.0142      0.004      3.781      0.000       0.007       0.022\n",
      "return_5d_lag4     -0.0152      0.015     -1.006      0.314      -0.045       0.014\n",
      "return_10d_lag4    -0.0006      0.002     -0.392      0.695      -0.004       0.003\n",
      "return_21d_lag4    -0.0020      0.001     -2.178      0.029      -0.004      -0.000\n",
      "return_1d_lag5     -0.0060      0.001     -7.142      0.000      -0.008      -0.004\n",
      "return_5d_lag5     -0.0160      0.015     -1.065      0.287      -0.046       0.014\n",
      "return_10d_lag5    -0.0009      0.002     -0.568      0.570      -0.004       0.002\n",
      "return_21d_lag5    -0.0008      0.001     -0.903      0.367      -0.002       0.001\n",
      "year_2019          -0.0038      0.001     -6.218      0.000      -0.005      -0.003\n",
      "year_2020           0.0038      0.001      6.218      0.000       0.003       0.005\n",
      "year_2021       -5.529e-18   6.87e-17     -0.081      0.936    -1.4e-16    1.29e-16\n",
      "month_1            -0.0035      0.001     -3.928      0.000      -0.005      -0.002\n",
      "month_2            -0.0022      0.001     -2.663      0.008      -0.004      -0.001\n",
      "month_3            -0.0108      0.001     -9.921      0.000      -0.013      -0.009\n",
      "month_4            -0.0016      0.001     -1.519      0.129      -0.004       0.000\n",
      "month_5             0.0004      0.001      0.448      0.654      -0.002       0.002\n",
      "month_6            -0.0033      0.001     -3.334      0.001      -0.005      -0.001\n",
      "month_7             0.0007      0.001      0.861      0.390      -0.001       0.002\n",
      "month_8            -0.0002      0.002     -0.085      0.932      -0.004       0.004\n",
      "month_9            -0.0020      0.002     -0.966      0.334      -0.006       0.002\n",
      "month_10            0.0025      0.002      1.227      0.220      -0.001       0.006\n",
      "month_11            0.0024      0.002      1.128      0.259      -0.002       0.006\n",
      "month_12            0.0034      0.003      1.275      0.202      -0.002       0.009\n",
      "day_0               0.0060      0.001      4.107      0.000       0.003       0.009\n",
      "day_1               0.0040      0.001      2.816      0.005       0.001       0.007\n",
      "day_2              -0.0047      0.001     -3.277      0.001      -0.008      -0.002\n",
      "day_3              -0.0030      0.001     -2.119      0.034      -0.006      -0.000\n",
      "day_4            8.018e-05      0.001      0.056      0.955      -0.003       0.003\n",
      "==============================================================================\n",
      "Omnibus:                     1166.328   Durbin-Watson:                   1.986\n",
      "Prob(Omnibus):                  0.000   Jarque-Bera (JB):            24792.818\n",
      "Skew:                           0.896   Prob(JB):                         0.00\n",
      "Kurtosis:                      15.178   Cond. No.                     1.51e+16\n",
      "==============================================================================\n",
      "\n",
      "Notes:\n",
      "[1] Standard Errors assume that the covariance matrix of the errors is correctly specified.\n",
      "[2] The smallest eigenvalue is 1.28e-28. This might indicate that there are\n",
      "strong multicollinearity problems or that the design matrix is singular.\n"
     ]
    }
   ],
   "source": [
    "target = 'target_1d'\n",
    "model = OLS(endog=y[target], exog=add_constant(X))\n",
    "trained_model = model.fit()\n",
    "print(trained_model.summary())"
   ]
  },
  {
   "cell_type": "markdown",
   "metadata": {},
   "source": [
    "### 5-Day Returns"
   ]
  },
  {
   "cell_type": "markdown",
   "metadata": {},
   "source": [
    "**R-squared:** Our score in this model is **0.24** which indictaes a moderate fit for the model. \n",
    "\n",
    "**Prob(F-Statistic):** Our Prob F-Statistic is very near zero whoch implies that, overall, the regression is  meaningful.\n",
    "\n",
    "**Prob(Omnibus):** In this case Prob(Omnibus) is **0.0000**, which implies that the OLS assumption is not satisfied.\n",
    "\n",
    "**Durbin-watson:**  Here, the Durbin-watson is **0.457** implying implying a positive autocorrelation in the values\n",
    "\n",
    "**Skewness:** This model is marginally positivly skewed\n",
    "\n",
    "**Kurtosis**: Here the Kurtosis is **Leptokurtic** meaning that the data are heavy-tailed or there is a profusion of outliers.\n",
    "\n",
    "We notice that more parameters in this model have a p-value lower than 0.05 indicating that the parameters hold more predictive significance. "
   ]
  },
  {
   "cell_type": "code",
   "execution_count": 11,
   "metadata": {
    "ExecuteTime": {
     "end_time": "2020-06-17T19:17:33.116373Z",
     "start_time": "2020-06-17T19:17:32.871109Z"
    }
   },
   "outputs": [
    {
     "name": "stdout",
     "output_type": "stream",
     "text": [
      "                            OLS Regression Results                            \n",
      "==============================================================================\n",
      "Dep. Variable:              target_5d   R-squared:                       0.239\n",
      "Model:                            OLS   Adj. R-squared:                  0.230\n",
      "Method:                 Least Squares   F-statistic:                     25.90\n",
      "Date:                Fri, 08 Jan 2021   Prob (F-statistic):          2.51e-192\n",
      "Time:                        11:29:06   Log-Likelihood:                 10147.\n",
      "No. Observations:                3927   AIC:                        -2.020e+04\n",
      "Df Residuals:                    3879   BIC:                        -1.990e+04\n",
      "Df Model:                          47                                         \n",
      "Covariance Type:            nonrobust                                         \n",
      "===================================================================================\n",
      "                      coef    std err          t      P>|t|      [0.025      0.975]\n",
      "-----------------------------------------------------------------------------------\n",
      "const               0.0017      0.000      7.222      0.000       0.001       0.002\n",
      "rsi                 0.0082      0.001      8.078      0.000       0.006       0.010\n",
      "bb_high            -0.0044      0.001     -3.132      0.002      -0.007      -0.002\n",
      "bb_low              0.0075      0.001      6.192      0.000       0.005       0.010\n",
      "atr                -0.0004      0.000     -0.894      0.371      -0.001       0.000\n",
      "macd               -0.0056      0.001     -5.459      0.000      -0.008      -0.004\n",
      "return_1d           0.0018      0.002      1.162      0.245      -0.001       0.005\n",
      "return_5d          -0.0086      0.010     -0.891      0.373      -0.028       0.010\n",
      "return_10d         -0.0117      0.012     -1.006      0.315      -0.035       0.011\n",
      "return_21d          0.0030      0.003      0.930      0.353      -0.003       0.009\n",
      "return_42d         -0.0118      0.004     -3.014      0.003      -0.019      -0.004\n",
      "return_63d         -0.0005      0.003     -0.172      0.863      -0.006       0.005\n",
      "return_1d_lag1      0.0019      0.002      1.218      0.223      -0.001       0.005\n",
      "return_5d_lag1      0.0024      0.008      0.308      0.758      -0.013       0.018\n",
      "return_10d_lag1     0.0037      0.011      0.353      0.724      -0.017       0.025\n",
      "return_21d_lag1     0.0036      0.003      1.310      0.190      -0.002       0.009\n",
      "return_1d_lag2      0.0030      0.002      1.946      0.052   -2.23e-05       0.006\n",
      "return_5d_lag2     -0.0070      0.007     -0.975      0.330      -0.021       0.007\n",
      "return_10d_lag2     0.0164      0.009      1.818      0.069      -0.001       0.034\n",
      "return_21d_lag2    -0.0020      0.002     -1.015      0.310      -0.006       0.002\n",
      "return_1d_lag3      0.0029      0.002      1.906      0.057   -8.49e-05       0.006\n",
      "return_5d_lag3     -0.0039      0.007     -0.547      0.584      -0.018       0.010\n",
      "return_10d_lag3     0.0037      0.001      3.625      0.000       0.002       0.006\n",
      "return_21d_lag3    -0.0038      0.000     -8.890      0.000      -0.005      -0.003\n",
      "return_1d_lag4      0.0034      0.002      2.206      0.027       0.000       0.006\n",
      "return_5d_lag4     -0.0093      0.006     -1.490      0.136      -0.022       0.003\n",
      "return_10d_lag4     0.0011      0.001      1.652      0.099      -0.000       0.002\n",
      "return_21d_lag4    -0.0015      0.000     -3.952      0.000      -0.002      -0.001\n",
      "return_1d_lag5     -0.0010      0.000     -2.810      0.005      -0.002      -0.000\n",
      "return_5d_lag5     -0.0101      0.006     -1.621      0.105      -0.022       0.002\n",
      "return_10d_lag5     0.0012      0.001      1.796      0.073      -0.000       0.002\n",
      "return_21d_lag5    -0.0013      0.000     -3.626      0.000      -0.002      -0.001\n",
      "year_2019          -0.0033      0.000    -13.211      0.000      -0.004      -0.003\n",
      "year_2020           0.0033      0.000     13.211      0.000       0.003       0.004\n",
      "year_2021        1.304e-17   2.85e-17      0.458      0.647   -4.28e-17    6.89e-17\n",
      "month_1            -0.0029      0.000     -7.680      0.000      -0.004      -0.002\n",
      "month_2            -0.0021      0.000     -6.047      0.000      -0.003      -0.001\n",
      "month_3            -0.0116      0.000    -25.629      0.000      -0.012      -0.011\n",
      "month_4            -0.0013      0.000     -3.016      0.003      -0.002      -0.000\n",
      "month_5             0.0007      0.000      1.649      0.099      -0.000       0.002\n",
      "month_6            -0.0023      0.000     -5.462      0.000      -0.003      -0.001\n",
      "month_7             0.0010      0.000      2.969      0.003       0.000       0.002\n",
      "month_8            -0.0027      0.001     -3.051      0.002      -0.004      -0.001\n",
      "month_9            -0.0001      0.001     -0.168      0.867      -0.002       0.002\n",
      "month_10            0.0012      0.001      1.417      0.157      -0.000       0.003\n",
      "month_11            0.0032      0.001      3.724      0.000       0.002       0.005\n",
      "month_12            0.0037      0.001      3.367      0.001       0.002       0.006\n",
      "day_0               0.0012      0.001      1.984      0.047    1.46e-05       0.002\n",
      "day_1               0.0013      0.001      2.244      0.025       0.000       0.002\n",
      "day_2              -0.0006      0.001     -1.001      0.317      -0.002       0.001\n",
      "day_3               0.0003      0.001      0.485      0.627      -0.001       0.001\n",
      "day_4              -0.0005      0.001     -0.821      0.412      -0.002       0.001\n",
      "==============================================================================\n",
      "Omnibus:                      420.157   Durbin-Watson:                   0.457\n",
      "Prob(Omnibus):                  0.000   Jarque-Bera (JB):             3494.494\n",
      "Skew:                           0.118   Prob(JB):                         0.00\n",
      "Kurtosis:                       7.615   Cond. No.                     1.51e+16\n",
      "==============================================================================\n",
      "\n",
      "Notes:\n",
      "[1] Standard Errors assume that the covariance matrix of the errors is correctly specified.\n",
      "[2] The smallest eigenvalue is 1.28e-28. This might indicate that there are\n",
      "strong multicollinearity problems or that the design matrix is singular.\n"
     ]
    }
   ],
   "source": [
    "target = 'target_5d'\n",
    "model = OLS(endog=y[target], exog=add_constant(X))\n",
    "trained_model = model.fit()\n",
    "print(trained_model.summary())"
   ]
  },
  {
   "cell_type": "markdown",
   "metadata": {},
   "source": [
    "### 10-Day Returns"
   ]
  },
  {
   "cell_type": "markdown",
   "metadata": {},
   "source": [
    "**R-squared:** Our score in this model is **0.288** which indictaes a moderate fit for the model. \n",
    "\n",
    "**Prob(F-Statistic):** Our Prob F-Statistic is very near zero whoch implies that, overall, the regression is  meaningful.\n",
    "\n",
    "**Prob(Omnibus):** In this case Prob(Omnibus) is **0.0000**, which implies that the OLS assumption is not satisfied.\n",
    "\n",
    "**Durbin-watson:**  Here, the Durbin-watson is **0.242** implying that the regression results are not vert reliable from the interpretation side of this metric.\n",
    "\n",
    "**Skewness:** This model is marginally positivly skewed\n",
    "\n",
    "**Kurtosis**: Here the Kurtosis is **Leptokurtic** meaning that the data are heavy-tailed or there is a profusion of outliers.\n",
    "\n",
    "We notice that more parameters in this model have a p-value lower than 0.05 indicating that the parameters hold more predictive significance. "
   ]
  },
  {
   "cell_type": "code",
   "execution_count": 14,
   "metadata": {
    "ExecuteTime": {
     "end_time": "2020-06-17T19:16:47.657704Z",
     "start_time": "2020-06-17T19:16:47.418873Z"
    }
   },
   "outputs": [
    {
     "name": "stdout",
     "output_type": "stream",
     "text": [
      "                            OLS Regression Results                            \n",
      "==============================================================================\n",
      "Dep. Variable:             target_10d   R-squared:                       0.296\n",
      "Model:                            OLS   Adj. R-squared:                  0.288\n",
      "Method:                 Least Squares   F-statistic:                     34.78\n",
      "Date:                Fri, 08 Jan 2021   Prob (F-statistic):          1.84e-256\n",
      "Time:                        11:41:16   Log-Likelihood:                 11605.\n",
      "No. Observations:                3927   AIC:                        -2.311e+04\n",
      "Df Residuals:                    3879   BIC:                        -2.281e+04\n",
      "Df Model:                          47                                         \n",
      "Covariance Type:            nonrobust                                         \n",
      "===================================================================================\n",
      "                      coef    std err          t      P>|t|      [0.025      0.975]\n",
      "-----------------------------------------------------------------------------------\n",
      "const               0.0018      0.000     10.748      0.000       0.001       0.002\n",
      "rsi                 0.0084      0.001     12.087      0.000       0.007       0.010\n",
      "bb_high          3.384e-05      0.001      0.035      0.972      -0.002       0.002\n",
      "bb_low              0.0014      0.001      1.706      0.088      -0.000       0.003\n",
      "atr                -0.0006      0.000     -2.119      0.034      -0.001   -4.79e-05\n",
      "macd               -0.0043      0.001     -6.093      0.000      -0.006      -0.003\n",
      "return_1d           0.0024      0.001      2.279      0.023       0.000       0.005\n",
      "return_5d           0.0053      0.007      0.794      0.427      -0.008       0.018\n",
      "return_10d         -0.0259      0.008     -3.220      0.001      -0.042      -0.010\n",
      "return_21d          0.0041      0.002      1.876      0.061      -0.000       0.008\n",
      "return_42d         -0.0093      0.003     -3.456      0.001      -0.015      -0.004\n",
      "return_63d          0.0005      0.002      0.242      0.809      -0.003       0.004\n",
      "return_1d_lag1      0.0028      0.001      2.661      0.008       0.001       0.005\n",
      "return_5d_lag1      0.0135      0.005      2.481      0.013       0.003       0.024\n",
      "return_10d_lag1    -0.0086      0.007     -1.181      0.238      -0.023       0.006\n",
      "return_21d_lag1     0.0041      0.002      2.135      0.033       0.000       0.008\n",
      "return_1d_lag2      0.0032      0.001      3.027      0.002       0.001       0.005\n",
      "return_5d_lag2      0.0017      0.005      0.343      0.731      -0.008       0.011\n",
      "return_10d_lag2    -0.0082      0.006     -1.312      0.190      -0.020       0.004\n",
      "return_21d_lag2    -0.0019      0.001     -1.380      0.168      -0.005       0.001\n",
      "return_1d_lag3      0.0035      0.001      3.335      0.001       0.001       0.006\n",
      "return_5d_lag3      0.0051      0.005      1.028      0.304      -0.005       0.015\n",
      "return_10d_lag3     0.0010      0.001      1.425      0.154      -0.000       0.002\n",
      "return_21d_lag3    -0.0034      0.000    -11.642      0.000      -0.004      -0.003\n",
      "return_1d_lag4      0.0040      0.001      3.751      0.000       0.002       0.006\n",
      "return_5d_lag4      0.0058      0.004      1.351      0.177      -0.003       0.014\n",
      "return_10d_lag4     0.0003      0.000      0.734      0.463      -0.001       0.001\n",
      "return_21d_lag4    -0.0013      0.000     -4.919      0.000      -0.002      -0.001\n",
      "return_1d_lag5      0.0003      0.000      1.075      0.282      -0.000       0.001\n",
      "return_5d_lag5      0.0063      0.004      1.456      0.146      -0.002       0.015\n",
      "return_10d_lag5     0.0008      0.000      1.849      0.064   -4.95e-05       0.002\n",
      "return_21d_lag5    -0.0010      0.000     -4.296      0.000      -0.002      -0.001\n",
      "year_2019          -0.0031      0.000    -17.988      0.000      -0.003      -0.003\n",
      "year_2020           0.0031      0.000     17.988      0.000       0.003       0.003\n",
      "year_2021        2.832e-17   1.97e-17      1.440      0.150   -1.02e-17    6.69e-17\n",
      "month_1            -0.0025      0.000     -9.884      0.000      -0.003      -0.002\n",
      "month_2            -0.0035      0.000    -14.748      0.000      -0.004      -0.003\n",
      "month_3            -0.0086      0.000    -27.717      0.000      -0.009      -0.008\n",
      "month_4            -0.0009      0.000     -2.878      0.004      -0.001      -0.000\n",
      "month_5             0.0004      0.000      1.261      0.207      -0.000       0.001\n",
      "month_6            -0.0014      0.000     -4.763      0.000      -0.002      -0.001\n",
      "month_7             0.0005      0.000      2.244      0.025     6.6e-05       0.001\n",
      "month_8            -0.0031      0.001     -5.081      0.000      -0.004      -0.002\n",
      "month_9             0.0006      0.001      0.997      0.319      -0.001       0.002\n",
      "month_10            0.0002      0.001      0.349      0.727      -0.001       0.001\n",
      "month_11            0.0028      0.001      4.634      0.000       0.002       0.004\n",
      "month_12            0.0043      0.001      5.658      0.000       0.003       0.006\n",
      "day_0               0.0009      0.000      2.214      0.027       0.000       0.002\n",
      "day_1               0.0010      0.000      2.587      0.010       0.000       0.002\n",
      "day_2              -0.0003      0.000     -0.715      0.475      -0.001       0.001\n",
      "day_3               0.0002      0.000      0.526      0.599      -0.001       0.001\n",
      "day_4              -0.0001      0.000     -0.301      0.764      -0.001       0.001\n",
      "==============================================================================\n",
      "Omnibus:                      360.500   Durbin-Watson:                   0.242\n",
      "Prob(Omnibus):                  0.000   Jarque-Bera (JB):             2335.237\n",
      "Skew:                           0.145   Prob(JB):                         0.00\n",
      "Kurtosis:                       6.767   Cond. No.                     1.51e+16\n",
      "==============================================================================\n",
      "\n",
      "Notes:\n",
      "[1] Standard Errors assume that the covariance matrix of the errors is correctly specified.\n",
      "[2] The smallest eigenvalue is 1.28e-28. This might indicate that there are\n",
      "strong multicollinearity problems or that the design matrix is singular.\n"
     ]
    }
   ],
   "source": [
    "target = 'target_10d'\n",
    "model = OLS(endog=y[target], exog=add_constant(X))\n",
    "trained_model = model.fit()\n",
    "print(trained_model.summary())"
   ]
  },
  {
   "cell_type": "markdown",
   "metadata": {},
   "source": [
    "### Monthly Returns"
   ]
  },
  {
   "cell_type": "markdown",
   "metadata": {},
   "source": [
    "**R-squared:** Our score in this model is **0.238** which indictaes a strong fit for the model. \n",
    "\n",
    "**Prob(F-Statistic):** Our Prob F-Statistic is zero which implies that the regression is  meaningful.\n",
    "\n",
    "**Prob(Omnibus):** In this case Prob(Omnibus) is **0.0000**, which implies that the OLS assumption is not satisfied.\n",
    "\n",
    "**Durbin-watson:**  Here, the Durbin-watson is **0.141** implying a slight positive autocorrelation in the values\n",
    "\n",
    "**Skewness:** This model is not skewed\n",
    "\n",
    "**Kurtosis**: Here the Kurtosis is **Leptokurtic** meaning that the data are heavy-tailed or there is a profusion of outliers.\n",
    "\n",
    "This model has the most parameters that have a p-value lower than 0.05, indicating that the parameters hold more predictive significance. "
   ]
  },
  {
   "cell_type": "code",
   "execution_count": 15,
   "metadata": {
    "ExecuteTime": {
     "end_time": "2020-06-17T19:16:48.672073Z",
     "start_time": "2020-06-17T19:16:48.424866Z"
    },
    "scrolled": false
   },
   "outputs": [
    {
     "name": "stdout",
     "output_type": "stream",
     "text": [
      "                            OLS Regression Results                            \n",
      "==============================================================================\n",
      "Dep. Variable:             target_21d   R-squared:                       0.380\n",
      "Model:                            OLS   Adj. R-squared:                  0.373\n",
      "Method:                 Least Squares   F-statistic:                     50.69\n",
      "Date:                Fri, 08 Jan 2021   Prob (F-statistic):               0.00\n",
      "Time:                        11:41:17   Log-Likelihood:                 13207.\n",
      "No. Observations:                3927   AIC:                        -2.632e+04\n",
      "Df Residuals:                    3879   BIC:                        -2.602e+04\n",
      "Df Model:                          47                                         \n",
      "Covariance Type:            nonrobust                                         \n",
      "===================================================================================\n",
      "                      coef    std err          t      P>|t|      [0.025      0.975]\n",
      "-----------------------------------------------------------------------------------\n",
      "const               0.0020      0.000     17.821      0.000       0.002       0.002\n",
      "rsi                 0.0048      0.000     10.426      0.000       0.004       0.006\n",
      "bb_high             0.0009      0.001      1.341      0.180      -0.000       0.002\n",
      "bb_low             -0.0006      0.001     -1.142      0.254      -0.002       0.000\n",
      "atr                -0.0005      0.000     -2.325      0.020      -0.001   -7.32e-05\n",
      "macd               -0.0027      0.000     -5.795      0.000      -0.004      -0.002\n",
      "return_1d           0.0015      0.001      2.151      0.032       0.000       0.003\n",
      "return_5d          -0.0018      0.004     -0.404      0.686      -0.011       0.007\n",
      "return_10d         -0.0072      0.005     -1.341      0.180      -0.018       0.003\n",
      "return_21d          0.0029      0.001      1.961      0.050    4.09e-07       0.006\n",
      "return_42d         -0.0062      0.002     -3.434      0.001      -0.010      -0.003\n",
      "return_63d          0.0001      0.001      0.097      0.922      -0.002       0.003\n",
      "return_1d_lag1      0.0015      0.001      2.177      0.030       0.000       0.003\n",
      "return_5d_lag1      0.0035      0.004      0.953      0.340      -0.004       0.011\n",
      "return_10d_lag1    -0.0013      0.005     -0.272      0.786      -0.011       0.008\n",
      "return_21d_lag1     0.0026      0.001      2.030      0.042    8.83e-05       0.005\n",
      "return_1d_lag2      0.0018      0.001      2.586      0.010       0.000       0.003\n",
      "return_5d_lag2     -0.0003      0.003     -0.101      0.920      -0.007       0.006\n",
      "return_10d_lag2    -0.0075      0.004     -1.814      0.070      -0.016       0.001\n",
      "return_21d_lag2    -0.0018      0.001     -1.977      0.048      -0.004   -1.53e-05\n",
      "return_1d_lag3      0.0022      0.001      3.125      0.002       0.001       0.004\n",
      "return_5d_lag3      0.0009      0.003      0.264      0.792      -0.006       0.007\n",
      "return_10d_lag3     0.0006      0.000      1.266      0.205      -0.000       0.002\n",
      "return_21d_lag3    -0.0025      0.000    -12.754      0.000      -0.003      -0.002\n",
      "return_1d_lag4      0.0024      0.001      3.297      0.001       0.001       0.004\n",
      "return_5d_lag4      0.0055      0.003      1.907      0.057      -0.000       0.011\n",
      "return_10d_lag4     0.0007      0.000      2.300      0.022       0.000       0.001\n",
      "return_21d_lag4    -0.0013      0.000     -7.412      0.000      -0.002      -0.001\n",
      "return_1d_lag5   9.044e-06      0.000      0.057      0.955      -0.000       0.000\n",
      "return_5d_lag5      0.0056      0.003      1.951      0.051    -2.7e-05       0.011\n",
      "return_10d_lag5     0.0003      0.000      1.030      0.303      -0.000       0.001\n",
      "return_21d_lag5    -0.0008      0.000     -4.703      0.000      -0.001      -0.000\n",
      "year_2019          -0.0026      0.000    -22.701      0.000      -0.003      -0.002\n",
      "year_2020           0.0026      0.000     22.701      0.000       0.002       0.003\n",
      "year_2021        4.123e-18   1.31e-17      0.315      0.752   -2.15e-17    2.98e-17\n",
      "month_1            -0.0018      0.000    -10.638      0.000      -0.002      -0.001\n",
      "month_2            -0.0055      0.000    -34.376      0.000      -0.006      -0.005\n",
      "month_3            -0.0041      0.000    -19.879      0.000      -0.005      -0.004\n",
      "month_4            -0.0003      0.000     -1.518      0.129      -0.001    8.94e-05\n",
      "month_5            -0.0004      0.000     -2.084      0.037      -0.001   -2.35e-05\n",
      "month_6            -0.0003      0.000     -1.504      0.133      -0.001    8.63e-05\n",
      "month_7            -0.0002      0.000     -1.266      0.206      -0.000       0.000\n",
      "month_8            -0.0034      0.000     -8.313      0.000      -0.004      -0.003\n",
      "month_9             0.0005      0.000      1.323      0.186      -0.000       0.001\n",
      "month_10            0.0004      0.000      1.129      0.259      -0.000       0.001\n",
      "month_11            0.0034      0.000      8.516      0.000       0.003       0.004\n",
      "month_12            0.0031      0.001      6.083      0.000       0.002       0.004\n",
      "day_0               0.0010      0.000      3.608      0.000       0.000       0.002\n",
      "day_1               0.0003      0.000      1.002      0.316      -0.000       0.001\n",
      "day_2            6.995e-05      0.000      0.255      0.798      -0.000       0.001\n",
      "day_3               0.0001      0.000      0.476      0.634      -0.000       0.001\n",
      "day_4               0.0005      0.000      1.762      0.078   -5.42e-05       0.001\n",
      "==============================================================================\n",
      "Omnibus:                      298.374   Durbin-Watson:                   0.141\n",
      "Prob(Omnibus):                  0.000   Jarque-Bera (JB):             1615.537\n",
      "Skew:                           0.083   Prob(JB):                         0.00\n",
      "Kurtosis:                       6.138   Cond. No.                     1.51e+16\n",
      "==============================================================================\n",
      "\n",
      "Notes:\n",
      "[1] Standard Errors assume that the covariance matrix of the errors is correctly specified.\n",
      "[2] The smallest eigenvalue is 1.28e-28. This might indicate that there are\n",
      "strong multicollinearity problems or that the design matrix is singular.\n"
     ]
    }
   ],
   "source": [
    "target = 'target_21d'\n",
    "model = OLS(endog=y[target], exog=add_constant(X))\n",
    "trained_model = model.fit()\n",
    "print(trained_model.summary())"
   ]
  },
  {
   "cell_type": "code",
   "execution_count": null,
   "metadata": {},
   "outputs": [],
   "source": []
  }
 ],
 "metadata": {
  "kernelspec": {
   "display_name": "Python 3",
   "language": "python",
   "name": "python3"
  },
  "language_info": {
   "codemirror_mode": {
    "name": "ipython",
    "version": 3
   },
   "file_extension": ".py",
   "mimetype": "text/x-python",
   "name": "python",
   "nbconvert_exporter": "python",
   "pygments_lexer": "ipython3",
   "version": "3.6.12"
  },
  "toc": {
   "base_numbering": 1,
   "nav_menu": {},
   "number_sections": true,
   "sideBar": true,
   "skip_h1_title": true,
   "title_cell": "Table of Contents",
   "title_sidebar": "Contents",
   "toc_cell": false,
   "toc_position": {},
   "toc_section_display": true,
   "toc_window_display": true
  }
 },
 "nbformat": 4,
 "nbformat_minor": 2
}
