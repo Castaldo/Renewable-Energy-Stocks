{
 "cells": [
  {
   "cell_type": "markdown",
   "metadata": {},
   "source": [
    "# Preparing the Data for Linear Regression\n",
    "\n",
    "In this notebook we add features to our dataset to prepare it for our linear regression algorithims. "
   ]
  },
  {
   "cell_type": "markdown",
   "metadata": {},
   "source": [
    "## Imports & Settings"
   ]
  },
  {
   "cell_type": "code",
   "execution_count": 1,
   "metadata": {
    "ExecuteTime": {
     "end_time": "2020-06-17T18:13:18.220582Z",
     "start_time": "2020-06-17T18:13:18.218444Z"
    }
   },
   "outputs": [],
   "source": [
    "import warnings\n",
    "warnings.filterwarnings('ignore')"
   ]
  },
  {
   "cell_type": "code",
   "execution_count": 2,
   "metadata": {
    "ExecuteTime": {
     "end_time": "2020-06-17T18:13:19.415321Z",
     "start_time": "2020-06-17T18:13:18.233194Z"
    }
   },
   "outputs": [],
   "source": [
    "%matplotlib inline\n",
    "\n",
    "import numpy as np\n",
    "import pandas as pd\n",
    "\n",
    "import matplotlib.pyplot as plt\n",
    "import seaborn as sns\n",
    "\n",
    "from scipy.stats import pearsonr\n",
    "from talib import RSI, BBANDS, MACD, ATR"
   ]
  },
  {
   "cell_type": "markdown",
   "metadata": {},
   "source": [
    "We set the month variable equal to the average amount of trading days in a month"
   ]
  },
  {
   "cell_type": "code",
   "execution_count": 3,
   "metadata": {
    "ExecuteTime": {
     "end_time": "2020-06-17T18:13:19.424425Z",
     "start_time": "2020-06-17T18:13:19.420170Z"
    }
   },
   "outputs": [],
   "source": [
    "MONTH = 21\n",
    "YEAR = 12"
   ]
  },
  {
   "cell_type": "markdown",
   "metadata": {},
   "source": [
    "We set the start and end dates to the beginning and ending of our date index."
   ]
  },
  {
   "cell_type": "code",
   "execution_count": 4,
   "metadata": {
    "ExecuteTime": {
     "end_time": "2020-06-17T18:13:19.434184Z",
     "start_time": "2020-06-17T18:13:19.429959Z"
    }
   },
   "outputs": [],
   "source": [
    "START = '2019-01-01'\n",
    "END = '2021-01-06'"
   ]
  },
  {
   "cell_type": "code",
   "execution_count": 5,
   "metadata": {
    "ExecuteTime": {
     "end_time": "2020-06-17T18:13:19.445222Z",
     "start_time": "2020-06-17T18:13:19.439086Z"
    }
   },
   "outputs": [],
   "source": [
    "sns.set_style('whitegrid')\n",
    "idx = pd.IndexSlice"
   ]
  },
  {
   "cell_type": "markdown",
   "metadata": {},
   "source": [
    "## Loading Stock Prices \n",
    "\n",
    "We load the `h5` data from our earlier notebook"
   ]
  },
  {
   "cell_type": "code",
   "execution_count": 6,
   "metadata": {
    "ExecuteTime": {
     "end_time": "2020-06-17T18:13:26.040898Z",
     "start_time": "2020-06-17T18:13:19.450021Z"
    }
   },
   "outputs": [],
   "source": [
    "DATA_STORE = '../Data_Processing/Data/H5/assets.h5'\n",
    "ohlcv = ['Open', 'Close', 'Low', 'High', 'Volume']\n",
    "\n",
    "with pd.HDFStore(DATA_STORE) as store:\n",
    "    prices = (store['Alt_Energy/prices']\n",
    "              .loc[idx[START:END, :], ohlcv]\n",
    "              .swaplevel()\n",
    "              .sort_index())\n",
    "    \n",
    "    ## Normalize the value of the stocks volume\n",
    "    prices.Volume /= 1000"
   ]
  },
  {
   "cell_type": "markdown",
   "metadata": {},
   "source": [
    "## Compute Rolling Average Dollar Volume"
   ]
  },
  {
   "cell_type": "markdown",
   "metadata": {},
   "source": [
    "This script calculates the mean dollar volume for the average trading month."
   ]
  },
  {
   "cell_type": "code",
   "execution_count": 7,
   "metadata": {
    "ExecuteTime": {
     "end_time": "2020-06-17T18:16:25.089324Z",
     "start_time": "2020-06-17T18:16:21.068257Z"
    }
   },
   "outputs": [],
   "source": [
    "prices['dollar_vol'] = prices.loc[:, 'Close'].mul(prices.loc[:, 'Volume'], axis=0)\n",
    "\n",
    "prices['dollar_vol'] = (prices.groupby('Ticker', group_keys = False, as_index = False)\n",
    "                        .dollar_vol\n",
    "                        .rolling(window = 21)\n",
    "                        .mean()\n",
    "                        .fillna(0)\n",
    "                        .reset_index(level=0, drop=True))\n",
    "\n",
    "prices.dollar_vol /= 1000"
   ]
  },
  {
   "cell_type": "code",
   "execution_count": 8,
   "metadata": {},
   "outputs": [
    {
     "data": {
      "text/html": [
       "<div>\n",
       "<style scoped>\n",
       "    .dataframe tbody tr th:only-of-type {\n",
       "        vertical-align: middle;\n",
       "    }\n",
       "\n",
       "    .dataframe tbody tr th {\n",
       "        vertical-align: top;\n",
       "    }\n",
       "\n",
       "    .dataframe thead th {\n",
       "        text-align: right;\n",
       "    }\n",
       "</style>\n",
       "<table border=\"1\" class=\"dataframe\">\n",
       "  <thead>\n",
       "    <tr style=\"text-align: right;\">\n",
       "      <th></th>\n",
       "      <th></th>\n",
       "      <th>Open</th>\n",
       "      <th>Close</th>\n",
       "      <th>Low</th>\n",
       "      <th>High</th>\n",
       "      <th>Volume</th>\n",
       "      <th>dollar_vol</th>\n",
       "    </tr>\n",
       "    <tr>\n",
       "      <th>Ticker</th>\n",
       "      <th>Date</th>\n",
       "      <th></th>\n",
       "      <th></th>\n",
       "      <th></th>\n",
       "      <th></th>\n",
       "      <th></th>\n",
       "      <th></th>\n",
       "    </tr>\n",
       "  </thead>\n",
       "  <tbody>\n",
       "    <tr>\n",
       "      <th rowspan=\"5\" valign=\"top\">BE</th>\n",
       "      <th>2019-01-07</th>\n",
       "      <td>11.86</td>\n",
       "      <td>12.41</td>\n",
       "      <td>11.86</td>\n",
       "      <td>13.24</td>\n",
       "      <td>391.6</td>\n",
       "      <td>0.0</td>\n",
       "    </tr>\n",
       "    <tr>\n",
       "      <th>2019-01-08</th>\n",
       "      <td>13.00</td>\n",
       "      <td>12.73</td>\n",
       "      <td>12.47</td>\n",
       "      <td>13.25</td>\n",
       "      <td>329.5</td>\n",
       "      <td>0.0</td>\n",
       "    </tr>\n",
       "    <tr>\n",
       "      <th>2019-01-09</th>\n",
       "      <td>12.80</td>\n",
       "      <td>12.14</td>\n",
       "      <td>12.01</td>\n",
       "      <td>13.63</td>\n",
       "      <td>643.5</td>\n",
       "      <td>0.0</td>\n",
       "    </tr>\n",
       "    <tr>\n",
       "      <th>2019-01-10</th>\n",
       "      <td>12.09</td>\n",
       "      <td>12.02</td>\n",
       "      <td>11.66</td>\n",
       "      <td>12.38</td>\n",
       "      <td>474.5</td>\n",
       "      <td>0.0</td>\n",
       "    </tr>\n",
       "    <tr>\n",
       "      <th>2019-01-11</th>\n",
       "      <td>11.84</td>\n",
       "      <td>12.24</td>\n",
       "      <td>11.81</td>\n",
       "      <td>12.69</td>\n",
       "      <td>387.7</td>\n",
       "      <td>0.0</td>\n",
       "    </tr>\n",
       "  </tbody>\n",
       "</table>\n",
       "</div>"
      ],
      "text/plain": [
       "                    Open  Close    Low   High  Volume  dollar_vol\n",
       "Ticker Date                                                      \n",
       "BE     2019-01-07  11.86  12.41  11.86  13.24   391.6         0.0\n",
       "       2019-01-08  13.00  12.73  12.47  13.25   329.5         0.0\n",
       "       2019-01-09  12.80  12.14  12.01  13.63   643.5         0.0\n",
       "       2019-01-10  12.09  12.02  11.66  12.38   474.5         0.0\n",
       "       2019-01-11  11.84  12.24  11.81  12.69   387.7         0.0"
      ]
     },
     "execution_count": 8,
     "metadata": {},
     "output_type": "execute_result"
    }
   ],
   "source": [
    "prices.head()"
   ]
  },
  {
   "cell_type": "markdown",
   "metadata": {},
   "source": [
    "Sort stocks by volume rank"
   ]
  },
  {
   "cell_type": "code",
   "execution_count": 9,
   "metadata": {
    "ExecuteTime": {
     "end_time": "2020-06-17T18:16:26.471705Z",
     "start_time": "2020-06-17T18:16:25.090648Z"
    }
   },
   "outputs": [],
   "source": [
    "prices['dollar_vol_rank'] = (prices.groupby('Date').dollar_vol.rank(ascending=False))"
   ]
  },
  {
   "cell_type": "code",
   "execution_count": 10,
   "metadata": {},
   "outputs": [
    {
     "data": {
      "text/html": [
       "<div>\n",
       "<style scoped>\n",
       "    .dataframe tbody tr th:only-of-type {\n",
       "        vertical-align: middle;\n",
       "    }\n",
       "\n",
       "    .dataframe tbody tr th {\n",
       "        vertical-align: top;\n",
       "    }\n",
       "\n",
       "    .dataframe thead th {\n",
       "        text-align: right;\n",
       "    }\n",
       "</style>\n",
       "<table border=\"1\" class=\"dataframe\">\n",
       "  <thead>\n",
       "    <tr style=\"text-align: right;\">\n",
       "      <th></th>\n",
       "      <th></th>\n",
       "      <th>Open</th>\n",
       "      <th>Close</th>\n",
       "      <th>Low</th>\n",
       "      <th>High</th>\n",
       "      <th>Volume</th>\n",
       "      <th>dollar_vol</th>\n",
       "      <th>dollar_vol_rank</th>\n",
       "    </tr>\n",
       "    <tr>\n",
       "      <th>Ticker</th>\n",
       "      <th>Date</th>\n",
       "      <th></th>\n",
       "      <th></th>\n",
       "      <th></th>\n",
       "      <th></th>\n",
       "      <th></th>\n",
       "      <th></th>\n",
       "      <th></th>\n",
       "    </tr>\n",
       "  </thead>\n",
       "  <tbody>\n",
       "    <tr>\n",
       "      <th rowspan=\"5\" valign=\"top\">BE</th>\n",
       "      <th>2019-01-07</th>\n",
       "      <td>11.86</td>\n",
       "      <td>12.41</td>\n",
       "      <td>11.86</td>\n",
       "      <td>13.24</td>\n",
       "      <td>391.6</td>\n",
       "      <td>0.0</td>\n",
       "      <td>6.0</td>\n",
       "    </tr>\n",
       "    <tr>\n",
       "      <th>2019-01-08</th>\n",
       "      <td>13.00</td>\n",
       "      <td>12.73</td>\n",
       "      <td>12.47</td>\n",
       "      <td>13.25</td>\n",
       "      <td>329.5</td>\n",
       "      <td>0.0</td>\n",
       "      <td>6.0</td>\n",
       "    </tr>\n",
       "    <tr>\n",
       "      <th>2019-01-09</th>\n",
       "      <td>12.80</td>\n",
       "      <td>12.14</td>\n",
       "      <td>12.01</td>\n",
       "      <td>13.63</td>\n",
       "      <td>643.5</td>\n",
       "      <td>0.0</td>\n",
       "      <td>6.0</td>\n",
       "    </tr>\n",
       "    <tr>\n",
       "      <th>2019-01-10</th>\n",
       "      <td>12.09</td>\n",
       "      <td>12.02</td>\n",
       "      <td>11.66</td>\n",
       "      <td>12.38</td>\n",
       "      <td>474.5</td>\n",
       "      <td>0.0</td>\n",
       "      <td>6.0</td>\n",
       "    </tr>\n",
       "    <tr>\n",
       "      <th>2019-01-11</th>\n",
       "      <td>11.84</td>\n",
       "      <td>12.24</td>\n",
       "      <td>11.81</td>\n",
       "      <td>12.69</td>\n",
       "      <td>387.7</td>\n",
       "      <td>0.0</td>\n",
       "      <td>6.0</td>\n",
       "    </tr>\n",
       "  </tbody>\n",
       "</table>\n",
       "</div>"
      ],
      "text/plain": [
       "                    Open  Close    Low   High  Volume  dollar_vol  \\\n",
       "Ticker Date                                                         \n",
       "BE     2019-01-07  11.86  12.41  11.86  13.24   391.6         0.0   \n",
       "       2019-01-08  13.00  12.73  12.47  13.25   329.5         0.0   \n",
       "       2019-01-09  12.80  12.14  12.01  13.63   643.5         0.0   \n",
       "       2019-01-10  12.09  12.02  11.66  12.38   474.5         0.0   \n",
       "       2019-01-11  11.84  12.24  11.81  12.69   387.7         0.0   \n",
       "\n",
       "                   dollar_vol_rank  \n",
       "Ticker Date                         \n",
       "BE     2019-01-07              6.0  \n",
       "       2019-01-08              6.0  \n",
       "       2019-01-09              6.0  \n",
       "       2019-01-10              6.0  \n",
       "       2019-01-11              6.0  "
      ]
     },
     "execution_count": 10,
     "metadata": {},
     "output_type": "execute_result"
    }
   ],
   "source": [
    "prices.head()"
   ]
  },
  {
   "cell_type": "markdown",
   "metadata": {},
   "source": [
    "## Add some Basic Factors"
   ]
  },
  {
   "cell_type": "markdown",
   "metadata": {},
   "source": [
    "### Compute the Relative Strength Index\n",
    "\n",
    "The relative strength index is a technical indicator used in the analysis of financial markets. It is intended to chart the current and historical strength or weakness of a stock based on the closing prices of a recent trading period. The RSI is displayed as an oscillator (a line graph that moves between two extremes) and can have a reading from 0 to 100. The RSI moves closer to 100 as the market trends move closer to absolute growth.\n",
    "\n",
    "We see that most growth falls in the 30-70 range."
   ]
  },
  {
   "cell_type": "code",
   "execution_count": 11,
   "metadata": {
    "ExecuteTime": {
     "end_time": "2020-06-17T18:16:29.719552Z",
     "start_time": "2020-06-17T18:16:26.473033Z"
    }
   },
   "outputs": [],
   "source": [
    "prices['rsi'] = prices.groupby(level='Ticker').Close.apply(RSI)"
   ]
  },
  {
   "cell_type": "code",
   "execution_count": 12,
   "metadata": {
    "ExecuteTime": {
     "end_time": "2020-06-17T18:16:32.328669Z",
     "start_time": "2020-06-17T18:16:29.746365Z"
    }
   },
   "outputs": [
    {
     "data": {
      "image/png": "[encoded data removed]",
      "text/plain": [
       "<Figure size 432x288 with 1 Axes>"
      ]
     },
     "metadata": {},
     "output_type": "display_data"
    }
   ],
   "source": [
    "ax = sns.distplot(prices.rsi.dropna())\n",
    "\n",
    "ax.axvline(30, ls='--', lw=1, c='k')\n",
    "ax.axvline(70, ls='--', lw=1, c='k')\n",
    "\n",
    "ax.set_title('RSI Distribution with Signal Threshold')\n",
    "plt.tight_layout();"
   ]
  },
  {
   "cell_type": "markdown",
   "metadata": {},
   "source": [
    "### Compute Bollinger Bands\n",
    "\n",
    "Bollinger Bands are a type of statistical chart characterizing the prices and volatility over time. Common trading strategies involing buying and selling as stocks oscillate between the upper and lower bands."
   ]
  },
  {
   "cell_type": "code",
   "execution_count": 13,
   "metadata": {
    "ExecuteTime": {
     "end_time": "2020-06-17T18:16:32.346829Z",
     "start_time": "2020-06-17T18:16:32.334030Z"
    }
   },
   "outputs": [],
   "source": [
    "def compute_bb(close):\n",
    "    high, mid, low = BBANDS(close, timeperiod = 21)\n",
    "    return pd.DataFrame({'bb_high': high, 'bb_low': low}, index=close.index)"
   ]
  },
  {
   "cell_type": "code",
   "execution_count": 14,
   "metadata": {
    "ExecuteTime": {
     "end_time": "2020-06-17T18:16:39.154831Z",
     "start_time": "2020-06-17T18:16:32.352000Z"
    }
   },
   "outputs": [],
   "source": [
    "prices = (prices.join(prices.groupby(level='Ticker').Close.apply(compute_bb)))"
   ]
  },
  {
   "cell_type": "code",
   "execution_count": 15,
   "metadata": {
    "ExecuteTime": {
     "end_time": "2020-06-17T18:16:39.275536Z",
     "start_time": "2020-06-17T18:16:39.159610Z"
    }
   },
   "outputs": [],
   "source": [
    "prices['bb_high'] = prices.bb_high.sub(prices.Close).div(prices.bb_high).apply(np.log1p)\n",
    "prices['bb_low'] = prices.Close.sub(prices.bb_low).div(prices.Close).apply(np.log1p)"
   ]
  },
  {
   "cell_type": "code",
   "execution_count": 16,
   "metadata": {
    "ExecuteTime": {
     "end_time": "2020-06-17T18:16:40.709723Z",
     "start_time": "2020-06-17T18:16:39.280906Z"
    },
    "scrolled": true
   },
   "outputs": [
    {
     "data": {
      "image/png": "[encoded data removed]",
      "text/plain": [
       "<Figure size 1080x360 with 2 Axes>"
      ]
     },
     "metadata": {},
     "output_type": "display_data"
    }
   ],
   "source": [
    "fig, axes = plt.subplots(ncols=2, figsize=(15, 5))\n",
    "\n",
    "sns.distplot(prices.loc[prices.dollar_vol_rank<100, 'bb_low'].dropna(), ax=axes[0])\n",
    "sns.distplot(prices.loc[prices.dollar_vol_rank<100, 'bb_high'].dropna(), ax=axes[1])\n",
    "\n",
    "plt.tight_layout();"
   ]
  },
  {
   "cell_type": "markdown",
   "metadata": {},
   "source": [
    "### Compute Average True Range\n",
    "\n",
    "The average true range (ATR) is a technical analysis indicator that measures market volatility by decomposing the entire range of an asset price for that period."
   ]
  },
  {
   "cell_type": "code",
   "execution_count": 17,
   "metadata": {
    "ExecuteTime": {
     "end_time": "2020-06-17T18:16:40.719038Z",
     "start_time": "2020-06-17T18:16:40.714661Z"
    }
   },
   "outputs": [],
   "source": [
    "def compute_atr(stock_data):\n",
    "    df = ATR(stock_data.High, stock_data.Low, stock_data.Close, timeperiod=14)\n",
    "    return df.sub(df.mean()).div(df.std())"
   ]
  },
  {
   "cell_type": "code",
   "execution_count": 18,
   "metadata": {
    "ExecuteTime": {
     "end_time": "2020-06-17T18:16:46.232710Z",
     "start_time": "2020-06-17T18:16:40.739955Z"
    }
   },
   "outputs": [],
   "source": [
    "prices['atr'] = (prices.groupby('Ticker', group_keys=False)\n",
    "                 .apply(compute_atr))"
   ]
  },
  {
   "cell_type": "code",
   "execution_count": 19,
   "metadata": {
    "ExecuteTime": {
     "end_time": "2020-06-17T18:16:47.209415Z",
     "start_time": "2020-06-17T18:16:46.237680Z"
    }
   },
   "outputs": [
    {
     "data": {
      "image/png": "[encoded data removed]",
      "text/plain": [
       "<Figure size 432x288 with 1 Axes>"
      ]
     },
     "metadata": {},
     "output_type": "display_data"
    }
   ],
   "source": [
    "sns.distplot(prices.atr.dropna());"
   ]
  },
  {
   "cell_type": "markdown",
   "metadata": {},
   "source": [
    "### Compute Moving Average Convergence/Divergence\n",
    "\n",
    "Moving average convergence divergence (MACD) is a trend-following momentum indicator that shows the relationship between two moving averages of a equity’s price. The MACD is calculated by subtracting the 26-period exponential moving average (EMA) from the 12-period EMA."
   ]
  },
  {
   "cell_type": "code",
   "execution_count": 20,
   "metadata": {
    "ExecuteTime": {
     "end_time": "2020-06-17T18:16:47.222185Z",
     "start_time": "2020-06-17T18:16:47.216243Z"
    }
   },
   "outputs": [],
   "source": [
    "def compute_macd(close):\n",
    "    macd = MACD(close)[0]\n",
    "    return (macd - np.mean(macd))/np.std(macd)"
   ]
  },
  {
   "cell_type": "code",
   "execution_count": 21,
   "metadata": {
    "ExecuteTime": {
     "end_time": "2020-06-17T18:16:52.641924Z",
     "start_time": "2020-06-17T18:16:47.228805Z"
    }
   },
   "outputs": [],
   "source": [
    "prices['macd'] = (prices.groupby('Ticker', group_keys=False).Close.apply(compute_macd))"
   ]
  },
  {
   "cell_type": "code",
   "execution_count": 22,
   "metadata": {
    "ExecuteTime": {
     "end_time": "2020-06-17T18:16:52.803621Z",
     "start_time": "2020-06-17T18:16:52.647238Z"
    }
   },
   "outputs": [
    {
     "data": {
      "text/plain": [
       "count    5,181.0\n",
       "mean        -0.0\n",
       "std          1.0\n",
       "min         -5.6\n",
       "0.1%        -4.4\n",
       "1%          -2.5\n",
       "2%          -2.0\n",
       "3%          -1.8\n",
       "4%          -1.6\n",
       "5%          -1.5\n",
       "50%         -0.1\n",
       "95%          1.8\n",
       "96%          1.9\n",
       "97%          2.1\n",
       "98%          2.4\n",
       "99%          2.8\n",
       "99.9%        3.9\n",
       "max          5.2\n",
       "Name: macd, dtype: object"
      ]
     },
     "execution_count": 22,
     "metadata": {},
     "output_type": "execute_result"
    }
   ],
   "source": [
    "prices.macd.describe(percentiles=[.001, .01, .02, .03, .04, .05, .95, .96, .97, .98, .99, .999]).apply(lambda x: f'{x:,.1f}')"
   ]
  },
  {
   "cell_type": "code",
   "execution_count": 23,
   "metadata": {
    "ExecuteTime": {
     "end_time": "2020-06-17T18:16:53.753150Z",
     "start_time": "2020-06-17T18:16:52.807877Z"
    }
   },
   "outputs": [
    {
     "data": {
      "image/png": "[encoded data removed]",
      "text/plain": [
       "<Figure size 432x288 with 1 Axes>"
      ]
     },
     "metadata": {},
     "output_type": "display_data"
    }
   ],
   "source": [
    "sns.distplot(prices.macd.dropna());"
   ]
  },
  {
   "cell_type": "markdown",
   "metadata": {},
   "source": [
    "## Compute Lagged Returns"
   ]
  },
  {
   "cell_type": "code",
   "execution_count": 24,
   "metadata": {
    "ExecuteTime": {
     "end_time": "2020-06-17T18:16:53.760082Z",
     "start_time": "2020-06-17T18:16:53.757482Z"
    }
   },
   "outputs": [],
   "source": [
    "lags = [1, 5, 10, 21, 42, 63]"
   ]
  },
  {
   "cell_type": "code",
   "execution_count": 25,
   "metadata": {
    "ExecuteTime": {
     "end_time": "2020-06-17T18:16:54.667834Z",
     "start_time": "2020-06-17T18:16:53.761529Z"
    }
   },
   "outputs": [
    {
     "data": {
      "text/html": [
       "<style  type=\"text/css\" >\n",
       "</style><table id=\"T_50e63b46_51db_11eb_b4b3_8c85907a3fbf\" ><thead>    <tr>        <th class=\"blank level0\" ></th>        <th class=\"col_heading level0 col0\" >percentiles</th>    </tr></thead><tbody>\n",
       "                <tr>\n",
       "                        <th id=\"T_50e63b46_51db_11eb_b4b3_8c85907a3fbflevel0_row0\" class=\"row_heading level0 row0\" >std</th>\n",
       "                        <td id=\"T_50e63b46_51db_11eb_b4b3_8c85907a3fbfrow0_col0\" class=\"data row0 col0\" >4.26%</td>\n",
       "            </tr>\n",
       "            <tr>\n",
       "                        <th id=\"T_50e63b46_51db_11eb_b4b3_8c85907a3fbflevel0_row1\" class=\"row_heading level0 row1\" >min</th>\n",
       "                        <td id=\"T_50e63b46_51db_11eb_b4b3_8c85907a3fbfrow1_col0\" class=\"data row1 col0\" >-42.50%</td>\n",
       "            </tr>\n",
       "            <tr>\n",
       "                        <th id=\"T_50e63b46_51db_11eb_b4b3_8c85907a3fbflevel0_row2\" class=\"row_heading level0 row2\" >0.01%</th>\n",
       "                        <td id=\"T_50e63b46_51db_11eb_b4b3_8c85907a3fbfrow2_col0\" class=\"data row2 col0\" >-33.37%</td>\n",
       "            </tr>\n",
       "            <tr>\n",
       "                        <th id=\"T_50e63b46_51db_11eb_b4b3_8c85907a3fbflevel0_row3\" class=\"row_heading level0 row3\" >0.1%</th>\n",
       "                        <td id=\"T_50e63b46_51db_11eb_b4b3_8c85907a3fbfrow3_col0\" class=\"data row3 col0\" >-22.64%</td>\n",
       "            </tr>\n",
       "            <tr>\n",
       "                        <th id=\"T_50e63b46_51db_11eb_b4b3_8c85907a3fbflevel0_row4\" class=\"row_heading level0 row4\" >1%</th>\n",
       "                        <td id=\"T_50e63b46_51db_11eb_b4b3_8c85907a3fbfrow4_col0\" class=\"data row4 col0\" >-11.16%</td>\n",
       "            </tr>\n",
       "            <tr>\n",
       "                        <th id=\"T_50e63b46_51db_11eb_b4b3_8c85907a3fbflevel0_row5\" class=\"row_heading level0 row5\" >50%</th>\n",
       "                        <td id=\"T_50e63b46_51db_11eb_b4b3_8c85907a3fbfrow5_col0\" class=\"data row5 col0\" >0.14%</td>\n",
       "            </tr>\n",
       "            <tr>\n",
       "                        <th id=\"T_50e63b46_51db_11eb_b4b3_8c85907a3fbflevel0_row6\" class=\"row_heading level0 row6\" >99%</th>\n",
       "                        <td id=\"T_50e63b46_51db_11eb_b4b3_8c85907a3fbfrow6_col0\" class=\"data row6 col0\" >13.05%</td>\n",
       "            </tr>\n",
       "            <tr>\n",
       "                        <th id=\"T_50e63b46_51db_11eb_b4b3_8c85907a3fbflevel0_row7\" class=\"row_heading level0 row7\" >99.9%</th>\n",
       "                        <td id=\"T_50e63b46_51db_11eb_b4b3_8c85907a3fbfrow7_col0\" class=\"data row7 col0\" >31.12%</td>\n",
       "            </tr>\n",
       "            <tr>\n",
       "                        <th id=\"T_50e63b46_51db_11eb_b4b3_8c85907a3fbflevel0_row8\" class=\"row_heading level0 row8\" >99.99%</th>\n",
       "                        <td id=\"T_50e63b46_51db_11eb_b4b3_8c85907a3fbfrow8_col0\" class=\"data row8 col0\" >44.97%</td>\n",
       "            </tr>\n",
       "            <tr>\n",
       "                        <th id=\"T_50e63b46_51db_11eb_b4b3_8c85907a3fbflevel0_row9\" class=\"row_heading level0 row9\" >max</th>\n",
       "                        <td id=\"T_50e63b46_51db_11eb_b4b3_8c85907a3fbfrow9_col0\" class=\"data row9 col0\" >45.59%</td>\n",
       "            </tr>\n",
       "    </tbody></table>"
      ],
      "text/plain": [
       "<pandas.io.formats.style.Styler at 0x7fef9766c160>"
      ]
     },
     "execution_count": 25,
     "metadata": {},
     "output_type": "execute_result"
    }
   ],
   "source": [
    "returns = prices.groupby(level='Ticker').Close.pct_change()\n",
    "\n",
    "percentiles = [.0001, .001, .01]\n",
    "\n",
    "percentiles += [1 - p for p in percentiles]\n",
    "\n",
    "returns.describe(percentiles = percentiles).iloc[2:].to_frame('percentiles').style.format(lambda x: f'{x:,.2%}')"
   ]
  },
  {
   "cell_type": "code",
   "execution_count": 26,
   "metadata": {
    "ExecuteTime": {
     "end_time": "2020-06-17T18:16:54.672230Z",
     "start_time": "2020-06-17T18:16:54.669701Z"
    }
   },
   "outputs": [],
   "source": [
    "q = 0.001"
   ]
  },
  {
   "cell_type": "markdown",
   "metadata": {},
   "source": [
    "### Winsorize outliers\n",
    "\n",
    "This removes outliers.\n",
    "\n",
    "We then shift the daily, weekly, and monthly returns to use them as features for the current observations. In other words, in addition to the latest returns for these periods, we also use the prior five results."
   ]
  },
  {
   "cell_type": "code",
   "execution_count": 27,
   "metadata": {
    "ExecuteTime": {
     "end_time": "2020-06-17T18:17:07.633394Z",
     "start_time": "2020-06-17T18:16:54.673682Z"
    }
   },
   "outputs": [],
   "source": [
    "for lag in lags:\n",
    "    prices[f'return_{lag}d'] = (prices.groupby(level='Ticker').Close\n",
    "                                .pct_change(lag)\n",
    "                                .pipe(lambda x: x.clip(lower=x.quantile(q),\n",
    "                                                       upper=x.quantile(1 - q)))\n",
    "                                .add(1)\n",
    "                                .pow(1 / lag)\n",
    "                                .sub(1)\n",
    "                                )"
   ]
  },
  {
   "cell_type": "markdown",
   "metadata": {},
   "source": [
    "### Shift lagged returns and compute forward returns"
   ]
  },
  {
   "cell_type": "code",
   "execution_count": 28,
   "metadata": {
    "ExecuteTime": {
     "end_time": "2020-06-17T18:17:22.230126Z",
     "start_time": "2020-06-17T18:17:07.634850Z"
    }
   },
   "outputs": [],
   "source": [
    "for t in [1, 2, 3, 4, 5]:\n",
    "    for lag in [1, 5, 10, 21]:\n",
    "        prices[f'return_{lag}d_lag{t}'] = (prices.groupby(level='Ticker')\n",
    "                                           [f'return_{lag}d'].shift(t * lag))"
   ]
  },
  {
   "cell_type": "code",
   "execution_count": 29,
   "metadata": {
    "ExecuteTime": {
     "end_time": "2020-06-17T18:17:25.477417Z",
     "start_time": "2020-06-17T18:17:22.231423Z"
    }
   },
   "outputs": [],
   "source": [
    "for t in [1, 5, 10, 21]:\n",
    "    prices[f'target_{t}d'] = prices.groupby(level='Ticker')[f'return_{t}d'].shift(-t)"
   ]
  },
  {
   "cell_type": "markdown",
   "metadata": {},
   "source": [
    "## Create time variables\n",
    "\n",
    "We need to convert any categorical variable into a numeric format so that the linear regression can process it. For this purpose, we will use a dummy encoding that creates individual columns for each category level and flags the presence of this level in the original categorical column"
   ]
  },
  {
   "cell_type": "code",
   "execution_count": 30,
   "metadata": {
    "ExecuteTime": {
     "end_time": "2020-06-17T18:17:26.708384Z",
     "start_time": "2020-06-17T18:17:25.943888Z"
    }
   },
   "outputs": [],
   "source": [
    "prices['day'] = prices.index.get_level_values('Date').dayofweek\n",
    "prices['month'] = prices.index.get_level_values('Date').month\n",
    "prices['year'] = prices.index.get_level_values('Date').year"
   ]
  },
  {
   "cell_type": "code",
   "execution_count": 31,
   "metadata": {
    "ExecuteTime": {
     "end_time": "2020-06-17T18:17:32.087652Z",
     "start_time": "2020-06-17T18:17:30.630223Z"
    }
   },
   "outputs": [],
   "source": [
    "prices = pd.get_dummies(prices, columns=['year', 'month', 'day'], \n",
    "                        prefix=['year', 'month', 'day'], \n",
    "                        prefix_sep = ['_', '_', '_'])"
   ]
  },
  {
   "cell_type": "markdown",
   "metadata": {},
   "source": [
    "## Store Model Data"
   ]
  },
  {
   "cell_type": "code",
   "execution_count": 32,
   "metadata": {
    "ExecuteTime": {
     "end_time": "2020-06-17T18:17:34.108205Z",
     "start_time": "2020-06-17T18:17:32.852593Z"
    }
   },
   "outputs": [],
   "source": [
    "prices.to_hdf('data.h5', 'model_data')"
   ]
  }
 ],
 "metadata": {
  "kernelspec": {
   "display_name": "Python 3",
   "language": "python",
   "name": "python3"
  },
  "language_info": {
   "codemirror_mode": {
    "name": "ipython",
    "version": 3
   },
   "file_extension": ".py",
   "mimetype": "text/x-python",
   "name": "python",
   "nbconvert_exporter": "python",
   "pygments_lexer": "ipython3",
   "version": "3.6.12"
  },
  "toc": {
   "base_numbering": 1,
   "nav_menu": {},
   "number_sections": true,
   "sideBar": true,
   "skip_h1_title": true,
   "title_cell": "Table of Contents",
   "title_sidebar": "Contents",
   "toc_cell": false,
   "toc_position": {},
   "toc_section_display": true,
   "toc_window_display": true
  }
 },
 "nbformat": 4,
 "nbformat_minor": 2
}
